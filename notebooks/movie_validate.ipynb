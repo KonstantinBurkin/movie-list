{
 "cells": [
  {
   "cell_type": "markdown",
   "id": "140ca41a",
   "metadata": {},
   "source": [
    "## imports"
   ]
  },
  {
   "cell_type": "code",
   "execution_count": 22,
   "id": "4ab6c22b",
   "metadata": {},
   "outputs": [
    {
     "data": {
      "text/plain": [
       "True"
      ]
     },
     "execution_count": 22,
     "metadata": {},
     "output_type": "execute_result"
    }
   ],
   "source": [
    "import polars as pl\n",
    "from polars import col as c\n",
    "import os, sys, requests\n",
    "from dotenv import load_dotenv, find_dotenv\n",
    "from tqdm import tqdm\n",
    "\n",
    "load_dotenv(find_dotenv())"
   ]
  },
  {
   "cell_type": "markdown",
   "id": "0a9001c4",
   "metadata": {},
   "source": [
    "## constants"
   ]
  },
  {
   "cell_type": "code",
   "execution_count": 23,
   "id": "aae1c649",
   "metadata": {},
   "outputs": [],
   "source": [
    "OMDB_API_KEY = os.getenv(\"OMDB_API_KEY\")\n",
    "FILES_DIR = \"../data\""
   ]
  },
  {
   "cell_type": "markdown",
   "id": "cc98e638",
   "metadata": {},
   "source": [
    "## load df"
   ]
  },
  {
   "cell_type": "code",
   "execution_count": 24,
   "id": "aa67e849",
   "metadata": {},
   "outputs": [
    {
     "name": "stderr",
     "output_type": "stream",
     "text": [
      "Could not determine dtype for column 2, falling back to string\n"
     ]
    },
    {
     "name": "stderr",
     "output_type": "stream",
     "text": [
      "Could not determine dtype for column 3, falling back to string\n"
     ]
    }
   ],
   "source": [
    "file_name = \"movies_df.xlsx\"\n",
    "file_path = os.path.join(FILES_DIR, file_name)\n",
    "movies_df = pl.read_excel(file_path)"
   ]
  },
  {
   "cell_type": "markdown",
   "id": "f02b797a",
   "metadata": {},
   "source": [
    "## code"
   ]
  },
  {
   "cell_type": "code",
   "execution_count": 25,
   "id": "30d27824",
   "metadata": {},
   "outputs": [
    {
     "data": {
      "text/html": [
       "<div><style>\n",
       ".dataframe > thead > tr,\n",
       ".dataframe > tbody > tr {\n",
       "  text-align: right;\n",
       "  white-space: pre-wrap;\n",
       "}\n",
       "</style>\n",
       "<small>shape: (5, 15)</small><table border=\"1\" class=\"dataframe\"><thead><tr><th>index</th><th>Title</th><th>Year</th><th>Viewed</th><th>title_eng</th><th>title_translation</th><th>parsed_date</th><th>parsed_title</th><th>checked</th><th>gpt_parsed_titles</th><th>years</th><th>titles</th><th>cleaned_title</th><th>cleaned_year</th><th>ids</th></tr><tr><td>i64</td><td>str</td><td>str</td><td>str</td><td>str</td><td>str</td><td>i64</td><td>str</td><td>str</td><td>str</td><td>str</td><td>str</td><td>str</td><td>i64</td><td>str</td></tr></thead><tbody><tr><td>1</td><td>&quot;Действуй сестра&quot;</td><td>null</td><td>null</td><td>&quot;Not found&quot;</td><td>&quot;Act sister&quot;</td><td>null</td><td>&quot;Not found&quot;</td><td>null</td><td>&quot;Sister Act&quot;</td><td>&quot;1992&quot;</td><td>&quot;Sister Act&quot;</td><td>&quot;Sister Act&quot;</td><td>1992</td><td>&quot;tt0105417&quot;</td></tr><tr><td>2</td><td>&quot;Summer lovers&quot;</td><td>null</td><td>null</td><td>&quot;Summer Lovers_1982_Comedy, Dra…</td><td>&quot;Summer lovers&quot;</td><td>1982</td><td>&quot;Summer Lovers&quot;</td><td>&quot;checked&quot;</td><td>&quot;Summer lovers&quot;</td><td>null</td><td>null</td><td>&quot;Summer Lovers&quot;</td><td>1982</td><td>&quot;tt0084737&quot;</td></tr><tr><td>3</td><td>&quot;Джон уик&quot;</td><td>null</td><td>null</td><td>&quot;John Wick_2014_Action, Crime, …</td><td>&quot;John Wick&quot;</td><td>2014</td><td>&quot;John Wick&quot;</td><td>&quot;checked&quot;</td><td>&quot;Джон уик&quot;</td><td>null</td><td>null</td><td>&quot;John Wick&quot;</td><td>2014</td><td>&quot;tt2911666&quot;</td></tr><tr><td>4</td><td>&quot;Помни&quot;</td><td>null</td><td>null</td><td>&quot;Remembered_2015_Short, Drama_N…</td><td>&quot;Remembered&quot;</td><td>2015</td><td>&quot;Remembered&quot;</td><td>&quot;checked&quot;</td><td>&quot;Помни&quot;</td><td>null</td><td>null</td><td>&quot;Memento&quot;</td><td>2000</td><td>&quot;tt0209144&quot;</td></tr><tr><td>5</td><td>&quot;Похитители велосипедов&quot;</td><td>null</td><td>null</td><td>&quot;Not found&quot;</td><td>&quot;Cycles of bicycles&quot;</td><td>null</td><td>&quot;Not found&quot;</td><td>null</td><td>&quot;Bicycle Thieves&quot;</td><td>&quot;1948&quot;</td><td>&quot;Bicycle Thieves&quot;</td><td>&quot;Bicycle Thieves&quot;</td><td>1948</td><td>&quot;tt0040522&quot;</td></tr></tbody></table></div>"
      ],
      "text/plain": [
       "shape: (5, 15)\n",
       "┌───────┬──────────────┬──────┬────────┬───┬──────────────┬──────────────┬─────────────┬───────────┐\n",
       "│ index ┆ Title        ┆ Year ┆ Viewed ┆ … ┆ titles       ┆ cleaned_titl ┆ cleaned_yea ┆ ids       │\n",
       "│ ---   ┆ ---          ┆ ---  ┆ ---    ┆   ┆ ---          ┆ e            ┆ r           ┆ ---       │\n",
       "│ i64   ┆ str          ┆ str  ┆ str    ┆   ┆ str          ┆ ---          ┆ ---         ┆ str       │\n",
       "│       ┆              ┆      ┆        ┆   ┆              ┆ str          ┆ i64         ┆           │\n",
       "╞═══════╪══════════════╪══════╪════════╪═══╪══════════════╪══════════════╪═════════════╪═══════════╡\n",
       "│ 1     ┆ Действуй     ┆ null ┆ null   ┆ … ┆ Sister Act   ┆ Sister Act   ┆ 1992        ┆ tt0105417 │\n",
       "│       ┆ сестра       ┆      ┆        ┆   ┆              ┆              ┆             ┆           │\n",
       "│ 2     ┆ Summer       ┆ null ┆ null   ┆ … ┆ null         ┆ Summer       ┆ 1982        ┆ tt0084737 │\n",
       "│       ┆ lovers       ┆      ┆        ┆   ┆              ┆ Lovers       ┆             ┆           │\n",
       "│ 3     ┆ Джон уик     ┆ null ┆ null   ┆ … ┆ null         ┆ John Wick    ┆ 2014        ┆ tt2911666 │\n",
       "│ 4     ┆ Помни        ┆ null ┆ null   ┆ … ┆ null         ┆ Memento      ┆ 2000        ┆ tt0209144 │\n",
       "│ 5     ┆ Похитители   ┆ null ┆ null   ┆ … ┆ Bicycle      ┆ Bicycle      ┆ 1948        ┆ tt0040522 │\n",
       "│       ┆ велосипедов  ┆      ┆        ┆   ┆ Thieves      ┆ Thieves      ┆             ┆           │\n",
       "└───────┴──────────────┴──────┴────────┴───┴──────────────┴──────────────┴─────────────┴───────────┘"
      ]
     },
     "execution_count": 25,
     "metadata": {},
     "output_type": "execute_result"
    }
   ],
   "source": [
    "movies_df.head()"
   ]
  },
  {
   "cell_type": "code",
   "execution_count": null,
   "id": "fff672b0",
   "metadata": {},
   "outputs": [
    {
     "data": {
      "text/html": [
       "<div><style>\n",
       ".dataframe > thead > tr,\n",
       ".dataframe > tbody > tr {\n",
       "  text-align: right;\n",
       "  white-space: pre-wrap;\n",
       "}\n",
       "</style>\n",
       "<small>shape: (4, 15)</small><table border=\"1\" class=\"dataframe\"><thead><tr><th>index</th><th>Title</th><th>Year</th><th>Viewed</th><th>title_eng</th><th>title_translation</th><th>parsed_date</th><th>parsed_title</th><th>checked</th><th>gpt_parsed_titles</th><th>years</th><th>titles</th><th>cleaned_title</th><th>cleaned_year</th><th>ids</th></tr><tr><td>i64</td><td>str</td><td>str</td><td>str</td><td>str</td><td>str</td><td>i64</td><td>str</td><td>str</td><td>str</td><td>str</td><td>str</td><td>str</td><td>i64</td><td>str</td></tr></thead><tbody><tr><td>193</td><td>&quot;True detective *&quot;</td><td>null</td><td>null</td><td>null</td><td>null</td><td>null</td><td>null</td><td>&quot;checked&quot;</td><td>&quot;True detective *&quot;</td><td>null</td><td>null</td><td>null</td><td>null</td><td>&quot;Not found&quot;</td></tr><tr><td>355</td><td>&quot;(100 любимых фильмов фрэнка оу…</td><td>null</td><td>null</td><td>&quot;Not found&quot;</td><td>&quot;(100 favorite films Frank Ocea…</td><td>null</td><td>&quot;Not found&quot;</td><td>null</td><td>&quot;(100 Favorite Films of Frank O…</td><td>&quot;-1&quot;</td><td>null</td><td>null</td><td>null</td><td>&quot;Not found&quot;</td></tr><tr><td>450</td><td>&quot;Отбросы *&quot;</td><td>null</td><td>null</td><td>&quot;Not found&quot;</td><td>&quot;Dispers *&quot;</td><td>null</td><td>&quot;Not found&quot;</td><td>null</td><td>&quot;Misfits&quot;</td><td>&quot;2009–2013&quot;</td><td>&quot;Misfits&quot;</td><td>&quot;Misfits&quot;</td><td>null</td><td>&quot;Not found&quot;</td></tr><tr><td>493</td><td>&quot;Мanhattan shorts *&quot;</td><td>&quot;2020&quot;</td><td>null</td><td>&quot;Not found&quot;</td><td>&quot;Мanhattan shorts *&quot;</td><td>null</td><td>&quot;Not found&quot;</td><td>null</td><td>&quot;Manhattan Shorts&quot;</td><td>&quot;-1&quot;</td><td>null</td><td>null</td><td>null</td><td>&quot;Not found&quot;</td></tr></tbody></table></div>"
      ],
      "text/plain": [
       "shape: (4, 15)\n",
       "┌───────┬─────────────────┬──────┬────────┬───┬─────────┬───────────────┬──────────────┬───────────┐\n",
       "│ index ┆ Title           ┆ Year ┆ Viewed ┆ … ┆ titles  ┆ cleaned_title ┆ cleaned_year ┆ ids       │\n",
       "│ ---   ┆ ---             ┆ ---  ┆ ---    ┆   ┆ ---     ┆ ---           ┆ ---          ┆ ---       │\n",
       "│ i64   ┆ str             ┆ str  ┆ str    ┆   ┆ str     ┆ str           ┆ i64          ┆ str       │\n",
       "╞═══════╪═════════════════╪══════╪════════╪═══╪═════════╪═══════════════╪══════════════╪═══════════╡\n",
       "│ 193   ┆ True detective  ┆ null ┆ null   ┆ … ┆ null    ┆ null          ┆ null         ┆ Not found │\n",
       "│       ┆ *               ┆      ┆        ┆   ┆         ┆               ┆              ┆           │\n",
       "│ 355   ┆ (100 любимых    ┆ null ┆ null   ┆ … ┆ null    ┆ null          ┆ null         ┆ Not found │\n",
       "│       ┆ фильмов фрэнка  ┆      ┆        ┆   ┆         ┆               ┆              ┆           │\n",
       "│       ┆ оу…             ┆      ┆        ┆   ┆         ┆               ┆              ┆           │\n",
       "│ 450   ┆ Отбросы *       ┆ null ┆ null   ┆ … ┆ Misfits ┆ Misfits       ┆ null         ┆ Not found │\n",
       "│ 493   ┆ Мanhattan       ┆ 2020 ┆ null   ┆ … ┆ null    ┆ null          ┆ null         ┆ Not found │\n",
       "│       ┆ shorts *        ┆      ┆        ┆   ┆         ┆               ┆              ┆           │\n",
       "└───────┴─────────────────┴──────┴────────┴───┴─────────┴───────────────┴──────────────┴───────────┘"
      ]
     },
     "execution_count": 26,
     "metadata": {},
     "output_type": "execute_result"
    }
   ],
   "source": [
    "movies_df.filter(c(\"ids\") == \"Not found\")"
   ]
  },
  {
   "cell_type": "code",
   "execution_count": 27,
   "id": "e0ac54a1",
   "metadata": {},
   "outputs": [],
   "source": [
    "def fetch_english_title(title):\n",
    "    try:\n",
    "        url = f\"http://www.omdbapi.com/?apikey={OMDB_API_KEY}&i={requests.utils.quote(title)}\"  # for index search\n",
    "        # url = f\"http://www.omdbapi.com/?apikey={OMDB_API_KEY}&t={requests.utils.quote(title)}\"\n",
    "        response = requests.get(url)\n",
    "        data = response.json()\n",
    "        if data.get(\"Response\") == \"True\" and \"Title\" in data:\n",
    "            return data\n",
    "        else:\n",
    "            print(f\"Not found in OMDb: {title}\")\n",
    "            return \"Not found\"\n",
    "    except Exception as e:\n",
    "        print(f\"OMDb error for {title}: {e}\")\n",
    "        return \"Not found\""
   ]
  },
  {
   "cell_type": "code",
   "execution_count": 28,
   "id": "fa29d143",
   "metadata": {},
   "outputs": [
    {
     "data": {
      "text/plain": [
       "{'Title': 'Sister Act',\n",
       " 'Year': '1992',\n",
       " 'Rated': 'PG',\n",
       " 'Released': '29 May 1992',\n",
       " 'Runtime': '100 min',\n",
       " 'Genre': 'Comedy, Family, Music',\n",
       " 'Director': 'Emile Ardolino',\n",
       " 'Writer': 'Paul Rudnick',\n",
       " 'Actors': 'Whoopi Goldberg, Maggie Smith, Harvey Keitel',\n",
       " 'Plot': 'When a nightclub singer is forced to take refuge from the mob in a convent, she ends up turning the convent choir into a soulful chorus complete with a Motown repertoire, until the sudden celebrity of the choir jeopardizes her ide...',\n",
       " 'Language': 'English',\n",
       " 'Country': 'United States',\n",
       " 'Awards': '9 wins & 10 nominations total',\n",
       " 'Poster': 'https://m.media-amazon.com/images/M/MV5BMjIzOTU0ODItMzcyMi00YzFjLTk3MzktNTQ2YjZmN2E0NTBkXkEyXkFqcGc@._V1_SX300.jpg',\n",
       " 'Ratings': [{'Source': 'Internet Movie Database', 'Value': '6.5/10'},\n",
       "  {'Source': 'Rotten Tomatoes', 'Value': '73%'},\n",
       "  {'Source': 'Metacritic', 'Value': '51/100'}],\n",
       " 'Metascore': '51',\n",
       " 'imdbRating': '6.5',\n",
       " 'imdbVotes': '113,562',\n",
       " 'imdbID': 'tt0105417',\n",
       " 'Type': 'movie',\n",
       " 'DVD': 'N/A',\n",
       " 'BoxOffice': '$139,605,150',\n",
       " 'Production': 'N/A',\n",
       " 'Website': 'N/A',\n",
       " 'Response': 'True'}"
      ]
     },
     "execution_count": 28,
     "metadata": {},
     "output_type": "execute_result"
    }
   ],
   "source": [
    "fetch_english_title(movies_df.head(1)[\"ids\"].item())"
   ]
  },
  {
   "cell_type": "code",
   "execution_count": 48,
   "id": "3d347cf3",
   "metadata": {},
   "outputs": [
    {
     "name": "stderr",
     "output_type": "stream",
     "text": [
      "366it [01:37,  4.68it/s]"
     ]
    },
    {
     "name": "stdout",
     "output_type": "stream",
     "text": [
      "Not found in OMDb: tt0073580\n"
     ]
    },
    {
     "name": "stderr",
     "output_type": "stream",
     "text": [
      "367it [01:37,  4.69it/s]"
     ]
    },
    {
     "name": "stdout",
     "output_type": "stream",
     "text": [
      "Not found in OMDb: tt0257360\n",
      "Not found in OMDb: tt0064855\n"
     ]
    },
    {
     "name": "stderr",
     "output_type": "stream",
     "text": [
      "369it [01:38,  4.48it/s]"
     ]
    },
    {
     "name": "stdout",
     "output_type": "stream",
     "text": [
      "Not found in OMDb: tt0079540\n"
     ]
    },
    {
     "name": "stderr",
     "output_type": "stream",
     "text": [
      "370it [01:38,  4.61it/s]"
     ]
    },
    {
     "name": "stdout",
     "output_type": "stream",
     "text": [
      "Not found in OMDb: tt0045152\n"
     ]
    },
    {
     "name": "stderr",
     "output_type": "stream",
     "text": [
      "371it [01:38,  4.64it/s]"
     ]
    },
    {
     "name": "stdout",
     "output_type": "stream",
     "text": [
      "Not found in OMDb: tt0054698\n"
     ]
    },
    {
     "name": "stderr",
     "output_type": "stream",
     "text": [
      "372it [01:38,  4.67it/s]"
     ]
    },
    {
     "name": "stdout",
     "output_type": "stream",
     "text": [
      "Not found in OMDb: tt0125269\n"
     ]
    },
    {
     "name": "stderr",
     "output_type": "stream",
     "text": [
      "373it [01:38,  4.65it/s]"
     ]
    },
    {
     "name": "stdout",
     "output_type": "stream",
     "text": [
      "Not found in OMDb: tt0087644\n"
     ]
    },
    {
     "name": "stderr",
     "output_type": "stream",
     "text": [
      "374it [01:39,  4.54it/s]"
     ]
    },
    {
     "name": "stdout",
     "output_type": "stream",
     "text": [
      "Not found in OMDb: tt0092699\n"
     ]
    },
    {
     "name": "stderr",
     "output_type": "stream",
     "text": [
      "375it [01:39,  4.39it/s]"
     ]
    },
    {
     "name": "stdout",
     "output_type": "stream",
     "text": [
      "Not found in OMDb: tt0133152\n"
     ]
    },
    {
     "name": "stderr",
     "output_type": "stream",
     "text": [
      "376it [01:39,  4.31it/s]"
     ]
    },
    {
     "name": "stdout",
     "output_type": "stream",
     "text": [
      "Not found in OMDb: tt5013056\n"
     ]
    },
    {
     "name": "stderr",
     "output_type": "stream",
     "text": [
      "377it [01:39,  4.46it/s]"
     ]
    },
    {
     "name": "stdout",
     "output_type": "stream",
     "text": [
      "Not found in OMDb: tt32402570\n"
     ]
    },
    {
     "name": "stderr",
     "output_type": "stream",
     "text": [
      "378it [01:40,  4.44it/s]"
     ]
    },
    {
     "name": "stdout",
     "output_type": "stream",
     "text": [
      "Not found in OMDb: tt0051201\n",
      "Not found in OMDb: tt0067328\n"
     ]
    },
    {
     "name": "stderr",
     "output_type": "stream",
     "text": [
      "380it [01:40,  4.66it/s]"
     ]
    },
    {
     "name": "stdout",
     "output_type": "stream",
     "text": [
      "Not found in OMDb: tt6665442\n"
     ]
    },
    {
     "name": "stderr",
     "output_type": "stream",
     "text": [
      "381it [01:40,  4.60it/s]"
     ]
    },
    {
     "name": "stdout",
     "output_type": "stream",
     "text": [
      "Not found in OMDb: tt0060522\n",
      "Not found in OMDb: tt0096928\n"
     ]
    },
    {
     "name": "stderr",
     "output_type": "stream",
     "text": [
      "383it [01:41,  4.67it/s]"
     ]
    },
    {
     "name": "stdout",
     "output_type": "stream",
     "text": [
      "Not found in OMDb: tt3501590\n"
     ]
    },
    {
     "name": "stderr",
     "output_type": "stream",
     "text": [
      "384it [01:41,  4.42it/s]"
     ]
    },
    {
     "name": "stdout",
     "output_type": "stream",
     "text": [
      "Not found in OMDb: tt0053131\n"
     ]
    },
    {
     "name": "stderr",
     "output_type": "stream",
     "text": [
      "385it [01:41,  4.41it/s]"
     ]
    },
    {
     "name": "stdout",
     "output_type": "stream",
     "text": [
      "Not found in OMDb: tt0056193\n"
     ]
    },
    {
     "name": "stderr",
     "output_type": "stream",
     "text": [
      "386it [01:41,  4.44it/s]"
     ]
    },
    {
     "name": "stdout",
     "output_type": "stream",
     "text": [
      "Not found in OMDb: tt0084805\n"
     ]
    },
    {
     "name": "stderr",
     "output_type": "stream",
     "text": [
      "387it [01:42,  4.53it/s]"
     ]
    },
    {
     "name": "stdout",
     "output_type": "stream",
     "text": [
      "Not found in OMDb: tt0408839\n"
     ]
    },
    {
     "name": "stderr",
     "output_type": "stream",
     "text": [
      "388it [01:42,  4.61it/s]"
     ]
    },
    {
     "name": "stdout",
     "output_type": "stream",
     "text": [
      "Not found in OMDb: tt1959563\n"
     ]
    },
    {
     "name": "stderr",
     "output_type": "stream",
     "text": [
      "389it [01:42,  4.65it/s]"
     ]
    },
    {
     "name": "stdout",
     "output_type": "stream",
     "text": [
      "Not found in OMDb: tt2239822\n",
      "Not found in OMDb: tt0080453\n"
     ]
    },
    {
     "name": "stderr",
     "output_type": "stream",
     "text": [
      "392it [01:43,  4.26it/s]"
     ]
    },
    {
     "name": "stdout",
     "output_type": "stream",
     "text": [
      "Not found in OMDb: tt0338013\n",
      "Not found in OMDb: tt0043338\n"
     ]
    },
    {
     "name": "stderr",
     "output_type": "stream",
     "text": [
      "393it [01:43,  4.46it/s]"
     ]
    },
    {
     "name": "stdout",
     "output_type": "stream",
     "text": [
      "Not found in OMDb: tt0062229\n"
     ]
    },
    {
     "name": "stderr",
     "output_type": "stream",
     "text": [
      "395it [01:43,  4.60it/s]"
     ]
    },
    {
     "name": "stdout",
     "output_type": "stream",
     "text": [
      "Not found in OMDb: tt0120616\n",
      "Not found in OMDb: tt0084434\n"
     ]
    },
    {
     "name": "stderr",
     "output_type": "stream",
     "text": [
      "396it [01:44,  4.67it/s]"
     ]
    },
    {
     "name": "stdout",
     "output_type": "stream",
     "text": [
      "Not found in OMDb: tt0103772\n"
     ]
    },
    {
     "name": "stderr",
     "output_type": "stream",
     "text": [
      "397it [01:44,  4.71it/s]"
     ]
    },
    {
     "name": "stdout",
     "output_type": "stream",
     "text": [
      "Not found in OMDb: tt0088184\n"
     ]
    },
    {
     "name": "stderr",
     "output_type": "stream",
     "text": [
      "398it [01:44,  4.78it/s]"
     ]
    },
    {
     "name": "stdout",
     "output_type": "stream",
     "text": [
      "Not found in OMDb: tt0118799\n"
     ]
    },
    {
     "name": "stderr",
     "output_type": "stream",
     "text": [
      "399it [01:44,  4.82it/s]"
     ]
    },
    {
     "name": "stdout",
     "output_type": "stream",
     "text": [
      "Not found in OMDb: tt0108394\n"
     ]
    },
    {
     "name": "stderr",
     "output_type": "stream",
     "text": [
      "400it [01:44,  4.77it/s]"
     ]
    },
    {
     "name": "stdout",
     "output_type": "stream",
     "text": [
      "Not found in OMDb: tt0047528\n"
     ]
    },
    {
     "name": "stderr",
     "output_type": "stream",
     "text": [
      "401it [01:45,  4.61it/s]"
     ]
    },
    {
     "name": "stdout",
     "output_type": "stream",
     "text": [
      "Not found in OMDb: tt0090967\n"
     ]
    },
    {
     "name": "stderr",
     "output_type": "stream",
     "text": [
      "402it [01:45,  4.68it/s]"
     ]
    },
    {
     "name": "stdout",
     "output_type": "stream",
     "text": [
      "Not found in OMDb: tt0053472\n"
     ]
    },
    {
     "name": "stderr",
     "output_type": "stream",
     "text": [
      "403it [01:45,  3.92it/s]"
     ]
    },
    {
     "name": "stdout",
     "output_type": "stream",
     "text": [
      "Not found in OMDb: tt1896747\n"
     ]
    },
    {
     "name": "stderr",
     "output_type": "stream",
     "text": [
      "404it [01:45,  4.14it/s]"
     ]
    },
    {
     "name": "stdout",
     "output_type": "stream",
     "text": [
      "Not found in OMDb: tt0102494\n"
     ]
    },
    {
     "name": "stderr",
     "output_type": "stream",
     "text": [
      "405it [01:46,  4.29it/s]"
     ]
    },
    {
     "name": "stdout",
     "output_type": "stream",
     "text": [
      "Not found in OMDb: tt0307901\n",
      "Not found in OMDb: tt0451294\n"
     ]
    },
    {
     "name": "stderr",
     "output_type": "stream",
     "text": [
      "407it [01:46,  4.56it/s]"
     ]
    },
    {
     "name": "stdout",
     "output_type": "stream",
     "text": [
      "Not found in OMDb: tt5547724\n"
     ]
    },
    {
     "name": "stderr",
     "output_type": "stream",
     "text": [
      "408it [01:46,  4.63it/s]"
     ]
    },
    {
     "name": "stdout",
     "output_type": "stream",
     "text": [
      "Not found in OMDb: tt0097940\n"
     ]
    },
    {
     "name": "stderr",
     "output_type": "stream",
     "text": [
      "409it [01:46,  4.69it/s]"
     ]
    },
    {
     "name": "stdout",
     "output_type": "stream",
     "text": [
      "Not found in OMDb: tt0048424\n"
     ]
    },
    {
     "name": "stderr",
     "output_type": "stream",
     "text": [
      "410it [01:47,  4.76it/s]"
     ]
    },
    {
     "name": "stdout",
     "output_type": "stream",
     "text": [
      "Not found in OMDb: tt0061418\n"
     ]
    },
    {
     "name": "stderr",
     "output_type": "stream",
     "text": [
      "411it [01:47,  4.80it/s]"
     ]
    },
    {
     "name": "stdout",
     "output_type": "stream",
     "text": [
      "Not found in OMDb: tt1135092\n",
      "Not found in OMDb: tt0053779\n"
     ]
    },
    {
     "name": "stderr",
     "output_type": "stream",
     "text": [
      "413it [01:47,  4.29it/s]"
     ]
    },
    {
     "name": "stdout",
     "output_type": "stream",
     "text": [
      "Not found in OMDb: tt0887883\n"
     ]
    },
    {
     "name": "stderr",
     "output_type": "stream",
     "text": [
      "415it [01:48,  4.53it/s]"
     ]
    },
    {
     "name": "stdout",
     "output_type": "stream",
     "text": [
      "Not found in OMDb: tt0053125\n",
      "Not found in OMDb: tt1019452\n"
     ]
    },
    {
     "name": "stderr",
     "output_type": "stream",
     "text": [
      "416it [01:48,  4.65it/s]"
     ]
    },
    {
     "name": "stdout",
     "output_type": "stream",
     "text": [
      "Not found in OMDb: tt0055032\n"
     ]
    },
    {
     "name": "stderr",
     "output_type": "stream",
     "text": [
      "417it [01:48,  4.65it/s]"
     ]
    },
    {
     "name": "stdout",
     "output_type": "stream",
     "text": [
      "Not found in OMDb: tt1587707\n"
     ]
    },
    {
     "name": "stderr",
     "output_type": "stream",
     "text": [
      "418it [01:48,  4.73it/s]"
     ]
    },
    {
     "name": "stdout",
     "output_type": "stream",
     "text": [
      "Not found in OMDb: tt0068473\n"
     ]
    },
    {
     "name": "stderr",
     "output_type": "stream",
     "text": [
      "419it [01:49,  4.76it/s]"
     ]
    },
    {
     "name": "stdout",
     "output_type": "stream",
     "text": [
      "Not found in OMDb: tt0103074\n"
     ]
    },
    {
     "name": "stderr",
     "output_type": "stream",
     "text": [
      "420it [01:49,  4.68it/s]"
     ]
    },
    {
     "name": "stdout",
     "output_type": "stream",
     "text": [
      "Not found in OMDb: tt0075860\n"
     ]
    },
    {
     "name": "stderr",
     "output_type": "stream",
     "text": [
      "421it [01:49,  4.60it/s]"
     ]
    },
    {
     "name": "stdout",
     "output_type": "stream",
     "text": [
      "Not found in OMDb: tt0097216\n"
     ]
    },
    {
     "name": "stderr",
     "output_type": "stream",
     "text": [
      "422it [01:49,  4.69it/s]"
     ]
    },
    {
     "name": "stdout",
     "output_type": "stream",
     "text": [
      "Not found in OMDb: tt0050783\n"
     ]
    },
    {
     "name": "stderr",
     "output_type": "stream",
     "text": [
      "423it [01:49,  4.58it/s]"
     ]
    },
    {
     "name": "stdout",
     "output_type": "stream",
     "text": [
      "Not found in OMDb: tt0087089\n"
     ]
    },
    {
     "name": "stderr",
     "output_type": "stream",
     "text": [
      "424it [01:50,  4.65it/s]"
     ]
    },
    {
     "name": "stdout",
     "output_type": "stream",
     "text": [
      "Not found in OMDb: tt0056172\n",
      "Not found in OMDb: tt0074958\n"
     ]
    },
    {
     "name": "stderr",
     "output_type": "stream",
     "text": [
      "426it [01:50,  4.52it/s]"
     ]
    },
    {
     "name": "stdout",
     "output_type": "stream",
     "text": [
      "Not found in OMDb: tt0033870\n"
     ]
    },
    {
     "name": "stderr",
     "output_type": "stream",
     "text": [
      "427it [01:50,  4.61it/s]"
     ]
    },
    {
     "name": "stdout",
     "output_type": "stream",
     "text": [
      "Not found in OMDb: tt0031971\n"
     ]
    },
    {
     "name": "stderr",
     "output_type": "stream",
     "text": [
      "428it [01:51,  3.49it/s]"
     ]
    },
    {
     "name": "stdout",
     "output_type": "stream",
     "text": [
      "Not found in OMDb: tt3553976\n"
     ]
    },
    {
     "name": "stderr",
     "output_type": "stream",
     "text": [
      "429it [01:51,  3.75it/s]"
     ]
    },
    {
     "name": "stdout",
     "output_type": "stream",
     "text": [
      "Not found in OMDb: tt0101921\n"
     ]
    },
    {
     "name": "stderr",
     "output_type": "stream",
     "text": [
      "430it [01:51,  4.03it/s]"
     ]
    },
    {
     "name": "stdout",
     "output_type": "stream",
     "text": [
      "Not found in OMDb: tt0171685\n"
     ]
    },
    {
     "name": "stderr",
     "output_type": "stream",
     "text": [
      "431it [01:51,  4.25it/s]"
     ]
    },
    {
     "name": "stdout",
     "output_type": "stream",
     "text": [
      "Not found in OMDb: tt0073152\n"
     ]
    },
    {
     "name": "stderr",
     "output_type": "stream",
     "text": [
      "432it [01:52,  4.30it/s]"
     ]
    },
    {
     "name": "stdout",
     "output_type": "stream",
     "text": [
      "Not found in OMDb: tt0097165\n"
     ]
    },
    {
     "name": "stderr",
     "output_type": "stream",
     "text": [
      "433it [01:52,  4.05it/s]"
     ]
    },
    {
     "name": "stdout",
     "output_type": "stream",
     "text": [
      "Not found in OMDb: tt0063350\n"
     ]
    },
    {
     "name": "stderr",
     "output_type": "stream",
     "text": [
      "435it [01:52,  4.43it/s]"
     ]
    },
    {
     "name": "stdout",
     "output_type": "stream",
     "text": [
      "Not found in OMDb: tt5027774\n",
      "Not found in OMDb: tt0056736\n"
     ]
    },
    {
     "name": "stderr",
     "output_type": "stream",
     "text": [
      "436it [01:53,  4.44it/s]"
     ]
    },
    {
     "name": "stdout",
     "output_type": "stream",
     "text": [
      "Not found in OMDb: tt0118694\n"
     ]
    },
    {
     "name": "stderr",
     "output_type": "stream",
     "text": [
      "437it [01:53,  4.50it/s]"
     ]
    },
    {
     "name": "stdout",
     "output_type": "stream",
     "text": [
      "Not found in OMDb: tt0093105\n"
     ]
    },
    {
     "name": "stderr",
     "output_type": "stream",
     "text": [
      "438it [01:53,  4.55it/s]"
     ]
    },
    {
     "name": "stdout",
     "output_type": "stream",
     "text": [
      "Not found in OMDb: tt0420609\n"
     ]
    },
    {
     "name": "stderr",
     "output_type": "stream",
     "text": [
      "439it [01:53,  4.59it/s]"
     ]
    },
    {
     "name": "stdout",
     "output_type": "stream",
     "text": [
      "Not found in OMDb: tt0034240\n"
     ]
    },
    {
     "name": "stderr",
     "output_type": "stream",
     "text": [
      "440it [01:53,  4.65it/s]"
     ]
    },
    {
     "name": "stdout",
     "output_type": "stream",
     "text": [
      "Not found in OMDb: tt0087932\n"
     ]
    },
    {
     "name": "stderr",
     "output_type": "stream",
     "text": [
      "441it [01:54,  4.70it/s]"
     ]
    },
    {
     "name": "stdout",
     "output_type": "stream",
     "text": [
      "Not found in OMDb: tt0396752\n"
     ]
    },
    {
     "name": "stderr",
     "output_type": "stream",
     "text": [
      "442it [01:54,  3.99it/s]"
     ]
    },
    {
     "name": "stdout",
     "output_type": "stream",
     "text": [
      "Not found in OMDb: tt0106673\n"
     ]
    },
    {
     "name": "stderr",
     "output_type": "stream",
     "text": [
      "443it [01:54,  4.14it/s]"
     ]
    },
    {
     "name": "stdout",
     "output_type": "stream",
     "text": [
      "Not found in OMDb: tt0110478\n"
     ]
    },
    {
     "name": "stderr",
     "output_type": "stream",
     "text": [
      "444it [01:54,  4.27it/s]"
     ]
    },
    {
     "name": "stdout",
     "output_type": "stream",
     "text": [
      "Not found in OMDb: tt0093409\n",
      "Not found in OMDb: tt0250223\n"
     ]
    },
    {
     "name": "stderr",
     "output_type": "stream",
     "text": [
      "446it [01:55,  4.47it/s]"
     ]
    },
    {
     "name": "stdout",
     "output_type": "stream",
     "text": [
      "Not found in OMDb: tt1517196\n"
     ]
    },
    {
     "name": "stderr",
     "output_type": "stream",
     "text": [
      "447it [01:55,  4.59it/s]"
     ]
    },
    {
     "name": "stdout",
     "output_type": "stream",
     "text": [
      "Not found in OMDb: tt0116922\n"
     ]
    },
    {
     "name": "stderr",
     "output_type": "stream",
     "text": [
      "448it [01:55,  4.58it/s]"
     ]
    },
    {
     "name": "stdout",
     "output_type": "stream",
     "text": [
      "Not found in OMDb: tt0120728\n"
     ]
    },
    {
     "name": "stderr",
     "output_type": "stream",
     "text": [
      "449it [01:55,  4.60it/s]"
     ]
    },
    {
     "name": "stdout",
     "output_type": "stream",
     "text": [
      "Not found in OMDb: tt4901306\n"
     ]
    },
    {
     "name": "stderr",
     "output_type": "stream",
     "text": [
      "451it [01:56,  6.02it/s]"
     ]
    },
    {
     "name": "stdout",
     "output_type": "stream",
     "text": [
      "Not found in OMDb: tt0117737\n"
     ]
    },
    {
     "name": "stderr",
     "output_type": "stream",
     "text": [
      "452it [01:56,  5.57it/s]"
     ]
    },
    {
     "name": "stdout",
     "output_type": "stream",
     "text": [
      "Not found in OMDb: tt0426931\n"
     ]
    },
    {
     "name": "stderr",
     "output_type": "stream",
     "text": [
      "453it [01:56,  5.06it/s]"
     ]
    },
    {
     "name": "stdout",
     "output_type": "stream",
     "text": [
      "Not found in OMDb: tt0042593\n"
     ]
    },
    {
     "name": "stderr",
     "output_type": "stream",
     "text": [
      "454it [01:56,  4.92it/s]"
     ]
    },
    {
     "name": "stdout",
     "output_type": "stream",
     "text": [
      "Not found in OMDb: tt0082971\n"
     ]
    },
    {
     "name": "stderr",
     "output_type": "stream",
     "text": [
      "455it [01:57,  4.82it/s]"
     ]
    },
    {
     "name": "stdout",
     "output_type": "stream",
     "text": [
      "Not found in OMDb: tt0067411\n"
     ]
    },
    {
     "name": "stderr",
     "output_type": "stream",
     "text": [
      "456it [01:57,  3.59it/s]"
     ]
    },
    {
     "name": "stdout",
     "output_type": "stream",
     "text": [
      "Not found in OMDb: tt6511932\n"
     ]
    },
    {
     "name": "stderr",
     "output_type": "stream",
     "text": [
      "457it [01:57,  3.82it/s]"
     ]
    },
    {
     "name": "stdout",
     "output_type": "stream",
     "text": [
      "Not found in OMDb: tt8079248\n"
     ]
    },
    {
     "name": "stderr",
     "output_type": "stream",
     "text": [
      "458it [01:57,  4.09it/s]"
     ]
    },
    {
     "name": "stdout",
     "output_type": "stream",
     "text": [
      "Not found in OMDb: tt0033804\n"
     ]
    },
    {
     "name": "stderr",
     "output_type": "stream",
     "text": [
      "459it [01:58,  4.28it/s]"
     ]
    },
    {
     "name": "stdout",
     "output_type": "stream",
     "text": [
      "Not found in OMDb: tt8695030\n"
     ]
    },
    {
     "name": "stderr",
     "output_type": "stream",
     "text": [
      "460it [01:58,  4.42it/s]"
     ]
    },
    {
     "name": "stdout",
     "output_type": "stream",
     "text": [
      "Not found in OMDb: tt0052918\n"
     ]
    },
    {
     "name": "stderr",
     "output_type": "stream",
     "text": [
      "461it [01:58,  4.54it/s]"
     ]
    },
    {
     "name": "stdout",
     "output_type": "stream",
     "text": [
      "Not found in OMDb: tt1748122\n"
     ]
    },
    {
     "name": "stderr",
     "output_type": "stream",
     "text": [
      "463it [01:58,  4.70it/s]"
     ]
    },
    {
     "name": "stdout",
     "output_type": "stream",
     "text": [
      "Not found in OMDb: tt0104231\n",
      "Not found in OMDb: tt7131622\n"
     ]
    },
    {
     "name": "stderr",
     "output_type": "stream",
     "text": [
      "464it [01:59,  4.69it/s]"
     ]
    },
    {
     "name": "stdout",
     "output_type": "stream",
     "text": [
      "Not found in OMDb: tt0058329\n"
     ]
    },
    {
     "name": "stderr",
     "output_type": "stream",
     "text": [
      "465it [01:59,  4.72it/s]"
     ]
    },
    {
     "name": "stdout",
     "output_type": "stream",
     "text": [
      "Not found in OMDb: tt7264080\n"
     ]
    },
    {
     "name": "stderr",
     "output_type": "stream",
     "text": [
      "467it [01:59,  4.83it/s]"
     ]
    },
    {
     "name": "stdout",
     "output_type": "stream",
     "text": [
      "Not found in OMDb: tt0061722\n",
      "Not found in OMDb: tt1041829\n"
     ]
    },
    {
     "name": "stderr",
     "output_type": "stream",
     "text": [
      "468it [01:59,  4.87it/s]"
     ]
    },
    {
     "name": "stdout",
     "output_type": "stream",
     "text": [
      "Not found in OMDb: tt8623904\n"
     ]
    },
    {
     "name": "stderr",
     "output_type": "stream",
     "text": [
      "469it [02:00,  4.74it/s]"
     ]
    },
    {
     "name": "stdout",
     "output_type": "stream",
     "text": [
      "Not found in OMDb: tt7653254\n"
     ]
    },
    {
     "name": "stderr",
     "output_type": "stream",
     "text": [
      "470it [02:00,  4.67it/s]"
     ]
    },
    {
     "name": "stdout",
     "output_type": "stream",
     "text": [
      "Not found in OMDb: tt6412452\n"
     ]
    },
    {
     "name": "stderr",
     "output_type": "stream",
     "text": [
      "471it [02:00,  4.70it/s]"
     ]
    },
    {
     "name": "stdout",
     "output_type": "stream",
     "text": [
      "Not found in OMDb: tt5776858\n"
     ]
    },
    {
     "name": "stderr",
     "output_type": "stream",
     "text": [
      "472it [02:00,  4.62it/s]"
     ]
    },
    {
     "name": "stdout",
     "output_type": "stream",
     "text": [
      "Not found in OMDb: tt8526872\n"
     ]
    },
    {
     "name": "stderr",
     "output_type": "stream",
     "text": [
      "473it [02:01,  4.68it/s]"
     ]
    },
    {
     "name": "stdout",
     "output_type": "stream",
     "text": [
      "Not found in OMDb: tt0120812\n"
     ]
    },
    {
     "name": "stderr",
     "output_type": "stream",
     "text": [
      "474it [02:01,  3.85it/s]"
     ]
    },
    {
     "name": "stdout",
     "output_type": "stream",
     "text": [
      "Not found in OMDb: tt3967856\n",
      "Not found in OMDb: tt11644096\n"
     ]
    },
    {
     "name": "stderr",
     "output_type": "stream",
     "text": [
      "476it [02:01,  4.28it/s]"
     ]
    },
    {
     "name": "stdout",
     "output_type": "stream",
     "text": [
      "Not found in OMDb: tt0098724\n"
     ]
    },
    {
     "name": "stderr",
     "output_type": "stream",
     "text": [
      "477it [02:02,  4.44it/s]"
     ]
    },
    {
     "name": "stdout",
     "output_type": "stream",
     "text": [
      "Not found in OMDb: tt5865326\n"
     ]
    },
    {
     "name": "stderr",
     "output_type": "stream",
     "text": [
      "478it [02:02,  4.48it/s]"
     ]
    },
    {
     "name": "stdout",
     "output_type": "stream",
     "text": [
      "Not found in OMDb: tt0066011\n"
     ]
    },
    {
     "name": "stderr",
     "output_type": "stream",
     "text": [
      "479it [02:02,  4.57it/s]"
     ]
    },
    {
     "name": "stdout",
     "output_type": "stream",
     "text": [
      "Not found in OMDb: tt0221027\n"
     ]
    },
    {
     "name": "stderr",
     "output_type": "stream",
     "text": [
      "480it [02:02,  4.55it/s]"
     ]
    },
    {
     "name": "stdout",
     "output_type": "stream",
     "text": [
      "Not found in OMDb: tt0472062\n"
     ]
    },
    {
     "name": "stderr",
     "output_type": "stream",
     "text": [
      "481it [02:02,  4.58it/s]"
     ]
    },
    {
     "name": "stdout",
     "output_type": "stream",
     "text": [
      "Not found in OMDb: tt0162650\n"
     ]
    },
    {
     "name": "stderr",
     "output_type": "stream",
     "text": [
      "482it [02:03,  4.57it/s]"
     ]
    },
    {
     "name": "stdout",
     "output_type": "stream",
     "text": [
      "Not found in OMDb: tt0337741\n"
     ]
    },
    {
     "name": "stderr",
     "output_type": "stream",
     "text": [
      "483it [02:03,  4.57it/s]"
     ]
    },
    {
     "name": "stdout",
     "output_type": "stream",
     "text": [
      "Not found in OMDb: tt0108160\n"
     ]
    },
    {
     "name": "stderr",
     "output_type": "stream",
     "text": [
      "484it [02:03,  4.61it/s]"
     ]
    },
    {
     "name": "stdout",
     "output_type": "stream",
     "text": [
      "Not found in OMDb: tt6155172\n"
     ]
    },
    {
     "name": "stderr",
     "output_type": "stream",
     "text": [
      "485it [02:03,  4.69it/s]"
     ]
    },
    {
     "name": "stdout",
     "output_type": "stream",
     "text": [
      "Not found in OMDb: tt1126618\n",
      "Not found in OMDb: tt2294629\n"
     ]
    },
    {
     "name": "stderr",
     "output_type": "stream",
     "text": [
      "487it [02:04,  4.77it/s]"
     ]
    },
    {
     "name": "stdout",
     "output_type": "stream",
     "text": [
      "Not found in OMDb: tt2380307\n"
     ]
    },
    {
     "name": "stderr",
     "output_type": "stream",
     "text": [
      "488it [02:04,  4.80it/s]"
     ]
    },
    {
     "name": "stdout",
     "output_type": "stream",
     "text": [
      "Not found in OMDb: tt0467406\n"
     ]
    },
    {
     "name": "stderr",
     "output_type": "stream",
     "text": [
      "489it [02:04,  4.73it/s]"
     ]
    },
    {
     "name": "stdout",
     "output_type": "stream",
     "text": [
      "Not found in OMDb: tt8767908\n"
     ]
    },
    {
     "name": "stderr",
     "output_type": "stream",
     "text": [
      "491it [02:05,  4.69it/s]"
     ]
    },
    {
     "name": "stdout",
     "output_type": "stream",
     "text": [
      "Not found in OMDb: tt1292566\n",
      "Not found in OMDb: tt6723592\n"
     ]
    },
    {
     "name": "stderr",
     "output_type": "stream",
     "text": [
      "492it [02:05,  4.68it/s]"
     ]
    },
    {
     "name": "stdout",
     "output_type": "stream",
     "text": [
      "Not found in OMDb: tt7846844\n",
      "Not found in OMDb: tt5952634\n"
     ]
    },
    {
     "name": "stderr",
     "output_type": "stream",
     "text": [
      "495it [02:05,  5.74it/s]"
     ]
    },
    {
     "name": "stdout",
     "output_type": "stream",
     "text": [
      "Not found in OMDb: tt12676326\n",
      "Not found in OMDb: tt2948372\n"
     ]
    },
    {
     "name": "stderr",
     "output_type": "stream",
     "text": [
      "497it [02:06,  4.55it/s]"
     ]
    },
    {
     "name": "stdout",
     "output_type": "stream",
     "text": [
      "Not found in OMDb: tt2096673\n"
     ]
    },
    {
     "name": "stderr",
     "output_type": "stream",
     "text": [
      "498it [02:06,  4.65it/s]"
     ]
    },
    {
     "name": "stdout",
     "output_type": "stream",
     "text": [
      "Not found in OMDb: tt10288566\n"
     ]
    },
    {
     "name": "stderr",
     "output_type": "stream",
     "text": [
      "500it [02:06,  4.71it/s]"
     ]
    },
    {
     "name": "stdout",
     "output_type": "stream",
     "text": [
      "Not found in OMDb: tt5710514\n",
      "Not found in OMDb: tt6966692\n"
     ]
    },
    {
     "name": "stderr",
     "output_type": "stream",
     "text": [
      "502it [02:07,  4.71it/s]"
     ]
    },
    {
     "name": "stdout",
     "output_type": "stream",
     "text": [
      "Not found in OMDb: tt4729430\n",
      "Not found in OMDb: tt3281548\n"
     ]
    },
    {
     "name": "stderr",
     "output_type": "stream",
     "text": [
      "503it [02:07,  4.78it/s]"
     ]
    },
    {
     "name": "stdout",
     "output_type": "stream",
     "text": [
      "Not found in OMDb: tt0266697\n"
     ]
    },
    {
     "name": "stderr",
     "output_type": "stream",
     "text": [
      "504it [02:07,  4.74it/s]"
     ]
    },
    {
     "name": "stdout",
     "output_type": "stream",
     "text": [
      "Not found in OMDb: tt8579674\n",
      "Not found in OMDb: tt0087182\n"
     ]
    },
    {
     "name": "stderr",
     "output_type": "stream",
     "text": [
      "506it [02:08,  4.55it/s]"
     ]
    },
    {
     "name": "stdout",
     "output_type": "stream",
     "text": [
      "Not found in OMDb: tt8847712\n"
     ]
    },
    {
     "name": "stderr",
     "output_type": "stream",
     "text": [
      "507it [02:08,  4.58it/s]"
     ]
    },
    {
     "name": "stdout",
     "output_type": "stream",
     "text": [
      "Not found in OMDb: tt1856101\n"
     ]
    },
    {
     "name": "stderr",
     "output_type": "stream",
     "text": [
      "508it [02:08,  4.54it/s]"
     ]
    },
    {
     "name": "stdout",
     "output_type": "stream",
     "text": [
      "Not found in OMDb: tt2194499\n"
     ]
    },
    {
     "name": "stderr",
     "output_type": "stream",
     "text": [
      "509it [02:08,  4.63it/s]"
     ]
    },
    {
     "name": "stdout",
     "output_type": "stream",
     "text": [
      "Not found in OMDb: tt0170016\n"
     ]
    },
    {
     "name": "stderr",
     "output_type": "stream",
     "text": [
      "510it [02:09,  4.36it/s]"
     ]
    },
    {
     "name": "stdout",
     "output_type": "stream",
     "text": [
      "Not found in OMDb: tt2013293\n"
     ]
    },
    {
     "name": "stderr",
     "output_type": "stream",
     "text": [
      "511it [02:09,  4.40it/s]"
     ]
    },
    {
     "name": "stdout",
     "output_type": "stream",
     "text": [
      "Not found in OMDb: tt3312830\n"
     ]
    },
    {
     "name": "stderr",
     "output_type": "stream",
     "text": [
      "512it [02:09,  4.49it/s]"
     ]
    },
    {
     "name": "stdout",
     "output_type": "stream",
     "text": [
      "Not found in OMDb: tt8718158\n"
     ]
    },
    {
     "name": "stderr",
     "output_type": "stream",
     "text": [
      "513it [02:09,  4.49it/s]"
     ]
    },
    {
     "name": "stdout",
     "output_type": "stream",
     "text": [
      "Not found in OMDb: tt2358891\n"
     ]
    },
    {
     "name": "stderr",
     "output_type": "stream",
     "text": [
      "514it [02:09,  4.60it/s]"
     ]
    },
    {
     "name": "stdout",
     "output_type": "stream",
     "text": [
      "Not found in OMDb: tt10687116\n"
     ]
    },
    {
     "name": "stderr",
     "output_type": "stream",
     "text": [
      "515it [02:10,  4.61it/s]"
     ]
    },
    {
     "name": "stdout",
     "output_type": "stream",
     "text": [
      "Not found in OMDb: tt14641788\n"
     ]
    },
    {
     "name": "stderr",
     "output_type": "stream",
     "text": [
      "517it [02:10,  4.78it/s]"
     ]
    },
    {
     "name": "stdout",
     "output_type": "stream",
     "text": [
      "Not found in OMDb: tt8623904\n",
      "Not found in OMDb: tt13320662\n"
     ]
    },
    {
     "name": "stderr",
     "output_type": "stream",
     "text": [
      "518it [02:10,  4.72it/s]"
     ]
    },
    {
     "name": "stdout",
     "output_type": "stream",
     "text": [
      "Not found in OMDb: tt7322224\n"
     ]
    },
    {
     "name": "stderr",
     "output_type": "stream",
     "text": [
      "519it [02:10,  4.77it/s]"
     ]
    },
    {
     "name": "stdout",
     "output_type": "stream",
     "text": [
      "Not found in OMDb: tt9764362\n"
     ]
    },
    {
     "name": "stderr",
     "output_type": "stream",
     "text": [
      "520it [02:11,  4.75it/s]"
     ]
    },
    {
     "name": "stdout",
     "output_type": "stream",
     "text": [
      "Not found in OMDb: tt12801262\n"
     ]
    },
    {
     "name": "stderr",
     "output_type": "stream",
     "text": [
      "521it [02:11,  4.80it/s]"
     ]
    },
    {
     "name": "stdout",
     "output_type": "stream",
     "text": [
      "Not found in OMDb: tt0096589\n"
     ]
    },
    {
     "name": "stderr",
     "output_type": "stream",
     "text": [
      "522it [02:11,  3.87it/s]"
     ]
    },
    {
     "name": "stdout",
     "output_type": "stream",
     "text": [
      "Not found in OMDb: tt6710474\n"
     ]
    },
    {
     "name": "stderr",
     "output_type": "stream",
     "text": [
      "523it [02:11,  4.05it/s]"
     ]
    },
    {
     "name": "stdout",
     "output_type": "stream",
     "text": [
      "Not found in OMDb: tt0120382\n"
     ]
    },
    {
     "name": "stderr",
     "output_type": "stream",
     "text": [
      "525it [02:12,  4.47it/s]"
     ]
    },
    {
     "name": "stdout",
     "output_type": "stream",
     "text": [
      "Not found in OMDb: tt1323594\n",
      "Not found in OMDb: tt12789558\n"
     ]
    },
    {
     "name": "stderr",
     "output_type": "stream",
     "text": [
      "526it [02:12,  4.57it/s]"
     ]
    },
    {
     "name": "stdout",
     "output_type": "stream",
     "text": [
      "Not found in OMDb: tt1605783\n"
     ]
    },
    {
     "name": "stderr",
     "output_type": "stream",
     "text": [
      "527it [02:12,  4.62it/s]"
     ]
    },
    {
     "name": "stdout",
     "output_type": "stream",
     "text": [
      "Not found in OMDb: tt11291274\n"
     ]
    },
    {
     "name": "stderr",
     "output_type": "stream",
     "text": [
      "528it [02:12,  4.62it/s]"
     ]
    },
    {
     "name": "stdout",
     "output_type": "stream",
     "text": [
      "Not found in OMDb: tt0119174\n"
     ]
    },
    {
     "name": "stderr",
     "output_type": "stream",
     "text": [
      "529it [02:13,  4.68it/s]"
     ]
    },
    {
     "name": "stdout",
     "output_type": "stream",
     "text": [
      "Not found in OMDb: tt15893750\n"
     ]
    },
    {
     "name": "stderr",
     "output_type": "stream",
     "text": [
      "530it [02:13,  4.72it/s]"
     ]
    },
    {
     "name": "stdout",
     "output_type": "stream",
     "text": [
      "Not found in OMDb: tt19770238\n"
     ]
    },
    {
     "name": "stderr",
     "output_type": "stream",
     "text": [
      "531it [02:13,  4.76it/s]"
     ]
    },
    {
     "name": "stdout",
     "output_type": "stream",
     "text": [
      "Not found in OMDb: tt10276482\n"
     ]
    },
    {
     "name": "stderr",
     "output_type": "stream",
     "text": [
      "532it [02:13,  4.62it/s]"
     ]
    },
    {
     "name": "stdout",
     "output_type": "stream",
     "text": [
      "Not found in OMDb: tt16233952\n"
     ]
    },
    {
     "name": "stderr",
     "output_type": "stream",
     "text": [
      "534it [02:14,  4.77it/s]"
     ]
    },
    {
     "name": "stdout",
     "output_type": "stream",
     "text": [
      "Not found in OMDb: tt8745676\n",
      "Not found in OMDb: tt13833688\n"
     ]
    },
    {
     "name": "stderr",
     "output_type": "stream",
     "text": [
      "535it [02:14,  4.72it/s]"
     ]
    },
    {
     "name": "stdout",
     "output_type": "stream",
     "text": [
      "Not found in OMDb: tt13640696\n"
     ]
    },
    {
     "name": "stderr",
     "output_type": "stream",
     "text": [
      "537it [02:14,  4.85it/s]"
     ]
    },
    {
     "name": "stdout",
     "output_type": "stream",
     "text": [
      "Not found in OMDb: tt7405458\n",
      "Not found in OMDb: tt2183014\n"
     ]
    },
    {
     "name": "stderr",
     "output_type": "stream",
     "text": [
      "538it [02:15,  4.73it/s]"
     ]
    },
    {
     "name": "stdout",
     "output_type": "stream",
     "text": [
      "Not found in OMDb: tt15789038\n"
     ]
    },
    {
     "name": "stderr",
     "output_type": "stream",
     "text": [
      "539it [02:15,  4.75it/s]"
     ]
    },
    {
     "name": "stdout",
     "output_type": "stream",
     "text": [
      "Not found in OMDb: tt0120828\n"
     ]
    },
    {
     "name": "stderr",
     "output_type": "stream",
     "text": [
      "540it [02:15,  4.65it/s]"
     ]
    },
    {
     "name": "stdout",
     "output_type": "stream",
     "text": [
      "Not found in OMDb: tt0166813\n"
     ]
    },
    {
     "name": "stderr",
     "output_type": "stream",
     "text": [
      "541it [02:15,  4.65it/s]"
     ]
    },
    {
     "name": "stdout",
     "output_type": "stream",
     "text": [
      "Not found in OMDb: tt9686708\n"
     ]
    },
    {
     "name": "stderr",
     "output_type": "stream",
     "text": [
      "542it [02:16,  3.74it/s]"
     ]
    },
    {
     "name": "stdout",
     "output_type": "stream",
     "text": [
      "Not found in OMDb: tt4411584\n"
     ]
    },
    {
     "name": "stderr",
     "output_type": "stream",
     "text": [
      "543it [02:16,  3.95it/s]"
     ]
    },
    {
     "name": "stdout",
     "output_type": "stream",
     "text": [
      "Not found in OMDb: tt13274016\n"
     ]
    },
    {
     "name": "stderr",
     "output_type": "stream",
     "text": [
      "544it [02:16,  3.39it/s]"
     ]
    },
    {
     "name": "stdout",
     "output_type": "stream",
     "text": [
      "Not found in OMDb: tt16968450\n"
     ]
    },
    {
     "name": "stderr",
     "output_type": "stream",
     "text": [
      "545it [02:16,  3.65it/s]"
     ]
    },
    {
     "name": "stdout",
     "output_type": "stream",
     "text": [
      "Not found in OMDb: tt9860728\n"
     ]
    },
    {
     "name": "stderr",
     "output_type": "stream",
     "text": [
      "546it [02:17,  3.94it/s]"
     ]
    },
    {
     "name": "stdout",
     "output_type": "stream",
     "text": [
      "Not found in OMDb: tt1517268\n"
     ]
    },
    {
     "name": "stderr",
     "output_type": "stream",
     "text": [
      "547it [02:17,  4.15it/s]"
     ]
    },
    {
     "name": "stdout",
     "output_type": "stream",
     "text": [
      "Not found in OMDb: tt0212338\n"
     ]
    },
    {
     "name": "stderr",
     "output_type": "stream",
     "text": [
      "548it [02:17,  3.53it/s]"
     ]
    },
    {
     "name": "stdout",
     "output_type": "stream",
     "text": [
      "Not found in OMDb: tt0240890\n"
     ]
    },
    {
     "name": "stderr",
     "output_type": "stream",
     "text": [
      "549it [02:17,  3.80it/s]"
     ]
    },
    {
     "name": "stdout",
     "output_type": "stream",
     "text": [
      "Not found in OMDb: tt15398776\n"
     ]
    },
    {
     "name": "stderr",
     "output_type": "stream",
     "text": [
      "550it [02:18,  4.06it/s]"
     ]
    },
    {
     "name": "stdout",
     "output_type": "stream",
     "text": [
      "Not found in OMDb: tt9362930\n"
     ]
    },
    {
     "name": "stderr",
     "output_type": "stream",
     "text": [
      "551it [02:18,  4.27it/s]"
     ]
    },
    {
     "name": "stdout",
     "output_type": "stream",
     "text": [
      "Not found in OMDb: tt2948356\n"
     ]
    },
    {
     "name": "stderr",
     "output_type": "stream",
     "text": [
      "553it [02:18,  4.57it/s]"
     ]
    },
    {
     "name": "stdout",
     "output_type": "stream",
     "text": [
      "Not found in OMDb: tt14849194\n",
      "Not found in OMDb: tt0457939\n"
     ]
    },
    {
     "name": "stderr",
     "output_type": "stream",
     "text": [
      "554it [02:19,  4.62it/s]"
     ]
    },
    {
     "name": "stdout",
     "output_type": "stream",
     "text": [
      "Not found in OMDb: tt22687790\n"
     ]
    },
    {
     "name": "stderr",
     "output_type": "stream",
     "text": [
      "555it [02:19,  4.69it/s]"
     ]
    },
    {
     "name": "stdout",
     "output_type": "stream",
     "text": [
      "Not found in OMDb: tt3464902\n"
     ]
    },
    {
     "name": "stderr",
     "output_type": "stream",
     "text": [
      "556it [02:19,  4.71it/s]"
     ]
    },
    {
     "name": "stdout",
     "output_type": "stream",
     "text": [
      "Not found in OMDb: tt0251127\n"
     ]
    },
    {
     "name": "stderr",
     "output_type": "stream",
     "text": [
      "557it [02:19,  4.75it/s]"
     ]
    },
    {
     "name": "stdout",
     "output_type": "stream",
     "text": [
      "Not found in OMDb: tt0377092\n"
     ]
    },
    {
     "name": "stderr",
     "output_type": "stream",
     "text": [
      "558it [02:19,  4.80it/s]"
     ]
    },
    {
     "name": "stdout",
     "output_type": "stream",
     "text": [
      "Not found in OMDb: tt28066777\n"
     ]
    },
    {
     "name": "stderr",
     "output_type": "stream",
     "text": [
      "559it [02:20,  4.72it/s]"
     ]
    },
    {
     "name": "stdout",
     "output_type": "stream",
     "text": [
      "Not found in OMDb: tt0144084\n"
     ]
    },
    {
     "name": "stderr",
     "output_type": "stream",
     "text": [
      "560it [02:20,  4.77it/s]"
     ]
    },
    {
     "name": "stdout",
     "output_type": "stream",
     "text": [
      "Not found in OMDb: tt7984734\n"
     ]
    },
    {
     "name": "stderr",
     "output_type": "stream",
     "text": [
      "561it [02:20,  4.76it/s]"
     ]
    },
    {
     "name": "stdout",
     "output_type": "stream",
     "text": [
      "Not found in OMDb: tt14833464\n"
     ]
    },
    {
     "name": "stderr",
     "output_type": "stream",
     "text": [
      "562it [02:20,  4.76it/s]"
     ]
    },
    {
     "name": "stdout",
     "output_type": "stream",
     "text": [
      "Not found in OMDb: tt0112471\n"
     ]
    },
    {
     "name": "stderr",
     "output_type": "stream",
     "text": [
      "563it [02:20,  4.76it/s]"
     ]
    },
    {
     "name": "stdout",
     "output_type": "stream",
     "text": [
      "Not found in OMDb: tt7214954\n"
     ]
    },
    {
     "name": "stderr",
     "output_type": "stream",
     "text": [
      "564it [02:21,  4.75it/s]"
     ]
    },
    {
     "name": "stdout",
     "output_type": "stream",
     "text": [
      "Not found in OMDb: tt1109624\n"
     ]
    },
    {
     "name": "stderr",
     "output_type": "stream",
     "text": [
      "565it [02:21,  4.79it/s]"
     ]
    },
    {
     "name": "stdout",
     "output_type": "stream",
     "text": [
      "Not found in OMDb: tt1563738\n"
     ]
    },
    {
     "name": "stderr",
     "output_type": "stream",
     "text": [
      "566it [02:21,  4.79it/s]"
     ]
    },
    {
     "name": "stdout",
     "output_type": "stream",
     "text": [
      "Not found in OMDb: tt2245084\n"
     ]
    },
    {
     "name": "stderr",
     "output_type": "stream",
     "text": [
      "567it [02:21,  4.78it/s]"
     ]
    },
    {
     "name": "stdout",
     "output_type": "stream",
     "text": [
      "Not found in OMDb: tt8267604\n"
     ]
    },
    {
     "name": "stderr",
     "output_type": "stream",
     "text": [
      "568it [02:21,  4.78it/s]"
     ]
    },
    {
     "name": "stdout",
     "output_type": "stream",
     "text": [
      "Not found in OMDb: tt0120762\n"
     ]
    },
    {
     "name": "stderr",
     "output_type": "stream",
     "text": [
      "569it [02:22,  4.69it/s]"
     ]
    },
    {
     "name": "stdout",
     "output_type": "stream",
     "text": [
      "Not found in OMDb: tt8129794\n"
     ]
    },
    {
     "name": "stderr",
     "output_type": "stream",
     "text": [
      "570it [02:22,  4.62it/s]"
     ]
    },
    {
     "name": "stdout",
     "output_type": "stream",
     "text": [
      "Not found in OMDb: tt15845360\n",
      "Not found in OMDb: tt7139936\n"
     ]
    },
    {
     "name": "stderr",
     "output_type": "stream",
     "text": [
      "573it [02:23,  4.72it/s]"
     ]
    },
    {
     "name": "stdout",
     "output_type": "stream",
     "text": [
      "Not found in OMDb: tt0196229\n",
      "Not found in OMDb: tt20215968\n"
     ]
    },
    {
     "name": "stderr",
     "output_type": "stream",
     "text": [
      "574it [02:23,  4.60it/s]"
     ]
    },
    {
     "name": "stdout",
     "output_type": "stream",
     "text": [
      "Not found in OMDb: tt16426418\n"
     ]
    },
    {
     "name": "stderr",
     "output_type": "stream",
     "text": [
      "575it [02:23,  4.59it/s]"
     ]
    },
    {
     "name": "stdout",
     "output_type": "stream",
     "text": [
      "Not found in OMDb: tt6241872\n"
     ]
    },
    {
     "name": "stderr",
     "output_type": "stream",
     "text": [
      "576it [02:23,  4.54it/s]"
     ]
    },
    {
     "name": "stdout",
     "output_type": "stream",
     "text": [
      "Not found in OMDb: tt9806192\n"
     ]
    },
    {
     "name": "stderr",
     "output_type": "stream",
     "text": [
      "577it [02:23,  4.63it/s]"
     ]
    },
    {
     "name": "stdout",
     "output_type": "stream",
     "text": [
      "Not found in OMDb: tt7978758\n"
     ]
    },
    {
     "name": "stderr",
     "output_type": "stream",
     "text": [
      "578it [02:24,  4.66it/s]"
     ]
    },
    {
     "name": "stdout",
     "output_type": "stream",
     "text": [
      "Not found in OMDb: tt0056592\n"
     ]
    },
    {
     "name": "stderr",
     "output_type": "stream",
     "text": [
      "579it [02:24,  4.67it/s]"
     ]
    },
    {
     "name": "stdout",
     "output_type": "stream",
     "text": [
      "Not found in OMDb: tt0118715\n"
     ]
    },
    {
     "name": "stderr",
     "output_type": "stream",
     "text": [
      "580it [02:24,  4.72it/s]"
     ]
    },
    {
     "name": "stdout",
     "output_type": "stream",
     "text": [
      "Not found in OMDb: tt0086960\n"
     ]
    },
    {
     "name": "stderr",
     "output_type": "stream",
     "text": [
      "581it [02:24,  4.73it/s]"
     ]
    },
    {
     "name": "stdout",
     "output_type": "stream",
     "text": [
      "Not found in OMDb: tt0096283\n"
     ]
    },
    {
     "name": "stderr",
     "output_type": "stream",
     "text": [
      "582it [02:24,  4.78it/s]"
     ]
    },
    {
     "name": "stdout",
     "output_type": "stream",
     "text": [
      "Not found in OMDb: tt0181875\n"
     ]
    },
    {
     "name": "stderr",
     "output_type": "stream",
     "text": [
      "584it [02:25,  4.84it/s]"
     ]
    },
    {
     "name": "stdout",
     "output_type": "stream",
     "text": [
      "Not found in OMDb: tt0098635\n"
     ]
    },
    {
     "name": "stderr",
     "output_type": "stream",
     "text": [
      "586it [02:25,  4.89it/s]"
     ]
    },
    {
     "name": "stdout",
     "output_type": "stream",
     "text": [
      "Not found in OMDb: tt0119528\n",
      "Not found in OMDb: tt0080339\n"
     ]
    },
    {
     "name": "stderr",
     "output_type": "stream",
     "text": [
      "587it [02:26,  4.32it/s]"
     ]
    },
    {
     "name": "stdout",
     "output_type": "stream",
     "text": [
      "Not found in OMDb: tt3402138\n"
     ]
    },
    {
     "name": "stderr",
     "output_type": "stream",
     "text": [
      "588it [02:26,  4.40it/s]"
     ]
    },
    {
     "name": "stdout",
     "output_type": "stream",
     "text": [
      "Not found in OMDb: tt0119698\n"
     ]
    },
    {
     "name": "stderr",
     "output_type": "stream",
     "text": [
      "589it [02:26,  4.46it/s]"
     ]
    },
    {
     "name": "stdout",
     "output_type": "stream",
     "text": [
      "Not found in OMDb: tt0245429\n"
     ]
    },
    {
     "name": "stderr",
     "output_type": "stream",
     "text": [
      "590it [02:26,  4.57it/s]"
     ]
    },
    {
     "name": "stdout",
     "output_type": "stream",
     "text": [
      "Not found in OMDb: tt0128853\n"
     ]
    },
    {
     "name": "stderr",
     "output_type": "stream",
     "text": [
      "591it [02:26,  4.65it/s]"
     ]
    },
    {
     "name": "stdout",
     "output_type": "stream",
     "text": [
      "Not found in OMDb: tt0095690\n"
     ]
    },
    {
     "name": "stderr",
     "output_type": "stream",
     "text": [
      "592it [02:27,  3.38it/s]"
     ]
    },
    {
     "name": "stdout",
     "output_type": "stream",
     "text": [
      "Not found in OMDb: tt0097814\n"
     ]
    },
    {
     "name": "stderr",
     "output_type": "stream",
     "text": [
      "593it [02:27,  3.69it/s]"
     ]
    },
    {
     "name": "stdout",
     "output_type": "stream",
     "text": [
      "Not found in OMDb: tt0347149\n"
     ]
    },
    {
     "name": "stderr",
     "output_type": "stream",
     "text": [
      "594it [02:27,  3.75it/s]"
     ]
    },
    {
     "name": "stdout",
     "output_type": "stream",
     "text": [
      "Not found in OMDb: tt0104652\n"
     ]
    },
    {
     "name": "stderr",
     "output_type": "stream",
     "text": [
      "595it [02:28,  3.97it/s]"
     ]
    },
    {
     "name": "stdout",
     "output_type": "stream",
     "text": [
      "Not found in OMDb: tt0113824\n"
     ]
    },
    {
     "name": "stderr",
     "output_type": "stream",
     "text": [
      "596it [02:28,  4.21it/s]"
     ]
    },
    {
     "name": "stdout",
     "output_type": "stream",
     "text": [
      "Not found in OMDb: tt0432283\n"
     ]
    },
    {
     "name": "stderr",
     "output_type": "stream",
     "text": [
      "597it [02:28,  4.36it/s]"
     ]
    },
    {
     "name": "stdout",
     "output_type": "stream",
     "text": [
      "Not found in OMDb: tt15140278\n"
     ]
    },
    {
     "name": "stderr",
     "output_type": "stream",
     "text": [
      "598it [02:28,  4.49it/s]"
     ]
    },
    {
     "name": "stdout",
     "output_type": "stream",
     "text": [
      "Not found in OMDb: tt0359950\n"
     ]
    },
    {
     "name": "stderr",
     "output_type": "stream",
     "text": [
      "599it [02:28,  4.58it/s]"
     ]
    },
    {
     "name": "stdout",
     "output_type": "stream",
     "text": [
      "Not found in OMDb: tt21823606\n"
     ]
    },
    {
     "name": "stderr",
     "output_type": "stream",
     "text": [
      "600it [02:29,  4.65it/s]"
     ]
    },
    {
     "name": "stdout",
     "output_type": "stream",
     "text": [
      "Not found in OMDb: tt6587046\n",
      "Not found in OMDb: tt0101862\n"
     ]
    },
    {
     "name": "stderr",
     "output_type": "stream",
     "text": [
      "602it [02:29,  4.70it/s]"
     ]
    },
    {
     "name": "stdout",
     "output_type": "stream",
     "text": [
      "Not found in OMDb: tt0076666\n"
     ]
    },
    {
     "name": "stderr",
     "output_type": "stream",
     "text": [
      "603it [02:29,  4.58it/s]"
     ]
    },
    {
     "name": "stdout",
     "output_type": "stream",
     "text": [
      "Not found in OMDb: tt0086423\n",
      "Not found in OMDb: tt2347569\n"
     ]
    },
    {
     "name": "stderr",
     "output_type": "stream",
     "text": [
      "605it [02:30,  4.75it/s]"
     ]
    },
    {
     "name": "stdout",
     "output_type": "stream",
     "text": [
      "Not found in OMDb: tt0093565\n"
     ]
    },
    {
     "name": "stderr",
     "output_type": "stream",
     "text": [
      "606it [02:30,  4.71it/s]"
     ]
    },
    {
     "name": "stdout",
     "output_type": "stream",
     "text": [
      "Not found in OMDb: tt0071315\n"
     ]
    },
    {
     "name": "stderr",
     "output_type": "stream",
     "text": [
      "607it [02:30,  4.71it/s]"
     ]
    },
    {
     "name": "stdout",
     "output_type": "stream",
     "text": [
      "Not found in OMDb: tt0094947\n"
     ]
    },
    {
     "name": "stderr",
     "output_type": "stream",
     "text": [
      "608it [02:30,  4.70it/s]"
     ]
    },
    {
     "name": "stdout",
     "output_type": "stream",
     "text": [
      "Not found in OMDb: tt0083833\n"
     ]
    },
    {
     "name": "stderr",
     "output_type": "stream",
     "text": [
      "609it [02:31,  4.74it/s]"
     ]
    },
    {
     "name": "stdout",
     "output_type": "stream",
     "text": [
      "Not found in OMDb: tt0116930\n"
     ]
    },
    {
     "name": "stderr",
     "output_type": "stream",
     "text": [
      "610it [02:31,  4.52it/s]"
     ]
    },
    {
     "name": "stdout",
     "output_type": "stream",
     "text": [
      "Not found in OMDb: tt0319061\n"
     ]
    },
    {
     "name": "stderr",
     "output_type": "stream",
     "text": [
      "611it [02:31,  4.58it/s]"
     ]
    },
    {
     "name": "stdout",
     "output_type": "stream",
     "text": [
      "Not found in OMDb: tt0088247\n"
     ]
    },
    {
     "name": "stderr",
     "output_type": "stream",
     "text": [
      "612it [02:31,  4.60it/s]"
     ]
    },
    {
     "name": "stdout",
     "output_type": "stream",
     "text": [
      "Not found in OMDb: tt0034240\n"
     ]
    },
    {
     "name": "stderr",
     "output_type": "stream",
     "text": [
      "613it [02:31,  4.60it/s]"
     ]
    },
    {
     "name": "stdout",
     "output_type": "stream",
     "text": [
      "Not found in OMDb: tt0094737\n"
     ]
    },
    {
     "name": "stderr",
     "output_type": "stream",
     "text": [
      "614it [02:32,  4.64it/s]"
     ]
    },
    {
     "name": "stdout",
     "output_type": "stream",
     "text": [
      "Not found in OMDb: tt5990474\n"
     ]
    },
    {
     "name": "stderr",
     "output_type": "stream",
     "text": [
      "615it [02:32,  4.70it/s]"
     ]
    },
    {
     "name": "stdout",
     "output_type": "stream",
     "text": [
      "Not found in OMDb: tt5247022\n"
     ]
    },
    {
     "name": "stderr",
     "output_type": "stream",
     "text": [
      "616it [02:32,  4.50it/s]"
     ]
    },
    {
     "name": "stdout",
     "output_type": "stream",
     "text": [
      "Not found in OMDb: tt15339456\n"
     ]
    },
    {
     "name": "stderr",
     "output_type": "stream",
     "text": [
      "617it [02:32,  4.53it/s]"
     ]
    },
    {
     "name": "stdout",
     "output_type": "stream",
     "text": [
      "Not found in OMDb: tt0102587\n"
     ]
    },
    {
     "name": "stderr",
     "output_type": "stream",
     "text": [
      "619it [02:33,  4.72it/s]"
     ]
    },
    {
     "name": "stdout",
     "output_type": "stream",
     "text": [
      "Not found in OMDb: tt0093779\n",
      "Not found in OMDb: tt0095327\n"
     ]
    },
    {
     "name": "stderr",
     "output_type": "stream",
     "text": [
      "620it [02:33,  4.75it/s]"
     ]
    },
    {
     "name": "stdout",
     "output_type": "stream",
     "text": [
      "Not found in OMDb: tt0114814\n"
     ]
    },
    {
     "name": "stderr",
     "output_type": "stream",
     "text": [
      "621it [02:33,  4.04it/s]"
     ]
    },
    {
     "name": "stdout",
     "output_type": "stream",
     "text": [
      "Not found in OMDb: tt0116905\n"
     ]
    },
    {
     "name": "stderr",
     "output_type": "stream",
     "text": [
      "\n"
     ]
    }
   ],
   "source": [
    "result_dict = dict()\n",
    "for row in tqdm(movies_df.head(10).iter_rows(named=True)):\n",
    "    if row[\"ids\"] == \"Not found\":\n",
    "        result_dict[row[\"index\"]] = \"Not found\"\n",
    "    else:\n",
    "        omdb_result = fetch_english_title(row[\"ids\"])\n",
    "        if omdb_result != \"Not found\":\n",
    "            result_dict[row[\"index\"]] = omdb_result\n",
    "        else:\n",
    "            result_dict[row[\"index\"]] = \"Not found\""
   ]
  },
  {
   "cell_type": "code",
   "execution_count": 49,
   "id": "19cb7b46",
   "metadata": {},
   "outputs": [
    {
     "name": "stdout",
     "output_type": "stream",
     "text": [
      "1\t{'Title': 'Sister Act', 'Year': '1992', 'Rated': 'PG', 'Released': '29 May 1992', 'Runtime': '100 min', 'Genre': 'Comedy, Family, Music', 'Director': 'Emile Ardolino', 'Writer': 'Paul Rudnick', 'Actors': 'Whoopi Goldberg, Maggie Smith, Harvey Keitel', 'Plot': 'When a nightclub singer is forced to take refuge from the mob in a convent, she ends up turning the convent choir into a soulful chorus complete with a Motown repertoire, until the sudden celebrity of the choir jeopardizes her ide...', 'Language': 'English', 'Country': 'United States', 'Awards': '9 wins & 10 nominations total', 'Poster': 'https://m.media-amazon.com/images/M/MV5BMjIzOTU0ODItMzcyMi00YzFjLTk3MzktNTQ2YjZmN2E0NTBkXkEyXkFqcGc@._V1_SX300.jpg', 'Ratings': [{'Source': 'Internet Movie Database', 'Value': '6.5/10'}, {'Source': 'Rotten Tomatoes', 'Value': '73%'}, {'Source': 'Metacritic', 'Value': '51/100'}], 'Metascore': '51', 'imdbRating': '6.5', 'imdbVotes': '113,562', 'imdbID': 'tt0105417', 'Type': 'movie', 'DVD': 'N/A', 'BoxOffice': '$139,605,150', 'Production': 'N/A', 'Website': 'N/A', 'Response': 'True'}\n",
      "2\t{'Title': 'Summer Lovers', 'Year': '1982', 'Rated': 'R', 'Released': '16 Jul 1982', 'Runtime': '98 min', 'Genre': 'Comedy, Drama, Romance', 'Director': 'Randal Kleiser', 'Writer': 'Randal Kleiser', 'Actors': 'Peter Gallagher, Daryl Hannah, Valérie Quennessen', 'Plot': 'A young American couple and a French woman engage in a threesome in the Greek Islands.', 'Language': 'English', 'Country': 'United States', 'Awards': 'N/A', 'Poster': 'https://m.media-amazon.com/images/M/MV5BMTYxNjk0Mjg1NF5BMl5BanBnXkFtZTcwNzAyMTM3NA@@._V1_SX300.jpg', 'Ratings': [{'Source': 'Internet Movie Database', 'Value': '5.8/10'}, {'Source': 'Rotten Tomatoes', 'Value': '25%'}], 'Metascore': 'N/A', 'imdbRating': '5.8', 'imdbVotes': '4,687', 'imdbID': 'tt0084737', 'Type': 'movie', 'DVD': 'N/A', 'BoxOffice': '$4,968,000', 'Production': 'N/A', 'Website': 'N/A', 'Response': 'True'}\n",
      "3\t{'Title': 'John Wick', 'Year': '2014', 'Rated': 'R', 'Released': '24 Oct 2014', 'Runtime': '101 min', 'Genre': 'Action, Crime, Thriller', 'Director': 'Chad Stahelski', 'Writer': 'Derek Kolstad', 'Actors': 'Keanu Reeves, Michael Nyqvist, Alfie Allen', 'Plot': 'John Wick is a former hitman grieving the loss of his true love. When his home is broken into, robbed, and his dog killed, he is forced to return to action to exact revenge.', 'Language': 'English, Russian, Hungarian', 'Country': 'United States', 'Awards': '5 wins & 10 nominations total', 'Poster': 'https://m.media-amazon.com/images/M/MV5BMTU2NjA1ODgzMF5BMl5BanBnXkFtZTgwMTM2MTI4MjE@._V1_SX300.jpg', 'Ratings': [{'Source': 'Internet Movie Database', 'Value': '7.5/10'}, {'Source': 'Rotten Tomatoes', 'Value': '86%'}, {'Source': 'Metacritic', 'Value': '68/100'}], 'Metascore': '68', 'imdbRating': '7.5', 'imdbVotes': '783,681', 'imdbID': 'tt2911666', 'Type': 'movie', 'DVD': 'N/A', 'BoxOffice': '$43,037,835', 'Production': 'N/A', 'Website': 'N/A', 'Response': 'True'}\n",
      "4\t{'Title': 'Memento', 'Year': '2000', 'Rated': 'R', 'Released': '25 May 2001', 'Runtime': '113 min', 'Genre': 'Drama, Mystery, Thriller', 'Director': 'Christopher Nolan', 'Writer': 'Christopher Nolan, Jonathan Nolan', 'Actors': 'Guy Pearce, Carrie-Anne Moss, Joe Pantoliano', 'Plot': \"A former insurance investigator who now suffers from anterograde amnesia uses notes and tattoos to hunt down his wife's murderer.\", 'Language': 'English', 'Country': 'United States', 'Awards': 'Nominated for 2 Oscars. 57 wins & 59 nominations total', 'Poster': 'https://m.media-amazon.com/images/M/MV5BYmQ3MjliNjAtNWFiZS00YWI1LTlmZTktMzBiNDE1NjRhZjU0XkEyXkFqcGc@._V1_SX300.jpg', 'Ratings': [{'Source': 'Internet Movie Database', 'Value': '8.4/10'}, {'Source': 'Rotten Tomatoes', 'Value': '94%'}, {'Source': 'Metacritic', 'Value': '83/100'}], 'Metascore': '83', 'imdbRating': '8.4', 'imdbVotes': '1,389,289', 'imdbID': 'tt0209144', 'Type': 'movie', 'DVD': 'N/A', 'BoxOffice': '$25,544,867', 'Production': 'N/A', 'Website': 'N/A', 'Response': 'True'}\n",
      "5\t{'Title': 'Bicycle Thieves', 'Year': '1948', 'Rated': 'Not Rated', 'Released': '13 Dec 1949', 'Runtime': '89 min', 'Genre': 'Drama', 'Director': 'Vittorio De Sica', 'Writer': 'Cesare Zavattini, Luigi Bartolini, Oreste Biancoli', 'Actors': 'Lamberto Maggiorani, Enzo Staiola, Lianella Carell', 'Plot': \"In post-war Italy, a working-class man's bicycle is stolen, endangering his efforts to find work. He and his son set out to find it.\", 'Language': 'Italian, German', 'Country': 'Italy', 'Awards': 'Nominated for 1 Oscar. 18 wins & 1 nomination total', 'Poster': 'https://m.media-amazon.com/images/M/MV5BMjIzMzAyMzg1Nl5BMl5BanBnXkFtZTgwMzMyNzk0MTE@._V1_SX300.jpg', 'Ratings': [{'Source': 'Internet Movie Database', 'Value': '8.2/10'}, {'Source': 'Rotten Tomatoes', 'Value': '99%'}], 'Metascore': 'N/A', 'imdbRating': '8.2', 'imdbVotes': '185,984', 'imdbID': 'tt0040522', 'Type': 'movie', 'DVD': 'N/A', 'BoxOffice': '$371,111', 'Production': 'N/A', 'Website': 'N/A', 'Response': 'True'}\n",
      "6\t{'Title': 'Rushmore', 'Year': '1998', 'Rated': 'R', 'Released': '19 Feb 1999', 'Runtime': '93 min', 'Genre': 'Comedy, Drama, Romance', 'Director': 'Wes Anderson', 'Writer': 'Wes Anderson, Owen Wilson', 'Actors': 'Jason Schwartzman, Bill Murray, Olivia Williams', 'Plot': 'A teenager at Rushmore Academy falls for a much older teacher and befriends a middle-aged industrialist. Later, he finds out that his love interest and his friend are having an affair, which prompts him to begin a vendetta.', 'Language': 'English, Spanish, Latin, French', 'Country': 'United States', 'Awards': '16 wins & 16 nominations total', 'Poster': 'https://m.media-amazon.com/images/M/MV5BZmM2MTNhYWItMDc4Yi00MTM3LWI3YTctYjE1NWRjNTczYjI5XkEyXkFqcGc@._V1_SX300.jpg', 'Ratings': [{'Source': 'Internet Movie Database', 'Value': '7.6/10'}, {'Source': 'Rotten Tomatoes', 'Value': '90%'}, {'Source': 'Metacritic', 'Value': '87/100'}], 'Metascore': '87', 'imdbRating': '7.6', 'imdbVotes': '201,410', 'imdbID': 'tt0128445', 'Type': 'movie', 'DVD': 'N/A', 'BoxOffice': '$17,105,219', 'Production': 'N/A', 'Website': 'N/A', 'Response': 'True'}\n",
      "7\t{'Title': 'Blade Runner', 'Year': '1982', 'Rated': 'R', 'Released': '25 Jun 1982', 'Runtime': '117 min', 'Genre': 'Action, Drama, Sci-Fi', 'Director': 'Ridley Scott', 'Writer': 'Hampton Fancher, David Webb Peoples, Philip K. Dick', 'Actors': 'Harrison Ford, Rutger Hauer, Sean Young', 'Plot': 'A blade runner must pursue and terminate four replicants who stole a ship in space and have returned to Earth to find their creator.', 'Language': 'English, German, Cantonese, Japanese, Hungarian, Arabic, Korean', 'Country': 'United States, United Kingdom', 'Awards': 'Nominated for 2 Oscars. 13 wins & 22 nominations total', 'Poster': 'https://m.media-amazon.com/images/M/MV5BOWQ4YTBmNTQtMDYxMC00NGFjLTkwOGQtNzdhNmY1Nzc1MzUxXkEyXkFqcGc@._V1_SX300.jpg', 'Ratings': [{'Source': 'Internet Movie Database', 'Value': '8.1/10'}, {'Source': 'Rotten Tomatoes', 'Value': '89%'}, {'Source': 'Metacritic', 'Value': '84/100'}], 'Metascore': '84', 'imdbRating': '8.1', 'imdbVotes': '858,617', 'imdbID': 'tt0083658', 'Type': 'movie', 'DVD': 'N/A', 'BoxOffice': '$32,914,489', 'Production': 'N/A', 'Website': 'N/A', 'Response': 'True'}\n",
      "8\t{'Title': 'The Shining', 'Year': '1980', 'Rated': 'R', 'Released': '13 Jun 1980', 'Runtime': '146 min', 'Genre': 'Drama, Horror', 'Director': 'Stanley Kubrick', 'Writer': 'Stephen King, Stanley Kubrick, Diane Johnson', 'Actors': 'Jack Nicholson, Shelley Duvall, Danny Lloyd', 'Plot': 'A family heads to an isolated hotel for the winter, where a sinister presence influences the father into violence. At the same time, his psychic son sees horrifying forebodings from both the past and the future.', 'Language': 'English', 'Country': 'United Kingdom, United States', 'Awards': '6 wins & 9 nominations total', 'Poster': 'https://m.media-amazon.com/images/M/MV5BNmM5ZThhY2ItOGRjOS00NzZiLWEwYTItNDgyMjFkOTgxMmRiXkEyXkFqcGc@._V1_SX300.jpg', 'Ratings': [{'Source': 'Internet Movie Database', 'Value': '8.4/10'}, {'Source': 'Rotten Tomatoes', 'Value': '83%'}, {'Source': 'Metacritic', 'Value': '68/100'}], 'Metascore': '68', 'imdbRating': '8.4', 'imdbVotes': '1,175,569', 'imdbID': 'tt0081505', 'Type': 'movie', 'DVD': 'N/A', 'BoxOffice': '$45,634,352', 'Production': 'N/A', 'Website': 'N/A', 'Response': 'True'}\n",
      "9\t{'Title': 'Leon: The Professional (1994)', 'Year': '1994', 'Rated': 'N/A', 'Released': '03 May 2022', 'Runtime': '104 min', 'Genre': 'Talk-Show', 'Director': 'N/A', 'Writer': 'N/A', 'Actors': 'Colin Boyd, Dave Harris, Marcus Kazmierczak', 'Plot': 'N/A', 'Language': 'N/A', 'Country': 'N/A', 'Awards': 'N/A', 'Poster': 'N/A', 'Ratings': [], 'Metascore': 'N/A', 'imdbRating': 'N/A', 'imdbVotes': 'N/A', 'imdbID': 'tt20236092', 'Type': 'movie', 'DVD': 'N/A', 'BoxOffice': 'N/A', 'Production': 'N/A', 'Website': 'N/A', 'Response': 'True'}\n",
      "10\t{'Title': 'True Romance', 'Year': '1993', 'Rated': 'R', 'Released': '10 Sep 1993', 'Runtime': '119 min', 'Genre': 'Crime, Drama, Romance', 'Director': 'Tony Scott', 'Writer': 'Quentin Tarantino, Roger Avary', 'Actors': 'Christian Slater, Patricia Arquette, Dennis Hopper', 'Plot': \"In Detroit, a pop-culture enthusiast steals cocaine from his new wife's pimp and tries to sell it in Hollywood, prompting the mobsters who own the drugs to pursue the couple.\", 'Language': 'English, Italian', 'Country': 'United States, France', 'Awards': '1 win & 10 nominations total', 'Poster': 'https://m.media-amazon.com/images/M/MV5BYzQ5OGMwMDAtMzcyOS00YTA4LWEwM2MtOTA1MDZjZGEyYmI1XkEyXkFqcGc@._V1_SX300.jpg', 'Ratings': [{'Source': 'Internet Movie Database', 'Value': '7.9/10'}, {'Source': 'Rotten Tomatoes', 'Value': '93%'}, {'Source': 'Metacritic', 'Value': '59/100'}], 'Metascore': '59', 'imdbRating': '7.9', 'imdbVotes': '254,076', 'imdbID': 'tt0108399', 'Type': 'movie', 'DVD': 'N/A', 'BoxOffice': '$12,281,551', 'Production': 'N/A', 'Website': 'N/A', 'Response': 'True'}\n",
      "11\t{'Title': 'Four Rooms', 'Year': '1995', 'Rated': 'R', 'Released': '25 Dec 1995', 'Runtime': '98 min', 'Genre': 'Comedy', 'Director': 'Allison Anders, Alexandre Rockwell, Robert Rodriguez', 'Writer': 'Allison Anders, Alexandre Rockwell, Robert Rodriguez', 'Actors': 'Tim Roth, Antonio Banderas, Sammi Davis', 'Plot': \"Four interlocking tales that take place in a fading hotel on New Year's Eve.\", 'Language': 'English', 'Country': 'United States', 'Awards': '1 win & 1 nomination total', 'Poster': 'https://m.media-amazon.com/images/M/MV5BMmNlMjE5YTEtZTU1My00MDc1LTgwNzctNTZlYmJmNTM3ZjYzXkEyXkFqcGc@._V1_SX300.jpg', 'Ratings': [{'Source': 'Internet Movie Database', 'Value': '6.7/10'}, {'Source': 'Rotten Tomatoes', 'Value': '13%'}], 'Metascore': 'N/A', 'imdbRating': '6.7', 'imdbVotes': '114,641', 'imdbID': 'tt0113101', 'Type': 'movie', 'DVD': 'N/A', 'BoxOffice': '$4,257,354', 'Production': 'N/A', 'Website': 'N/A', 'Response': 'True'}\n"
     ]
    }
   ],
   "source": [
    "for i, (key, val) in enumerate(result_dict.items()):\n",
    "    print(f\"{key}\\t{val}\")\n",
    "    if i > 9:\n",
    "        break"
   ]
  },
  {
   "cell_type": "code",
   "execution_count": 50,
   "id": "29452996",
   "metadata": {},
   "outputs": [],
   "source": [
    "creds = []\n",
    "indexes = result_dict.keys()\n",
    "for key in indexes:\n",
    "    creds.append(result_dict[key])"
   ]
  },
  {
   "cell_type": "code",
   "execution_count": null,
   "id": "2eac404b",
   "metadata": {},
   "outputs": [
    {
     "data": {
      "text/html": [
       "<div><style>\n",
       ".dataframe > thead > tr,\n",
       ".dataframe > tbody > tr {\n",
       "  text-align: right;\n",
       "  white-space: pre-wrap;\n",
       "}\n",
       "</style>\n",
       "<small>shape: (5, 2)</small><table border=\"1\" class=\"dataframe\"><thead><tr><th>index</th><th>creds</th></tr><tr><td>i64</td><td>struct[25]</td></tr></thead><tbody><tr><td>536</td><td>{null,null,null,null,null,null,null,null,null,null,null,null,null,null,null,null,null,null,null,null,null,null,null,null,null}</td></tr><tr><td>167</td><td>{&quot;There Will Be Blood&quot;,&quot;2007&quot;,&quot;R&quot;,&quot;25 Jan 2008&quot;,&quot;158 min&quot;,&quot;Drama&quot;,&quot;Paul Thomas Anderson&quot;,&quot;Paul Thomas Anderson, Upton Sinclair&quot;,&quot;Daniel Day-Lewis, Paul Dano, Ciarán Hinds&quot;,&quot;A story of family, religion, hatred, oil and madness, focusing on a turn-of-the-century prospector in the early days of the business.&quot;,&quot;English, American Sign &quot;,&quot;United States&quot;,&quot;Won 2 Oscars. 114 wins &amp; 138 nominations total&quot;,&quot;https://m.media-amazon.com/images/M/MV5BMjAxODQ4MDU5NV5BMl5BanBnXkFtZTcwMDU4MjU1MQ@@._V1_SX300.jpg&quot;,[{&quot;Internet Movie Database&quot;,&quot;8.2/10&quot;}, {&quot;Rotten Tomatoes&quot;,&quot;91%&quot;}, {&quot;Metacritic&quot;,&quot;93/100&quot;}],&quot;93&quot;,&quot;8.2&quot;,&quot;674,063&quot;,&quot;tt0469494&quot;,&quot;movie&quot;,&quot;N/A&quot;,&quot;$40,222,514&quot;,&quot;N/A&quot;,&quot;N/A&quot;,&quot;True&quot;}</td></tr><tr><td>290</td><td>{&quot;Blue Velvet&quot;,&quot;1986&quot;,&quot;R&quot;,&quot;23 Oct 1986&quot;,&quot;120 min&quot;,&quot;Crime, Drama, Mystery&quot;,&quot;David Lynch&quot;,&quot;David Lynch&quot;,&quot;Isabella Rossellini, Kyle MacLachlan, Dennis Hopper&quot;,&quot;The discovery of a severed human ear found in a field leads a young man on an investigation related to a beautiful, mysterious nightclub singer and a group of psychopathic criminals who have kidnapped her child.&quot;,&quot;English&quot;,&quot;United States&quot;,&quot;Nominated for 1 Oscar. 18 wins &amp; 18 nominations total&quot;,&quot;https://m.media-amazon.com/images/M/MV5BNzkwZGUyYjQtM2QyOC00MTBjLWE0NGYtMTZmOGM5MjI0Mzg0XkEyXkFqcGc@._V1_SX300.jpg&quot;,[{&quot;Internet Movie Database&quot;,&quot;7.7/10&quot;}, {&quot;Rotten Tomatoes&quot;,&quot;91%&quot;}, {&quot;Metacritic&quot;,&quot;75/100&quot;}],&quot;75&quot;,&quot;7.7&quot;,&quot;233,096&quot;,&quot;tt0090756&quot;,&quot;movie&quot;,&quot;N/A&quot;,&quot;$8,551,228&quot;,&quot;N/A&quot;,&quot;N/A&quot;,&quot;True&quot;}</td></tr><tr><td>104</td><td>{&quot;Men in Black&quot;,&quot;1997&quot;,&quot;PG-13&quot;,&quot;02 Jul 1997&quot;,&quot;98 min&quot;,&quot;Action, Adventure, Comedy&quot;,&quot;Barry Sonnenfeld&quot;,&quot;Lowell Cunningham, Ed Solomon&quot;,&quot;Tommy Lee Jones, Will Smith, Linda Fiorentino&quot;,&quot;James, an NYC cop, is hired by Agent K of a secret government agency that monitors extraterrestrial life on Earth. Together, they must recover an item that has been stolen by an intergalactic villain.&quot;,&quot;English, Spanish&quot;,&quot;United States&quot;,&quot;Won 1 Oscar. 22 wins &amp; 39 nominations total&quot;,&quot;https://m.media-amazon.com/images/M/MV5BZmQ0YTdhYzEtMjIxZC00MGFiLTlmNjktZmFlOWE2M2QxOTRhXkEyXkFqcGc@._V1_SX300.jpg&quot;,[{&quot;Internet Movie Database&quot;,&quot;7.3/10&quot;}, {&quot;Rotten Tomatoes&quot;,&quot;91%&quot;}, {&quot;Metacritic&quot;,&quot;72/100&quot;}],&quot;72&quot;,&quot;7.3&quot;,&quot;644,209&quot;,&quot;tt0119654&quot;,&quot;movie&quot;,&quot;N/A&quot;,&quot;$250,690,539&quot;,&quot;N/A&quot;,&quot;N/A&quot;,&quot;True&quot;}</td></tr><tr><td>295</td><td>{&quot;Vertigo&quot;,&quot;1958&quot;,&quot;PG&quot;,&quot;28 May 1958&quot;,&quot;128 min&quot;,&quot;Mystery, Romance, Thriller&quot;,&quot;Alfred Hitchcock&quot;,&quot;Alec Coppel, Samuel A. Taylor, Pierre Boileau&quot;,&quot;James Stewart, Kim Novak, Barbara Bel Geddes&quot;,&quot;A former San Francisco police detective juggles wrestling with his personal demons and becoming obsessed with the hauntingly beautiful woman he has been hired to trail, who may be deeply disturbed.&quot;,&quot;English&quot;,&quot;United States&quot;,&quot;Nominated for 2 Oscars. 9 wins &amp; 8 nominations total&quot;,&quot;https://m.media-amazon.com/images/M/MV5BNzEyZTUxMWItMGVhYy00Y2NlLTljYTMtYzBmMzI1YmUyMDBkXkEyXkFqcGc@._V1_SX300.jpg&quot;,[{&quot;Internet Movie Database&quot;,&quot;8.2/10&quot;}, {&quot;Rotten Tomatoes&quot;,&quot;93%&quot;}, {&quot;Metacritic&quot;,&quot;100/100&quot;}],&quot;100&quot;,&quot;8.2&quot;,&quot;448,438&quot;,&quot;tt0052357&quot;,&quot;movie&quot;,&quot;N/A&quot;,&quot;$7,863,310&quot;,&quot;N/A&quot;,&quot;N/A&quot;,&quot;True&quot;}</td></tr></tbody></table></div>"
      ],
      "text/plain": [
       "shape: (5, 2)\n",
       "┌───────┬─────────────────────────────────┐\n",
       "│ index ┆ creds                           │\n",
       "│ ---   ┆ ---                             │\n",
       "│ i64   ┆ struct[25]                      │\n",
       "╞═══════╪═════════════════════════════════╡\n",
       "│ 536   ┆ {null,null,null,null,null,null… │\n",
       "│ 167   ┆ {\"There Will Be Blood\",\"2007\",… │\n",
       "│ 290   ┆ {\"Blue Velvet\",\"1986\",\"R\",\"23 … │\n",
       "│ 104   ┆ {\"Men in Black\",\"1997\",\"PG-13\"… │\n",
       "│ 295   ┆ {\"Vertigo\",\"1958\",\"PG\",\"28 May… │\n",
       "└───────┴─────────────────────────────────┘"
      ]
     },
     "execution_count": 52,
     "metadata": {},
     "output_type": "execute_result"
    }
   ],
   "source": [
    "parsed_films = pl.from_dict(\n",
    "    {\n",
    "        \"index\": indexes,\n",
    "        \"creds\": creds,\n",
    "    }\n",
    ")\n",
    "\n",
    "parsed_films.sample(5)"
   ]
  },
  {
   "cell_type": "code",
   "execution_count": 34,
   "id": "ba06c69c",
   "metadata": {},
   "outputs": [
    {
     "data": {
      "text/html": [
       "<div><style>\n",
       ".dataframe > thead > tr,\n",
       ".dataframe > tbody > tr {\n",
       "  text-align: right;\n",
       "  white-space: pre-wrap;\n",
       "}\n",
       "</style>\n",
       "<small>shape: (5, 15)</small><table border=\"1\" class=\"dataframe\"><thead><tr><th>index</th><th>Title</th><th>Year</th><th>Viewed</th><th>title_eng</th><th>title_translation</th><th>parsed_date</th><th>parsed_title</th><th>checked</th><th>gpt_parsed_titles</th><th>years</th><th>titles</th><th>cleaned_title</th><th>cleaned_year</th><th>ids</th></tr><tr><td>i64</td><td>str</td><td>str</td><td>str</td><td>str</td><td>str</td><td>i64</td><td>str</td><td>str</td><td>str</td><td>str</td><td>str</td><td>str</td><td>i64</td><td>str</td></tr></thead><tbody><tr><td>1</td><td>&quot;Действуй сестра&quot;</td><td>null</td><td>null</td><td>&quot;Not found&quot;</td><td>&quot;Act sister&quot;</td><td>null</td><td>&quot;Not found&quot;</td><td>null</td><td>&quot;Sister Act&quot;</td><td>&quot;1992&quot;</td><td>&quot;Sister Act&quot;</td><td>&quot;Sister Act&quot;</td><td>1992</td><td>&quot;tt0105417&quot;</td></tr><tr><td>2</td><td>&quot;Summer lovers&quot;</td><td>null</td><td>null</td><td>&quot;Summer Lovers_1982_Comedy, Dra…</td><td>&quot;Summer lovers&quot;</td><td>1982</td><td>&quot;Summer Lovers&quot;</td><td>&quot;checked&quot;</td><td>&quot;Summer lovers&quot;</td><td>null</td><td>null</td><td>&quot;Summer Lovers&quot;</td><td>1982</td><td>&quot;tt0084737&quot;</td></tr><tr><td>3</td><td>&quot;Джон уик&quot;</td><td>null</td><td>null</td><td>&quot;John Wick_2014_Action, Crime, …</td><td>&quot;John Wick&quot;</td><td>2014</td><td>&quot;John Wick&quot;</td><td>&quot;checked&quot;</td><td>&quot;Джон уик&quot;</td><td>null</td><td>null</td><td>&quot;John Wick&quot;</td><td>2014</td><td>&quot;tt2911666&quot;</td></tr><tr><td>4</td><td>&quot;Помни&quot;</td><td>null</td><td>null</td><td>&quot;Remembered_2015_Short, Drama_N…</td><td>&quot;Remembered&quot;</td><td>2015</td><td>&quot;Remembered&quot;</td><td>&quot;checked&quot;</td><td>&quot;Помни&quot;</td><td>null</td><td>null</td><td>&quot;Memento&quot;</td><td>2000</td><td>&quot;tt0209144&quot;</td></tr><tr><td>5</td><td>&quot;Похитители велосипедов&quot;</td><td>null</td><td>null</td><td>&quot;Not found&quot;</td><td>&quot;Cycles of bicycles&quot;</td><td>null</td><td>&quot;Not found&quot;</td><td>null</td><td>&quot;Bicycle Thieves&quot;</td><td>&quot;1948&quot;</td><td>&quot;Bicycle Thieves&quot;</td><td>&quot;Bicycle Thieves&quot;</td><td>1948</td><td>&quot;tt0040522&quot;</td></tr></tbody></table></div>"
      ],
      "text/plain": [
       "shape: (5, 15)\n",
       "┌───────┬──────────────┬──────┬────────┬───┬──────────────┬──────────────┬─────────────┬───────────┐\n",
       "│ index ┆ Title        ┆ Year ┆ Viewed ┆ … ┆ titles       ┆ cleaned_titl ┆ cleaned_yea ┆ ids       │\n",
       "│ ---   ┆ ---          ┆ ---  ┆ ---    ┆   ┆ ---          ┆ e            ┆ r           ┆ ---       │\n",
       "│ i64   ┆ str          ┆ str  ┆ str    ┆   ┆ str          ┆ ---          ┆ ---         ┆ str       │\n",
       "│       ┆              ┆      ┆        ┆   ┆              ┆ str          ┆ i64         ┆           │\n",
       "╞═══════╪══════════════╪══════╪════════╪═══╪══════════════╪══════════════╪═════════════╪═══════════╡\n",
       "│ 1     ┆ Действуй     ┆ null ┆ null   ┆ … ┆ Sister Act   ┆ Sister Act   ┆ 1992        ┆ tt0105417 │\n",
       "│       ┆ сестра       ┆      ┆        ┆   ┆              ┆              ┆             ┆           │\n",
       "│ 2     ┆ Summer       ┆ null ┆ null   ┆ … ┆ null         ┆ Summer       ┆ 1982        ┆ tt0084737 │\n",
       "│       ┆ lovers       ┆      ┆        ┆   ┆              ┆ Lovers       ┆             ┆           │\n",
       "│ 3     ┆ Джон уик     ┆ null ┆ null   ┆ … ┆ null         ┆ John Wick    ┆ 2014        ┆ tt2911666 │\n",
       "│ 4     ┆ Помни        ┆ null ┆ null   ┆ … ┆ null         ┆ Memento      ┆ 2000        ┆ tt0209144 │\n",
       "│ 5     ┆ Похитители   ┆ null ┆ null   ┆ … ┆ Bicycle      ┆ Bicycle      ┆ 1948        ┆ tt0040522 │\n",
       "│       ┆ велосипедов  ┆      ┆        ┆   ┆ Thieves      ┆ Thieves      ┆             ┆           │\n",
       "└───────┴──────────────┴──────┴────────┴───┴──────────────┴──────────────┴─────────────┴───────────┘"
      ]
     },
     "execution_count": 34,
     "metadata": {},
     "output_type": "execute_result"
    }
   ],
   "source": [
    "movies_df.head()"
   ]
  },
  {
   "cell_type": "code",
   "execution_count": 53,
   "id": "c65a3819",
   "metadata": {},
   "outputs": [],
   "source": [
    "movies_df = movies_df.join(parsed_films, on=\"index\", how=\"left\")"
   ]
  },
  {
   "cell_type": "code",
   "execution_count": 54,
   "id": "a43b277e",
   "metadata": {},
   "outputs": [
    {
     "data": {
      "text/html": [
       "<div><style>\n",
       ".dataframe > thead > tr,\n",
       ".dataframe > tbody > tr {\n",
       "  text-align: right;\n",
       "  white-space: pre-wrap;\n",
       "}\n",
       "</style>\n",
       "<small>shape: (5, 17)</small><table border=\"1\" class=\"dataframe\"><thead><tr><th>index</th><th>Title</th><th>Year</th><th>Viewed</th><th>title_eng</th><th>title_translation</th><th>parsed_date</th><th>parsed_title</th><th>checked</th><th>gpt_parsed_titles</th><th>years</th><th>titles</th><th>cleaned_title</th><th>cleaned_year</th><th>ids</th><th>creds</th><th>creds_right</th></tr><tr><td>i64</td><td>str</td><td>str</td><td>str</td><td>str</td><td>str</td><td>i64</td><td>str</td><td>str</td><td>str</td><td>str</td><td>str</td><td>str</td><td>i64</td><td>str</td><td>struct[25]</td><td>struct[25]</td></tr></thead><tbody><tr><td>1</td><td>&quot;Действуй сестра&quot;</td><td>null</td><td>null</td><td>&quot;Not found&quot;</td><td>&quot;Act sister&quot;</td><td>null</td><td>&quot;Not found&quot;</td><td>null</td><td>&quot;Sister Act&quot;</td><td>&quot;1992&quot;</td><td>&quot;Sister Act&quot;</td><td>&quot;Sister Act&quot;</td><td>1992</td><td>&quot;tt0105417&quot;</td><td>{&quot;Sister Act&quot;,&quot;1992&quot;,&quot;PG&quot;,&quot;29 May 1992&quot;,&quot;100 min&quot;,&quot;Comedy, Family, Music&quot;,&quot;Emile Ardolino&quot;,&quot;Paul Rudnick&quot;,&quot;Whoopi Goldberg, Maggie Smith, Harvey Keitel&quot;,&quot;When a nightclub singer is forced to take refuge from the mob in a convent, she ends up turning the convent choir into a soulful chorus complete with a Motown repertoire, until the sudden celebrity of the choir jeopardizes her ide...&quot;,&quot;English&quot;,&quot;United States&quot;,&quot;9 wins &amp; 10 nominations total&quot;,&quot;https://m.media-amazon.com/images/M/MV5BMjIzOTU0ODItMzcyMi00YzFjLTk3MzktNTQ2YjZmN2E0NTBkXkEyXkFqcGc@._V1_SX300.jpg&quot;,[{&quot;Internet Movie Database&quot;,&quot;6.5/10&quot;}, {&quot;Rotten Tomatoes&quot;,&quot;73%&quot;}, {&quot;Metacritic&quot;,&quot;51/100&quot;}],&quot;51&quot;,&quot;6.5&quot;,&quot;113,562&quot;,&quot;tt0105417&quot;,&quot;movie&quot;,&quot;N/A&quot;,&quot;$139,605,150&quot;,&quot;N/A&quot;,&quot;N/A&quot;,&quot;True&quot;}</td><td>{&quot;Sister Act&quot;,&quot;1992&quot;,&quot;PG&quot;,&quot;29 May 1992&quot;,&quot;100 min&quot;,&quot;Comedy, Family, Music&quot;,&quot;Emile Ardolino&quot;,&quot;Paul Rudnick&quot;,&quot;Whoopi Goldberg, Maggie Smith, Harvey Keitel&quot;,&quot;When a nightclub singer is forced to take refuge from the mob in a convent, she ends up turning the convent choir into a soulful chorus complete with a Motown repertoire, until the sudden celebrity of the choir jeopardizes her ide...&quot;,&quot;English&quot;,&quot;United States&quot;,&quot;9 wins &amp; 10 nominations total&quot;,&quot;https://m.media-amazon.com/images/M/MV5BMjIzOTU0ODItMzcyMi00YzFjLTk3MzktNTQ2YjZmN2E0NTBkXkEyXkFqcGc@._V1_SX300.jpg&quot;,[{&quot;Internet Movie Database&quot;,&quot;6.5/10&quot;}, {&quot;Rotten Tomatoes&quot;,&quot;73%&quot;}, {&quot;Metacritic&quot;,&quot;51/100&quot;}],&quot;51&quot;,&quot;6.5&quot;,&quot;113,562&quot;,&quot;tt0105417&quot;,&quot;movie&quot;,&quot;N/A&quot;,&quot;$139,605,150&quot;,&quot;N/A&quot;,&quot;N/A&quot;,&quot;True&quot;}</td></tr><tr><td>2</td><td>&quot;Summer lovers&quot;</td><td>null</td><td>null</td><td>&quot;Summer Lovers_1982_Comedy, Dra…</td><td>&quot;Summer lovers&quot;</td><td>1982</td><td>&quot;Summer Lovers&quot;</td><td>&quot;checked&quot;</td><td>&quot;Summer lovers&quot;</td><td>null</td><td>null</td><td>&quot;Summer Lovers&quot;</td><td>1982</td><td>&quot;tt0084737&quot;</td><td>{&quot;Summer Lovers&quot;,&quot;1982&quot;,&quot;R&quot;,&quot;16 Jul 1982&quot;,&quot;98 min&quot;,&quot;Comedy, Drama, Romance&quot;,&quot;Randal Kleiser&quot;,&quot;Randal Kleiser&quot;,&quot;Peter Gallagher, Daryl Hannah, Valérie Quennessen&quot;,&quot;A young American couple and a French woman engage in a threesome in the Greek Islands.&quot;,&quot;English&quot;,&quot;United States&quot;,&quot;N/A&quot;,&quot;https://m.media-amazon.com/images/M/MV5BMTYxNjk0Mjg1NF5BMl5BanBnXkFtZTcwNzAyMTM3NA@@._V1_SX300.jpg&quot;,[{&quot;Internet Movie Database&quot;,&quot;5.8/10&quot;}, {&quot;Rotten Tomatoes&quot;,&quot;25%&quot;}],&quot;N/A&quot;,&quot;5.8&quot;,&quot;4,687&quot;,&quot;tt0084737&quot;,&quot;movie&quot;,&quot;N/A&quot;,&quot;$4,968,000&quot;,&quot;N/A&quot;,&quot;N/A&quot;,&quot;True&quot;}</td><td>{&quot;Summer Lovers&quot;,&quot;1982&quot;,&quot;R&quot;,&quot;16 Jul 1982&quot;,&quot;98 min&quot;,&quot;Comedy, Drama, Romance&quot;,&quot;Randal Kleiser&quot;,&quot;Randal Kleiser&quot;,&quot;Peter Gallagher, Daryl Hannah, Valérie Quennessen&quot;,&quot;A young American couple and a French woman engage in a threesome in the Greek Islands.&quot;,&quot;English&quot;,&quot;United States&quot;,&quot;N/A&quot;,&quot;https://m.media-amazon.com/images/M/MV5BMTYxNjk0Mjg1NF5BMl5BanBnXkFtZTcwNzAyMTM3NA@@._V1_SX300.jpg&quot;,[{&quot;Internet Movie Database&quot;,&quot;5.8/10&quot;}, {&quot;Rotten Tomatoes&quot;,&quot;25%&quot;}],&quot;N/A&quot;,&quot;5.8&quot;,&quot;4,687&quot;,&quot;tt0084737&quot;,&quot;movie&quot;,&quot;N/A&quot;,&quot;$4,968,000&quot;,&quot;N/A&quot;,&quot;N/A&quot;,&quot;True&quot;}</td></tr><tr><td>3</td><td>&quot;Джон уик&quot;</td><td>null</td><td>null</td><td>&quot;John Wick_2014_Action, Crime, …</td><td>&quot;John Wick&quot;</td><td>2014</td><td>&quot;John Wick&quot;</td><td>&quot;checked&quot;</td><td>&quot;Джон уик&quot;</td><td>null</td><td>null</td><td>&quot;John Wick&quot;</td><td>2014</td><td>&quot;tt2911666&quot;</td><td>{&quot;John Wick&quot;,&quot;2014&quot;,&quot;R&quot;,&quot;24 Oct 2014&quot;,&quot;101 min&quot;,&quot;Action, Crime, Thriller&quot;,&quot;Chad Stahelski&quot;,&quot;Derek Kolstad&quot;,&quot;Keanu Reeves, Michael Nyqvist, Alfie Allen&quot;,&quot;John Wick is a former hitman grieving the loss of his true love. When his home is broken into, robbed, and his dog killed, he is forced to return to action to exact revenge.&quot;,&quot;English, Russian, Hungarian&quot;,&quot;United States&quot;,&quot;5 wins &amp; 10 nominations total&quot;,&quot;https://m.media-amazon.com/images/M/MV5BMTU2NjA1ODgzMF5BMl5BanBnXkFtZTgwMTM2MTI4MjE@._V1_SX300.jpg&quot;,[{&quot;Internet Movie Database&quot;,&quot;7.5/10&quot;}, {&quot;Rotten Tomatoes&quot;,&quot;86%&quot;}, {&quot;Metacritic&quot;,&quot;68/100&quot;}],&quot;68&quot;,&quot;7.5&quot;,&quot;783,681&quot;,&quot;tt2911666&quot;,&quot;movie&quot;,&quot;N/A&quot;,&quot;$43,037,835&quot;,&quot;N/A&quot;,&quot;N/A&quot;,&quot;True&quot;}</td><td>{&quot;John Wick&quot;,&quot;2014&quot;,&quot;R&quot;,&quot;24 Oct 2014&quot;,&quot;101 min&quot;,&quot;Action, Crime, Thriller&quot;,&quot;Chad Stahelski&quot;,&quot;Derek Kolstad&quot;,&quot;Keanu Reeves, Michael Nyqvist, Alfie Allen&quot;,&quot;John Wick is a former hitman grieving the loss of his true love. When his home is broken into, robbed, and his dog killed, he is forced to return to action to exact revenge.&quot;,&quot;English, Russian, Hungarian&quot;,&quot;United States&quot;,&quot;5 wins &amp; 10 nominations total&quot;,&quot;https://m.media-amazon.com/images/M/MV5BMTU2NjA1ODgzMF5BMl5BanBnXkFtZTgwMTM2MTI4MjE@._V1_SX300.jpg&quot;,[{&quot;Internet Movie Database&quot;,&quot;7.5/10&quot;}, {&quot;Rotten Tomatoes&quot;,&quot;86%&quot;}, {&quot;Metacritic&quot;,&quot;68/100&quot;}],&quot;68&quot;,&quot;7.5&quot;,&quot;783,681&quot;,&quot;tt2911666&quot;,&quot;movie&quot;,&quot;N/A&quot;,&quot;$43,037,835&quot;,&quot;N/A&quot;,&quot;N/A&quot;,&quot;True&quot;}</td></tr><tr><td>4</td><td>&quot;Помни&quot;</td><td>null</td><td>null</td><td>&quot;Remembered_2015_Short, Drama_N…</td><td>&quot;Remembered&quot;</td><td>2015</td><td>&quot;Remembered&quot;</td><td>&quot;checked&quot;</td><td>&quot;Помни&quot;</td><td>null</td><td>null</td><td>&quot;Memento&quot;</td><td>2000</td><td>&quot;tt0209144&quot;</td><td>{&quot;Memento&quot;,&quot;2000&quot;,&quot;R&quot;,&quot;25 May 2001&quot;,&quot;113 min&quot;,&quot;Drama, Mystery, Thriller&quot;,&quot;Christopher Nolan&quot;,&quot;Christopher Nolan, Jonathan Nolan&quot;,&quot;Guy Pearce, Carrie-Anne Moss, Joe Pantoliano&quot;,&quot;A former insurance investigator who now suffers from anterograde amnesia uses notes and tattoos to hunt down his wife&#x27;s murderer.&quot;,&quot;English&quot;,&quot;United States&quot;,&quot;Nominated for 2 Oscars. 57 wins &amp; 59 nominations total&quot;,&quot;https://m.media-amazon.com/images/M/MV5BYmQ3MjliNjAtNWFiZS00YWI1LTlmZTktMzBiNDE1NjRhZjU0XkEyXkFqcGc@._V1_SX300.jpg&quot;,[{&quot;Internet Movie Database&quot;,&quot;8.4/10&quot;}, {&quot;Rotten Tomatoes&quot;,&quot;94%&quot;}, {&quot;Metacritic&quot;,&quot;83/100&quot;}],&quot;83&quot;,&quot;8.4&quot;,&quot;1,389,289&quot;,&quot;tt0209144&quot;,&quot;movie&quot;,&quot;N/A&quot;,&quot;$25,544,867&quot;,&quot;N/A&quot;,&quot;N/A&quot;,&quot;True&quot;}</td><td>{&quot;Memento&quot;,&quot;2000&quot;,&quot;R&quot;,&quot;25 May 2001&quot;,&quot;113 min&quot;,&quot;Drama, Mystery, Thriller&quot;,&quot;Christopher Nolan&quot;,&quot;Christopher Nolan, Jonathan Nolan&quot;,&quot;Guy Pearce, Carrie-Anne Moss, Joe Pantoliano&quot;,&quot;A former insurance investigator who now suffers from anterograde amnesia uses notes and tattoos to hunt down his wife&#x27;s murderer.&quot;,&quot;English&quot;,&quot;United States&quot;,&quot;Nominated for 2 Oscars. 57 wins &amp; 59 nominations total&quot;,&quot;https://m.media-amazon.com/images/M/MV5BYmQ3MjliNjAtNWFiZS00YWI1LTlmZTktMzBiNDE1NjRhZjU0XkEyXkFqcGc@._V1_SX300.jpg&quot;,[{&quot;Internet Movie Database&quot;,&quot;8.4/10&quot;}, {&quot;Rotten Tomatoes&quot;,&quot;94%&quot;}, {&quot;Metacritic&quot;,&quot;83/100&quot;}],&quot;83&quot;,&quot;8.4&quot;,&quot;1,389,289&quot;,&quot;tt0209144&quot;,&quot;movie&quot;,&quot;N/A&quot;,&quot;$25,544,867&quot;,&quot;N/A&quot;,&quot;N/A&quot;,&quot;True&quot;}</td></tr><tr><td>5</td><td>&quot;Похитители велосипедов&quot;</td><td>null</td><td>null</td><td>&quot;Not found&quot;</td><td>&quot;Cycles of bicycles&quot;</td><td>null</td><td>&quot;Not found&quot;</td><td>null</td><td>&quot;Bicycle Thieves&quot;</td><td>&quot;1948&quot;</td><td>&quot;Bicycle Thieves&quot;</td><td>&quot;Bicycle Thieves&quot;</td><td>1948</td><td>&quot;tt0040522&quot;</td><td>{&quot;Bicycle Thieves&quot;,&quot;1948&quot;,&quot;Not Rated&quot;,&quot;13 Dec 1949&quot;,&quot;89 min&quot;,&quot;Drama&quot;,&quot;Vittorio De Sica&quot;,&quot;Cesare Zavattini, Luigi Bartolini, Oreste Biancoli&quot;,&quot;Lamberto Maggiorani, Enzo Staiola, Lianella Carell&quot;,&quot;In post-war Italy, a working-class man&#x27;s bicycle is stolen, endangering his efforts to find work. He and his son set out to find it.&quot;,&quot;Italian, German&quot;,&quot;Italy&quot;,&quot;Nominated for 1 Oscar. 18 wins &amp; 1 nomination total&quot;,&quot;https://m.media-amazon.com/images/M/MV5BMjIzMzAyMzg1Nl5BMl5BanBnXkFtZTgwMzMyNzk0MTE@._V1_SX300.jpg&quot;,[{&quot;Internet Movie Database&quot;,&quot;8.2/10&quot;}, {&quot;Rotten Tomatoes&quot;,&quot;99%&quot;}],&quot;N/A&quot;,&quot;8.2&quot;,&quot;185,984&quot;,&quot;tt0040522&quot;,&quot;movie&quot;,&quot;N/A&quot;,&quot;$371,111&quot;,&quot;N/A&quot;,&quot;N/A&quot;,&quot;True&quot;}</td><td>{&quot;Bicycle Thieves&quot;,&quot;1948&quot;,&quot;Not Rated&quot;,&quot;13 Dec 1949&quot;,&quot;89 min&quot;,&quot;Drama&quot;,&quot;Vittorio De Sica&quot;,&quot;Cesare Zavattini, Luigi Bartolini, Oreste Biancoli&quot;,&quot;Lamberto Maggiorani, Enzo Staiola, Lianella Carell&quot;,&quot;In post-war Italy, a working-class man&#x27;s bicycle is stolen, endangering his efforts to find work. He and his son set out to find it.&quot;,&quot;Italian, German&quot;,&quot;Italy&quot;,&quot;Nominated for 1 Oscar. 18 wins &amp; 1 nomination total&quot;,&quot;https://m.media-amazon.com/images/M/MV5BMjIzMzAyMzg1Nl5BMl5BanBnXkFtZTgwMzMyNzk0MTE@._V1_SX300.jpg&quot;,[{&quot;Internet Movie Database&quot;,&quot;8.2/10&quot;}, {&quot;Rotten Tomatoes&quot;,&quot;99%&quot;}],&quot;N/A&quot;,&quot;8.2&quot;,&quot;185,984&quot;,&quot;tt0040522&quot;,&quot;movie&quot;,&quot;N/A&quot;,&quot;$371,111&quot;,&quot;N/A&quot;,&quot;N/A&quot;,&quot;True&quot;}</td></tr></tbody></table></div>"
      ],
      "text/plain": [
       "shape: (5, 17)\n",
       "┌───────┬──────────────┬──────┬────────┬───┬──────────────┬───────────┬──────────────┬─────────────┐\n",
       "│ index ┆ Title        ┆ Year ┆ Viewed ┆ … ┆ cleaned_year ┆ ids       ┆ creds        ┆ creds_right │\n",
       "│ ---   ┆ ---          ┆ ---  ┆ ---    ┆   ┆ ---          ┆ ---       ┆ ---          ┆ ---         │\n",
       "│ i64   ┆ str          ┆ str  ┆ str    ┆   ┆ i64          ┆ str       ┆ struct[25]   ┆ struct[25]  │\n",
       "╞═══════╪══════════════╪══════╪════════╪═══╪══════════════╪═══════════╪══════════════╪═════════════╡\n",
       "│ 1     ┆ Действуй     ┆ null ┆ null   ┆ … ┆ 1992         ┆ tt0105417 ┆ {\"Sister Act ┆ {\"Sister    │\n",
       "│       ┆ сестра       ┆      ┆        ┆   ┆              ┆           ┆ \",\"1992\",\"PG ┆ Act\",\"1992\" │\n",
       "│       ┆              ┆      ┆        ┆   ┆              ┆           ┆ \",\"29 …      ┆ ,\"PG\",\"29 … │\n",
       "│ 2     ┆ Summer       ┆ null ┆ null   ┆ … ┆ 1982         ┆ tt0084737 ┆ {\"Summer Lov ┆ {\"Summer    │\n",
       "│       ┆ lovers       ┆      ┆        ┆   ┆              ┆           ┆ ers\",\"1982\", ┆ Lovers\",\"19 │\n",
       "│       ┆              ┆      ┆        ┆   ┆              ┆           ┆ \"R\",\"1…      ┆ 82\",\"R\",\"1… │\n",
       "│ 3     ┆ Джон уик     ┆ null ┆ null   ┆ … ┆ 2014         ┆ tt2911666 ┆ {\"John Wick\" ┆ {\"John Wick │\n",
       "│       ┆              ┆      ┆        ┆   ┆              ┆           ┆ ,\"2014\",\"R\", ┆ \",\"2014\",\"R │\n",
       "│       ┆              ┆      ┆        ┆   ┆              ┆           ┆ \"24 Oc…      ┆ \",\"24 Oc…   │\n",
       "│ 4     ┆ Помни        ┆ null ┆ null   ┆ … ┆ 2000         ┆ tt0209144 ┆ {\"Memento\",\" ┆ {\"Memento\", │\n",
       "│       ┆              ┆      ┆        ┆   ┆              ┆           ┆ 2000\",\"R\",\"2 ┆ \"2000\",\"R\", │\n",
       "│       ┆              ┆      ┆        ┆   ┆              ┆           ┆ 5 May …      ┆ \"25 May …   │\n",
       "│ 5     ┆ Похитители   ┆ null ┆ null   ┆ … ┆ 1948         ┆ tt0040522 ┆ {\"Bicycle    ┆ {\"Bicycle   │\n",
       "│       ┆ велосипедов  ┆      ┆        ┆   ┆              ┆           ┆ Thieves\",\"19 ┆ Thieves\",\"1 │\n",
       "│       ┆              ┆      ┆        ┆   ┆              ┆           ┆ 48\",\"Not…    ┆ 948\",\"Not…  │\n",
       "└───────┴──────────────┴──────┴────────┴───┴──────────────┴───────────┴──────────────┴─────────────┘"
      ]
     },
     "execution_count": 54,
     "metadata": {},
     "output_type": "execute_result"
    }
   ],
   "source": [
    "movies_df.head()"
   ]
  },
  {
   "cell_type": "code",
   "execution_count": 37,
   "id": "ddb3018e",
   "metadata": {},
   "outputs": [
    {
     "data": {
      "text/plain": [
       "{'Title': 'Sister Act',\n",
       " 'Year': '1992',\n",
       " 'Rated': 'PG',\n",
       " 'Released': '29 May 1992',\n",
       " 'Runtime': '100 min',\n",
       " 'Genre': 'Comedy, Family, Music',\n",
       " 'Director': 'Emile Ardolino',\n",
       " 'Writer': 'Paul Rudnick',\n",
       " 'Actors': 'Whoopi Goldberg, Maggie Smith, Harvey Keitel',\n",
       " 'Plot': 'When a nightclub singer is forced to take refuge from the mob in a convent, she ends up turning the convent choir into a soulful chorus complete with a Motown repertoire, until the sudden celebrity of the choir jeopardizes her ide...',\n",
       " 'Language': 'English',\n",
       " 'Country': 'United States',\n",
       " 'Awards': '9 wins & 10 nominations total',\n",
       " 'Poster': 'https://m.media-amazon.com/images/M/MV5BMjIzOTU0ODItMzcyMi00YzFjLTk3MzktNTQ2YjZmN2E0NTBkXkEyXkFqcGc@._V1_SX300.jpg',\n",
       " 'Ratings': [{'Source': 'Internet Movie Database', 'Value': '6.5/10'},\n",
       "  {'Source': 'Rotten Tomatoes', 'Value': '73%'},\n",
       "  {'Source': 'Metacritic', 'Value': '51/100'}],\n",
       " 'Metascore': '51',\n",
       " 'imdbRating': '6.5',\n",
       " 'imdbVotes': '113,562',\n",
       " 'imdbID': 'tt0105417',\n",
       " 'Type': 'movie',\n",
       " 'DVD': 'N/A',\n",
       " 'BoxOffice': '$139,605,150',\n",
       " 'Production': 'N/A',\n",
       " 'Website': 'N/A',\n",
       " 'Response': 'True'}"
      ]
     },
     "execution_count": 37,
     "metadata": {},
     "output_type": "execute_result"
    }
   ],
   "source": [
    "movies_df.head(1)[\"creds\"].item()"
   ]
  },
  {
   "cell_type": "code",
   "execution_count": 66,
   "id": "88bb86d3",
   "metadata": {},
   "outputs": [
    {
     "data": {
      "text/html": [
       "<div><style>\n",
       ".dataframe > thead > tr,\n",
       ".dataframe > tbody > tr {\n",
       "  text-align: right;\n",
       "  white-space: pre-wrap;\n",
       "}\n",
       "</style>\n",
       "<small>shape: (2, 19)</small><table border=\"1\" class=\"dataframe\"><thead><tr><th>index</th><th>Title</th><th>Year</th><th>Viewed</th><th>title_eng</th><th>title_translation</th><th>parsed_date</th><th>parsed_title</th><th>checked</th><th>gpt_parsed_titles</th><th>years</th><th>titles</th><th>cleaned_title</th><th>cleaned_year</th><th>ids</th><th>creds</th><th>creds_right</th><th>year_creds</th><th>title_creds</th></tr><tr><td>i64</td><td>str</td><td>str</td><td>str</td><td>str</td><td>str</td><td>i64</td><td>str</td><td>str</td><td>str</td><td>str</td><td>str</td><td>str</td><td>i64</td><td>str</td><td>struct[25]</td><td>struct[25]</td><td>i64</td><td>str</td></tr></thead><tbody><tr><td>181</td><td>&quot;Сыщик *&quot;</td><td>null</td><td>null</td><td>null</td><td>null</td><td>2007</td><td>&quot;Sleuth&quot;</td><td>&quot;checked&quot;</td><td>&quot;Сыщик *&quot;</td><td>null</td><td>null</td><td>&quot;Sleuth&quot;</td><td>2007</td><td>&quot;tt0069281&quot;</td><td>null</td><td>{&quot;Sleuth&quot;,&quot;1972&quot;,&quot;PG&quot;,&quot;11 Dec 1972&quot;,&quot;138 min&quot;,&quot;Mystery, Thriller&quot;,&quot;Joseph L. Mankiewicz&quot;,&quot;Anthony Shaffer&quot;,&quot;Laurence Olivier, Michael Caine, Alec Cawthorne&quot;,&quot;A man who loves games and theater invites his wife&#x27;s lover to meet him, setting up a battle of wits with potentially deadly results.&quot;,&quot;English, Italian&quot;,&quot;United Kingdom, United States&quot;,&quot;Nominated for 4 Oscars. 5 wins &amp; 11 nominations total&quot;,&quot;https://m.media-amazon.com/images/M/MV5BMDNjNzZiYWItOGY4OC00NjEwLWIxZjEtYzNiOTlmMWNkNWFkXkEyXkFqcGc@._V1_SX300.jpg&quot;,[{&quot;Internet Movie Database&quot;,&quot;7.9/10&quot;}, {&quot;Rotten Tomatoes&quot;,&quot;89%&quot;}],&quot;N/A&quot;,&quot;7.9&quot;,&quot;50,869&quot;,&quot;tt0069281&quot;,&quot;movie&quot;,&quot;N/A&quot;,&quot;$4,081,254&quot;,&quot;N/A&quot;,&quot;N/A&quot;,&quot;True&quot;}</td><td>1972</td><td>&quot;Sleuth&quot;</td></tr><tr><td>362</td><td>&quot;Сабрина *&quot;</td><td>null</td><td>null</td><td>null</td><td>null</td><td>1995</td><td>&quot;Sabrina&quot;</td><td>&quot;checked&quot;</td><td>&quot;Сабрина *&quot;</td><td>null</td><td>null</td><td>&quot;Sabrina&quot;</td><td>1995</td><td>&quot;tt0047437&quot;</td><td>null</td><td>{&quot;Sabrina&quot;,&quot;1954&quot;,&quot;Approved&quot;,&quot;15 Oct 1954&quot;,&quot;113 min&quot;,&quot;Comedy, Drama, Romance&quot;,&quot;Billy Wilder&quot;,&quot;Billy Wilder, Samuel A. Taylor, Ernest Lehman&quot;,&quot;Humphrey Bogart, Audrey Hepburn, William Holden&quot;,&quot;After her return from school in Paris, a playboy finally takes notice of his family&#x27;s chauffeur&#x27;s daughter, who&#x27;s long had a crush on him, but he questions his more serious brother&#x27;s motives when he warns against getting involved ...&quot;,&quot;English, French&quot;,&quot;United States&quot;,&quot;Won 1 Oscar. 7 wins &amp; 8 nominations total&quot;,&quot;https://m.media-amazon.com/images/M/MV5BNjQ5MWI5YWYtYzYxNi00ODM4LWI4NzEtNzUzYmVkNzRiYzNlXkEyXkFqcGc@._V1_SX300.jpg&quot;,[{&quot;Internet Movie Database&quot;,&quot;7.6/10&quot;}, {&quot;Rotten Tomatoes&quot;,&quot;89%&quot;}, {&quot;Metacritic&quot;,&quot;72/100&quot;}],&quot;72&quot;,&quot;7.6&quot;,&quot;73,444&quot;,&quot;tt0047437&quot;,&quot;movie&quot;,&quot;N/A&quot;,&quot;N/A&quot;,&quot;N/A&quot;,&quot;N/A&quot;,&quot;True&quot;}</td><td>1954</td><td>&quot;Sabrina&quot;</td></tr></tbody></table></div>"
      ],
      "text/plain": [
       "shape: (2, 19)\n",
       "┌───────┬───────────┬──────┬────────┬───┬────────────┬──────────────────┬────────────┬─────────────┐\n",
       "│ index ┆ Title     ┆ Year ┆ Viewed ┆ … ┆ creds      ┆ creds_right      ┆ year_creds ┆ title_creds │\n",
       "│ ---   ┆ ---       ┆ ---  ┆ ---    ┆   ┆ ---        ┆ ---              ┆ ---        ┆ ---         │\n",
       "│ i64   ┆ str       ┆ str  ┆ str    ┆   ┆ struct[25] ┆ struct[25]       ┆ i64        ┆ str         │\n",
       "╞═══════╪═══════════╪══════╪════════╪═══╪════════════╪══════════════════╪════════════╪═════════════╡\n",
       "│ 181   ┆ Сыщик *   ┆ null ┆ null   ┆ … ┆ null       ┆ {\"Sleuth\",\"1972\" ┆ 1972       ┆ Sleuth      │\n",
       "│       ┆           ┆      ┆        ┆   ┆            ┆ ,\"PG\",\"11 Dec …  ┆            ┆             │\n",
       "│ 362   ┆ Сабрина * ┆ null ┆ null   ┆ … ┆ null       ┆ {\"Sabrina\",\"1954 ┆ 1954       ┆ Sabrina     │\n",
       "│       ┆           ┆      ┆        ┆   ┆            ┆ \",\"Approved\",\"…  ┆            ┆             │\n",
       "└───────┴───────────┴──────┴────────┴───┴────────────┴──────────────────┴────────────┴─────────────┘"
      ]
     },
     "execution_count": 66,
     "metadata": {},
     "output_type": "execute_result"
    }
   ],
   "source": [
    "movies_df.with_columns(\n",
    "    c(\"creds_right\").struct.field(\"Year\").cast(pl.Int64).alias(\"year_creds\"),\n",
    "    c(\"creds_right\").struct.field(\"Title\").alias(\"title_creds\"),\n",
    ").filter(c(\"year_creds\") != c(\"cleaned_year\"))"
   ]
  },
  {
   "cell_type": "code",
   "execution_count": null,
   "id": "b4f7ca7f",
   "metadata": {},
   "outputs": [],
   "source": []
  },
  {
   "cell_type": "markdown",
   "id": "afb9e53a",
   "metadata": {},
   "source": [
    "## save df"
   ]
  },
  {
   "cell_type": "code",
   "execution_count": 16,
   "id": "053f97c8",
   "metadata": {},
   "outputs": [
    {
     "data": {
      "text/plain": [
       "<xlsxwriter.workbook.Workbook at 0x117647080>"
      ]
     },
     "execution_count": 16,
     "metadata": {},
     "output_type": "execute_result"
    }
   ],
   "source": [
    "file_name = \"movies_df.xlsx\"\n",
    "file_path = os.path.join(FILES_DIR, file_name)\n",
    "movies_df.write_excel(file_path)"
   ]
  }
 ],
 "metadata": {
  "kernelspec": {
   "display_name": ".venv",
   "language": "python",
   "name": "python3"
  },
  "language_info": {
   "codemirror_mode": {
    "name": "ipython",
    "version": 3
   },
   "file_extension": ".py",
   "mimetype": "text/x-python",
   "name": "python",
   "nbconvert_exporter": "python",
   "pygments_lexer": "ipython3",
   "version": "3.12.11"
  }
 },
 "nbformat": 4,
 "nbformat_minor": 5
}
