{
 "cells": [
  {
   "cell_type": "markdown",
   "id": "140ca41a",
   "metadata": {},
   "source": [
    "## imports"
   ]
  },
  {
   "cell_type": "code",
   "execution_count": 1,
   "id": "4ab6c22b",
   "metadata": {},
   "outputs": [
    {
     "data": {
      "text/plain": [
       "True"
      ]
     },
     "execution_count": 1,
     "metadata": {},
     "output_type": "execute_result"
    }
   ],
   "source": [
    "import polars as pl\n",
    "from polars import col as c\n",
    "import os, sys, requests\n",
    "from dotenv import load_dotenv, find_dotenv\n",
    "from tqdm import tqdm\n",
    "\n",
    "load_dotenv(find_dotenv())"
   ]
  },
  {
   "cell_type": "markdown",
   "id": "0a9001c4",
   "metadata": {},
   "source": [
    "## constants"
   ]
  },
  {
   "cell_type": "code",
   "execution_count": 2,
   "id": "aae1c649",
   "metadata": {},
   "outputs": [],
   "source": [
    "OMDB_API_KEY = os.getenv(\"OMDB_API_KEY\")\n",
    "FILES_DIR = \"../data\""
   ]
  },
  {
   "cell_type": "markdown",
   "id": "cc98e638",
   "metadata": {},
   "source": [
    "## load df"
   ]
  },
  {
   "cell_type": "code",
   "execution_count": 3,
   "id": "aa67e849",
   "metadata": {},
   "outputs": [
    {
     "name": "stderr",
     "output_type": "stream",
     "text": [
      "Could not determine dtype for column 2, falling back to string\n",
      "Could not determine dtype for column 3, falling back to string\n"
     ]
    }
   ],
   "source": [
    "file_name = \"movies_df.xlsx\"\n",
    "file_path = os.path.join(FILES_DIR, file_name)\n",
    "movies_df = pl.read_excel(file_path)"
   ]
  },
  {
   "cell_type": "markdown",
   "id": "f02b797a",
   "metadata": {},
   "source": [
    "## code"
   ]
  },
  {
   "cell_type": "code",
   "execution_count": 4,
   "id": "30d27824",
   "metadata": {},
   "outputs": [
    {
     "data": {
      "text/html": [
       "<div><style>\n",
       ".dataframe > thead > tr,\n",
       ".dataframe > tbody > tr {\n",
       "  text-align: right;\n",
       "  white-space: pre-wrap;\n",
       "}\n",
       "</style>\n",
       "<small>shape: (5, 14)</small><table border=\"1\" class=\"dataframe\"><thead><tr><th>index</th><th>Title</th><th>Year</th><th>Viewed</th><th>title_eng</th><th>title_translation</th><th>parsed_date</th><th>parsed_title</th><th>checked</th><th>gpt_parsed_titles</th><th>years</th><th>titles</th><th>cleaned_title</th><th>cleaned_year</th></tr><tr><td>i64</td><td>str</td><td>str</td><td>str</td><td>str</td><td>str</td><td>i64</td><td>str</td><td>str</td><td>str</td><td>str</td><td>str</td><td>str</td><td>i64</td></tr></thead><tbody><tr><td>1</td><td>&quot;Действуй сестра&quot;</td><td>null</td><td>null</td><td>&quot;Not found&quot;</td><td>&quot;Act sister&quot;</td><td>null</td><td>&quot;Not found&quot;</td><td>null</td><td>&quot;Sister Act&quot;</td><td>&quot;1992&quot;</td><td>&quot;Sister Act&quot;</td><td>&quot;Sister Act&quot;</td><td>1992</td></tr><tr><td>2</td><td>&quot;Summer lovers&quot;</td><td>null</td><td>null</td><td>&quot;Summer Lovers_1982_Comedy, Dra…</td><td>&quot;Summer lovers&quot;</td><td>1982</td><td>&quot;Summer Lovers&quot;</td><td>&quot;checked&quot;</td><td>&quot;Summer lovers&quot;</td><td>null</td><td>null</td><td>&quot;Summer Lovers&quot;</td><td>1982</td></tr><tr><td>3</td><td>&quot;Джон уик&quot;</td><td>null</td><td>null</td><td>&quot;John Wick_2014_Action, Crime, …</td><td>&quot;John Wick&quot;</td><td>2014</td><td>&quot;John Wick&quot;</td><td>&quot;checked&quot;</td><td>&quot;Джон уик&quot;</td><td>null</td><td>null</td><td>&quot;John Wick&quot;</td><td>2014</td></tr><tr><td>4</td><td>&quot;Помни&quot;</td><td>null</td><td>null</td><td>&quot;Remembered_2015_Short, Drama_N…</td><td>&quot;Remembered&quot;</td><td>2015</td><td>&quot;Remembered&quot;</td><td>&quot;checked&quot;</td><td>&quot;Помни&quot;</td><td>null</td><td>null</td><td>&quot;Remembered&quot;</td><td>2015</td></tr><tr><td>5</td><td>&quot;Похитители велосипедов&quot;</td><td>null</td><td>null</td><td>&quot;Not found&quot;</td><td>&quot;Cycles of bicycles&quot;</td><td>null</td><td>&quot;Not found&quot;</td><td>null</td><td>&quot;Bicycle Thieves&quot;</td><td>&quot;1948&quot;</td><td>&quot;Bicycle Thieves&quot;</td><td>&quot;Bicycle Thieves&quot;</td><td>1948</td></tr></tbody></table></div>"
      ],
      "text/plain": [
       "shape: (5, 14)\n",
       "┌───────┬─────────────────┬──────┬────────┬───┬───────┬────────────┬────────────────┬──────────────┐\n",
       "│ index ┆ Title           ┆ Year ┆ Viewed ┆ … ┆ years ┆ titles     ┆ cleaned_title  ┆ cleaned_year │\n",
       "│ ---   ┆ ---             ┆ ---  ┆ ---    ┆   ┆ ---   ┆ ---        ┆ ---            ┆ ---          │\n",
       "│ i64   ┆ str             ┆ str  ┆ str    ┆   ┆ str   ┆ str        ┆ str            ┆ i64          │\n",
       "╞═══════╪═════════════════╪══════╪════════╪═══╪═══════╪════════════╪════════════════╪══════════════╡\n",
       "│ 1     ┆ Действуй сестра ┆ null ┆ null   ┆ … ┆ 1992  ┆ Sister Act ┆ Sister Act     ┆ 1992         │\n",
       "│ 2     ┆ Summer lovers   ┆ null ┆ null   ┆ … ┆ null  ┆ null       ┆ Summer Lovers  ┆ 1982         │\n",
       "│ 3     ┆ Джон уик        ┆ null ┆ null   ┆ … ┆ null  ┆ null       ┆ John Wick      ┆ 2014         │\n",
       "│ 4     ┆ Помни           ┆ null ┆ null   ┆ … ┆ null  ┆ null       ┆ Remembered     ┆ 2015         │\n",
       "│ 5     ┆ Похитители      ┆ null ┆ null   ┆ … ┆ 1948  ┆ Bicycle    ┆ Bicycle        ┆ 1948         │\n",
       "│       ┆ велосипедов     ┆      ┆        ┆   ┆       ┆ Thieves    ┆ Thieves        ┆              │\n",
       "└───────┴─────────────────┴──────┴────────┴───┴───────┴────────────┴────────────────┴──────────────┘"
      ]
     },
     "execution_count": 4,
     "metadata": {},
     "output_type": "execute_result"
    }
   ],
   "source": [
    "movies_df.head()"
   ]
  },
  {
   "cell_type": "code",
   "execution_count": 5,
   "id": "e0ac54a1",
   "metadata": {},
   "outputs": [],
   "source": [
    "def fetch_english_title(title):\n",
    "    try:\n",
    "        url = f\"http://www.omdbapi.com/?apikey={OMDB_API_KEY}&i={requests.utils.quote(title)}\"  # for index search\n",
    "        url = f\"http://www.omdbapi.com/?apikey={OMDB_API_KEY}&t={requests.utils.quote(title)}\"\n",
    "        response = requests.get(url)\n",
    "        data = response.json()\n",
    "        if data.get(\"Response\") == \"True\" and \"Title\" in data:\n",
    "            return data\n",
    "        else:\n",
    "            print(f\"Not found in OMDb: {title}\")\n",
    "            return \"Not found\"\n",
    "    except Exception as e:\n",
    "        print(f\"OMDb error for {title}: {e}\")\n",
    "        return \"Not found\""
   ]
  },
  {
   "cell_type": "code",
   "execution_count": 6,
   "id": "fa29d143",
   "metadata": {},
   "outputs": [
    {
     "data": {
      "text/plain": [
       "'tt0105417'"
      ]
     },
     "execution_count": 6,
     "metadata": {},
     "output_type": "execute_result"
    }
   ],
   "source": [
    "fetch_english_title(movies_df.head(1)[\"gpt_parsed_titles\"].item())[\"imdbID\"]"
   ]
  },
  {
   "cell_type": "code",
   "execution_count": 8,
   "id": "3d347cf3",
   "metadata": {},
   "outputs": [
    {
     "name": "stderr",
     "output_type": "stream",
     "text": [
      "621it [04:07,  2.51it/s]\n"
     ]
    }
   ],
   "source": [
    "result_dict = dict()\n",
    "for row in tqdm(movies_df.iter_rows(named=True)):\n",
    "    if row[\"cleaned_year\"] is None:\n",
    "        result_dict[row[\"index\"]] = \"Not found\"\n",
    "    else:\n",
    "        omdb_result = fetch_english_title(row[\"cleaned_title\"])\n",
    "        if omdb_result != \"Not found\":\n",
    "            result_dict[row[\"index\"]] = omdb_result[\"imdbID\"]\n",
    "        else:\n",
    "            result_dict[row[\"index\"]] = \"Not found\""
   ]
  },
  {
   "cell_type": "code",
   "execution_count": 10,
   "id": "19cb7b46",
   "metadata": {},
   "outputs": [
    {
     "name": "stdout",
     "output_type": "stream",
     "text": [
      "1\ttt0105417\n",
      "2\ttt0084737\n",
      "3\ttt2911666\n",
      "4\ttt6081018\n",
      "5\ttt0040522\n",
      "6\ttt0128445\n",
      "7\ttt0083658\n",
      "8\ttt0081505\n",
      "9\ttt1623187\n",
      "10\ttt0108399\n",
      "11\ttt0113101\n"
     ]
    }
   ],
   "source": [
    "for i, (key, val) in enumerate(result_dict.items()):\n",
    "    print(f\"{key}\\t{val}\")\n",
    "    if i > 9:\n",
    "        break"
   ]
  },
  {
   "cell_type": "code",
   "execution_count": 11,
   "id": "29452996",
   "metadata": {},
   "outputs": [],
   "source": [
    "ids = []\n",
    "indexes = result_dict.keys()\n",
    "for key in indexes:\n",
    "    ids.append(result_dict[key])"
   ]
  },
  {
   "cell_type": "code",
   "execution_count": 12,
   "id": "2eac404b",
   "metadata": {},
   "outputs": [
    {
     "data": {
      "text/html": [
       "<div><style>\n",
       ".dataframe > thead > tr,\n",
       ".dataframe > tbody > tr {\n",
       "  text-align: right;\n",
       "  white-space: pre-wrap;\n",
       "}\n",
       "</style>\n",
       "<small>shape: (5, 2)</small><table border=\"1\" class=\"dataframe\"><thead><tr><th>index</th><th>ids</th></tr><tr><td>i64</td><td>str</td></tr></thead><tbody><tr><td>1</td><td>&quot;tt0105417&quot;</td></tr><tr><td>2</td><td>&quot;tt0084737&quot;</td></tr><tr><td>3</td><td>&quot;tt2911666&quot;</td></tr><tr><td>4</td><td>&quot;tt6081018&quot;</td></tr><tr><td>5</td><td>&quot;tt0040522&quot;</td></tr></tbody></table></div>"
      ],
      "text/plain": [
       "shape: (5, 2)\n",
       "┌───────┬───────────┐\n",
       "│ index ┆ ids       │\n",
       "│ ---   ┆ ---       │\n",
       "│ i64   ┆ str       │\n",
       "╞═══════╪═══════════╡\n",
       "│ 1     ┆ tt0105417 │\n",
       "│ 2     ┆ tt0084737 │\n",
       "│ 3     ┆ tt2911666 │\n",
       "│ 4     ┆ tt6081018 │\n",
       "│ 5     ┆ tt0040522 │\n",
       "└───────┴───────────┘"
      ]
     },
     "execution_count": 12,
     "metadata": {},
     "output_type": "execute_result"
    }
   ],
   "source": [
    "parsed_films = pl.from_dict(\n",
    "    {\n",
    "        \"index\": indexes,\n",
    "        \"ids\": ids,\n",
    "    }\n",
    ")\n",
    "\n",
    "parsed_films.head()"
   ]
  },
  {
   "cell_type": "code",
   "execution_count": 13,
   "id": "ba06c69c",
   "metadata": {},
   "outputs": [
    {
     "data": {
      "text/html": [
       "<div><style>\n",
       ".dataframe > thead > tr,\n",
       ".dataframe > tbody > tr {\n",
       "  text-align: right;\n",
       "  white-space: pre-wrap;\n",
       "}\n",
       "</style>\n",
       "<small>shape: (5, 14)</small><table border=\"1\" class=\"dataframe\"><thead><tr><th>index</th><th>Title</th><th>Year</th><th>Viewed</th><th>title_eng</th><th>title_translation</th><th>parsed_date</th><th>parsed_title</th><th>checked</th><th>gpt_parsed_titles</th><th>years</th><th>titles</th><th>cleaned_title</th><th>cleaned_year</th></tr><tr><td>i64</td><td>str</td><td>str</td><td>str</td><td>str</td><td>str</td><td>i64</td><td>str</td><td>str</td><td>str</td><td>str</td><td>str</td><td>str</td><td>i64</td></tr></thead><tbody><tr><td>1</td><td>&quot;Действуй сестра&quot;</td><td>null</td><td>null</td><td>&quot;Not found&quot;</td><td>&quot;Act sister&quot;</td><td>null</td><td>&quot;Not found&quot;</td><td>null</td><td>&quot;Sister Act&quot;</td><td>&quot;1992&quot;</td><td>&quot;Sister Act&quot;</td><td>&quot;Sister Act&quot;</td><td>1992</td></tr><tr><td>2</td><td>&quot;Summer lovers&quot;</td><td>null</td><td>null</td><td>&quot;Summer Lovers_1982_Comedy, Dra…</td><td>&quot;Summer lovers&quot;</td><td>1982</td><td>&quot;Summer Lovers&quot;</td><td>&quot;checked&quot;</td><td>&quot;Summer lovers&quot;</td><td>null</td><td>null</td><td>&quot;Summer Lovers&quot;</td><td>1982</td></tr><tr><td>3</td><td>&quot;Джон уик&quot;</td><td>null</td><td>null</td><td>&quot;John Wick_2014_Action, Crime, …</td><td>&quot;John Wick&quot;</td><td>2014</td><td>&quot;John Wick&quot;</td><td>&quot;checked&quot;</td><td>&quot;Джон уик&quot;</td><td>null</td><td>null</td><td>&quot;John Wick&quot;</td><td>2014</td></tr><tr><td>4</td><td>&quot;Помни&quot;</td><td>null</td><td>null</td><td>&quot;Remembered_2015_Short, Drama_N…</td><td>&quot;Remembered&quot;</td><td>2015</td><td>&quot;Remembered&quot;</td><td>&quot;checked&quot;</td><td>&quot;Помни&quot;</td><td>null</td><td>null</td><td>&quot;Remembered&quot;</td><td>2015</td></tr><tr><td>5</td><td>&quot;Похитители велосипедов&quot;</td><td>null</td><td>null</td><td>&quot;Not found&quot;</td><td>&quot;Cycles of bicycles&quot;</td><td>null</td><td>&quot;Not found&quot;</td><td>null</td><td>&quot;Bicycle Thieves&quot;</td><td>&quot;1948&quot;</td><td>&quot;Bicycle Thieves&quot;</td><td>&quot;Bicycle Thieves&quot;</td><td>1948</td></tr></tbody></table></div>"
      ],
      "text/plain": [
       "shape: (5, 14)\n",
       "┌───────┬─────────────────┬──────┬────────┬───┬───────┬────────────┬────────────────┬──────────────┐\n",
       "│ index ┆ Title           ┆ Year ┆ Viewed ┆ … ┆ years ┆ titles     ┆ cleaned_title  ┆ cleaned_year │\n",
       "│ ---   ┆ ---             ┆ ---  ┆ ---    ┆   ┆ ---   ┆ ---        ┆ ---            ┆ ---          │\n",
       "│ i64   ┆ str             ┆ str  ┆ str    ┆   ┆ str   ┆ str        ┆ str            ┆ i64          │\n",
       "╞═══════╪═════════════════╪══════╪════════╪═══╪═══════╪════════════╪════════════════╪══════════════╡\n",
       "│ 1     ┆ Действуй сестра ┆ null ┆ null   ┆ … ┆ 1992  ┆ Sister Act ┆ Sister Act     ┆ 1992         │\n",
       "│ 2     ┆ Summer lovers   ┆ null ┆ null   ┆ … ┆ null  ┆ null       ┆ Summer Lovers  ┆ 1982         │\n",
       "│ 3     ┆ Джон уик        ┆ null ┆ null   ┆ … ┆ null  ┆ null       ┆ John Wick      ┆ 2014         │\n",
       "│ 4     ┆ Помни           ┆ null ┆ null   ┆ … ┆ null  ┆ null       ┆ Remembered     ┆ 2015         │\n",
       "│ 5     ┆ Похитители      ┆ null ┆ null   ┆ … ┆ 1948  ┆ Bicycle    ┆ Bicycle        ┆ 1948         │\n",
       "│       ┆ велосипедов     ┆      ┆        ┆   ┆       ┆ Thieves    ┆ Thieves        ┆              │\n",
       "└───────┴─────────────────┴──────┴────────┴───┴───────┴────────────┴────────────────┴──────────────┘"
      ]
     },
     "execution_count": 13,
     "metadata": {},
     "output_type": "execute_result"
    }
   ],
   "source": [
    "movies_df.head()"
   ]
  },
  {
   "cell_type": "code",
   "execution_count": 14,
   "id": "c65a3819",
   "metadata": {},
   "outputs": [],
   "source": [
    "movies_df = movies_df.join(parsed_films, on=\"index\", how=\"left\")"
   ]
  },
  {
   "cell_type": "code",
   "execution_count": 15,
   "id": "a43b277e",
   "metadata": {},
   "outputs": [
    {
     "data": {
      "text/html": [
       "<div><style>\n",
       ".dataframe > thead > tr,\n",
       ".dataframe > tbody > tr {\n",
       "  text-align: right;\n",
       "  white-space: pre-wrap;\n",
       "}\n",
       "</style>\n",
       "<small>shape: (5, 15)</small><table border=\"1\" class=\"dataframe\"><thead><tr><th>index</th><th>Title</th><th>Year</th><th>Viewed</th><th>title_eng</th><th>title_translation</th><th>parsed_date</th><th>parsed_title</th><th>checked</th><th>gpt_parsed_titles</th><th>years</th><th>titles</th><th>cleaned_title</th><th>cleaned_year</th><th>ids</th></tr><tr><td>i64</td><td>str</td><td>str</td><td>str</td><td>str</td><td>str</td><td>i64</td><td>str</td><td>str</td><td>str</td><td>str</td><td>str</td><td>str</td><td>i64</td><td>str</td></tr></thead><tbody><tr><td>1</td><td>&quot;Действуй сестра&quot;</td><td>null</td><td>null</td><td>&quot;Not found&quot;</td><td>&quot;Act sister&quot;</td><td>null</td><td>&quot;Not found&quot;</td><td>null</td><td>&quot;Sister Act&quot;</td><td>&quot;1992&quot;</td><td>&quot;Sister Act&quot;</td><td>&quot;Sister Act&quot;</td><td>1992</td><td>&quot;tt0105417&quot;</td></tr><tr><td>2</td><td>&quot;Summer lovers&quot;</td><td>null</td><td>null</td><td>&quot;Summer Lovers_1982_Comedy, Dra…</td><td>&quot;Summer lovers&quot;</td><td>1982</td><td>&quot;Summer Lovers&quot;</td><td>&quot;checked&quot;</td><td>&quot;Summer lovers&quot;</td><td>null</td><td>null</td><td>&quot;Summer Lovers&quot;</td><td>1982</td><td>&quot;tt0084737&quot;</td></tr><tr><td>3</td><td>&quot;Джон уик&quot;</td><td>null</td><td>null</td><td>&quot;John Wick_2014_Action, Crime, …</td><td>&quot;John Wick&quot;</td><td>2014</td><td>&quot;John Wick&quot;</td><td>&quot;checked&quot;</td><td>&quot;Джон уик&quot;</td><td>null</td><td>null</td><td>&quot;John Wick&quot;</td><td>2014</td><td>&quot;tt2911666&quot;</td></tr><tr><td>4</td><td>&quot;Помни&quot;</td><td>null</td><td>null</td><td>&quot;Remembered_2015_Short, Drama_N…</td><td>&quot;Remembered&quot;</td><td>2015</td><td>&quot;Remembered&quot;</td><td>&quot;checked&quot;</td><td>&quot;Помни&quot;</td><td>null</td><td>null</td><td>&quot;Remembered&quot;</td><td>2015</td><td>&quot;tt6081018&quot;</td></tr><tr><td>5</td><td>&quot;Похитители велосипедов&quot;</td><td>null</td><td>null</td><td>&quot;Not found&quot;</td><td>&quot;Cycles of bicycles&quot;</td><td>null</td><td>&quot;Not found&quot;</td><td>null</td><td>&quot;Bicycle Thieves&quot;</td><td>&quot;1948&quot;</td><td>&quot;Bicycle Thieves&quot;</td><td>&quot;Bicycle Thieves&quot;</td><td>1948</td><td>&quot;tt0040522&quot;</td></tr></tbody></table></div>"
      ],
      "text/plain": [
       "shape: (5, 15)\n",
       "┌───────┬──────────────┬──────┬────────┬───┬──────────────┬──────────────┬─────────────┬───────────┐\n",
       "│ index ┆ Title        ┆ Year ┆ Viewed ┆ … ┆ titles       ┆ cleaned_titl ┆ cleaned_yea ┆ ids       │\n",
       "│ ---   ┆ ---          ┆ ---  ┆ ---    ┆   ┆ ---          ┆ e            ┆ r           ┆ ---       │\n",
       "│ i64   ┆ str          ┆ str  ┆ str    ┆   ┆ str          ┆ ---          ┆ ---         ┆ str       │\n",
       "│       ┆              ┆      ┆        ┆   ┆              ┆ str          ┆ i64         ┆           │\n",
       "╞═══════╪══════════════╪══════╪════════╪═══╪══════════════╪══════════════╪═════════════╪═══════════╡\n",
       "│ 1     ┆ Действуй     ┆ null ┆ null   ┆ … ┆ Sister Act   ┆ Sister Act   ┆ 1992        ┆ tt0105417 │\n",
       "│       ┆ сестра       ┆      ┆        ┆   ┆              ┆              ┆             ┆           │\n",
       "│ 2     ┆ Summer       ┆ null ┆ null   ┆ … ┆ null         ┆ Summer       ┆ 1982        ┆ tt0084737 │\n",
       "│       ┆ lovers       ┆      ┆        ┆   ┆              ┆ Lovers       ┆             ┆           │\n",
       "│ 3     ┆ Джон уик     ┆ null ┆ null   ┆ … ┆ null         ┆ John Wick    ┆ 2014        ┆ tt2911666 │\n",
       "│ 4     ┆ Помни        ┆ null ┆ null   ┆ … ┆ null         ┆ Remembered   ┆ 2015        ┆ tt6081018 │\n",
       "│ 5     ┆ Похитители   ┆ null ┆ null   ┆ … ┆ Bicycle      ┆ Bicycle      ┆ 1948        ┆ tt0040522 │\n",
       "│       ┆ велосипедов  ┆      ┆        ┆   ┆ Thieves      ┆ Thieves      ┆             ┆           │\n",
       "└───────┴──────────────┴──────┴────────┴───┴──────────────┴──────────────┴─────────────┴───────────┘"
      ]
     },
     "execution_count": 15,
     "metadata": {},
     "output_type": "execute_result"
    }
   ],
   "source": [
    "movies_df.head()"
   ]
  },
  {
   "cell_type": "markdown",
   "id": "afb9e53a",
   "metadata": {},
   "source": [
    "## save df"
   ]
  },
  {
   "cell_type": "code",
   "execution_count": 16,
   "id": "053f97c8",
   "metadata": {},
   "outputs": [
    {
     "data": {
      "text/plain": [
       "<xlsxwriter.workbook.Workbook at 0x117647080>"
      ]
     },
     "execution_count": 16,
     "metadata": {},
     "output_type": "execute_result"
    }
   ],
   "source": [
    "file_name = \"movies_df.xlsx\"\n",
    "file_path = os.path.join(FILES_DIR, file_name)\n",
    "movies_df.write_excel(file_path)"
   ]
  }
 ],
 "metadata": {
  "kernelspec": {
   "display_name": ".venv",
   "language": "python",
   "name": "python3"
  },
  "language_info": {
   "codemirror_mode": {
    "name": "ipython",
    "version": 3
   },
   "file_extension": ".py",
   "mimetype": "text/x-python",
   "name": "python",
   "nbconvert_exporter": "python",
   "pygments_lexer": "ipython3",
   "version": "3.12.11"
  }
 },
 "nbformat": 4,
 "nbformat_minor": 5
}
