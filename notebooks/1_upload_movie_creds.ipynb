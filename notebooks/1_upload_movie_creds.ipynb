{
 "cells": [
  {
   "cell_type": "markdown",
   "id": "140ca41a",
   "metadata": {},
   "source": [
    "## imports"
   ]
  },
  {
   "cell_type": "code",
   "execution_count": 1,
   "id": "4ab6c22b",
   "metadata": {},
   "outputs": [
    {
     "data": {
      "text/plain": [
       "True"
      ]
     },
     "execution_count": 1,
     "metadata": {},
     "output_type": "execute_result"
    }
   ],
   "source": [
    "import polars as pl\n",
    "from polars import col as c\n",
    "import os, sys, requests\n",
    "from dotenv import load_dotenv, find_dotenv\n",
    "\n",
    "load_dotenv(find_dotenv())"
   ]
  },
  {
   "cell_type": "markdown",
   "id": "0a9001c4",
   "metadata": {},
   "source": [
    "## constants"
   ]
  },
  {
   "cell_type": "code",
   "execution_count": 2,
   "id": "aae1c649",
   "metadata": {},
   "outputs": [],
   "source": [
    "OMDB_API_KEY = os.getenv(\"OMDB_API_KEY\")\n",
    "FILES_DIR = \"../data\""
   ]
  },
  {
   "cell_type": "markdown",
   "id": "cc98e638",
   "metadata": {},
   "source": [
    "## load df"
   ]
  },
  {
   "cell_type": "code",
   "execution_count": 151,
   "id": "503cec71",
   "metadata": {},
   "outputs": [],
   "source": [
    "# file_name = \"movies_df.parquet\"\n",
    "# file_path = os.path.join(FILES_DIR, file_name)\n",
    "# movies_df = pl.read_parquet(file_path)"
   ]
  },
  {
   "cell_type": "code",
   "execution_count": 152,
   "id": "aa67e849",
   "metadata": {},
   "outputs": [
    {
     "name": "stderr",
     "output_type": "stream",
     "text": [
      "Could not determine dtype for column 2, falling back to string\n",
      "Could not determine dtype for column 3, falling back to string\n"
     ]
    }
   ],
   "source": [
    "file_name = \"movies_df.xlsx\"\n",
    "file_path = os.path.join(FILES_DIR, file_name)\n",
    "movies_df = pl.read_excel(file_path)"
   ]
  },
  {
   "cell_type": "markdown",
   "id": "f02b797a",
   "metadata": {},
   "source": [
    "## code"
   ]
  },
  {
   "cell_type": "code",
   "execution_count": 153,
   "id": "30d27824",
   "metadata": {},
   "outputs": [
    {
     "data": {
      "text/html": [
       "<div><style>\n",
       ".dataframe > thead > tr,\n",
       ".dataframe > tbody > tr {\n",
       "  text-align: right;\n",
       "  white-space: pre-wrap;\n",
       "}\n",
       "</style>\n",
       "<small>shape: (5, 16)</small><table border=\"1\" class=\"dataframe\"><thead><tr><th>index</th><th>Title</th><th>Year</th><th>Viewed</th><th>title_eng</th><th>title_translation</th><th>parsed_date</th><th>parsed_title</th><th>checked</th><th>gpt_parsed_titles</th><th>years</th><th>titles</th><th>cleaned_title</th><th>cleaned_year</th><th>ids</th><th>creds</th></tr><tr><td>i64</td><td>str</td><td>str</td><td>str</td><td>str</td><td>str</td><td>i64</td><td>str</td><td>str</td><td>str</td><td>str</td><td>str</td><td>str</td><td>i64</td><td>str</td><td>str</td></tr></thead><tbody><tr><td>1</td><td>&quot;Действуй сестра&quot;</td><td>null</td><td>null</td><td>&quot;Not found&quot;</td><td>&quot;Act sister&quot;</td><td>null</td><td>&quot;Not found&quot;</td><td>null</td><td>&quot;Sister Act&quot;</td><td>&quot;1992&quot;</td><td>&quot;Sister Act&quot;</td><td>&quot;Sister Act&quot;</td><td>1992</td><td>&quot;tt0105417&quot;</td><td>&quot;{&#x27;Title&#x27;: &#x27;Sister Act&#x27;, &#x27;Year&#x27;…</td></tr><tr><td>2</td><td>&quot;Summer lovers&quot;</td><td>null</td><td>null</td><td>&quot;Summer Lovers_1982_Comedy, Dra…</td><td>&quot;Summer lovers&quot;</td><td>1982</td><td>&quot;Summer Lovers&quot;</td><td>&quot;checked&quot;</td><td>&quot;Summer lovers&quot;</td><td>null</td><td>null</td><td>&quot;Summer Lovers&quot;</td><td>1982</td><td>&quot;tt0084737&quot;</td><td>&quot;{&#x27;Title&#x27;: &#x27;Summer Lovers&#x27;, &#x27;Ye…</td></tr><tr><td>3</td><td>&quot;Джон уик&quot;</td><td>null</td><td>null</td><td>&quot;John Wick_2014_Action, Crime, …</td><td>&quot;John Wick&quot;</td><td>2014</td><td>&quot;John Wick&quot;</td><td>&quot;checked&quot;</td><td>&quot;Джон уик&quot;</td><td>null</td><td>null</td><td>&quot;John Wick&quot;</td><td>2014</td><td>&quot;tt2911666&quot;</td><td>&quot;{&#x27;Title&#x27;: &#x27;John Wick&#x27;, &#x27;Year&#x27;:…</td></tr><tr><td>4</td><td>&quot;Помни&quot;</td><td>null</td><td>null</td><td>&quot;Remembered_2015_Short, Drama_N…</td><td>&quot;Remembered&quot;</td><td>2015</td><td>&quot;Remembered&quot;</td><td>&quot;checked&quot;</td><td>&quot;Помни&quot;</td><td>null</td><td>null</td><td>&quot;Memento&quot;</td><td>2000</td><td>&quot;tt0209144&quot;</td><td>&quot;{&#x27;Title&#x27;: &#x27;Memento&#x27;, &#x27;Year&#x27;: &#x27;…</td></tr><tr><td>5</td><td>&quot;Похитители велосипедов&quot;</td><td>null</td><td>null</td><td>&quot;Not found&quot;</td><td>&quot;Cycles of bicycles&quot;</td><td>null</td><td>&quot;Not found&quot;</td><td>null</td><td>&quot;Bicycle Thieves&quot;</td><td>&quot;1948&quot;</td><td>&quot;Bicycle Thieves&quot;</td><td>&quot;Bicycle Thieves&quot;</td><td>1948</td><td>&quot;tt0040522&quot;</td><td>&quot;{&#x27;Title&#x27;: &#x27;Bicycle Thieves&#x27;, &#x27;…</td></tr></tbody></table></div>"
      ],
      "text/plain": [
       "shape: (5, 16)\n",
       "┌───────┬──────────────┬──────┬────────┬───┬──────────────┬──────────────┬───────────┬─────────────┐\n",
       "│ index ┆ Title        ┆ Year ┆ Viewed ┆ … ┆ cleaned_titl ┆ cleaned_year ┆ ids       ┆ creds       │\n",
       "│ ---   ┆ ---          ┆ ---  ┆ ---    ┆   ┆ e            ┆ ---          ┆ ---       ┆ ---         │\n",
       "│ i64   ┆ str          ┆ str  ┆ str    ┆   ┆ ---          ┆ i64          ┆ str       ┆ str         │\n",
       "│       ┆              ┆      ┆        ┆   ┆ str          ┆              ┆           ┆             │\n",
       "╞═══════╪══════════════╪══════╪════════╪═══╪══════════════╪══════════════╪═══════════╪═════════════╡\n",
       "│ 1     ┆ Действуй     ┆ null ┆ null   ┆ … ┆ Sister Act   ┆ 1992         ┆ tt0105417 ┆ {'Title':   │\n",
       "│       ┆ сестра       ┆      ┆        ┆   ┆              ┆              ┆           ┆ 'Sister     │\n",
       "│       ┆              ┆      ┆        ┆   ┆              ┆              ┆           ┆ Act',       │\n",
       "│       ┆              ┆      ┆        ┆   ┆              ┆              ┆           ┆ 'Year'…     │\n",
       "│ 2     ┆ Summer       ┆ null ┆ null   ┆ … ┆ Summer       ┆ 1982         ┆ tt0084737 ┆ {'Title':   │\n",
       "│       ┆ lovers       ┆      ┆        ┆   ┆ Lovers       ┆              ┆           ┆ 'Summer     │\n",
       "│       ┆              ┆      ┆        ┆   ┆              ┆              ┆           ┆ Lovers',    │\n",
       "│       ┆              ┆      ┆        ┆   ┆              ┆              ┆           ┆ 'Ye…        │\n",
       "│ 3     ┆ Джон уик     ┆ null ┆ null   ┆ … ┆ John Wick    ┆ 2014         ┆ tt2911666 ┆ {'Title':   │\n",
       "│       ┆              ┆      ┆        ┆   ┆              ┆              ┆           ┆ 'John       │\n",
       "│       ┆              ┆      ┆        ┆   ┆              ┆              ┆           ┆ Wick',      │\n",
       "│       ┆              ┆      ┆        ┆   ┆              ┆              ┆           ┆ 'Year':…    │\n",
       "│ 4     ┆ Помни        ┆ null ┆ null   ┆ … ┆ Memento      ┆ 2000         ┆ tt0209144 ┆ {'Title':   │\n",
       "│       ┆              ┆      ┆        ┆   ┆              ┆              ┆           ┆ 'Memento',  │\n",
       "│       ┆              ┆      ┆        ┆   ┆              ┆              ┆           ┆ 'Year': '…  │\n",
       "│ 5     ┆ Похитители   ┆ null ┆ null   ┆ … ┆ Bicycle      ┆ 1948         ┆ tt0040522 ┆ {'Title':   │\n",
       "│       ┆ велосипедов  ┆      ┆        ┆   ┆ Thieves      ┆              ┆           ┆ 'Bicycle    │\n",
       "│       ┆              ┆      ┆        ┆   ┆              ┆              ┆           ┆ Thieves',   │\n",
       "│       ┆              ┆      ┆        ┆   ┆              ┆              ┆           ┆ '…          │\n",
       "└───────┴──────────────┴──────┴────────┴───┴──────────────┴──────────────┴───────────┴─────────────┘"
      ]
     },
     "execution_count": 153,
     "metadata": {},
     "output_type": "execute_result"
    }
   ],
   "source": [
    "movies_df.head()"
   ]
  },
  {
   "cell_type": "code",
   "execution_count": 155,
   "id": "52d114f5",
   "metadata": {},
   "outputs": [
    {
     "data": {
      "text/plain": [
       "413"
      ]
     },
     "execution_count": 155,
     "metadata": {},
     "output_type": "execute_result"
    }
   ],
   "source": [
    "len(titles_mapping)"
   ]
  },
  {
   "cell_type": "code",
   "execution_count": 43,
   "id": "06d59184",
   "metadata": {},
   "outputs": [
    {
     "data": {
      "text/plain": [
       "{'Действуй сестра': 'Sister Act',\n",
       " 'Похитители велосипедов': 'Bicycle Thieves',\n",
       " 'Академия рашмор': 'Rushmore',\n",
       " 'Бегущий по лезвию': 'Blade Runner',\n",
       " 'Мрачные тени': 'Dark Shadows',\n",
       " 'Агирре, гнев божий': 'Aguirre, the Wrath of God',\n",
       " 'Роковая восьмерка': 'Hard Eight',\n",
       " 'На гребне волны': 'Point Break',\n",
       " 'Братья из гримсби': 'Grimsby',\n",
       " 'Гадкий койот *': 'Coyote Ugly',\n",
       " 'Марсианин *': 'The Martian',\n",
       " 'Касабланка *': 'Casablanca',\n",
       " 'Boggie nights': 'Boogie Nights',\n",
       " '16 свечей': 'Sixteen Candles',\n",
       " 'Шоу рокки хорора *': 'The Rocky Horror Picture Show',\n",
       " 'Грязные танцы *': 'Dirty Dancing',\n",
       " 'Иллюзия обмана': 'Now You See Me',\n",
       " 'Иррациональный человек *': 'Irrational Man',\n",
       " 'Jerry maguayer *': 'Jerry Maguire',\n",
       " 'Области тьмы': 'Limitless',\n",
       " 'Super mike xxl': 'Magic Mike XXL',\n",
       " 'Eyes wide closed *': 'Eyes Wide Shut',\n",
       " 'Золото дураков': \"Fool's Gold\",\n",
       " 'Два ствола': '2 Guns',\n",
       " 'Красавчик *': 'Pretty Boy',\n",
       " 'Ангел хранитель. *': 'Guardian Angel',\n",
       " 'Девушка с тату дракона': 'The Girl with the Dragon Tattoo',\n",
       " 'Побег из шоушенка': 'The Shawshank Redemption',\n",
       " 'Достучаться до небес *': \"Knockin' on Heaven's Door\",\n",
       " 'Святые из бундока': 'The Boondock Saints',\n",
       " 'Дедушка плохого поведения': 'Bad Grandpa',\n",
       " 'Edge of tommorow *': 'Edge of Tomorrow',\n",
       " 'Выходной день ферриса бьюллера *': \"Ferris Bueller's Day Off\",\n",
       " 'Быстрые перемены в школе...': 'Fast Times at Ridgemont High',\n",
       " '10 причин моей ненависти': '10 Things I Hate About You',\n",
       " 'Дневник баскетболиста': 'Basketball Diaries',\n",
       " 'Миссия в майами': 'Ride Along 2',\n",
       " 'Босиком по мостовой': 'Barefoot',\n",
       " 'Отличница легкого поведения': 'Easy A',\n",
       " 'Мачо и ботан *': '21 Jump Street',\n",
       " 'Я легенда': 'I Am Legend',\n",
       " 'Секреты лос анджелеса': 'L.A. Confidential',\n",
       " 'Семейка тоненбаум': 'The Royal Tenenbaums',\n",
       " 'Мы миллеры': \"We're the Millers\",\n",
       " 'Хозяин морей': 'Master and Commander: The Far Side of the World',\n",
       " 'Мальчики налетчики': 'Bandits',\n",
       " 'Отступники': 'The Departed',\n",
       " 'Suiside kings': 'Suicide Kings',\n",
       " 'Штурм белого дома': 'White House Down',\n",
       " 'American beaty *': 'American Beauty',\n",
       " 'Бойцовский клуб': 'Fight Club',\n",
       " 'Адвокат дьявола': \"The Devil's Advocate\",\n",
       " 'Война миров z': 'World War Z',\n",
       " 'Форест гамп *': 'Forrest Gump',\n",
       " 'Agents uncle': 'The Man from U.N.C.L.E.',\n",
       " 'Призрачный гонщик': 'Ghost Rider',\n",
       " 'Смертельная гонка': 'Death Race',\n",
       " 'Дурацкое пари': 'Dumb and Dumber To',\n",
       " 'Донни дарко': 'Donnie Darko',\n",
       " 'А джазе только девушки *': 'Some Like It Hot',\n",
       " 'Hard days night': \"A Hard Day's Night\",\n",
       " 'Храбрые сердцем': 'Braveheart',\n",
       " 'Звездные врата': 'Stargate',\n",
       " 'Чудо на гудзоне': 'Sully',\n",
       " 'Страх и ненависть в лас вегасе *': 'Fear and Loathing in Las Vegas',\n",
       " 'Ромовый дневник': 'The Rum Diary',\n",
       " 'Битва титанов': 'Clash of the Titans',\n",
       " 'Интерстеллар *': 'Interstellar',\n",
       " 'Красавчик алфи': 'Alfie',\n",
       " 'Человек без лица': 'The Man Without a Face',\n",
       " 'Метод хитча': 'Hitch',\n",
       " 'Ангелы чарли': \"Charlie's Angels\",\n",
       " 'Фантастические твари и где они обитают': 'Fantastic Beasts and Where to Find Them',\n",
       " 'Вне закона atl': 'ATL',\n",
       " 'Дни жатвы': 'Days of Heaven',\n",
       " 'Одинокий ренджер': 'The Lone Ranger',\n",
       " 'Скотт пилигримм': 'Scott Pilgrim vs. the World',\n",
       " 'Голова ластик': 'Eraserhead',\n",
       " 'Под кайфом и в смятении *': 'Dazed and Confused',\n",
       " 'Волк с волл стрит *': 'The Wolf of Wall Street',\n",
       " 'Очень сташное кино': 'Scary Movie',\n",
       " 'Южный централ': 'South Central',\n",
       " 'Легенды осени *': 'Legends of the Fall',\n",
       " 'Кровавый алмаз *': 'Blood Diamond',\n",
       " 'Серфер': 'Chasing Mavericks',\n",
       " 'Свободный штат джонса': 'Free State of Jones',\n",
       " 'Эквилибриум': 'Equilibrium',\n",
       " 'Апокалипсис сегодня': 'Apocalypse Now',\n",
       " 'Игры разума': 'A Beautiful Mind',\n",
       " 'Большой куш *': 'Snatch',\n",
       " 'Заводной апельсин': 'A Clockwork Orange',\n",
       " 'Убийца м': 'M',\n",
       " 'Трудности перевода *': 'Lost in Translation',\n",
       " 'Старски и хатч *': 'Starsky & Hutch',\n",
       " 'Побудь в моей шкуре': 'Under the Skin',\n",
       " 'Цель номер один': 'Zero Dark Thirty',\n",
       " 'Далласский клуб покупателей': 'Dallas Buyers Club',\n",
       " 'Новогодний корпоратив *': 'Office Christmas Party',\n",
       " 'Земляничная поляна *': 'Wild Strawberries',\n",
       " 'Догвиль': 'Dogville',\n",
       " 'Небраска *': 'Nebraska',\n",
       " 'Там где течет река': 'A River Runs Through It',\n",
       " 'Старая закалка *': 'Gran Torino',\n",
       " 'Школа негодяев': 'School for Scoundrels',\n",
       " 'Что гложет гилберта грэйпа?': \"What's Eating Gilbert Grape\",\n",
       " 'Невероятное путешествие mr спивета': 'The Incredible Mr. Limpet',\n",
       " 'В погоне за счастьем 1986': 'The Pursuit of Happyness',\n",
       " 'Va bank 1981 *': 'The Sting',\n",
       " 'Dr. Mabuse *': 'Dr. Mabuse, the Gambler',\n",
       " 'Шепоты и крики': 'Cries and Whispers',\n",
       " 'Закон ночи': 'Live by Night',\n",
       " 'Пролетая над гнездом кукушки *': \"One Flew Over the Cuckoo's Nest\",\n",
       " 'Бешеный бык': 'Raging Bull',\n",
       " 'Как трусливый роберт форд убил джесси Джеймса *': 'The Assassination of Jesse James by the Coward Robert Ford',\n",
       " 'Рождение нации *': 'The Birth of a Nation',\n",
       " 'Славные парни': 'Goodfellas',\n",
       " 'Повелитель бури *': 'The Hurt Locker',\n",
       " 'Серпико': 'Serpico',\n",
       " 'Собачий полдень': 'Dog Day Afternoon',\n",
       " 'Загадочнаяистория бенжамина баттона *': 'The Curious Case of Benjamin Button',\n",
       " 'Ничтожество': 'Nothing',\n",
       " 'Афера 1973 *': 'The Sting',\n",
       " 'Отель гранд будапешт': 'The Grand Budapest Hotel',\n",
       " 'Старикам тут не место *': 'No Country for Old Men',\n",
       " 'Mullholand dr. *': 'Mulholland Dr.',\n",
       " 'Андалузский пес': 'Un Chien Andalou',\n",
       " '12 лет рабства': '12 Years a Slave',\n",
       " 'Перекресток миллера': \"Miller's Crossing\",\n",
       " 'Скромное обаяние буржуа': 'The Discreet Charm of the Bourgeoisie',\n",
       " 'Лицо со шрамом': 'Scarface',\n",
       " 'Доктор стрейнджлав': 'Dr. Strangelove',\n",
       " 'Двухполосное шоссе': 'Two-Lane Blacktop',\n",
       " 'Жажда смерти': 'Death Wish',\n",
       " 'Французский связной': 'The French Connection',\n",
       " 'Отныне и во веки веков': 'From Here to Eternity',\n",
       " 'Принесите мне голову альфредо гарсия': 'Bring Me the Head of Alfredo Garcia',\n",
       " 'Тропы славы *': 'Paths of Glory',\n",
       " 'Танцующий с волками *': 'Dances with Wolves',\n",
       " 'Трон в крови': 'Throne of Blood',\n",
       " 'Крамер против крамера': 'Kramer vs. Kramer',\n",
       " 'Падшие ангелы 1995 *': 'Fallen Angels',\n",
       " 'Порок на экспорт': 'Eastern Promises',\n",
       " 'Запах женщины *': 'Scent of a Woman',\n",
       " 'Хороший, плохой, злой': 'The Good, the Bad and the Ugly',\n",
       " 'Призрачный мир': 'Ghost World',\n",
       " 'Донни браско': 'Donnie Brasco',\n",
       " 'Человек слон *': 'The Elephant Man',\n",
       " 'Призрак рая': 'Phantom of the Paradise',\n",
       " 'Inauguration of pleasure dome': 'Inauguration of the Pleasure Dome',\n",
       " 'Ребенок розмари': \"Rosemary's Baby\",\n",
       " 'Проверка на женственность': 'Test for Femininity',\n",
       " 'Друзья эдди койла': 'The Friends of Eddie Coyle',\n",
       " '(100 любимых фильмов фрэнка оушена)': '(100 Favorite Films of Frank Ocean)',\n",
       " 'Слава 1989': 'Glory',\n",
       " 'Гарольд и мод *': 'Harold and Maude',\n",
       " 'Водная жизнь Стива зиссу': 'The Life Aquatic with Steve Zissou',\n",
       " 'Пять лёгких пьес *': 'Five Easy Pieces',\n",
       " 'Профессия: репортёр *': 'The Passenger',\n",
       " 'О шмидте *': 'About Schmidt',\n",
       " 'Патни своуп': 'Putney Swope',\n",
       " 'Фрикадельки *': 'Meatballs',\n",
       " 'Поющие под дождем': \"Singin' in the Rain\",\n",
       " 'Завтрак у тиффани *': \"Breakfast at Tiffany's\",\n",
       " 'The jade pussycat': 'The Jade Pussycat',\n",
       " 'Потоки любви *': 'Streams of Love',\n",
       " 'Broadcast news': 'Broadcast News',\n",
       " 'Планета обезьян': 'Planet of the Apes',\n",
       " 'Дюнкерк': 'Dunkirk',\n",
       " 'Великая иллюзия': 'La Grande Illusion',\n",
       " 'Свидетель обвинения': 'Witness for the Prosecution',\n",
       " 'Последний киносеанс *': 'The Last Picture Show',\n",
       " '2pac': '2Pac',\n",
       " 'Как украсть миллион?': 'How to Steal a Million',\n",
       " 'Невероятные приключения билла и теда': \"Bill & Ted's Excellent Adventure\",\n",
       " 'Итака': 'Ithaca',\n",
       " 'История монахини': \"The Nun's Story\",\n",
       " 'Лолита': 'Lolita',\n",
       " 'Tootsie': 'Tootsie',\n",
       " 'Heartbreaker kid': 'The Heartbreak Kid',\n",
       " 'Телохранитель киллера': \"The Hitman's Bodyguard\",\n",
       " 'Валериан и город тысячи планет *': 'Valerian and the City of a Thousand Planets',\n",
       " 'Голубая лагуна': 'The Blue Lagoon',\n",
       " 'Вечное сияние чистого разума *': 'Eternal Sunshine of the Spotless Mind',\n",
       " 'Туз в рукаве': 'Ace in the Hole',\n",
       " 'Samoiraï 1967': 'Le Samouraï',\n",
       " 'Мумия 2017': 'The Mummy (2017)',\n",
       " 'Офицер и джентльмен': 'An Officer and a Gentleman',\n",
       " 'Основной инстинкт *': 'Basic Instinct',\n",
       " 'Stranger than paradise *': 'Stranger Than Paradise',\n",
       " 'Жизнь прекрасна 1997': 'Life Is Beautiful',\n",
       " 'Три цвета: синий': 'Three Colors: Blue',\n",
       " 'Дорога 1954': 'La Strada',\n",
       " 'Down by law 1986 *': 'Down by Law',\n",
       " 'На последнем дыхании': 'Breathless',\n",
       " 'Полет на луну': 'Fly Me to the Moon',\n",
       " 'Мой личный штат айдахо *': 'My Own Private Idaho',\n",
       " '25 час *': '25th Hour',\n",
       " 'Убийство герцога гиза': 'The Assassination of the Duke of Guise',\n",
       " 'Семь лет несчастий': 'Seven Years of Bad Luck',\n",
       " 'Таинственный поезд*': 'Mystery Train',\n",
       " 'Ночь охотника': 'The Night of the Hunter',\n",
       " 'Бонни и клайд': 'Bonnie and Clyde',\n",
       " 'Предел контроля *': 'The Limits of Control',\n",
       " 'Сладкая жизнь *': 'La Dolce Vita',\n",
       " 'После прочтения - сжечь': 'Burn After Reading',\n",
       " 'На север через северо-запад': 'North by Northwest',\n",
       " 'Серьезный человек': 'A Serious Man',\n",
       " 'Жюль и Джим': 'Jules and Jim',\n",
       " 'Выход через сувенирную лавку *': 'Exit Through the Gift Shop',\n",
       " 'Избавление': 'Deliverance',\n",
       " 'Тельма и луиза *': 'Thelma & Louise',\n",
       " 'Близкие контакты третьей степени': 'Close Encounters of the Third Kind',\n",
       " 'Делай как надо': 'Do the Right Thing',\n",
       " 'Ночи кабирии': 'Nights of Cabiria',\n",
       " 'Коттон клаб': 'The Cotton Club',\n",
       " 'Лоуренс аравийский': 'Lawrence of Arabia',\n",
       " 'Телесеть *': 'Network',\n",
       " 'Мальтийский сокол': 'The Maltese Falcon',\n",
       " 'Дилижанс *': 'Stagecoach',\n",
       " 'Капитан фантастик': 'Captain Fantastic',\n",
       " 'Жареные зеленые помидоры *': 'Fried Green Tomatoes',\n",
       " 'Крысолов 1999': 'Ratcatcher',\n",
       " 'The kings of the road 1976': 'Kings of the Road',\n",
       " 'Общество мертвых поэтов *': 'Dead Poets Society',\n",
       " 'Ночь живых мертвецов': 'Night of the Living Dead',\n",
       " 'Три билборда... *': 'Three Billboards Outside Ebbing, Missouri',\n",
       " 'Затмение': 'Eclipse',\n",
       " 'Любовное настроение *': 'In the Mood for Love',\n",
       " 'Доброе утро вьетнам *': 'Good Morning, Vietnam',\n",
       " 'Дурная слава': 'Infamous',\n",
       " 'Странствия салливана *': \"Sullivan's Travels\",\n",
       " 'Стукач 1984': 'The Pope of Greenwich Village',\n",
       " 'Моя ужасная няня': 'Nanny McPhee',\n",
       " 'Дэйв *': 'Dave',\n",
       " 'Маверик': 'Maverick',\n",
       " 'Смертельное оружие': 'Lethal Weapon',\n",
       " 'Остерикс и обеликс': 'Asterix & Obelix',\n",
       " 'Скажи что-нибудь': 'Say Anything...',\n",
       " 'Шоссе в никуда': 'Lost Highway',\n",
       " 'Последние дни диско': 'The Last Days of Disco',\n",
       " 'Идеальные незнакомцы *': 'Perfect Strangers',\n",
       " 'Отбросы *': 'Misfits',\n",
       " 'Ускользающая красота *': 'Stealing Beauty',\n",
       " 'Август раш': 'August Rush',\n",
       " 'В укромном месте': 'In a Lonely Place',\n",
       " 'Индиана Джонс, 1 часть': 'Indiana Jones: Raiders of the Lost Ark',\n",
       " 'Маккейб и миссис миллер *': 'McCabe & Mrs. Miller',\n",
       " 'Пляжный бездельник': 'The Beach Bum',\n",
       " 'Yesterday *': 'Yesterday',\n",
       " 'Леди ева': 'The Lady Eve',\n",
       " \"The dead don't die\": \"The Dead Don't Die\",\n",
       " 'Имитация жизни *': 'Imitation of Life',\n",
       " 'Королевство полной луны': 'Moonrise Kingdom',\n",
       " 'Far and away': 'Far and Away',\n",
       " 'Однажды в голивуде *': 'Once Upon a Time in Hollywood',\n",
       " 'Марни': 'Marnie',\n",
       " 'I love you, daddy *': 'I Love You, Daddy',\n",
       " 'Выпускник': 'The Graduate',\n",
       " 'Предложение': 'The Proposal',\n",
       " 'Рождество на двоих': 'Last Christmas',\n",
       " 'Marriage story *': 'Marriage Story',\n",
       " 'The Ballad of Buster Scruggs': 'The Ballad of Buster Scruggs',\n",
       " 'Phantom thread *': 'Phantom Thread',\n",
       " 'Dolemite Is My Name': 'Dolemite Is My Name',\n",
       " 'Час пик *': 'Rush Hour',\n",
       " 'Okja': 'Okja',\n",
       " 'What Did Jack Do?': 'What Did Jack Do?',\n",
       " 'Sex, lies and videotape': 'Sex, Lies, and Videotape',\n",
       " 'The Laundromat': 'The Laundromat',\n",
       " 'Love story *': 'Love Story',\n",
       " 'Blow': 'Blow',\n",
       " \"Charlie Wilson's War\": \"Charlie Wilson's War\",\n",
       " 'Shaft': 'Shaft',\n",
       " \"Something's Gotta Give\": \"Something's Gotta Give\",\n",
       " 'Sleepless in Seattle *': 'Sleepless in Seattle',\n",
       " 'Roma *': 'Roma',\n",
       " 'Morning glory': 'Morning Glory',\n",
       " 'Frozen': 'Frozen',\n",
       " 'Coco *': 'Coco',\n",
       " 'Juno': 'Juno',\n",
       " 'Matthias et Maxime *': 'Matthias & Maxime',\n",
       " 'How to be single': 'How to Be Single',\n",
       " 'Tenet *': 'Tenet',\n",
       " 'Enola Holmes': 'Enola Holmes',\n",
       " 'Мanhattan shorts *': 'Manhattan Shorts',\n",
       " 'The spy *': 'The Spy',\n",
       " 'Malcolm & Marie': 'Malcolm & Marie',\n",
       " 'Soul *': 'Soul',\n",
       " 'Inside out *': 'Inside Out',\n",
       " 'Еще по одной': 'Another Round',\n",
       " \"I Don't Feel at Home in This World Anymore\": \"I Don't Feel at Home in This World Anymore\",\n",
       " 'Green book *': 'Green Book',\n",
       " 'Klaus': 'Klaus',\n",
       " 'Little women': 'Little Women',\n",
       " 'Kill Bill': 'Kill Bill',\n",
       " '1917': '1917',\n",
       " 'The Dune': 'Dune',\n",
       " 'The french Dispatch *': 'The French Dispatch',\n",
       " 'Blade Runner 2049': 'Blade Runner 2049',\n",
       " 'About time': 'About Time',\n",
       " 'How the Grinch Stole Christmas': 'How the Grinch Stole Christmas',\n",
       " 'Ветер крепчает': 'The Wind Rises',\n",
       " 'youth *': 'Youth',\n",
       " 'The Hating Game': 'The Hating Game',\n",
       " 'Великая красота': 'The Great Beauty',\n",
       " 'entergalactic': 'Entergalactic',\n",
       " 'Enola Holmes 2': 'Enola Holmes 2',\n",
       " 'last christmas': 'Last Christmas',\n",
       " 'Slumberland *': 'Slumberland',\n",
       " 'треугольник печали': 'Triangle of Sadness',\n",
       " 'меню': 'The Menu',\n",
       " 'лука *': 'Luca',\n",
       " 'Free spirit': 'Free Spirit',\n",
       " 'Everything Everywhere All at Once *': 'Everything Everywhere All at Once',\n",
       " 'Шоу Трумана': 'The Truman Show',\n",
       " 'Гадкий Я': 'Despicable Me',\n",
       " 'Белфаст *': 'Belfast',\n",
       " 'Полночь в Париже': 'Midnight in Paris',\n",
       " 'The Unbearable Weight of Massive Talent *': 'The Unbearable Weight of Massive Talent',\n",
       " 'Game': 'Game',\n",
       " 'Rye Lane *': 'Rye Lane',\n",
       " 'Aftersun *': 'Aftersun',\n",
       " 'love again': 'Love Again',\n",
       " \"Something from Tiffany's \": \"Something from Tiffany's\",\n",
       " 'THE SWIMMERS ': 'The Swimmers',\n",
       " 'The whale': 'The Whale',\n",
       " 'see how they run': 'See How They Run',\n",
       " 'A man called otto': 'A Man Called Otto',\n",
       " 'Love at First Sight': 'Love at First Sight',\n",
       " 'Elemental *': 'Elemental',\n",
       " '6 days, 7 nights': 'Six Days, Seven Nights',\n",
       " 'Spirit': 'Spirit',\n",
       " 'The King of Staten Island': 'The King of Staten Island',\n",
       " 'The Secret: Dare to Dream': 'The Secret: Dare to Dream',\n",
       " 'Рептилии': 'Reptile',\n",
       " 'THE WONDERFUL STORY OF HENRY SUGAR': 'The Wonderful Story of Henry Sugar',\n",
       " 'Хижина Любви': 'Love Shack',\n",
       " 'Barbie': 'Barbie',\n",
       " 'Meet the Parents': 'Meet the Parents',\n",
       " 'Serendipity': 'Serendipity',\n",
       " 'Oppenheimer': 'Oppenheimer',\n",
       " 'Синий жук': 'Blue Beetle',\n",
       " 'Zootopia': 'Zootopia',\n",
       " 'The Holdovers *': 'The Holdovers',\n",
       " 'The holiday': 'The Holiday',\n",
       " 'A Haunting in Venice': 'A Haunting in Venice',\n",
       " 'The Lobster': 'The Lobster',\n",
       " 'How to Lose a Guy in 10 Days': 'How to Lose a Guy in 10 Days',\n",
       " 'mean girls': 'Mean Girls',\n",
       " 'Orion and the Dark *': 'Orion and the Dark',\n",
       " 'American Psycho': 'American Psycho',\n",
       " 'The Lighthouse': 'The Lighthouse',\n",
       " 'Players': 'Players',\n",
       " 'Before Sunrise *': 'Before Sunrise',\n",
       " 'Luck': 'Luck',\n",
       " 'Paddington': 'Paddington',\n",
       " 'One Day': 'One Day',\n",
       " 'Big Hero 6': 'Big Hero 6',\n",
       " 'Capernaum *': 'Capernaum',\n",
       " 'Мулан': 'Mulan',\n",
       " '100 вещей и ничего лишнего *': '100 Things',\n",
       " 'Dance first': 'Dance First',\n",
       " 'Дождливый день в Нью-Йорке ': 'A Rainy Day in New York',\n",
       " 'Zoolander ': 'Zoolander',\n",
       " 'Hit man': 'Hit Man',\n",
       " 'Challengers *': 'Challengers',\n",
       " 'Ruben Brandt, Collector *': 'Ruben Brandt, Collector',\n",
       " 'I lost my body *': 'I Lost My Body',\n",
       " 'Apollo 10 1⁄2: A Space Age Childhood ': 'Apollo 10 1⁄2: A Space Age Childhood',\n",
       " 'To Kill a Mockingbird *': 'To Kill a Mockingbird',\n",
       " 'The Big Lebowski *': 'The Big Lebowski',\n",
       " 'Beverly Hills Cop': 'Beverly Hills Cop',\n",
       " 'My Neighbor Totoro': 'My Neighbor Totoro',\n",
       " 'Almost Famous': 'Almost Famous',\n",
       " 'When Harry Met Sally...': 'When Harry Met Sally...',\n",
       " 'The Rum Diary': 'The Rum Diary',\n",
       " 'liar liar': 'Liar Liar',\n",
       " 'Airplane!': 'Airplane!',\n",
       " 'The Naked Gun': 'The Naked Gun',\n",
       " 'Princess Mononoke': 'Princess Mononoke',\n",
       " 'Spirited Away ': 'Spirited Away',\n",
       " \"you've got mail *\": \"You've Got Mail\",\n",
       " 'mystic pizza *': 'Mystic Pizza',\n",
       " 'Kiki’s Delivery Service *': \"Kiki's Delivery Service\",\n",
       " \"Howl's Moving Castle\": \"Howl's Moving Castle\",\n",
       " 'Porco Rosso *': 'Porco Rosso',\n",
       " 'Whisper of the Heart *': 'Whisper of the Heart',\n",
       " 'Fantastic Mr. Fox': 'Fantastic Mr. Fox',\n",
       " 'Coup de chance*': 'Coup de chance',\n",
       " 'The Secret Life of Walter Mitty': 'The Secret Life of Walter Mitty',\n",
       " 'A real pain': 'A Real Pain',\n",
       " 'The Boy and the Heron': 'The Boy and the Heron',\n",
       " 'Father of the Bride': 'Father of the Bride',\n",
       " 'Saturday Night Fever': 'Saturday Night Fever',\n",
       " 'Tender Mercies': 'Tender Mercies',\n",
       " 'Frances Ha': 'Frances Ha',\n",
       " 'Moonstruck': 'Moonstruck',\n",
       " 'Chinatown *': 'Chinatown',\n",
       " 'dangerous liaisons *': 'Dangerous Liaisons',\n",
       " 'Diner': 'Diner',\n",
       " 'love serenade': 'Love Serenade',\n",
       " 'big fish': 'Big Fish',\n",
       " 'The Terminator': 'The Terminator',\n",
       " \"Sullivan's Travels\": \"Sullivan's Travels\",\n",
       " 'Big *': 'Big',\n",
       " 'Columbus *': 'Columbus',\n",
       " 'Paterson': 'Paterson',\n",
       " 'Marcel the Shell with Shoes On': 'Marcel the Shell with Shoes On',\n",
       " 'Only Yesterday': 'Only Yesterday',\n",
       " 'Princess Bride': 'The Princess Bride',\n",
       " 'Grave of the Fireflies': 'Grave of the Fireflies',\n",
       " 'The Usual Suspects': 'The Usual Suspects',\n",
       " 'Lone Star': 'Lone Star'}"
      ]
     },
     "execution_count": 43,
     "metadata": {},
     "output_type": "execute_result"
    }
   ],
   "source": [
    "titles_mapping"
   ]
  },
  {
   "cell_type": "code",
   "execution_count": null,
   "id": "7c479f83",
   "metadata": {},
   "outputs": [],
   "source": [
    "# movies_df =\n",
    "movies_df.with_columns(\n",
    "    c(\"Title\")\n",
    "    .replace_strict(\n",
    "        titles_mapping,\n",
    "        # replace_strict=False,\n",
    "    )\n",
    "    .alias(\"gpt_parsed_titles\")\n",
    ")"
   ]
  },
  {
   "cell_type": "code",
   "execution_count": 41,
   "id": "ac5898b7",
   "metadata": {},
   "outputs": [
    {
     "name": "stderr",
     "output_type": "stream",
     "text": [
      "/var/folders/yt/5rqq39t16xs0vjb7z99vs0cw0000gn/T/ipykernel_59697/3119976487.py:1: MapWithoutReturnDtypeWarning: Calling `map_elements` without specifying `return_dtype` can lead to unpredictable results. Specify `return_dtype` to silence this warning.\n",
      "  movies_df = movies_df.with_columns(\n"
     ]
    }
   ],
   "source": [
    "movies_df = movies_df.with_columns(\n",
    "    c(\"Title\")\n",
    "    .map_elements(lambda x: titles_mapping.get(x, x))\n",
    "    .alias(\"gpt_parsed_titles\")\n",
    ")"
   ]
  },
  {
   "cell_type": "code",
   "execution_count": 51,
   "id": "fc7bc874",
   "metadata": {},
   "outputs": [
    {
     "data": {
      "text/html": [
       "<div><style>\n",
       ".dataframe > thead > tr,\n",
       ".dataframe > tbody > tr {\n",
       "  text-align: right;\n",
       "  white-space: pre-wrap;\n",
       "}\n",
       "</style>\n",
       "<small>shape: (413, 10)</small><table border=\"1\" class=\"dataframe\"><thead><tr><th>index</th><th>Title</th><th>Year</th><th>Viewed</th><th>title_eng</th><th>title_translation</th><th>parsed_date</th><th>parsed_title</th><th>checked</th><th>gpt_parsed_titles</th></tr><tr><td>i64</td><td>str</td><td>i32</td><td>str</td><td>str</td><td>str</td><td>i64</td><td>str</td><td>str</td><td>str</td></tr></thead><tbody><tr><td>1</td><td>&quot;Действуй сестра&quot;</td><td>null</td><td>null</td><td>&quot;Not found&quot;</td><td>&quot;Act sister&quot;</td><td>null</td><td>&quot;Not found&quot;</td><td>null</td><td>&quot;Sister Act&quot;</td></tr><tr><td>5</td><td>&quot;Похитители велосипедов&quot;</td><td>null</td><td>null</td><td>&quot;Not found&quot;</td><td>&quot;Cycles of bicycles&quot;</td><td>null</td><td>&quot;Not found&quot;</td><td>null</td><td>&quot;Bicycle Thieves&quot;</td></tr><tr><td>6</td><td>&quot;Академия рашмор&quot;</td><td>null</td><td>null</td><td>&quot;Not found&quot;</td><td>&quot;Rashmore Academy&quot;</td><td>null</td><td>&quot;Not found&quot;</td><td>null</td><td>&quot;Rushmore&quot;</td></tr><tr><td>7</td><td>&quot;Бегущий по лезвию&quot;</td><td>null</td><td>null</td><td>&quot;Not found&quot;</td><td>&quot;Running along the blade&quot;</td><td>null</td><td>&quot;Not found&quot;</td><td>null</td><td>&quot;Blade Runner&quot;</td></tr><tr><td>13</td><td>&quot;Мрачные тени&quot;</td><td>null</td><td>null</td><td>&quot;Not found&quot;</td><td>&quot;Gloomy shadows&quot;</td><td>null</td><td>&quot;Not found&quot;</td><td>null</td><td>&quot;Dark Shadows&quot;</td></tr><tr><td>&hellip;</td><td>&hellip;</td><td>&hellip;</td><td>&hellip;</td><td>&hellip;</td><td>&hellip;</td><td>&hellip;</td><td>&hellip;</td><td>&hellip;</td><td>&hellip;</td></tr><tr><td>617</td><td>&quot;Only Yesterday&quot;</td><td>1991</td><td>&quot;12.05.2025&quot;</td><td>&quot;Not found&quot;</td><td>&quot;Only Yesterday&quot;</td><td>null</td><td>&quot;Not found&quot;</td><td>null</td><td>&quot;Only Yesterday&quot;</td></tr><tr><td>618</td><td>&quot;Princess Bride&quot;</td><td>1987</td><td>&quot;12.06.2025&quot;</td><td>&quot;Not found&quot;</td><td>&quot;Princess Bride&quot;</td><td>null</td><td>&quot;Not found&quot;</td><td>null</td><td>&quot;The Princess Bride&quot;</td></tr><tr><td>619</td><td>&quot;Grave of the Fireflies&quot;</td><td>1988</td><td>&quot;10.07.2025&quot;</td><td>&quot;Not found&quot;</td><td>&quot;Grave of the Fireflies&quot;</td><td>null</td><td>&quot;Not found&quot;</td><td>null</td><td>&quot;Grave of the Fireflies&quot;</td></tr><tr><td>620</td><td>&quot;The Usual Suspects&quot;</td><td>1995</td><td>&quot;14.07.2025&quot;</td><td>&quot;Not found&quot;</td><td>&quot;The Usual Suspects&quot;</td><td>null</td><td>&quot;Not found&quot;</td><td>null</td><td>&quot;The Usual Suspects&quot;</td></tr><tr><td>621</td><td>&quot;Lone Star&quot;</td><td>1996</td><td>&quot;26.07.2025&quot;</td><td>&quot;Not found&quot;</td><td>&quot;Lone Star&quot;</td><td>null</td><td>&quot;Not found&quot;</td><td>null</td><td>&quot;Lone Star&quot;</td></tr></tbody></table></div>"
      ],
      "text/plain": [
       "shape: (413, 10)\n",
       "┌───────┬──────────────┬──────┬────────────┬───┬─────────────┬─────────────┬─────────┬─────────────┐\n",
       "│ index ┆ Title        ┆ Year ┆ Viewed     ┆ … ┆ parsed_date ┆ parsed_titl ┆ checked ┆ gpt_parsed_ │\n",
       "│ ---   ┆ ---          ┆ ---  ┆ ---        ┆   ┆ ---         ┆ e           ┆ ---     ┆ titles      │\n",
       "│ i64   ┆ str          ┆ i32  ┆ str        ┆   ┆ i64         ┆ ---         ┆ str     ┆ ---         │\n",
       "│       ┆              ┆      ┆            ┆   ┆             ┆ str         ┆         ┆ str         │\n",
       "╞═══════╪══════════════╪══════╪════════════╪═══╪═════════════╪═════════════╪═════════╪═════════════╡\n",
       "│ 1     ┆ Действуй     ┆ null ┆ null       ┆ … ┆ null        ┆ Not found   ┆ null    ┆ Sister Act  │\n",
       "│       ┆ сестра       ┆      ┆            ┆   ┆             ┆             ┆         ┆             │\n",
       "│ 5     ┆ Похитители   ┆ null ┆ null       ┆ … ┆ null        ┆ Not found   ┆ null    ┆ Bicycle     │\n",
       "│       ┆ велосипедов  ┆      ┆            ┆   ┆             ┆             ┆         ┆ Thieves     │\n",
       "│ 6     ┆ Академия     ┆ null ┆ null       ┆ … ┆ null        ┆ Not found   ┆ null    ┆ Rushmore    │\n",
       "│       ┆ рашмор       ┆      ┆            ┆   ┆             ┆             ┆         ┆             │\n",
       "│ 7     ┆ Бегущий по   ┆ null ┆ null       ┆ … ┆ null        ┆ Not found   ┆ null    ┆ Blade       │\n",
       "│       ┆ лезвию       ┆      ┆            ┆   ┆             ┆             ┆         ┆ Runner      │\n",
       "│ 13    ┆ Мрачные тени ┆ null ┆ null       ┆ … ┆ null        ┆ Not found   ┆ null    ┆ Dark        │\n",
       "│       ┆              ┆      ┆            ┆   ┆             ┆             ┆         ┆ Shadows     │\n",
       "│ …     ┆ …            ┆ …    ┆ …          ┆ … ┆ …           ┆ …           ┆ …       ┆ …           │\n",
       "│ 617   ┆ Only         ┆ 1991 ┆ 12.05.2025 ┆ … ┆ null        ┆ Not found   ┆ null    ┆ Only        │\n",
       "│       ┆ Yesterday    ┆      ┆            ┆   ┆             ┆             ┆         ┆ Yesterday   │\n",
       "│ 618   ┆ Princess     ┆ 1987 ┆ 12.06.2025 ┆ … ┆ null        ┆ Not found   ┆ null    ┆ The         │\n",
       "│       ┆ Bride        ┆      ┆            ┆   ┆             ┆             ┆         ┆ Princess    │\n",
       "│       ┆              ┆      ┆            ┆   ┆             ┆             ┆         ┆ Bride       │\n",
       "│ 619   ┆ Grave of the ┆ 1988 ┆ 10.07.2025 ┆ … ┆ null        ┆ Not found   ┆ null    ┆ Grave of    │\n",
       "│       ┆ Fireflies    ┆      ┆            ┆   ┆             ┆             ┆         ┆ the         │\n",
       "│       ┆              ┆      ┆            ┆   ┆             ┆             ┆         ┆ Fireflies   │\n",
       "│ 620   ┆ The Usual    ┆ 1995 ┆ 14.07.2025 ┆ … ┆ null        ┆ Not found   ┆ null    ┆ The Usual   │\n",
       "│       ┆ Suspects     ┆      ┆            ┆   ┆             ┆             ┆         ┆ Suspects    │\n",
       "│ 621   ┆ Lone Star    ┆ 1996 ┆ 26.07.2025 ┆ … ┆ null        ┆ Not found   ┆ null    ┆ Lone Star   │\n",
       "└───────┴──────────────┴──────┴────────────┴───┴─────────────┴─────────────┴─────────┴─────────────┘"
      ]
     },
     "execution_count": 51,
     "metadata": {},
     "output_type": "execute_result"
    }
   ],
   "source": [
    "movies_df.filter(c(\"checked\").is_null())"
   ]
  },
  {
   "cell_type": "code",
   "execution_count": 29,
   "id": "508f234f",
   "metadata": {},
   "outputs": [],
   "source": [
    "# (movies_df.filter(c(\"checked\").is_null())[\"Title\"].to_list()[47 + 93 + 31 :])"
   ]
  },
  {
   "cell_type": "code",
   "execution_count": 54,
   "id": "e0ac54a1",
   "metadata": {},
   "outputs": [],
   "source": [
    "def fetch_english_title(title):\n",
    "    try:\n",
    "        url = f\"http://www.omdbapi.com/?apikey={OMDB_API_KEY}&t={requests.utils.quote(title)}\"\n",
    "        response = requests.get(url)\n",
    "        data = response.json()\n",
    "        if data.get(\"Response\") == \"True\" and \"Title\" in data:\n",
    "            return data\n",
    "            # (\n",
    "            #     data[\"Title\"],\n",
    "            #     data[\"Year\"],\n",
    "            #     data[\"Genre\"],\n",
    "            #     data[\"Director\"],\n",
    "            #     data[\"Country\"],\n",
    "            # )\n",
    "        else:\n",
    "            print(f\"Not found in OMDb: {title}\")\n",
    "            return \"Not found\"\n",
    "    except Exception as e:\n",
    "        print(f\"OMDb error for {title}: {e}\")\n",
    "        return \"Not found\"\n",
    "\n",
    "\n",
    "# movies = movies.with_columns(\n",
    "#     title_eng=pl.col(\"Title\").map_elements(fetch_english_title)\n",
    "# )"
   ]
  },
  {
   "cell_type": "code",
   "execution_count": 53,
   "id": "4c468381",
   "metadata": {},
   "outputs": [
    {
     "data": {
      "text/html": [
       "<div><style>\n",
       ".dataframe > thead > tr,\n",
       ".dataframe > tbody > tr {\n",
       "  text-align: right;\n",
       "  white-space: pre-wrap;\n",
       "}\n",
       "</style>\n",
       "<small>shape: (1, 10)</small><table border=\"1\" class=\"dataframe\"><thead><tr><th>index</th><th>Title</th><th>Year</th><th>Viewed</th><th>title_eng</th><th>title_translation</th><th>parsed_date</th><th>parsed_title</th><th>checked</th><th>gpt_parsed_titles</th></tr><tr><td>i64</td><td>str</td><td>i32</td><td>str</td><td>str</td><td>str</td><td>i64</td><td>str</td><td>str</td><td>str</td></tr></thead><tbody><tr><td>1</td><td>&quot;Действуй сестра&quot;</td><td>null</td><td>null</td><td>&quot;Not found&quot;</td><td>&quot;Act sister&quot;</td><td>null</td><td>&quot;Not found&quot;</td><td>null</td><td>&quot;Sister Act&quot;</td></tr></tbody></table></div>"
      ],
      "text/plain": [
       "shape: (1, 10)\n",
       "┌───────┬──────────┬──────┬────────┬───┬─────────────┬──────────────┬─────────┬────────────────────┐\n",
       "│ index ┆ Title    ┆ Year ┆ Viewed ┆ … ┆ parsed_date ┆ parsed_title ┆ checked ┆ gpt_parsed_titles  │\n",
       "│ ---   ┆ ---      ┆ ---  ┆ ---    ┆   ┆ ---         ┆ ---          ┆ ---     ┆ ---                │\n",
       "│ i64   ┆ str      ┆ i32  ┆ str    ┆   ┆ i64         ┆ str          ┆ str     ┆ str                │\n",
       "╞═══════╪══════════╪══════╪════════╪═══╪═════════════╪══════════════╪═════════╪════════════════════╡\n",
       "│ 1     ┆ Действуй ┆ null ┆ null   ┆ … ┆ null        ┆ Not found    ┆ null    ┆ Sister Act         │\n",
       "│       ┆ сестра   ┆      ┆        ┆   ┆             ┆              ┆         ┆                    │\n",
       "└───────┴──────────┴──────┴────────┴───┴─────────────┴──────────────┴─────────┴────────────────────┘"
      ]
     },
     "execution_count": 53,
     "metadata": {},
     "output_type": "execute_result"
    }
   ],
   "source": [
    "movies_df.filter(c(\"checked\").is_null()).head(1)"
   ]
  },
  {
   "cell_type": "code",
   "execution_count": null,
   "id": "781f9027",
   "metadata": {},
   "outputs": [],
   "source": [
    "# movies =\n",
    "parsed_metadata = (\n",
    "    movies_df.filter(c(\"checked\").is_null())\n",
    "    .head(10)\n",
    "    .with_columns(\n",
    "        metadata=pl.col(\"gpt_parsed_titles\").map_elements(\n",
    "            fetch_english_title, return_dtype=pl.datatypes.Struct\n",
    "        )\n",
    "    )[\"metadata\"]\n",
    ")"
   ]
  },
  {
   "cell_type": "code",
   "execution_count": 84,
   "id": "d72511cd",
   "metadata": {},
   "outputs": [
    {
     "data": {
      "text/html": [
       "<div><style>\n",
       ".dataframe > thead > tr,\n",
       ".dataframe > tbody > tr {\n",
       "  text-align: right;\n",
       "  white-space: pre-wrap;\n",
       "}\n",
       "</style>\n",
       "<small>shape: (5, 10)</small><table border=\"1\" class=\"dataframe\"><thead><tr><th>index</th><th>Title</th><th>Year</th><th>Viewed</th><th>title_eng</th><th>title_translation</th><th>parsed_date</th><th>parsed_title</th><th>checked</th><th>gpt_parsed_titles</th></tr><tr><td>i64</td><td>str</td><td>i32</td><td>str</td><td>str</td><td>str</td><td>i64</td><td>str</td><td>str</td><td>str</td></tr></thead><tbody><tr><td>1</td><td>&quot;Действуй сестра&quot;</td><td>null</td><td>null</td><td>&quot;Not found&quot;</td><td>&quot;Act sister&quot;</td><td>null</td><td>&quot;Not found&quot;</td><td>null</td><td>&quot;Sister Act&quot;</td></tr><tr><td>2</td><td>&quot;Summer lovers&quot;</td><td>null</td><td>null</td><td>&quot;Summer Lovers_1982_Comedy, Dra…</td><td>&quot;Summer lovers&quot;</td><td>1982</td><td>&quot;Summer Lovers&quot;</td><td>&quot;checked&quot;</td><td>&quot;Summer lovers&quot;</td></tr><tr><td>3</td><td>&quot;Джон уик&quot;</td><td>null</td><td>null</td><td>&quot;John Wick_2014_Action, Crime, …</td><td>&quot;John Wick&quot;</td><td>2014</td><td>&quot;John Wick&quot;</td><td>&quot;checked&quot;</td><td>&quot;Джон уик&quot;</td></tr><tr><td>4</td><td>&quot;Помни&quot;</td><td>null</td><td>null</td><td>&quot;Remembered_2015_Short, Drama_N…</td><td>&quot;Remembered&quot;</td><td>2015</td><td>&quot;Remembered&quot;</td><td>&quot;checked&quot;</td><td>&quot;Помни&quot;</td></tr><tr><td>5</td><td>&quot;Похитители велосипедов&quot;</td><td>null</td><td>null</td><td>&quot;Not found&quot;</td><td>&quot;Cycles of bicycles&quot;</td><td>null</td><td>&quot;Not found&quot;</td><td>null</td><td>&quot;Bicycle Thieves&quot;</td></tr></tbody></table></div>"
      ],
      "text/plain": [
       "shape: (5, 10)\n",
       "┌───────┬───────────────┬──────┬────────┬───┬─────────────┬───────────────┬─────────┬──────────────┐\n",
       "│ index ┆ Title         ┆ Year ┆ Viewed ┆ … ┆ parsed_date ┆ parsed_title  ┆ checked ┆ gpt_parsed_t │\n",
       "│ ---   ┆ ---           ┆ ---  ┆ ---    ┆   ┆ ---         ┆ ---           ┆ ---     ┆ itles        │\n",
       "│ i64   ┆ str           ┆ i32  ┆ str    ┆   ┆ i64         ┆ str           ┆ str     ┆ ---          │\n",
       "│       ┆               ┆      ┆        ┆   ┆             ┆               ┆         ┆ str          │\n",
       "╞═══════╪═══════════════╪══════╪════════╪═══╪═════════════╪═══════════════╪═════════╪══════════════╡\n",
       "│ 1     ┆ Действуй      ┆ null ┆ null   ┆ … ┆ null        ┆ Not found     ┆ null    ┆ Sister Act   │\n",
       "│       ┆ сестра        ┆      ┆        ┆   ┆             ┆               ┆         ┆              │\n",
       "│ 2     ┆ Summer lovers ┆ null ┆ null   ┆ … ┆ 1982        ┆ Summer Lovers ┆ checked ┆ Summer       │\n",
       "│       ┆               ┆      ┆        ┆   ┆             ┆               ┆         ┆ lovers       │\n",
       "│ 3     ┆ Джон уик      ┆ null ┆ null   ┆ … ┆ 2014        ┆ John Wick     ┆ checked ┆ Джон уик     │\n",
       "│ 4     ┆ Помни         ┆ null ┆ null   ┆ … ┆ 2015        ┆ Remembered    ┆ checked ┆ Помни        │\n",
       "│ 5     ┆ Похитители    ┆ null ┆ null   ┆ … ┆ null        ┆ Not found     ┆ null    ┆ Bicycle      │\n",
       "│       ┆ велосипедов   ┆      ┆        ┆   ┆             ┆               ┆         ┆ Thieves      │\n",
       "└───────┴───────────────┴──────┴────────┴───┴─────────────┴───────────────┴─────────┴──────────────┘"
      ]
     },
     "execution_count": 84,
     "metadata": {},
     "output_type": "execute_result"
    }
   ],
   "source": [
    "movies_df.head()"
   ]
  },
  {
   "cell_type": "code",
   "execution_count": 97,
   "id": "8e9bc606",
   "metadata": {},
   "outputs": [],
   "source": [
    "from tqdm import tqdm"
   ]
  },
  {
   "cell_type": "code",
   "execution_count": 98,
   "id": "3d347cf3",
   "metadata": {},
   "outputs": [
    {
     "name": "stderr",
     "output_type": "stream",
     "text": [
      "151it [00:47,  4.13it/s]"
     ]
    },
    {
     "name": "stdout",
     "output_type": "stream",
     "text": [
      "Not found in OMDb: Test for Femininity\n"
     ]
    },
    {
     "name": "stderr",
     "output_type": "stream",
     "text": [
      "153it [00:47,  3.63it/s]"
     ]
    },
    {
     "name": "stdout",
     "output_type": "stream",
     "text": [
      "Not found in OMDb: (100 Favorite Films of Frank Ocean)\n"
     ]
    },
    {
     "name": "stderr",
     "output_type": "stream",
     "text": [
      "165it [00:51,  3.73it/s]"
     ]
    },
    {
     "name": "stdout",
     "output_type": "stream",
     "text": [
      "Not found in OMDb: Streams of Love\n"
     ]
    },
    {
     "name": "stderr",
     "output_type": "stream",
     "text": [
      "186it [00:56,  3.43it/s]"
     ]
    },
    {
     "name": "stdout",
     "output_type": "stream",
     "text": [
      "Not found in OMDb: The Mummy (2017)\n"
     ]
    },
    {
     "name": "stderr",
     "output_type": "stream",
     "text": [
      "198it [00:59,  4.11it/s]"
     ]
    },
    {
     "name": "stdout",
     "output_type": "stream",
     "text": [
      "Not found in OMDb: The Assassination of the Duke of Guise\n"
     ]
    },
    {
     "name": "stderr",
     "output_type": "stream",
     "text": [
      "246it [01:13,  2.78it/s]"
     ]
    },
    {
     "name": "stdout",
     "output_type": "stream",
     "text": [
      "Not found in OMDb: Indiana Jones: Raiders of the Lost Ark\n"
     ]
    },
    {
     "name": "stderr",
     "output_type": "stream",
     "text": [
      "285it [01:23,  4.29it/s]"
     ]
    },
    {
     "name": "stdout",
     "output_type": "stream",
     "text": [
      "Not found in OMDb: Manhattan Shorts\n"
     ]
    },
    {
     "name": "stderr",
     "output_type": "stream",
     "text": [
      "369it [01:45,  3.33it/s]"
     ]
    },
    {
     "name": "stdout",
     "output_type": "stream",
     "text": [
      "Not found in OMDb: Apollo 10 1⁄2: A Space Age Childhood\n"
     ]
    },
    {
     "name": "stderr",
     "output_type": "stream",
     "text": [
      "413it [01:56,  3.54it/s]\n"
     ]
    }
   ],
   "source": [
    "result_dict = dict()\n",
    "for row in tqdm(movies_df.filter(c(\"checked\").is_null()).iter_rows(named=True)):\n",
    "    result_dict[row[\"index\"]] = fetch_english_title(row[\"gpt_parsed_titles\"])"
   ]
  },
  {
   "cell_type": "code",
   "execution_count": 101,
   "id": "3d80e445",
   "metadata": {},
   "outputs": [
    {
     "data": {
      "text/plain": [
       "dict_keys([1, 5, 6, 7, 13, 14, 16, 19, 20, 22, 24, 25, 28, 30, 31, 32, 34, 35, 39, 45, 48, 51, 55, 57, 59, 62, 64, 68, 70, 73, 77, 79, 81, 84, 85, 87, 93, 94, 95, 97, 102, 108, 109, 112, 115, 116, 117, 119, 123, 125, 128, 134, 135, 136, 139, 142, 146, 147, 148, 149, 150, 154, 157, 159, 163, 164, 166, 168, 171, 174, 177, 178, 182, 183, 185, 188, 189, 190, 195, 196, 198, 199, 200, 202, 204, 205, 207, 213, 215, 216, 225, 228, 230, 231, 232, 234, 235, 236, 237, 238, 239, 240, 242, 243, 245, 246, 248, 249, 250, 251, 252, 259, 261, 264, 266, 267, 268, 274, 276, 277, 279, 280, 284, 286, 288, 289, 296, 299, 300, 302, 304, 305, 306, 307, 309, 312, 315, 322, 323, 324, 327, 331, 334, 335, 338, 339, 341, 342, 347, 349, 350, 352, 355, 356, 361, 364, 365, 366, 367, 368, 369, 370, 371, 372, 373, 374, 375, 376, 377, 378, 379, 380, 381, 382, 383, 384, 385, 386, 387, 388, 389, 390, 391, 392, 393, 394, 395, 396, 397, 398, 399, 400, 401, 402, 403, 404, 405, 406, 407, 408, 409, 410, 411, 412, 413, 414, 415, 416, 417, 418, 419, 420, 421, 422, 423, 424, 425, 426, 427, 428, 429, 430, 431, 432, 433, 434, 435, 436, 437, 438, 439, 440, 441, 442, 443, 444, 445, 446, 447, 448, 449, 450, 451, 452, 453, 454, 455, 456, 457, 458, 459, 460, 461, 462, 463, 464, 465, 466, 467, 468, 469, 470, 471, 472, 473, 474, 475, 476, 477, 478, 479, 480, 481, 482, 483, 484, 485, 486, 487, 488, 489, 490, 491, 492, 493, 494, 495, 496, 497, 498, 499, 500, 501, 502, 503, 504, 505, 506, 507, 508, 509, 510, 511, 512, 513, 514, 515, 516, 517, 518, 519, 520, 521, 522, 523, 524, 525, 526, 527, 528, 529, 530, 531, 532, 533, 534, 535, 536, 537, 538, 539, 540, 541, 542, 543, 544, 545, 546, 547, 548, 549, 550, 551, 552, 553, 554, 555, 556, 557, 558, 559, 560, 561, 562, 563, 564, 565, 566, 567, 568, 569, 570, 571, 572, 573, 574, 575, 576, 577, 578, 579, 580, 581, 582, 583, 584, 585, 586, 587, 588, 589, 590, 591, 592, 593, 594, 595, 596, 597, 598, 599, 600, 601, 602, 603, 604, 605, 606, 607, 608, 609, 610, 611, 612, 613, 614, 615, 616, 617, 618, 619, 620, 621])"
      ]
     },
     "execution_count": 101,
     "metadata": {},
     "output_type": "execute_result"
    }
   ],
   "source": [
    "indexes"
   ]
  },
  {
   "cell_type": "code",
   "execution_count": 103,
   "id": "7f476f80",
   "metadata": {},
   "outputs": [
    {
     "data": {
      "text/plain": [
       "'Bicycle Thieves'"
      ]
     },
     "execution_count": 103,
     "metadata": {},
     "output_type": "execute_result"
    }
   ],
   "source": [
    "result_dict[5][\"Title\"]"
   ]
  },
  {
   "cell_type": "code",
   "execution_count": 105,
   "id": "919ac207",
   "metadata": {},
   "outputs": [
    {
     "data": {
      "text/plain": [
       "'Not found'"
      ]
     },
     "execution_count": 105,
     "metadata": {},
     "output_type": "execute_result"
    }
   ],
   "source": [
    "result_dict[key]"
   ]
  },
  {
   "cell_type": "code",
   "execution_count": null,
   "id": "29452996",
   "metadata": {},
   "outputs": [],
   "source": [
    "titles = []\n",
    "years = []\n",
    "indexes = result_dict.keys()\n",
    "for key in indexes:\n",
    "    if result_dict[key] == \"Not found\":\n",
    "        titles.append(\"Not found\")\n",
    "        years.append(\"-1\")\n",
    "    else:\n",
    "        titles.append(result_dict[key][\"Title\"])\n",
    "        years.append(result_dict[key][\"Year\"])"
   ]
  },
  {
   "cell_type": "code",
   "execution_count": 107,
   "id": "2eac404b",
   "metadata": {},
   "outputs": [
    {
     "data": {
      "text/html": [
       "<div><style>\n",
       ".dataframe > thead > tr,\n",
       ".dataframe > tbody > tr {\n",
       "  text-align: right;\n",
       "  white-space: pre-wrap;\n",
       "}\n",
       "</style>\n",
       "<small>shape: (413, 3)</small><table border=\"1\" class=\"dataframe\"><thead><tr><th>index</th><th>years</th><th>titles</th></tr><tr><td>i64</td><td>str</td><td>str</td></tr></thead><tbody><tr><td>1</td><td>&quot;1992&quot;</td><td>&quot;Sister Act&quot;</td></tr><tr><td>5</td><td>&quot;1948&quot;</td><td>&quot;Bicycle Thieves&quot;</td></tr><tr><td>6</td><td>&quot;1998&quot;</td><td>&quot;Rushmore&quot;</td></tr><tr><td>7</td><td>&quot;1982&quot;</td><td>&quot;Blade Runner&quot;</td></tr><tr><td>13</td><td>&quot;2012&quot;</td><td>&quot;Dark Shadows&quot;</td></tr><tr><td>&hellip;</td><td>&hellip;</td><td>&hellip;</td></tr><tr><td>617</td><td>&quot;1991&quot;</td><td>&quot;Only Yesterday&quot;</td></tr><tr><td>618</td><td>&quot;1987&quot;</td><td>&quot;The Princess Bride&quot;</td></tr><tr><td>619</td><td>&quot;1988&quot;</td><td>&quot;Grave of the Fireflies&quot;</td></tr><tr><td>620</td><td>&quot;1995&quot;</td><td>&quot;The Usual Suspects&quot;</td></tr><tr><td>621</td><td>&quot;1996&quot;</td><td>&quot;Lone Star&quot;</td></tr></tbody></table></div>"
      ],
      "text/plain": [
       "shape: (413, 3)\n",
       "┌───────┬───────┬────────────────────────┐\n",
       "│ index ┆ years ┆ titles                 │\n",
       "│ ---   ┆ ---   ┆ ---                    │\n",
       "│ i64   ┆ str   ┆ str                    │\n",
       "╞═══════╪═══════╪════════════════════════╡\n",
       "│ 1     ┆ 1992  ┆ Sister Act             │\n",
       "│ 5     ┆ 1948  ┆ Bicycle Thieves        │\n",
       "│ 6     ┆ 1998  ┆ Rushmore               │\n",
       "│ 7     ┆ 1982  ┆ Blade Runner           │\n",
       "│ 13    ┆ 2012  ┆ Dark Shadows           │\n",
       "│ …     ┆ …     ┆ …                      │\n",
       "│ 617   ┆ 1991  ┆ Only Yesterday         │\n",
       "│ 618   ┆ 1987  ┆ The Princess Bride     │\n",
       "│ 619   ┆ 1988  ┆ Grave of the Fireflies │\n",
       "│ 620   ┆ 1995  ┆ The Usual Suspects     │\n",
       "│ 621   ┆ 1996  ┆ Lone Star              │\n",
       "└───────┴───────┴────────────────────────┘"
      ]
     },
     "execution_count": 107,
     "metadata": {},
     "output_type": "execute_result"
    }
   ],
   "source": [
    "parsed_films = pl.from_dict(\n",
    "    {\n",
    "        \"index\": indexes,\n",
    "        \"years\": years,\n",
    "        \"titles\": titles,\n",
    "    }\n",
    ")\n",
    "\n",
    "parsed_films"
   ]
  },
  {
   "cell_type": "code",
   "execution_count": 108,
   "id": "ba06c69c",
   "metadata": {},
   "outputs": [
    {
     "data": {
      "text/html": [
       "<div><style>\n",
       ".dataframe > thead > tr,\n",
       ".dataframe > tbody > tr {\n",
       "  text-align: right;\n",
       "  white-space: pre-wrap;\n",
       "}\n",
       "</style>\n",
       "<small>shape: (5, 10)</small><table border=\"1\" class=\"dataframe\"><thead><tr><th>index</th><th>Title</th><th>Year</th><th>Viewed</th><th>title_eng</th><th>title_translation</th><th>parsed_date</th><th>parsed_title</th><th>checked</th><th>gpt_parsed_titles</th></tr><tr><td>i64</td><td>str</td><td>i32</td><td>str</td><td>str</td><td>str</td><td>i64</td><td>str</td><td>str</td><td>str</td></tr></thead><tbody><tr><td>1</td><td>&quot;Действуй сестра&quot;</td><td>null</td><td>null</td><td>&quot;Not found&quot;</td><td>&quot;Act sister&quot;</td><td>null</td><td>&quot;Not found&quot;</td><td>null</td><td>&quot;Sister Act&quot;</td></tr><tr><td>2</td><td>&quot;Summer lovers&quot;</td><td>null</td><td>null</td><td>&quot;Summer Lovers_1982_Comedy, Dra…</td><td>&quot;Summer lovers&quot;</td><td>1982</td><td>&quot;Summer Lovers&quot;</td><td>&quot;checked&quot;</td><td>&quot;Summer lovers&quot;</td></tr><tr><td>3</td><td>&quot;Джон уик&quot;</td><td>null</td><td>null</td><td>&quot;John Wick_2014_Action, Crime, …</td><td>&quot;John Wick&quot;</td><td>2014</td><td>&quot;John Wick&quot;</td><td>&quot;checked&quot;</td><td>&quot;Джон уик&quot;</td></tr><tr><td>4</td><td>&quot;Помни&quot;</td><td>null</td><td>null</td><td>&quot;Remembered_2015_Short, Drama_N…</td><td>&quot;Remembered&quot;</td><td>2015</td><td>&quot;Remembered&quot;</td><td>&quot;checked&quot;</td><td>&quot;Помни&quot;</td></tr><tr><td>5</td><td>&quot;Похитители велосипедов&quot;</td><td>null</td><td>null</td><td>&quot;Not found&quot;</td><td>&quot;Cycles of bicycles&quot;</td><td>null</td><td>&quot;Not found&quot;</td><td>null</td><td>&quot;Bicycle Thieves&quot;</td></tr></tbody></table></div>"
      ],
      "text/plain": [
       "shape: (5, 10)\n",
       "┌───────┬───────────────┬──────┬────────┬───┬─────────────┬───────────────┬─────────┬──────────────┐\n",
       "│ index ┆ Title         ┆ Year ┆ Viewed ┆ … ┆ parsed_date ┆ parsed_title  ┆ checked ┆ gpt_parsed_t │\n",
       "│ ---   ┆ ---           ┆ ---  ┆ ---    ┆   ┆ ---         ┆ ---           ┆ ---     ┆ itles        │\n",
       "│ i64   ┆ str           ┆ i32  ┆ str    ┆   ┆ i64         ┆ str           ┆ str     ┆ ---          │\n",
       "│       ┆               ┆      ┆        ┆   ┆             ┆               ┆         ┆ str          │\n",
       "╞═══════╪═══════════════╪══════╪════════╪═══╪═════════════╪═══════════════╪═════════╪══════════════╡\n",
       "│ 1     ┆ Действуй      ┆ null ┆ null   ┆ … ┆ null        ┆ Not found     ┆ null    ┆ Sister Act   │\n",
       "│       ┆ сестра        ┆      ┆        ┆   ┆             ┆               ┆         ┆              │\n",
       "│ 2     ┆ Summer lovers ┆ null ┆ null   ┆ … ┆ 1982        ┆ Summer Lovers ┆ checked ┆ Summer       │\n",
       "│       ┆               ┆      ┆        ┆   ┆             ┆               ┆         ┆ lovers       │\n",
       "│ 3     ┆ Джон уик      ┆ null ┆ null   ┆ … ┆ 2014        ┆ John Wick     ┆ checked ┆ Джон уик     │\n",
       "│ 4     ┆ Помни         ┆ null ┆ null   ┆ … ┆ 2015        ┆ Remembered    ┆ checked ┆ Помни        │\n",
       "│ 5     ┆ Похитители    ┆ null ┆ null   ┆ … ┆ null        ┆ Not found     ┆ null    ┆ Bicycle      │\n",
       "│       ┆ велосипедов   ┆      ┆        ┆   ┆             ┆               ┆         ┆ Thieves      │\n",
       "└───────┴───────────────┴──────┴────────┴───┴─────────────┴───────────────┴─────────┴──────────────┘"
      ]
     },
     "execution_count": 108,
     "metadata": {},
     "output_type": "execute_result"
    }
   ],
   "source": [
    "movies_df.head()"
   ]
  },
  {
   "cell_type": "code",
   "execution_count": null,
   "id": "c65a3819",
   "metadata": {},
   "outputs": [],
   "source": [
    "movies_df = movies_df.join(parsed_films, on=\"index\", how=\"left\")"
   ]
  },
  {
   "cell_type": "code",
   "execution_count": 112,
   "id": "a43b277e",
   "metadata": {},
   "outputs": [
    {
     "data": {
      "text/html": [
       "<div><style>\n",
       ".dataframe > thead > tr,\n",
       ".dataframe > tbody > tr {\n",
       "  text-align: right;\n",
       "  white-space: pre-wrap;\n",
       "}\n",
       "</style>\n",
       "<small>shape: (5, 12)</small><table border=\"1\" class=\"dataframe\"><thead><tr><th>index</th><th>Title</th><th>Year</th><th>Viewed</th><th>title_eng</th><th>title_translation</th><th>parsed_date</th><th>parsed_title</th><th>checked</th><th>gpt_parsed_titles</th><th>years</th><th>titles</th></tr><tr><td>i64</td><td>str</td><td>i32</td><td>str</td><td>str</td><td>str</td><td>i64</td><td>str</td><td>str</td><td>str</td><td>str</td><td>str</td></tr></thead><tbody><tr><td>1</td><td>&quot;Действуй сестра&quot;</td><td>null</td><td>null</td><td>&quot;Not found&quot;</td><td>&quot;Act sister&quot;</td><td>null</td><td>&quot;Not found&quot;</td><td>null</td><td>&quot;Sister Act&quot;</td><td>&quot;1992&quot;</td><td>&quot;Sister Act&quot;</td></tr><tr><td>2</td><td>&quot;Summer lovers&quot;</td><td>null</td><td>null</td><td>&quot;Summer Lovers_1982_Comedy, Dra…</td><td>&quot;Summer lovers&quot;</td><td>1982</td><td>&quot;Summer Lovers&quot;</td><td>&quot;checked&quot;</td><td>&quot;Summer lovers&quot;</td><td>null</td><td>null</td></tr><tr><td>3</td><td>&quot;Джон уик&quot;</td><td>null</td><td>null</td><td>&quot;John Wick_2014_Action, Crime, …</td><td>&quot;John Wick&quot;</td><td>2014</td><td>&quot;John Wick&quot;</td><td>&quot;checked&quot;</td><td>&quot;Джон уик&quot;</td><td>null</td><td>null</td></tr><tr><td>4</td><td>&quot;Помни&quot;</td><td>null</td><td>null</td><td>&quot;Remembered_2015_Short, Drama_N…</td><td>&quot;Remembered&quot;</td><td>2015</td><td>&quot;Remembered&quot;</td><td>&quot;checked&quot;</td><td>&quot;Помни&quot;</td><td>null</td><td>null</td></tr><tr><td>5</td><td>&quot;Похитители велосипедов&quot;</td><td>null</td><td>null</td><td>&quot;Not found&quot;</td><td>&quot;Cycles of bicycles&quot;</td><td>null</td><td>&quot;Not found&quot;</td><td>null</td><td>&quot;Bicycle Thieves&quot;</td><td>&quot;1948&quot;</td><td>&quot;Bicycle Thieves&quot;</td></tr></tbody></table></div>"
      ],
      "text/plain": [
       "shape: (5, 12)\n",
       "┌───────┬───────────────────┬──────┬────────┬───┬─────────┬───────────────────┬───────┬────────────┐\n",
       "│ index ┆ Title             ┆ Year ┆ Viewed ┆ … ┆ checked ┆ gpt_parsed_titles ┆ years ┆ titles     │\n",
       "│ ---   ┆ ---               ┆ ---  ┆ ---    ┆   ┆ ---     ┆ ---               ┆ ---   ┆ ---        │\n",
       "│ i64   ┆ str               ┆ i32  ┆ str    ┆   ┆ str     ┆ str               ┆ str   ┆ str        │\n",
       "╞═══════╪═══════════════════╪══════╪════════╪═══╪═════════╪═══════════════════╪═══════╪════════════╡\n",
       "│ 1     ┆ Действуй сестра   ┆ null ┆ null   ┆ … ┆ null    ┆ Sister Act        ┆ 1992  ┆ Sister Act │\n",
       "│ 2     ┆ Summer lovers     ┆ null ┆ null   ┆ … ┆ checked ┆ Summer lovers     ┆ null  ┆ null       │\n",
       "│ 3     ┆ Джон уик          ┆ null ┆ null   ┆ … ┆ checked ┆ Джон уик          ┆ null  ┆ null       │\n",
       "│ 4     ┆ Помни             ┆ null ┆ null   ┆ … ┆ checked ┆ Помни             ┆ null  ┆ null       │\n",
       "│ 5     ┆ Похитители        ┆ null ┆ null   ┆ … ┆ null    ┆ Bicycle Thieves   ┆ 1948  ┆ Bicycle    │\n",
       "│       ┆ велосипедов       ┆      ┆        ┆   ┆         ┆                   ┆       ┆ Thieves    │\n",
       "└───────┴───────────────────┴──────┴────────┴───┴─────────┴───────────────────┴───────┴────────────┘"
      ]
     },
     "execution_count": 112,
     "metadata": {},
     "output_type": "execute_result"
    }
   ],
   "source": [
    "movies_df.head()"
   ]
  },
  {
   "cell_type": "code",
   "execution_count": 116,
   "id": "a05b9407",
   "metadata": {},
   "outputs": [],
   "source": [
    "movies_df = movies_df.with_columns(\n",
    "    pl.when(c(\"parsed_title\") == \"Not found\")\n",
    "    .then(c(\"titles\"))\n",
    "    .otherwise(c(\"parsed_title\"))\n",
    "    .alias(\"cleaned_title\"),\n",
    "    pl.when(c(\"parsed_date\").is_null())\n",
    "    .then(c(\"years\"))\n",
    "    .otherwise(c(\"parsed_date\"))\n",
    "    .alias(\"cleaned_year\"),\n",
    ")"
   ]
  },
  {
   "cell_type": "code",
   "execution_count": 136,
   "id": "f27019c1",
   "metadata": {},
   "outputs": [
    {
     "data": {
      "text/html": [
       "<div><style>\n",
       ".dataframe > thead > tr,\n",
       ".dataframe > tbody > tr {\n",
       "  text-align: right;\n",
       "  white-space: pre-wrap;\n",
       "}\n",
       "</style>\n",
       "<small>shape: (20, 2)</small><table border=\"1\" class=\"dataframe\"><thead><tr><th>cleaned_year</th><th>count</th></tr><tr><td>str</td><td>u32</td></tr></thead><tbody><tr><td>&quot;2001&quot;</td><td>11</td></tr><tr><td>&quot;2011&quot;</td><td>12</td></tr><tr><td>&quot;1992&quot;</td><td>12</td></tr><tr><td>&quot;1993&quot;</td><td>12</td></tr><tr><td>&quot;1995&quot;</td><td>12</td></tr><tr><td>&hellip;</td><td>&hellip;</td></tr><tr><td>&quot;2019&quot;</td><td>16</td></tr><tr><td>&quot;1999&quot;</td><td>17</td></tr><tr><td>&quot;2016&quot;</td><td>19</td></tr><tr><td>&quot;2015&quot;</td><td>20</td></tr><tr><td>&quot;2013&quot;</td><td>25</td></tr></tbody></table></div>"
      ],
      "text/plain": [
       "shape: (20, 2)\n",
       "┌──────────────┬───────┐\n",
       "│ cleaned_year ┆ count │\n",
       "│ ---          ┆ ---   │\n",
       "│ str          ┆ u32   │\n",
       "╞══════════════╪═══════╡\n",
       "│ 2001         ┆ 11    │\n",
       "│ 2011         ┆ 12    │\n",
       "│ 1992         ┆ 12    │\n",
       "│ 1993         ┆ 12    │\n",
       "│ 1995         ┆ 12    │\n",
       "│ …            ┆ …     │\n",
       "│ 2019         ┆ 16    │\n",
       "│ 1999         ┆ 17    │\n",
       "│ 2016         ┆ 19    │\n",
       "│ 2015         ┆ 20    │\n",
       "│ 2013         ┆ 25    │\n",
       "└──────────────┴───────┘"
      ]
     },
     "execution_count": 136,
     "metadata": {},
     "output_type": "execute_result"
    }
   ],
   "source": [
    "movies_df[\"cleaned_year\"].value_counts().sort(\"count\").tail(20)"
   ]
  },
  {
   "cell_type": "code",
   "execution_count": 127,
   "id": "62a139c8",
   "metadata": {},
   "outputs": [
    {
     "data": {
      "text/html": [
       "<div><style>\n",
       ".dataframe > thead > tr,\n",
       ".dataframe > tbody > tr {\n",
       "  text-align: right;\n",
       "  white-space: pre-wrap;\n",
       "}\n",
       "</style>\n",
       "<small>shape: (4, 14)</small><table border=\"1\" class=\"dataframe\"><thead><tr><th>index</th><th>Title</th><th>Year</th><th>Viewed</th><th>title_eng</th><th>title_translation</th><th>parsed_date</th><th>parsed_title</th><th>checked</th><th>gpt_parsed_titles</th><th>years</th><th>titles</th><th>cleaned_title</th><th>cleaned_year</th></tr><tr><td>i64</td><td>str</td><td>i32</td><td>str</td><td>str</td><td>str</td><td>i64</td><td>str</td><td>str</td><td>str</td><td>str</td><td>str</td><td>str</td><td>str</td></tr></thead><tbody><tr><td>435</td><td>&quot;Затмение&quot;</td><td>null</td><td>null</td><td>&quot;Not found&quot;</td><td>&quot;Eclipse&quot;</td><td>null</td><td>&quot;Not found&quot;</td><td>null</td><td>&quot;Eclipse&quot;</td><td>&quot;2021–&quot;</td><td>&quot;Eclipse&quot;</td><td>&quot;Eclipse&quot;</td><td>&quot;2021–&quot;</td></tr><tr><td>450</td><td>&quot;Отбросы *&quot;</td><td>null</td><td>null</td><td>&quot;Not found&quot;</td><td>&quot;Dispers *&quot;</td><td>null</td><td>&quot;Not found&quot;</td><td>null</td><td>&quot;Misfits&quot;</td><td>&quot;2009–2013&quot;</td><td>&quot;Misfits&quot;</td><td>&quot;Misfits&quot;</td><td>&quot;2009–2013&quot;</td></tr><tr><td>521</td><td>&quot;Free spirit&quot;</td><td>2019</td><td>null</td><td>&quot;Not found&quot;</td><td>&quot;Free spirit&quot;</td><td>null</td><td>&quot;Not found&quot;</td><td>null</td><td>&quot;Free Spirit&quot;</td><td>&quot;1989–1990&quot;</td><td>&quot;Free Spirit&quot;</td><td>&quot;Free Spirit&quot;</td><td>&quot;1989–1990&quot;</td></tr><tr><td>528</td><td>&quot;Game&quot;</td><td>1997</td><td>null</td><td>&quot;Not found&quot;</td><td>&quot;Game&quot;</td><td>null</td><td>&quot;Not found&quot;</td><td>null</td><td>&quot;Game&quot;</td><td>&quot;2011–2019&quot;</td><td>&quot;Game of Thrones&quot;</td><td>&quot;Game of Thrones&quot;</td><td>&quot;2011–2019&quot;</td></tr></tbody></table></div>"
      ],
      "text/plain": [
       "shape: (4, 14)\n",
       "┌───────┬─────────────┬──────┬────────┬───┬───────────┬──────────────┬──────────────┬──────────────┐\n",
       "│ index ┆ Title       ┆ Year ┆ Viewed ┆ … ┆ years     ┆ titles       ┆ cleaned_titl ┆ cleaned_year │\n",
       "│ ---   ┆ ---         ┆ ---  ┆ ---    ┆   ┆ ---       ┆ ---          ┆ e            ┆ ---          │\n",
       "│ i64   ┆ str         ┆ i32  ┆ str    ┆   ┆ str       ┆ str          ┆ ---          ┆ str          │\n",
       "│       ┆             ┆      ┆        ┆   ┆           ┆              ┆ str          ┆              │\n",
       "╞═══════╪═════════════╪══════╪════════╪═══╪═══════════╪══════════════╪══════════════╪══════════════╡\n",
       "│ 435   ┆ Затмение    ┆ null ┆ null   ┆ … ┆ 2021–     ┆ Eclipse      ┆ Eclipse      ┆ 2021–        │\n",
       "│ 450   ┆ Отбросы *   ┆ null ┆ null   ┆ … ┆ 2009–2013 ┆ Misfits      ┆ Misfits      ┆ 2009–2013    │\n",
       "│ 521   ┆ Free spirit ┆ 2019 ┆ null   ┆ … ┆ 1989–1990 ┆ Free Spirit  ┆ Free Spirit  ┆ 1989–1990    │\n",
       "│ 528   ┆ Game        ┆ 1997 ┆ null   ┆ … ┆ 2011–2019 ┆ Game of      ┆ Game of      ┆ 2011–2019    │\n",
       "│       ┆             ┆      ┆        ┆   ┆           ┆ Thrones      ┆ Thrones      ┆              │\n",
       "└───────┴─────────────┴──────┴────────┴───┴───────────┴──────────────┴──────────────┴──────────────┘"
      ]
     },
     "execution_count": 127,
     "metadata": {},
     "output_type": "execute_result"
    }
   ],
   "source": [
    "movies_df.filter(c(\"cleaned_year\").str.len_chars() > 4)"
   ]
  },
  {
   "cell_type": "code",
   "execution_count": null,
   "id": "97dafd62",
   "metadata": {},
   "outputs": [],
   "source": [
    "movies_df = movies_df.with_columns(\n",
    "    pl.when(c(\"cleaned_year\").str.len_chars() > 4)\n",
    "    .then(None)\n",
    "    .otherwise(c(\"cleaned_year\"))\n",
    "    .alias(\"cleaned_year\")\n",
    ")\n",
    "# .filter(\n",
    "#     c(\"cleaned_year\").is_null()\n",
    "# )"
   ]
  },
  {
   "cell_type": "code",
   "execution_count": 145,
   "id": "4844926a",
   "metadata": {},
   "outputs": [
    {
     "data": {
      "text/html": [
       "<div><style>\n",
       ".dataframe > thead > tr,\n",
       ".dataframe > tbody > tr {\n",
       "  text-align: right;\n",
       "  white-space: pre-wrap;\n",
       "}\n",
       "</style>\n",
       "<small>shape: (10, 14)</small><table border=\"1\" class=\"dataframe\"><thead><tr><th>index</th><th>Title</th><th>Year</th><th>Viewed</th><th>title_eng</th><th>title_translation</th><th>parsed_date</th><th>parsed_title</th><th>checked</th><th>gpt_parsed_titles</th><th>years</th><th>titles</th><th>cleaned_title</th><th>cleaned_year</th></tr><tr><td>i64</td><td>str</td><td>i32</td><td>str</td><td>str</td><td>str</td><td>i64</td><td>str</td><td>str</td><td>str</td><td>str</td><td>str</td><td>str</td><td>i32</td></tr></thead><tbody><tr><td>481</td><td>&quot;Shaft&quot;</td><td>2019</td><td>null</td><td>&quot;Not found&quot;</td><td>&quot;Shaft&quot;</td><td>null</td><td>&quot;Not found&quot;</td><td>null</td><td>&quot;Shaft&quot;</td><td>&quot;2000&quot;</td><td>&quot;Shaft&quot;</td><td>&quot;Shaft&quot;</td><td>2000</td></tr><tr><td>493</td><td>&quot;Мanhattan shorts *&quot;</td><td>2020</td><td>null</td><td>&quot;Not found&quot;</td><td>&quot;Мanhattan shorts *&quot;</td><td>null</td><td>&quot;Not found&quot;</td><td>null</td><td>&quot;Manhattan Shorts&quot;</td><td>&quot;-1&quot;</td><td>&quot;Not found&quot;</td><td>&quot;Not found&quot;</td><td>-1</td></tr><tr><td>505</td><td>&quot;The Dune&quot;</td><td>2021</td><td>null</td><td>&quot;Not found&quot;</td><td>&quot;The Dune&quot;</td><td>null</td><td>&quot;Not found&quot;</td><td>null</td><td>&quot;Dune&quot;</td><td>&quot;1984&quot;</td><td>&quot;Dune&quot;</td><td>&quot;Dune&quot;</td><td>1984</td></tr><tr><td>507</td><td>&quot;Blade Runner 2049&quot;</td><td>2019</td><td>null</td><td>&quot;Not found&quot;</td><td>&quot;Blade Runner 2049&quot;</td><td>null</td><td>&quot;Not found&quot;</td><td>null</td><td>&quot;Blade Runner 2049&quot;</td><td>&quot;2017&quot;</td><td>&quot;Blade Runner 2049&quot;</td><td>&quot;Blade Runner 2049&quot;</td><td>2017</td></tr><tr><td>540</td><td>&quot;Spirit&quot;</td><td>2002</td><td>null</td><td>&quot;Not found&quot;</td><td>&quot;Spirit&quot;</td><td>null</td><td>&quot;Not found&quot;</td><td>null</td><td>&quot;Spirit&quot;</td><td>&quot;2012&quot;</td><td>&quot;Spirit&quot;</td><td>&quot;Spirit&quot;</td><td>2012</td></tr><tr><td>542</td><td>&quot;The Secret: Dare to Dream&quot;</td><td>2018</td><td>null</td><td>&quot;Not found&quot;</td><td>&quot;The Secret: Dare to Dream&quot;</td><td>null</td><td>&quot;Not found&quot;</td><td>null</td><td>&quot;The Secret: Dare to Dream&quot;</td><td>&quot;2020&quot;</td><td>&quot;The Secret: Dare to Dream&quot;</td><td>&quot;The Secret: Dare to Dream&quot;</td><td>2020</td></tr><tr><td>545</td><td>&quot;Хижина Любви&quot;</td><td>2019</td><td>null</td><td>&quot;Not found&quot;</td><td>&quot;The hut of love&quot;</td><td>null</td><td>&quot;Not found&quot;</td><td>null</td><td>&quot;Love Shack&quot;</td><td>&quot;2010&quot;</td><td>&quot;Love Shack&quot;</td><td>&quot;Love Shack&quot;</td><td>2010</td></tr><tr><td>573</td><td>&quot;Hit man&quot;</td><td>2024</td><td>null</td><td>&quot;Not found&quot;</td><td>&quot;Hit man&quot;</td><td>null</td><td>&quot;Not found&quot;</td><td>null</td><td>&quot;Hit Man&quot;</td><td>&quot;2023&quot;</td><td>&quot;Hit Man&quot;</td><td>&quot;Hit Man&quot;</td><td>2023</td></tr><tr><td>577</td><td>&quot;Apollo 10 1⁄2: A Space Age Chi…</td><td>2022</td><td>null</td><td>&quot;Not found&quot;</td><td>&quot;Apollo 10 1⁄2: A Space Age Chi…</td><td>null</td><td>&quot;Not found&quot;</td><td>null</td><td>&quot;Apollo 10 1⁄2: A Space Age Chi…</td><td>&quot;-1&quot;</td><td>&quot;Not found&quot;</td><td>&quot;Not found&quot;</td><td>-1</td></tr><tr><td>587</td><td>&quot;The Naked Gun&quot;</td><td>1988</td><td>null</td><td>&quot;Not found&quot;</td><td>&quot;The Naked Gun&quot;</td><td>null</td><td>&quot;Not found&quot;</td><td>null</td><td>&quot;The Naked Gun&quot;</td><td>&quot;2025&quot;</td><td>&quot;The Naked Gun&quot;</td><td>&quot;The Naked Gun&quot;</td><td>2025</td></tr></tbody></table></div>"
      ],
      "text/plain": [
       "shape: (10, 14)\n",
       "┌───────┬───────────────┬──────┬────────┬───┬───────┬───────────────┬───────────────┬──────────────┐\n",
       "│ index ┆ Title         ┆ Year ┆ Viewed ┆ … ┆ years ┆ titles        ┆ cleaned_title ┆ cleaned_year │\n",
       "│ ---   ┆ ---           ┆ ---  ┆ ---    ┆   ┆ ---   ┆ ---           ┆ ---           ┆ ---          │\n",
       "│ i64   ┆ str           ┆ i32  ┆ str    ┆   ┆ str   ┆ str           ┆ str           ┆ i32          │\n",
       "╞═══════╪═══════════════╪══════╪════════╪═══╪═══════╪═══════════════╪═══════════════╪══════════════╡\n",
       "│ 481   ┆ Shaft         ┆ 2019 ┆ null   ┆ … ┆ 2000  ┆ Shaft         ┆ Shaft         ┆ 2000         │\n",
       "│ 493   ┆ Мanhattan     ┆ 2020 ┆ null   ┆ … ┆ -1    ┆ Not found     ┆ Not found     ┆ -1           │\n",
       "│       ┆ shorts *      ┆      ┆        ┆   ┆       ┆               ┆               ┆              │\n",
       "│ 505   ┆ The Dune      ┆ 2021 ┆ null   ┆ … ┆ 1984  ┆ Dune          ┆ Dune          ┆ 1984         │\n",
       "│ 507   ┆ Blade Runner  ┆ 2019 ┆ null   ┆ … ┆ 2017  ┆ Blade Runner  ┆ Blade Runner  ┆ 2017         │\n",
       "│       ┆ 2049          ┆      ┆        ┆   ┆       ┆ 2049          ┆ 2049          ┆              │\n",
       "│ 540   ┆ Spirit        ┆ 2002 ┆ null   ┆ … ┆ 2012  ┆ Spirit        ┆ Spirit        ┆ 2012         │\n",
       "│ 542   ┆ The Secret:   ┆ 2018 ┆ null   ┆ … ┆ 2020  ┆ The Secret:   ┆ The Secret:   ┆ 2020         │\n",
       "│       ┆ Dare to Dream ┆      ┆        ┆   ┆       ┆ Dare to Dream ┆ Dare to Dream ┆              │\n",
       "│ 545   ┆ Хижина Любви  ┆ 2019 ┆ null   ┆ … ┆ 2010  ┆ Love Shack    ┆ Love Shack    ┆ 2010         │\n",
       "│ 573   ┆ Hit man       ┆ 2024 ┆ null   ┆ … ┆ 2023  ┆ Hit Man       ┆ Hit Man       ┆ 2023         │\n",
       "│ 577   ┆ Apollo 10     ┆ 2022 ┆ null   ┆ … ┆ -1    ┆ Not found     ┆ Not found     ┆ -1           │\n",
       "│       ┆ 1⁄2: A Space  ┆      ┆        ┆   ┆       ┆               ┆               ┆              │\n",
       "│       ┆ Age Chi…      ┆      ┆        ┆   ┆       ┆               ┆               ┆              │\n",
       "│ 587   ┆ The Naked Gun ┆ 1988 ┆ null   ┆ … ┆ 2025  ┆ The Naked Gun ┆ The Naked Gun ┆ 2025         │\n",
       "└───────┴───────────────┴──────┴────────┴───┴───────┴───────────────┴───────────────┴──────────────┘"
      ]
     },
     "execution_count": 145,
     "metadata": {},
     "output_type": "execute_result"
    }
   ],
   "source": [
    "movies_df.filter(c(\"Year\") != c(\"cleaned_year\")).tail(10)"
   ]
  },
  {
   "cell_type": "code",
   "execution_count": null,
   "id": "7bb1d12a",
   "metadata": {},
   "outputs": [],
   "source": [
    "movies_df = movies_df.with_columns(c(\"cleaned_year\").cast(pl.Int32))"
   ]
  },
  {
   "cell_type": "code",
   "execution_count": null,
   "id": "5bffaacd",
   "metadata": {},
   "outputs": [],
   "source": [
    "url = (\n",
    "    f\"http://www.omdbapi.com/?apikey={OMDB_API_KEY}&t={requests.utils.quote(\"Jumanji\")}\"\n",
    ")\n",
    "response = requests.get(url)\n",
    "data = response.json()\n",
    "if data.get(\"Response\") == \"True\" and \"Title\" in data:\n",
    "    print(data[\"Title\"])"
   ]
  },
  {
   "cell_type": "code",
   "execution_count": null,
   "id": "a920eed1",
   "metadata": {},
   "outputs": [],
   "source": [
    "# data\n",
    "\n",
    "{\n",
    "    \"Title\": \"Jumanji\",\n",
    "    \"Year\": \"1995\",\n",
    "    \"Rated\": \"PG\",\n",
    "    \"Released\": \"15 Dec 1995\",\n",
    "    \"Runtime\": \"104 min\",\n",
    "    \"Genre\": \"Adventure, Comedy, Family\",\n",
    "    \"Director\": \"Joe Johnston\",\n",
    "    \"Writer\": \"Jonathan Hensleigh, Greg Taylor, Jim Strain\",\n",
    "    \"Actors\": \"Robin Williams, Kirsten Dunst, Bonnie Hunt\",\n",
    "    \"Plot\": \"A magic board game summons jungle perils and a missing boy.\",\n",
    "    \"Language\": \"English, French\",\n",
    "    \"Country\": \"United States\",\n",
    "    \"Awards\": \"4 wins & 11 nominations total\",\n",
    "    \"Poster\": \"https://m.media-amazon.com/images/M/MV5BYTFkMjFmODgtYzRiZi00NmQwLTliZWMtMzRhMWQ5ZmY3ZDExXkEyXkFqcGc@._V1_SX300.jpg\",\n",
    "    \"Ratings\": [\n",
    "        {\"Source\": \"Internet Movie Database\", \"Value\": \"7.1/10\"},\n",
    "        {\"Source\": \"Rotten Tomatoes\", \"Value\": \"52%\"},\n",
    "        {\"Source\": \"Metacritic\", \"Value\": \"39/100\"},\n",
    "    ],\n",
    "    \"Metascore\": \"39\",\n",
    "    \"imdbRating\": \"7.1\",\n",
    "    \"imdbVotes\": \"399,171\",\n",
    "    \"imdbID\": \"tt0113497\",\n",
    "    \"Type\": \"movie\",\n",
    "    \"DVD\": \"N/A\",\n",
    "    \"BoxOffice\": \"$100,499,940\",\n",
    "    \"Production\": \"N/A\",\n",
    "    \"Website\": \"N/A\",\n",
    "    \"Response\": \"True\",\n",
    "}"
   ]
  },
  {
   "cell_type": "code",
   "execution_count": null,
   "id": "53e6130c",
   "metadata": {},
   "outputs": [],
   "source": [
    "import pandas as pd\n",
    "import requests\n",
    "from deep_translator import GoogleTranslator\n",
    "\n",
    "# Load the CSV file\n",
    "df = pd.read_csv(\"movies.csv\")\n",
    "\n",
    "\n",
    "# Step 1: Translate titles\n",
    "def translate_title(title):\n",
    "    try:\n",
    "        return GoogleTranslator(source=\"auto\", target=\"en\").translate(title)\n",
    "    except Exception as e:\n",
    "        print(f\"Translation error for {title}: {e}\")\n",
    "        return title  # fallback to original if translation fails\n",
    "\n",
    "\n",
    "df[\"title_eng\"] = df[\"Title\"].apply(translate_title)\n",
    "\n",
    "# Step 2: Use OMDb API to fill missing years\n",
    "OMDB_API_KEY = \"your_api_key_here\"  # replace with your actual OMDb API key\n",
    "\n",
    "\n",
    "def fetch_year_from_omdb(title):\n",
    "    try:\n",
    "        url = f\"http://www.omdbapi.com/?apikey={OMDB_API_KEY}&t={requests.utils.quote(title)}\"\n",
    "        response = requests.get(url)\n",
    "        data = response.json()\n",
    "        if data.get(\"Response\") == \"True\":\n",
    "            return int(data[\"Year\"]) if \"Year\" in data else None\n",
    "        else:\n",
    "            print(f\"Not found in OMDb: {title}\")\n",
    "            return None\n",
    "    except Exception as e:\n",
    "        print(f\"OMDb error for {title}: {e}\")\n",
    "        return None\n",
    "\n",
    "\n",
    "df[\"Year\"] = df.apply(\n",
    "    lambda row: (\n",
    "        fetch_year_from_omdb(row[\"title_eng\"]) if pd.isna(row[\"Year\"]) else row[\"Year\"]\n",
    "    ),\n",
    "    axis=1,\n",
    ")\n",
    "\n",
    "# Save the updated CSV\n",
    "df.to_csv(\"movies_updated.csv\", index=False)\n",
    "print(\"✅ Updated CSV saved as 'movies_updated.csv'\")"
   ]
  },
  {
   "cell_type": "markdown",
   "id": "afb9e53a",
   "metadata": {},
   "source": [
    "## save df"
   ]
  },
  {
   "cell_type": "code",
   "execution_count": 148,
   "id": "d8e9cb26",
   "metadata": {},
   "outputs": [],
   "source": [
    "file_name = \"movies_df.parquet\"\n",
    "file_path = os.path.join(FILES_DIR, file_name)\n",
    "movies_df.write_parquet(file_path)"
   ]
  },
  {
   "cell_type": "code",
   "execution_count": 143,
   "id": "053f97c8",
   "metadata": {},
   "outputs": [
    {
     "data": {
      "text/plain": [
       "<xlsxwriter.workbook.Workbook at 0x1001ae8d0>"
      ]
     },
     "execution_count": 143,
     "metadata": {},
     "output_type": "execute_result"
    }
   ],
   "source": [
    "file_name = \"movies_df.xlsx\"\n",
    "file_path = os.path.join(FILES_DIR, file_name)\n",
    "movies_df.write_excel(file_path)"
   ]
  }
 ],
 "metadata": {
  "kernelspec": {
   "display_name": ".venv",
   "language": "python",
   "name": "python3"
  },
  "language_info": {
   "codemirror_mode": {
    "name": "ipython",
    "version": 3
   },
   "file_extension": ".py",
   "mimetype": "text/x-python",
   "name": "python",
   "nbconvert_exporter": "python",
   "pygments_lexer": "ipython3",
   "version": "3.12.11"
  }
 },
 "nbformat": 4,
 "nbformat_minor": 5
}
