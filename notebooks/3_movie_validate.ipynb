{
 "cells": [
  {
   "cell_type": "markdown",
   "id": "140ca41a",
   "metadata": {},
   "source": [
    "## imports"
   ]
  },
  {
   "cell_type": "code",
   "execution_count": 67,
   "id": "4ab6c22b",
   "metadata": {},
   "outputs": [
    {
     "data": {
      "text/plain": [
       "True"
      ]
     },
     "execution_count": 67,
     "metadata": {},
     "output_type": "execute_result"
    }
   ],
   "source": [
    "import polars as pl\n",
    "from polars import col as c\n",
    "import os, sys, requests\n",
    "from dotenv import load_dotenv, find_dotenv\n",
    "from tqdm import tqdm\n",
    "\n",
    "load_dotenv(find_dotenv())"
   ]
  },
  {
   "cell_type": "markdown",
   "id": "0a9001c4",
   "metadata": {},
   "source": [
    "## constants"
   ]
  },
  {
   "cell_type": "code",
   "execution_count": 68,
   "id": "aae1c649",
   "metadata": {},
   "outputs": [],
   "source": [
    "OMDB_API_KEY = os.getenv(\"OMDB_API_KEY\")\n",
    "FILES_DIR = \"../data\""
   ]
  },
  {
   "cell_type": "markdown",
   "id": "cc98e638",
   "metadata": {},
   "source": [
    "## load df"
   ]
  },
  {
   "cell_type": "code",
   "execution_count": 69,
   "id": "aa67e849",
   "metadata": {},
   "outputs": [
    {
     "name": "stderr",
     "output_type": "stream",
     "text": [
      "Could not determine dtype for column 2, falling back to string\n",
      "Could not determine dtype for column 3, falling back to string\n"
     ]
    }
   ],
   "source": [
    "file_name = \"movies_df.xlsx\"\n",
    "file_path = os.path.join(FILES_DIR, file_name)\n",
    "movies_df = pl.read_excel(file_path)"
   ]
  },
  {
   "cell_type": "markdown",
   "id": "f02b797a",
   "metadata": {},
   "source": [
    "## code"
   ]
  },
  {
   "cell_type": "code",
   "execution_count": 70,
   "id": "30d27824",
   "metadata": {},
   "outputs": [
    {
     "data": {
      "text/html": [
       "<div><style>\n",
       ".dataframe > thead > tr,\n",
       ".dataframe > tbody > tr {\n",
       "  text-align: right;\n",
       "  white-space: pre-wrap;\n",
       "}\n",
       "</style>\n",
       "<small>shape: (5, 15)</small><table border=\"1\" class=\"dataframe\"><thead><tr><th>index</th><th>Title</th><th>Year</th><th>Viewed</th><th>title_eng</th><th>title_translation</th><th>parsed_date</th><th>parsed_title</th><th>checked</th><th>gpt_parsed_titles</th><th>years</th><th>titles</th><th>cleaned_title</th><th>cleaned_year</th><th>ids</th></tr><tr><td>i64</td><td>str</td><td>str</td><td>str</td><td>str</td><td>str</td><td>i64</td><td>str</td><td>str</td><td>str</td><td>str</td><td>str</td><td>str</td><td>i64</td><td>str</td></tr></thead><tbody><tr><td>1</td><td>&quot;Действуй сестра&quot;</td><td>null</td><td>null</td><td>&quot;Not found&quot;</td><td>&quot;Act sister&quot;</td><td>null</td><td>&quot;Not found&quot;</td><td>null</td><td>&quot;Sister Act&quot;</td><td>&quot;1992&quot;</td><td>&quot;Sister Act&quot;</td><td>&quot;Sister Act&quot;</td><td>1992</td><td>&quot;tt0105417&quot;</td></tr><tr><td>2</td><td>&quot;Summer lovers&quot;</td><td>null</td><td>null</td><td>&quot;Summer Lovers_1982_Comedy, Dra…</td><td>&quot;Summer lovers&quot;</td><td>1982</td><td>&quot;Summer Lovers&quot;</td><td>&quot;checked&quot;</td><td>&quot;Summer lovers&quot;</td><td>null</td><td>null</td><td>&quot;Summer Lovers&quot;</td><td>1982</td><td>&quot;tt0084737&quot;</td></tr><tr><td>3</td><td>&quot;Джон уик&quot;</td><td>null</td><td>null</td><td>&quot;John Wick_2014_Action, Crime, …</td><td>&quot;John Wick&quot;</td><td>2014</td><td>&quot;John Wick&quot;</td><td>&quot;checked&quot;</td><td>&quot;Джон уик&quot;</td><td>null</td><td>null</td><td>&quot;John Wick&quot;</td><td>2014</td><td>&quot;tt2911666&quot;</td></tr><tr><td>4</td><td>&quot;Помни&quot;</td><td>null</td><td>null</td><td>&quot;Remembered_2015_Short, Drama_N…</td><td>&quot;Remembered&quot;</td><td>2015</td><td>&quot;Remembered&quot;</td><td>&quot;checked&quot;</td><td>&quot;Помни&quot;</td><td>null</td><td>null</td><td>&quot;Memento&quot;</td><td>2000</td><td>&quot;tt0209144&quot;</td></tr><tr><td>5</td><td>&quot;Похитители велосипедов&quot;</td><td>null</td><td>null</td><td>&quot;Not found&quot;</td><td>&quot;Cycles of bicycles&quot;</td><td>null</td><td>&quot;Not found&quot;</td><td>null</td><td>&quot;Bicycle Thieves&quot;</td><td>&quot;1948&quot;</td><td>&quot;Bicycle Thieves&quot;</td><td>&quot;Bicycle Thieves&quot;</td><td>1948</td><td>&quot;tt0040522&quot;</td></tr></tbody></table></div>"
      ],
      "text/plain": [
       "shape: (5, 15)\n",
       "┌───────┬──────────────┬──────┬────────┬───┬──────────────┬──────────────┬─────────────┬───────────┐\n",
       "│ index ┆ Title        ┆ Year ┆ Viewed ┆ … ┆ titles       ┆ cleaned_titl ┆ cleaned_yea ┆ ids       │\n",
       "│ ---   ┆ ---          ┆ ---  ┆ ---    ┆   ┆ ---          ┆ e            ┆ r           ┆ ---       │\n",
       "│ i64   ┆ str          ┆ str  ┆ str    ┆   ┆ str          ┆ ---          ┆ ---         ┆ str       │\n",
       "│       ┆              ┆      ┆        ┆   ┆              ┆ str          ┆ i64         ┆           │\n",
       "╞═══════╪══════════════╪══════╪════════╪═══╪══════════════╪══════════════╪═════════════╪═══════════╡\n",
       "│ 1     ┆ Действуй     ┆ null ┆ null   ┆ … ┆ Sister Act   ┆ Sister Act   ┆ 1992        ┆ tt0105417 │\n",
       "│       ┆ сестра       ┆      ┆        ┆   ┆              ┆              ┆             ┆           │\n",
       "│ 2     ┆ Summer       ┆ null ┆ null   ┆ … ┆ null         ┆ Summer       ┆ 1982        ┆ tt0084737 │\n",
       "│       ┆ lovers       ┆      ┆        ┆   ┆              ┆ Lovers       ┆             ┆           │\n",
       "│ 3     ┆ Джон уик     ┆ null ┆ null   ┆ … ┆ null         ┆ John Wick    ┆ 2014        ┆ tt2911666 │\n",
       "│ 4     ┆ Помни        ┆ null ┆ null   ┆ … ┆ null         ┆ Memento      ┆ 2000        ┆ tt0209144 │\n",
       "│ 5     ┆ Похитители   ┆ null ┆ null   ┆ … ┆ Bicycle      ┆ Bicycle      ┆ 1948        ┆ tt0040522 │\n",
       "│       ┆ велосипедов  ┆      ┆        ┆   ┆ Thieves      ┆ Thieves      ┆             ┆           │\n",
       "└───────┴──────────────┴──────┴────────┴───┴──────────────┴──────────────┴─────────────┴───────────┘"
      ]
     },
     "execution_count": 70,
     "metadata": {},
     "output_type": "execute_result"
    }
   ],
   "source": [
    "movies_df.head()"
   ]
  },
  {
   "cell_type": "code",
   "execution_count": 71,
   "id": "fff672b0",
   "metadata": {},
   "outputs": [
    {
     "data": {
      "text/html": [
       "<div><style>\n",
       ".dataframe > thead > tr,\n",
       ".dataframe > tbody > tr {\n",
       "  text-align: right;\n",
       "  white-space: pre-wrap;\n",
       "}\n",
       "</style>\n",
       "<small>shape: (4, 15)</small><table border=\"1\" class=\"dataframe\"><thead><tr><th>index</th><th>Title</th><th>Year</th><th>Viewed</th><th>title_eng</th><th>title_translation</th><th>parsed_date</th><th>parsed_title</th><th>checked</th><th>gpt_parsed_titles</th><th>years</th><th>titles</th><th>cleaned_title</th><th>cleaned_year</th><th>ids</th></tr><tr><td>i64</td><td>str</td><td>str</td><td>str</td><td>str</td><td>str</td><td>i64</td><td>str</td><td>str</td><td>str</td><td>str</td><td>str</td><td>str</td><td>i64</td><td>str</td></tr></thead><tbody><tr><td>193</td><td>&quot;True detective *&quot;</td><td>null</td><td>null</td><td>null</td><td>null</td><td>null</td><td>null</td><td>&quot;checked&quot;</td><td>&quot;True detective *&quot;</td><td>null</td><td>null</td><td>null</td><td>null</td><td>&quot;Not found&quot;</td></tr><tr><td>355</td><td>&quot;(100 любимых фильмов фрэнка оу…</td><td>null</td><td>null</td><td>&quot;Not found&quot;</td><td>&quot;(100 favorite films Frank Ocea…</td><td>null</td><td>&quot;Not found&quot;</td><td>null</td><td>&quot;(100 Favorite Films of Frank O…</td><td>&quot;-1&quot;</td><td>null</td><td>null</td><td>null</td><td>&quot;Not found&quot;</td></tr><tr><td>450</td><td>&quot;Отбросы *&quot;</td><td>null</td><td>null</td><td>&quot;Not found&quot;</td><td>&quot;Dispers *&quot;</td><td>null</td><td>&quot;Not found&quot;</td><td>null</td><td>&quot;Misfits&quot;</td><td>&quot;2009–2013&quot;</td><td>&quot;Misfits&quot;</td><td>&quot;Misfits&quot;</td><td>null</td><td>&quot;Not found&quot;</td></tr><tr><td>493</td><td>&quot;Мanhattan shorts *&quot;</td><td>&quot;2020&quot;</td><td>null</td><td>&quot;Not found&quot;</td><td>&quot;Мanhattan shorts *&quot;</td><td>null</td><td>&quot;Not found&quot;</td><td>null</td><td>&quot;Manhattan Shorts&quot;</td><td>&quot;-1&quot;</td><td>null</td><td>null</td><td>null</td><td>&quot;Not found&quot;</td></tr></tbody></table></div>"
      ],
      "text/plain": [
       "shape: (4, 15)\n",
       "┌───────┬─────────────────┬──────┬────────┬───┬─────────┬───────────────┬──────────────┬───────────┐\n",
       "│ index ┆ Title           ┆ Year ┆ Viewed ┆ … ┆ titles  ┆ cleaned_title ┆ cleaned_year ┆ ids       │\n",
       "│ ---   ┆ ---             ┆ ---  ┆ ---    ┆   ┆ ---     ┆ ---           ┆ ---          ┆ ---       │\n",
       "│ i64   ┆ str             ┆ str  ┆ str    ┆   ┆ str     ┆ str           ┆ i64          ┆ str       │\n",
       "╞═══════╪═════════════════╪══════╪════════╪═══╪═════════╪═══════════════╪══════════════╪═══════════╡\n",
       "│ 193   ┆ True detective  ┆ null ┆ null   ┆ … ┆ null    ┆ null          ┆ null         ┆ Not found │\n",
       "│       ┆ *               ┆      ┆        ┆   ┆         ┆               ┆              ┆           │\n",
       "│ 355   ┆ (100 любимых    ┆ null ┆ null   ┆ … ┆ null    ┆ null          ┆ null         ┆ Not found │\n",
       "│       ┆ фильмов фрэнка  ┆      ┆        ┆   ┆         ┆               ┆              ┆           │\n",
       "│       ┆ оу…             ┆      ┆        ┆   ┆         ┆               ┆              ┆           │\n",
       "│ 450   ┆ Отбросы *       ┆ null ┆ null   ┆ … ┆ Misfits ┆ Misfits       ┆ null         ┆ Not found │\n",
       "│ 493   ┆ Мanhattan       ┆ 2020 ┆ null   ┆ … ┆ null    ┆ null          ┆ null         ┆ Not found │\n",
       "│       ┆ shorts *        ┆      ┆        ┆   ┆         ┆               ┆              ┆           │\n",
       "└───────┴─────────────────┴──────┴────────┴───┴─────────┴───────────────┴──────────────┴───────────┘"
      ]
     },
     "execution_count": 71,
     "metadata": {},
     "output_type": "execute_result"
    }
   ],
   "source": [
    "movies_df.filter(c(\"ids\") == \"Not found\")"
   ]
  },
  {
   "cell_type": "code",
   "execution_count": 72,
   "id": "e0ac54a1",
   "metadata": {},
   "outputs": [],
   "source": [
    "def fetch_english_title(title):\n",
    "    try:\n",
    "        url = f\"http://www.omdbapi.com/?apikey={OMDB_API_KEY}&i={requests.utils.quote(title)}\"  # for index search\n",
    "        # url = f\"http://www.omdbapi.com/?apikey={OMDB_API_KEY}&t={requests.utils.quote(title)}\"\n",
    "        response = requests.get(url)\n",
    "        data = response.json()\n",
    "        if data.get(\"Response\") == \"True\" and \"Title\" in data:\n",
    "            return data\n",
    "        else:\n",
    "            print(f\"Not found in OMDb: {title}\")\n",
    "            return \"Not found\"\n",
    "    except Exception as e:\n",
    "        print(f\"OMDb error for {title}: {e}\")\n",
    "        return \"Not found\""
   ]
  },
  {
   "cell_type": "code",
   "execution_count": 73,
   "id": "fa29d143",
   "metadata": {},
   "outputs": [
    {
     "data": {
      "text/plain": [
       "{'Title': 'Sister Act',\n",
       " 'Year': '1992',\n",
       " 'Rated': 'PG',\n",
       " 'Released': '29 May 1992',\n",
       " 'Runtime': '100 min',\n",
       " 'Genre': 'Comedy, Family, Music',\n",
       " 'Director': 'Emile Ardolino',\n",
       " 'Writer': 'Paul Rudnick',\n",
       " 'Actors': 'Whoopi Goldberg, Maggie Smith, Harvey Keitel',\n",
       " 'Plot': 'When a nightclub singer is forced to take refuge from the mob in a convent, she ends up turning the convent choir into a soulful chorus complete with a Motown repertoire, until the sudden celebrity of the choir jeopardizes her ide...',\n",
       " 'Language': 'English',\n",
       " 'Country': 'United States',\n",
       " 'Awards': '9 wins & 10 nominations total',\n",
       " 'Poster': 'https://m.media-amazon.com/images/M/MV5BMjIzOTU0ODItMzcyMi00YzFjLTk3MzktNTQ2YjZmN2E0NTBkXkEyXkFqcGc@._V1_SX300.jpg',\n",
       " 'Ratings': [{'Source': 'Internet Movie Database', 'Value': '6.5/10'},\n",
       "  {'Source': 'Rotten Tomatoes', 'Value': '73%'},\n",
       "  {'Source': 'Metacritic', 'Value': '51/100'}],\n",
       " 'Metascore': '51',\n",
       " 'imdbRating': '6.5',\n",
       " 'imdbVotes': '113,562',\n",
       " 'imdbID': 'tt0105417',\n",
       " 'Type': 'movie',\n",
       " 'DVD': 'N/A',\n",
       " 'BoxOffice': '$139,605,150',\n",
       " 'Production': 'N/A',\n",
       " 'Website': 'N/A',\n",
       " 'Response': 'True'}"
      ]
     },
     "execution_count": 73,
     "metadata": {},
     "output_type": "execute_result"
    }
   ],
   "source": [
    "fetch_english_title(movies_df.head(1)[\"ids\"].item())"
   ]
  },
  {
   "cell_type": "code",
   "execution_count": 76,
   "id": "3d347cf3",
   "metadata": {},
   "outputs": [
    {
     "name": "stderr",
     "output_type": "stream",
     "text": [
      "622it [03:54,  2.66it/s]\n"
     ]
    }
   ],
   "source": [
    "result_dict = dict()\n",
    "for row in tqdm(movies_df.iter_rows(named=True)):\n",
    "    if row[\"ids\"] == \"Not found\":\n",
    "        result_dict[row[\"index\"]] = \"Not found\"\n",
    "    else:\n",
    "        omdb_result = fetch_english_title(row[\"ids\"])\n",
    "        if omdb_result != \"Not found\":\n",
    "            result_dict[row[\"index\"]] = omdb_result\n",
    "        else:\n",
    "            result_dict[row[\"index\"]] = \"Not found\""
   ]
  },
  {
   "cell_type": "code",
   "execution_count": 77,
   "id": "19cb7b46",
   "metadata": {},
   "outputs": [
    {
     "name": "stdout",
     "output_type": "stream",
     "text": [
      "1\t{'Title': 'Sister Act', 'Year': '1992', 'Rated': 'PG', 'Released': '29 May 1992', 'Runtime': '100 min', 'Genre': 'Comedy, Family, Music', 'Director': 'Emile Ardolino', 'Writer': 'Paul Rudnick', 'Actors': 'Whoopi Goldberg, Maggie Smith, Harvey Keitel', 'Plot': 'When a nightclub singer is forced to take refuge from the mob in a convent, she ends up turning the convent choir into a soulful chorus complete with a Motown repertoire, until the sudden celebrity of the choir jeopardizes her ide...', 'Language': 'English', 'Country': 'United States', 'Awards': '9 wins & 10 nominations total', 'Poster': 'https://m.media-amazon.com/images/M/MV5BMjIzOTU0ODItMzcyMi00YzFjLTk3MzktNTQ2YjZmN2E0NTBkXkEyXkFqcGc@._V1_SX300.jpg', 'Ratings': [{'Source': 'Internet Movie Database', 'Value': '6.5/10'}, {'Source': 'Rotten Tomatoes', 'Value': '73%'}, {'Source': 'Metacritic', 'Value': '51/100'}], 'Metascore': '51', 'imdbRating': '6.5', 'imdbVotes': '113,562', 'imdbID': 'tt0105417', 'Type': 'movie', 'DVD': 'N/A', 'BoxOffice': '$139,605,150', 'Production': 'N/A', 'Website': 'N/A', 'Response': 'True'}\n",
      "2\t{'Title': 'Summer Lovers', 'Year': '1982', 'Rated': 'R', 'Released': '16 Jul 1982', 'Runtime': '98 min', 'Genre': 'Comedy, Drama, Romance', 'Director': 'Randal Kleiser', 'Writer': 'Randal Kleiser', 'Actors': 'Peter Gallagher, Daryl Hannah, Valérie Quennessen', 'Plot': 'A young American couple and a French woman engage in a threesome in the Greek Islands.', 'Language': 'English', 'Country': 'United States', 'Awards': 'N/A', 'Poster': 'https://m.media-amazon.com/images/M/MV5BMTYxNjk0Mjg1NF5BMl5BanBnXkFtZTcwNzAyMTM3NA@@._V1_SX300.jpg', 'Ratings': [{'Source': 'Internet Movie Database', 'Value': '5.8/10'}, {'Source': 'Rotten Tomatoes', 'Value': '25%'}], 'Metascore': 'N/A', 'imdbRating': '5.8', 'imdbVotes': '4,687', 'imdbID': 'tt0084737', 'Type': 'movie', 'DVD': 'N/A', 'BoxOffice': '$4,968,000', 'Production': 'N/A', 'Website': 'N/A', 'Response': 'True'}\n",
      "3\t{'Title': 'John Wick', 'Year': '2014', 'Rated': 'R', 'Released': '24 Oct 2014', 'Runtime': '101 min', 'Genre': 'Action, Crime, Thriller', 'Director': 'Chad Stahelski', 'Writer': 'Derek Kolstad', 'Actors': 'Keanu Reeves, Michael Nyqvist, Alfie Allen', 'Plot': 'John Wick is a former hitman grieving the loss of his true love. When his home is broken into, robbed, and his dog killed, he is forced to return to action to exact revenge.', 'Language': 'English, Russian, Hungarian', 'Country': 'United States', 'Awards': '5 wins & 10 nominations total', 'Poster': 'https://m.media-amazon.com/images/M/MV5BMTU2NjA1ODgzMF5BMl5BanBnXkFtZTgwMTM2MTI4MjE@._V1_SX300.jpg', 'Ratings': [{'Source': 'Internet Movie Database', 'Value': '7.5/10'}, {'Source': 'Rotten Tomatoes', 'Value': '86%'}, {'Source': 'Metacritic', 'Value': '68/100'}], 'Metascore': '68', 'imdbRating': '7.5', 'imdbVotes': '783,681', 'imdbID': 'tt2911666', 'Type': 'movie', 'DVD': 'N/A', 'BoxOffice': '$43,037,835', 'Production': 'N/A', 'Website': 'N/A', 'Response': 'True'}\n",
      "4\t{'Title': 'Memento', 'Year': '2000', 'Rated': 'R', 'Released': '25 May 2001', 'Runtime': '113 min', 'Genre': 'Drama, Mystery, Thriller', 'Director': 'Christopher Nolan', 'Writer': 'Christopher Nolan, Jonathan Nolan', 'Actors': 'Guy Pearce, Carrie-Anne Moss, Joe Pantoliano', 'Plot': \"A former insurance investigator who now suffers from anterograde amnesia uses notes and tattoos to hunt down his wife's murderer.\", 'Language': 'English', 'Country': 'United States', 'Awards': 'Nominated for 2 Oscars. 57 wins & 59 nominations total', 'Poster': 'https://m.media-amazon.com/images/M/MV5BYmQ3MjliNjAtNWFiZS00YWI1LTlmZTktMzBiNDE1NjRhZjU0XkEyXkFqcGc@._V1_SX300.jpg', 'Ratings': [{'Source': 'Internet Movie Database', 'Value': '8.4/10'}, {'Source': 'Rotten Tomatoes', 'Value': '94%'}, {'Source': 'Metacritic', 'Value': '83/100'}], 'Metascore': '83', 'imdbRating': '8.4', 'imdbVotes': '1,389,289', 'imdbID': 'tt0209144', 'Type': 'movie', 'DVD': 'N/A', 'BoxOffice': '$25,544,867', 'Production': 'N/A', 'Website': 'N/A', 'Response': 'True'}\n",
      "5\t{'Title': 'Bicycle Thieves', 'Year': '1948', 'Rated': 'Not Rated', 'Released': '13 Dec 1949', 'Runtime': '89 min', 'Genre': 'Drama', 'Director': 'Vittorio De Sica', 'Writer': 'Cesare Zavattini, Luigi Bartolini, Oreste Biancoli', 'Actors': 'Lamberto Maggiorani, Enzo Staiola, Lianella Carell', 'Plot': \"In post-war Italy, a working-class man's bicycle is stolen, endangering his efforts to find work. He and his son set out to find it.\", 'Language': 'Italian, German', 'Country': 'Italy', 'Awards': 'Nominated for 1 Oscar. 18 wins & 1 nomination total', 'Poster': 'https://m.media-amazon.com/images/M/MV5BMjIzMzAyMzg1Nl5BMl5BanBnXkFtZTgwMzMyNzk0MTE@._V1_SX300.jpg', 'Ratings': [{'Source': 'Internet Movie Database', 'Value': '8.2/10'}, {'Source': 'Rotten Tomatoes', 'Value': '99%'}], 'Metascore': 'N/A', 'imdbRating': '8.2', 'imdbVotes': '185,984', 'imdbID': 'tt0040522', 'Type': 'movie', 'DVD': 'N/A', 'BoxOffice': '$371,111', 'Production': 'N/A', 'Website': 'N/A', 'Response': 'True'}\n",
      "6\t{'Title': 'Rushmore', 'Year': '1998', 'Rated': 'R', 'Released': '19 Feb 1999', 'Runtime': '93 min', 'Genre': 'Comedy, Drama, Romance', 'Director': 'Wes Anderson', 'Writer': 'Wes Anderson, Owen Wilson', 'Actors': 'Jason Schwartzman, Bill Murray, Olivia Williams', 'Plot': 'A teenager at Rushmore Academy falls for a much older teacher and befriends a middle-aged industrialist. Later, he finds out that his love interest and his friend are having an affair, which prompts him to begin a vendetta.', 'Language': 'English, Spanish, Latin, French', 'Country': 'United States', 'Awards': '16 wins & 16 nominations total', 'Poster': 'https://m.media-amazon.com/images/M/MV5BZmM2MTNhYWItMDc4Yi00MTM3LWI3YTctYjE1NWRjNTczYjI5XkEyXkFqcGc@._V1_SX300.jpg', 'Ratings': [{'Source': 'Internet Movie Database', 'Value': '7.6/10'}, {'Source': 'Rotten Tomatoes', 'Value': '90%'}, {'Source': 'Metacritic', 'Value': '87/100'}], 'Metascore': '87', 'imdbRating': '7.6', 'imdbVotes': '201,410', 'imdbID': 'tt0128445', 'Type': 'movie', 'DVD': 'N/A', 'BoxOffice': '$17,105,219', 'Production': 'N/A', 'Website': 'N/A', 'Response': 'True'}\n",
      "7\t{'Title': 'Blade Runner', 'Year': '1982', 'Rated': 'R', 'Released': '25 Jun 1982', 'Runtime': '117 min', 'Genre': 'Action, Drama, Sci-Fi', 'Director': 'Ridley Scott', 'Writer': 'Hampton Fancher, David Webb Peoples, Philip K. Dick', 'Actors': 'Harrison Ford, Rutger Hauer, Sean Young', 'Plot': 'A blade runner must pursue and terminate four replicants who stole a ship in space and have returned to Earth to find their creator.', 'Language': 'English, German, Cantonese, Japanese, Hungarian, Arabic, Korean', 'Country': 'United States, United Kingdom', 'Awards': 'Nominated for 2 Oscars. 13 wins & 22 nominations total', 'Poster': 'https://m.media-amazon.com/images/M/MV5BOWQ4YTBmNTQtMDYxMC00NGFjLTkwOGQtNzdhNmY1Nzc1MzUxXkEyXkFqcGc@._V1_SX300.jpg', 'Ratings': [{'Source': 'Internet Movie Database', 'Value': '8.1/10'}, {'Source': 'Rotten Tomatoes', 'Value': '89%'}, {'Source': 'Metacritic', 'Value': '84/100'}], 'Metascore': '84', 'imdbRating': '8.1', 'imdbVotes': '858,617', 'imdbID': 'tt0083658', 'Type': 'movie', 'DVD': 'N/A', 'BoxOffice': '$32,914,489', 'Production': 'N/A', 'Website': 'N/A', 'Response': 'True'}\n",
      "8\t{'Title': 'The Shining', 'Year': '1980', 'Rated': 'R', 'Released': '13 Jun 1980', 'Runtime': '146 min', 'Genre': 'Drama, Horror', 'Director': 'Stanley Kubrick', 'Writer': 'Stephen King, Stanley Kubrick, Diane Johnson', 'Actors': 'Jack Nicholson, Shelley Duvall, Danny Lloyd', 'Plot': 'A family heads to an isolated hotel for the winter, where a sinister presence influences the father into violence. At the same time, his psychic son sees horrifying forebodings from both the past and the future.', 'Language': 'English', 'Country': 'United Kingdom, United States', 'Awards': '6 wins & 9 nominations total', 'Poster': 'https://m.media-amazon.com/images/M/MV5BNmM5ZThhY2ItOGRjOS00NzZiLWEwYTItNDgyMjFkOTgxMmRiXkEyXkFqcGc@._V1_SX300.jpg', 'Ratings': [{'Source': 'Internet Movie Database', 'Value': '8.4/10'}, {'Source': 'Rotten Tomatoes', 'Value': '83%'}, {'Source': 'Metacritic', 'Value': '68/100'}], 'Metascore': '68', 'imdbRating': '8.4', 'imdbVotes': '1,175,569', 'imdbID': 'tt0081505', 'Type': 'movie', 'DVD': 'N/A', 'BoxOffice': '$45,634,352', 'Production': 'N/A', 'Website': 'N/A', 'Response': 'True'}\n",
      "9\t{'Title': 'Leon: The Professional (1994)', 'Year': '1994', 'Rated': 'N/A', 'Released': '03 May 2022', 'Runtime': '104 min', 'Genre': 'Talk-Show', 'Director': 'N/A', 'Writer': 'N/A', 'Actors': 'Colin Boyd, Dave Harris, Marcus Kazmierczak', 'Plot': 'N/A', 'Language': 'N/A', 'Country': 'N/A', 'Awards': 'N/A', 'Poster': 'N/A', 'Ratings': [], 'Metascore': 'N/A', 'imdbRating': 'N/A', 'imdbVotes': 'N/A', 'imdbID': 'tt20236092', 'Type': 'movie', 'DVD': 'N/A', 'BoxOffice': 'N/A', 'Production': 'N/A', 'Website': 'N/A', 'Response': 'True'}\n",
      "10\t{'Title': 'True Romance', 'Year': '1993', 'Rated': 'R', 'Released': '10 Sep 1993', 'Runtime': '119 min', 'Genre': 'Crime, Drama, Romance', 'Director': 'Tony Scott', 'Writer': 'Quentin Tarantino, Roger Avary', 'Actors': 'Christian Slater, Patricia Arquette, Dennis Hopper', 'Plot': \"In Detroit, a pop-culture enthusiast steals cocaine from his new wife's pimp and tries to sell it in Hollywood, prompting the mobsters who own the drugs to pursue the couple.\", 'Language': 'English, Italian', 'Country': 'United States, France', 'Awards': '1 win & 10 nominations total', 'Poster': 'https://m.media-amazon.com/images/M/MV5BYzQ5OGMwMDAtMzcyOS00YTA4LWEwM2MtOTA1MDZjZGEyYmI1XkEyXkFqcGc@._V1_SX300.jpg', 'Ratings': [{'Source': 'Internet Movie Database', 'Value': '7.9/10'}, {'Source': 'Rotten Tomatoes', 'Value': '93%'}, {'Source': 'Metacritic', 'Value': '59/100'}], 'Metascore': '59', 'imdbRating': '7.9', 'imdbVotes': '254,076', 'imdbID': 'tt0108399', 'Type': 'movie', 'DVD': 'N/A', 'BoxOffice': '$12,281,551', 'Production': 'N/A', 'Website': 'N/A', 'Response': 'True'}\n",
      "11\t{'Title': 'Four Rooms', 'Year': '1995', 'Rated': 'R', 'Released': '25 Dec 1995', 'Runtime': '98 min', 'Genre': 'Comedy', 'Director': 'Allison Anders, Alexandre Rockwell, Robert Rodriguez', 'Writer': 'Allison Anders, Alexandre Rockwell, Robert Rodriguez', 'Actors': 'Tim Roth, Antonio Banderas, Sammi Davis', 'Plot': \"Four interlocking tales that take place in a fading hotel on New Year's Eve.\", 'Language': 'English', 'Country': 'United States', 'Awards': '1 win & 1 nomination total', 'Poster': 'https://m.media-amazon.com/images/M/MV5BMmNlMjE5YTEtZTU1My00MDc1LTgwNzctNTZlYmJmNTM3ZjYzXkEyXkFqcGc@._V1_SX300.jpg', 'Ratings': [{'Source': 'Internet Movie Database', 'Value': '6.7/10'}, {'Source': 'Rotten Tomatoes', 'Value': '13%'}], 'Metascore': 'N/A', 'imdbRating': '6.7', 'imdbVotes': '114,641', 'imdbID': 'tt0113101', 'Type': 'movie', 'DVD': 'N/A', 'BoxOffice': '$4,257,354', 'Production': 'N/A', 'Website': 'N/A', 'Response': 'True'}\n"
     ]
    }
   ],
   "source": [
    "for i, (key, val) in enumerate(result_dict.items()):\n",
    "    print(f\"{key}\\t{val}\")\n",
    "    if i > 9:\n",
    "        break"
   ]
  },
  {
   "cell_type": "code",
   "execution_count": 136,
   "id": "29452996",
   "metadata": {},
   "outputs": [],
   "source": [
    "creds = []\n",
    "indexes = result_dict.keys()\n",
    "for key in indexes:\n",
    "    creds.append(result_dict[key])"
   ]
  },
  {
   "cell_type": "code",
   "execution_count": 137,
   "id": "2eac404b",
   "metadata": {},
   "outputs": [
    {
     "data": {
      "text/html": [
       "<div><style>\n",
       ".dataframe > thead > tr,\n",
       ".dataframe > tbody > tr {\n",
       "  text-align: right;\n",
       "  white-space: pre-wrap;\n",
       "}\n",
       "</style>\n",
       "<small>shape: (5, 2)</small><table border=\"1\" class=\"dataframe\"><thead><tr><th>index</th><th>creds</th></tr><tr><td>i64</td><td>struct[25]</td></tr></thead><tbody><tr><td>101</td><td>{&quot;I, Robot&quot;,&quot;2004&quot;,&quot;PG-13&quot;,&quot;16 Jul 2004&quot;,&quot;115 min&quot;,&quot;Action, Mystery, Sci-Fi&quot;,&quot;Alex Proyas&quot;,&quot;Jeff Vintar, Akiva Goldsman, Isaac Asimov&quot;,&quot;Will Smith, Bridget Moynahan, Bruce Greenwood&quot;,&quot;In 2035, a technophobic cop investigates a crime that may have been perpetrated by a robot, which leads to a larger threat to humanity.&quot;,&quot;English&quot;,&quot;United States, Germany&quot;,&quot;Nominated for 1 Oscar. 1 win &amp; 15 nominations total&quot;,&quot;https://m.media-amazon.com/images/M/MV5BZDdhNTY3YTgtYmQwMC00MjM1LTgzYzMtMGM1N2E0NWM1NDlkXkEyXkFqcGc@._V1_SX300.jpg&quot;,[{&quot;Internet Movie Database&quot;,&quot;7.1/10&quot;}, {&quot;Metacritic&quot;,&quot;59/100&quot;}],&quot;59&quot;,&quot;7.1&quot;,&quot;598,159&quot;,&quot;tt0343818&quot;,&quot;movie&quot;,&quot;08 Jun 2004&quot;,&quot;$144,801,023&quot;,&quot;N/A&quot;,&quot;N/A&quot;,&quot;True&quot;}</td></tr><tr><td>61</td><td>{&quot;Lockout&quot;,&quot;2012&quot;,&quot;PG-13&quot;,&quot;13 Apr 2012&quot;,&quot;95 min&quot;,&quot;Action, Sci-Fi, Thriller&quot;,&quot;James Mather, Steve Saint Leger&quot;,&quot;James Mather, Steve Saint Leger, Luc Besson&quot;,&quot;Guy Pearce, Maggie Grace, Peter Stormare&quot;,&quot;A man wrongfully accused and convicted of conspiring to commit espionage against the US government is offered his freedom if he can rescue the president&#x27;s daughter from an outer-space prison that&#x27;s been taken over by violent inmates.&quot;,&quot;English&quot;,&quot;France, United States&quot;,&quot;1 nomination total&quot;,&quot;https://m.media-amazon.com/images/M/MV5BMTg1OTQ3MzM0NV5BMl5BanBnXkFtZTcwNDU1MDI0Nw@@._V1_SX300.jpg&quot;,[{&quot;Internet Movie Database&quot;,&quot;6.0/10&quot;}, {&quot;Rotten Tomatoes&quot;,&quot;38%&quot;}, {&quot;Metacritic&quot;,&quot;48/100&quot;}],&quot;48&quot;,&quot;6.0&quot;,&quot;102,329&quot;,&quot;tt1592525&quot;,&quot;movie&quot;,&quot;N/A&quot;,&quot;$14,326,864&quot;,&quot;N/A&quot;,&quot;N/A&quot;,&quot;True&quot;}</td></tr><tr><td>543</td><td>{&quot;Reptile&quot;,&quot;2023&quot;,&quot;R&quot;,&quot;29 Sep 2023&quot;,&quot;134 min&quot;,&quot;Crime, Drama, Mystery&quot;,&quot;Grant Singer&quot;,&quot;Grant Singer, Benjamin Brewer, Benicio Del Toro&quot;,&quot;Benicio Del Toro, Justin Timberlake, Eric Bogosian&quot;,&quot;Tom Nichols is a hardened New England detective, unflinching in his pursuit of a case where nothing is as it seems and it begins to dismantle the illusions in his own life.&quot;,&quot;English&quot;,&quot;United States&quot;,&quot;N/A&quot;,&quot;https://m.media-amazon.com/images/M/MV5BN2ZkOGI0ZDgtMTJlZi00Y2QyLTg2YWEtNmI2MzcwYWIwYzUwXkEyXkFqcGc@._V1_SX300.jpg&quot;,[{&quot;Internet Movie Database&quot;,&quot;6.8/10&quot;}, {&quot;Rotten Tomatoes&quot;,&quot;44%&quot;}, {&quot;Metacritic&quot;,&quot;52/100&quot;}],&quot;52&quot;,&quot;6.8&quot;,&quot;99,860&quot;,&quot;tt13274016&quot;,&quot;movie&quot;,&quot;N/A&quot;,&quot;N/A&quot;,&quot;N/A&quot;,&quot;N/A&quot;,&quot;True&quot;}</td></tr><tr><td>295</td><td>{&quot;Vertigo&quot;,&quot;1958&quot;,&quot;PG&quot;,&quot;28 May 1958&quot;,&quot;128 min&quot;,&quot;Mystery, Romance, Thriller&quot;,&quot;Alfred Hitchcock&quot;,&quot;Alec Coppel, Samuel A. Taylor, Pierre Boileau&quot;,&quot;James Stewart, Kim Novak, Barbara Bel Geddes&quot;,&quot;A former San Francisco police detective juggles wrestling with his personal demons and becoming obsessed with the hauntingly beautiful woman he has been hired to trail, who may be deeply disturbed.&quot;,&quot;English&quot;,&quot;United States&quot;,&quot;Nominated for 2 Oscars. 9 wins &amp; 8 nominations total&quot;,&quot;https://m.media-amazon.com/images/M/MV5BNzEyZTUxMWItMGVhYy00Y2NlLTljYTMtYzBmMzI1YmUyMDBkXkEyXkFqcGc@._V1_SX300.jpg&quot;,[{&quot;Internet Movie Database&quot;,&quot;8.2/10&quot;}, {&quot;Rotten Tomatoes&quot;,&quot;93%&quot;}, {&quot;Metacritic&quot;,&quot;100/100&quot;}],&quot;100&quot;,&quot;8.2&quot;,&quot;448,438&quot;,&quot;tt0052357&quot;,&quot;movie&quot;,&quot;N/A&quot;,&quot;$7,863,310&quot;,&quot;N/A&quot;,&quot;N/A&quot;,&quot;True&quot;}</td></tr><tr><td>308</td><td>{&quot;Kong: Skull Island&quot;,&quot;2017&quot;,&quot;PG-13&quot;,&quot;10 Mar 2017&quot;,&quot;118 min&quot;,&quot;Action, Adventure, Fantasy&quot;,&quot;Jordan Vogt-Roberts&quot;,&quot;Dan Gilroy, Max Borenstein, Derek Connolly&quot;,&quot;Tom Hiddleston, Samuel L. Jackson, Brie Larson&quot;,&quot;After the Vietnam war, a team of scientists explores an uncharted island in the Pacific, venturing into the domain of the mighty Kong and must fight to escape a primal Eden.&quot;,&quot;English, Vietnamese, Japanese&quot;,&quot;United States, China, Vietnam, Canada, Germany, United Kingdom, Singapore, India, Australia&quot;,&quot;Nominated for 1 Oscar. 1 win &amp; 22 nominations total&quot;,&quot;https://m.media-amazon.com/images/M/MV5BMTcwMjcxYTQtYjJlOS00YTE1LWIyZGYtOGRlOTBlMWZmYTliXkEyXkFqcGc@._V1_SX300.jpg&quot;,[{&quot;Internet Movie Database&quot;,&quot;6.7/10&quot;}, {&quot;Rotten Tomatoes&quot;,&quot;75%&quot;}, {&quot;Metacritic&quot;,&quot;62/100&quot;}],&quot;62&quot;,&quot;6.7&quot;,&quot;365,560&quot;,&quot;tt3731562&quot;,&quot;movie&quot;,&quot;N/A&quot;,&quot;$168,052,812&quot;,&quot;N/A&quot;,&quot;N/A&quot;,&quot;True&quot;}</td></tr></tbody></table></div>"
      ],
      "text/plain": [
       "shape: (5, 2)\n",
       "┌───────┬─────────────────────────────────┐\n",
       "│ index ┆ creds                           │\n",
       "│ ---   ┆ ---                             │\n",
       "│ i64   ┆ struct[25]                      │\n",
       "╞═══════╪═════════════════════════════════╡\n",
       "│ 101   ┆ {\"I, Robot\",\"2004\",\"PG-13\",\"16… │\n",
       "│ 61    ┆ {\"Lockout\",\"2012\",\"PG-13\",\"13 … │\n",
       "│ 543   ┆ {\"Reptile\",\"2023\",\"R\",\"29 Sep … │\n",
       "│ 295   ┆ {\"Vertigo\",\"1958\",\"PG\",\"28 May… │\n",
       "│ 308   ┆ {\"Kong: Skull Island\",\"2017\",\"… │\n",
       "└───────┴─────────────────────────────────┘"
      ]
     },
     "execution_count": 137,
     "metadata": {},
     "output_type": "execute_result"
    }
   ],
   "source": [
    "parsed_films = pl.from_dict(\n",
    "    {\n",
    "        \"index\": indexes,\n",
    "        \"creds\": creds,\n",
    "    }\n",
    ")\n",
    "\n",
    "parsed_films.sample(5)"
   ]
  },
  {
   "cell_type": "code",
   "execution_count": 153,
   "id": "ba06c69c",
   "metadata": {},
   "outputs": [
    {
     "data": {
      "text/html": [
       "<div><style>\n",
       ".dataframe > thead > tr,\n",
       ".dataframe > tbody > tr {\n",
       "  text-align: right;\n",
       "  white-space: pre-wrap;\n",
       "}\n",
       "</style>\n",
       "<small>shape: (5, 15)</small><table border=\"1\" class=\"dataframe\"><thead><tr><th>index</th><th>Title</th><th>Year</th><th>Viewed</th><th>title_eng</th><th>title_translation</th><th>parsed_date</th><th>parsed_title</th><th>checked</th><th>gpt_parsed_titles</th><th>years</th><th>titles</th><th>cleaned_title</th><th>cleaned_year</th><th>ids</th></tr><tr><td>i64</td><td>str</td><td>str</td><td>str</td><td>str</td><td>str</td><td>i64</td><td>str</td><td>str</td><td>str</td><td>str</td><td>str</td><td>str</td><td>i64</td><td>str</td></tr></thead><tbody><tr><td>1</td><td>&quot;Действуй сестра&quot;</td><td>null</td><td>null</td><td>&quot;Not found&quot;</td><td>&quot;Act sister&quot;</td><td>null</td><td>&quot;Not found&quot;</td><td>null</td><td>&quot;Sister Act&quot;</td><td>&quot;1992&quot;</td><td>&quot;Sister Act&quot;</td><td>&quot;Sister Act&quot;</td><td>1992</td><td>&quot;tt0105417&quot;</td></tr><tr><td>2</td><td>&quot;Summer lovers&quot;</td><td>null</td><td>null</td><td>&quot;Summer Lovers_1982_Comedy, Dra…</td><td>&quot;Summer lovers&quot;</td><td>1982</td><td>&quot;Summer Lovers&quot;</td><td>&quot;checked&quot;</td><td>&quot;Summer lovers&quot;</td><td>null</td><td>null</td><td>&quot;Summer Lovers&quot;</td><td>1982</td><td>&quot;tt0084737&quot;</td></tr><tr><td>3</td><td>&quot;Джон уик&quot;</td><td>null</td><td>null</td><td>&quot;John Wick_2014_Action, Crime, …</td><td>&quot;John Wick&quot;</td><td>2014</td><td>&quot;John Wick&quot;</td><td>&quot;checked&quot;</td><td>&quot;Джон уик&quot;</td><td>null</td><td>null</td><td>&quot;John Wick&quot;</td><td>2014</td><td>&quot;tt2911666&quot;</td></tr><tr><td>4</td><td>&quot;Помни&quot;</td><td>null</td><td>null</td><td>&quot;Remembered_2015_Short, Drama_N…</td><td>&quot;Remembered&quot;</td><td>2015</td><td>&quot;Remembered&quot;</td><td>&quot;checked&quot;</td><td>&quot;Помни&quot;</td><td>null</td><td>null</td><td>&quot;Memento&quot;</td><td>2000</td><td>&quot;tt0209144&quot;</td></tr><tr><td>5</td><td>&quot;Похитители велосипедов&quot;</td><td>null</td><td>null</td><td>&quot;Not found&quot;</td><td>&quot;Cycles of bicycles&quot;</td><td>null</td><td>&quot;Not found&quot;</td><td>null</td><td>&quot;Bicycle Thieves&quot;</td><td>&quot;1948&quot;</td><td>&quot;Bicycle Thieves&quot;</td><td>&quot;Bicycle Thieves&quot;</td><td>1948</td><td>&quot;tt0040522&quot;</td></tr></tbody></table></div>"
      ],
      "text/plain": [
       "shape: (5, 15)\n",
       "┌───────┬──────────────┬──────┬────────┬───┬──────────────┬──────────────┬─────────────┬───────────┐\n",
       "│ index ┆ Title        ┆ Year ┆ Viewed ┆ … ┆ titles       ┆ cleaned_titl ┆ cleaned_yea ┆ ids       │\n",
       "│ ---   ┆ ---          ┆ ---  ┆ ---    ┆   ┆ ---          ┆ e            ┆ r           ┆ ---       │\n",
       "│ i64   ┆ str          ┆ str  ┆ str    ┆   ┆ str          ┆ ---          ┆ ---         ┆ str       │\n",
       "│       ┆              ┆      ┆        ┆   ┆              ┆ str          ┆ i64         ┆           │\n",
       "╞═══════╪══════════════╪══════╪════════╪═══╪══════════════╪══════════════╪═════════════╪═══════════╡\n",
       "│ 1     ┆ Действуй     ┆ null ┆ null   ┆ … ┆ Sister Act   ┆ Sister Act   ┆ 1992        ┆ tt0105417 │\n",
       "│       ┆ сестра       ┆      ┆        ┆   ┆              ┆              ┆             ┆           │\n",
       "│ 2     ┆ Summer       ┆ null ┆ null   ┆ … ┆ null         ┆ Summer       ┆ 1982        ┆ tt0084737 │\n",
       "│       ┆ lovers       ┆      ┆        ┆   ┆              ┆ Lovers       ┆             ┆           │\n",
       "│ 3     ┆ Джон уик     ┆ null ┆ null   ┆ … ┆ null         ┆ John Wick    ┆ 2014        ┆ tt2911666 │\n",
       "│ 4     ┆ Помни        ┆ null ┆ null   ┆ … ┆ null         ┆ Memento      ┆ 2000        ┆ tt0209144 │\n",
       "│ 5     ┆ Похитители   ┆ null ┆ null   ┆ … ┆ Bicycle      ┆ Bicycle      ┆ 1948        ┆ tt0040522 │\n",
       "│       ┆ велосипедов  ┆      ┆        ┆   ┆ Thieves      ┆ Thieves      ┆             ┆           │\n",
       "└───────┴──────────────┴──────┴────────┴───┴──────────────┴──────────────┴─────────────┴───────────┘"
      ]
     },
     "execution_count": 153,
     "metadata": {},
     "output_type": "execute_result"
    }
   ],
   "source": [
    "movies_df.head()"
   ]
  },
  {
   "cell_type": "code",
   "execution_count": 139,
   "id": "455e150a",
   "metadata": {},
   "outputs": [],
   "source": [
    "movies_df = movies_df.drop(\"creds\")"
   ]
  },
  {
   "cell_type": "code",
   "execution_count": 140,
   "id": "c65a3819",
   "metadata": {},
   "outputs": [],
   "source": [
    "movies_df = movies_df.join(parsed_films, on=\"index\", how=\"left\")"
   ]
  },
  {
   "cell_type": "code",
   "execution_count": 131,
   "id": "a43b277e",
   "metadata": {},
   "outputs": [
    {
     "data": {
      "text/html": [
       "<div><style>\n",
       ".dataframe > thead > tr,\n",
       ".dataframe > tbody > tr {\n",
       "  text-align: right;\n",
       "  white-space: pre-wrap;\n",
       "}\n",
       "</style>\n",
       "<small>shape: (5, 16)</small><table border=\"1\" class=\"dataframe\"><thead><tr><th>index</th><th>Title</th><th>Year</th><th>Viewed</th><th>title_eng</th><th>title_translation</th><th>parsed_date</th><th>parsed_title</th><th>checked</th><th>gpt_parsed_titles</th><th>years</th><th>titles</th><th>cleaned_title</th><th>cleaned_year</th><th>ids</th><th>creds</th></tr><tr><td>i64</td><td>str</td><td>str</td><td>str</td><td>str</td><td>str</td><td>i64</td><td>str</td><td>str</td><td>str</td><td>str</td><td>str</td><td>str</td><td>i64</td><td>str</td><td>struct[25]</td></tr></thead><tbody><tr><td>1</td><td>&quot;Действуй сестра&quot;</td><td>null</td><td>null</td><td>&quot;Not found&quot;</td><td>&quot;Act sister&quot;</td><td>null</td><td>&quot;Not found&quot;</td><td>null</td><td>&quot;Sister Act&quot;</td><td>&quot;1992&quot;</td><td>&quot;Sister Act&quot;</td><td>&quot;Sister Act&quot;</td><td>1992</td><td>&quot;tt0105417&quot;</td><td>{&quot;Sister Act&quot;,&quot;1992&quot;,&quot;PG&quot;,&quot;29 May 1992&quot;,&quot;100 min&quot;,&quot;Comedy, Family, Music&quot;,&quot;Emile Ardolino&quot;,&quot;Paul Rudnick&quot;,&quot;Whoopi Goldberg, Maggie Smith, Harvey Keitel&quot;,&quot;When a nightclub singer is forced to take refuge from the mob in a convent, she ends up turning the convent choir into a soulful chorus complete with a Motown repertoire, until the sudden celebrity of the choir jeopardizes her ide...&quot;,&quot;English&quot;,&quot;United States&quot;,&quot;9 wins &amp; 10 nominations total&quot;,&quot;https://m.media-amazon.com/images/M/MV5BMjIzOTU0ODItMzcyMi00YzFjLTk3MzktNTQ2YjZmN2E0NTBkXkEyXkFqcGc@._V1_SX300.jpg&quot;,[{&quot;Internet Movie Database&quot;,&quot;6.5/10&quot;}, {&quot;Rotten Tomatoes&quot;,&quot;73%&quot;}, {&quot;Metacritic&quot;,&quot;51/100&quot;}],&quot;51&quot;,&quot;6.5&quot;,&quot;113,562&quot;,&quot;tt0105417&quot;,&quot;movie&quot;,&quot;N/A&quot;,&quot;$139,605,150&quot;,&quot;N/A&quot;,&quot;N/A&quot;,&quot;True&quot;}</td></tr><tr><td>2</td><td>&quot;Summer lovers&quot;</td><td>null</td><td>null</td><td>&quot;Summer Lovers_1982_Comedy, Dra…</td><td>&quot;Summer lovers&quot;</td><td>1982</td><td>&quot;Summer Lovers&quot;</td><td>&quot;checked&quot;</td><td>&quot;Summer lovers&quot;</td><td>null</td><td>null</td><td>&quot;Summer Lovers&quot;</td><td>1982</td><td>&quot;tt0084737&quot;</td><td>{&quot;Summer Lovers&quot;,&quot;1982&quot;,&quot;R&quot;,&quot;16 Jul 1982&quot;,&quot;98 min&quot;,&quot;Comedy, Drama, Romance&quot;,&quot;Randal Kleiser&quot;,&quot;Randal Kleiser&quot;,&quot;Peter Gallagher, Daryl Hannah, Valérie Quennessen&quot;,&quot;A young American couple and a French woman engage in a threesome in the Greek Islands.&quot;,&quot;English&quot;,&quot;United States&quot;,&quot;N/A&quot;,&quot;https://m.media-amazon.com/images/M/MV5BMTYxNjk0Mjg1NF5BMl5BanBnXkFtZTcwNzAyMTM3NA@@._V1_SX300.jpg&quot;,[{&quot;Internet Movie Database&quot;,&quot;5.8/10&quot;}, {&quot;Rotten Tomatoes&quot;,&quot;25%&quot;}],&quot;N/A&quot;,&quot;5.8&quot;,&quot;4,687&quot;,&quot;tt0084737&quot;,&quot;movie&quot;,&quot;N/A&quot;,&quot;$4,968,000&quot;,&quot;N/A&quot;,&quot;N/A&quot;,&quot;True&quot;}</td></tr><tr><td>3</td><td>&quot;Джон уик&quot;</td><td>null</td><td>null</td><td>&quot;John Wick_2014_Action, Crime, …</td><td>&quot;John Wick&quot;</td><td>2014</td><td>&quot;John Wick&quot;</td><td>&quot;checked&quot;</td><td>&quot;Джон уик&quot;</td><td>null</td><td>null</td><td>&quot;John Wick&quot;</td><td>2014</td><td>&quot;tt2911666&quot;</td><td>{&quot;John Wick&quot;,&quot;2014&quot;,&quot;R&quot;,&quot;24 Oct 2014&quot;,&quot;101 min&quot;,&quot;Action, Crime, Thriller&quot;,&quot;Chad Stahelski&quot;,&quot;Derek Kolstad&quot;,&quot;Keanu Reeves, Michael Nyqvist, Alfie Allen&quot;,&quot;John Wick is a former hitman grieving the loss of his true love. When his home is broken into, robbed, and his dog killed, he is forced to return to action to exact revenge.&quot;,&quot;English, Russian, Hungarian&quot;,&quot;United States&quot;,&quot;5 wins &amp; 10 nominations total&quot;,&quot;https://m.media-amazon.com/images/M/MV5BMTU2NjA1ODgzMF5BMl5BanBnXkFtZTgwMTM2MTI4MjE@._V1_SX300.jpg&quot;,[{&quot;Internet Movie Database&quot;,&quot;7.5/10&quot;}, {&quot;Rotten Tomatoes&quot;,&quot;86%&quot;}, {&quot;Metacritic&quot;,&quot;68/100&quot;}],&quot;68&quot;,&quot;7.5&quot;,&quot;783,681&quot;,&quot;tt2911666&quot;,&quot;movie&quot;,&quot;N/A&quot;,&quot;$43,037,835&quot;,&quot;N/A&quot;,&quot;N/A&quot;,&quot;True&quot;}</td></tr><tr><td>4</td><td>&quot;Помни&quot;</td><td>null</td><td>null</td><td>&quot;Remembered_2015_Short, Drama_N…</td><td>&quot;Remembered&quot;</td><td>2015</td><td>&quot;Remembered&quot;</td><td>&quot;checked&quot;</td><td>&quot;Помни&quot;</td><td>null</td><td>null</td><td>&quot;Memento&quot;</td><td>2000</td><td>&quot;tt0209144&quot;</td><td>{&quot;Memento&quot;,&quot;2000&quot;,&quot;R&quot;,&quot;25 May 2001&quot;,&quot;113 min&quot;,&quot;Drama, Mystery, Thriller&quot;,&quot;Christopher Nolan&quot;,&quot;Christopher Nolan, Jonathan Nolan&quot;,&quot;Guy Pearce, Carrie-Anne Moss, Joe Pantoliano&quot;,&quot;A former insurance investigator who now suffers from anterograde amnesia uses notes and tattoos to hunt down his wife&#x27;s murderer.&quot;,&quot;English&quot;,&quot;United States&quot;,&quot;Nominated for 2 Oscars. 57 wins &amp; 59 nominations total&quot;,&quot;https://m.media-amazon.com/images/M/MV5BYmQ3MjliNjAtNWFiZS00YWI1LTlmZTktMzBiNDE1NjRhZjU0XkEyXkFqcGc@._V1_SX300.jpg&quot;,[{&quot;Internet Movie Database&quot;,&quot;8.4/10&quot;}, {&quot;Rotten Tomatoes&quot;,&quot;94%&quot;}, {&quot;Metacritic&quot;,&quot;83/100&quot;}],&quot;83&quot;,&quot;8.4&quot;,&quot;1,389,289&quot;,&quot;tt0209144&quot;,&quot;movie&quot;,&quot;N/A&quot;,&quot;$25,544,867&quot;,&quot;N/A&quot;,&quot;N/A&quot;,&quot;True&quot;}</td></tr><tr><td>5</td><td>&quot;Похитители велосипедов&quot;</td><td>null</td><td>null</td><td>&quot;Not found&quot;</td><td>&quot;Cycles of bicycles&quot;</td><td>null</td><td>&quot;Not found&quot;</td><td>null</td><td>&quot;Bicycle Thieves&quot;</td><td>&quot;1948&quot;</td><td>&quot;Bicycle Thieves&quot;</td><td>&quot;Bicycle Thieves&quot;</td><td>1948</td><td>&quot;tt0040522&quot;</td><td>{&quot;Bicycle Thieves&quot;,&quot;1948&quot;,&quot;Not Rated&quot;,&quot;13 Dec 1949&quot;,&quot;89 min&quot;,&quot;Drama&quot;,&quot;Vittorio De Sica&quot;,&quot;Cesare Zavattini, Luigi Bartolini, Oreste Biancoli&quot;,&quot;Lamberto Maggiorani, Enzo Staiola, Lianella Carell&quot;,&quot;In post-war Italy, a working-class man&#x27;s bicycle is stolen, endangering his efforts to find work. He and his son set out to find it.&quot;,&quot;Italian, German&quot;,&quot;Italy&quot;,&quot;Nominated for 1 Oscar. 18 wins &amp; 1 nomination total&quot;,&quot;https://m.media-amazon.com/images/M/MV5BMjIzMzAyMzg1Nl5BMl5BanBnXkFtZTgwMzMyNzk0MTE@._V1_SX300.jpg&quot;,[{&quot;Internet Movie Database&quot;,&quot;8.2/10&quot;}, {&quot;Rotten Tomatoes&quot;,&quot;99%&quot;}],&quot;N/A&quot;,&quot;8.2&quot;,&quot;185,984&quot;,&quot;tt0040522&quot;,&quot;movie&quot;,&quot;N/A&quot;,&quot;$371,111&quot;,&quot;N/A&quot;,&quot;N/A&quot;,&quot;True&quot;}</td></tr></tbody></table></div>"
      ],
      "text/plain": [
       "shape: (5, 16)\n",
       "┌───────┬──────────────┬──────┬────────┬───┬──────────────┬──────────────┬───────────┬─────────────┐\n",
       "│ index ┆ Title        ┆ Year ┆ Viewed ┆ … ┆ cleaned_titl ┆ cleaned_year ┆ ids       ┆ creds       │\n",
       "│ ---   ┆ ---          ┆ ---  ┆ ---    ┆   ┆ e            ┆ ---          ┆ ---       ┆ ---         │\n",
       "│ i64   ┆ str          ┆ str  ┆ str    ┆   ┆ ---          ┆ i64          ┆ str       ┆ struct[25]  │\n",
       "│       ┆              ┆      ┆        ┆   ┆ str          ┆              ┆           ┆             │\n",
       "╞═══════╪══════════════╪══════╪════════╪═══╪══════════════╪══════════════╪═══════════╪═════════════╡\n",
       "│ 1     ┆ Действуй     ┆ null ┆ null   ┆ … ┆ Sister Act   ┆ 1992         ┆ tt0105417 ┆ {\"Sister    │\n",
       "│       ┆ сестра       ┆      ┆        ┆   ┆              ┆              ┆           ┆ Act\",\"1992\" │\n",
       "│       ┆              ┆      ┆        ┆   ┆              ┆              ┆           ┆ ,\"PG\",\"29 … │\n",
       "│ 2     ┆ Summer       ┆ null ┆ null   ┆ … ┆ Summer       ┆ 1982         ┆ tt0084737 ┆ {\"Summer    │\n",
       "│       ┆ lovers       ┆      ┆        ┆   ┆ Lovers       ┆              ┆           ┆ Lovers\",\"19 │\n",
       "│       ┆              ┆      ┆        ┆   ┆              ┆              ┆           ┆ 82\",\"R\",\"1… │\n",
       "│ 3     ┆ Джон уик     ┆ null ┆ null   ┆ … ┆ John Wick    ┆ 2014         ┆ tt2911666 ┆ {\"John Wick │\n",
       "│       ┆              ┆      ┆        ┆   ┆              ┆              ┆           ┆ \",\"2014\",\"R │\n",
       "│       ┆              ┆      ┆        ┆   ┆              ┆              ┆           ┆ \",\"24 Oc…   │\n",
       "│ 4     ┆ Помни        ┆ null ┆ null   ┆ … ┆ Memento      ┆ 2000         ┆ tt0209144 ┆ {\"Memento\", │\n",
       "│       ┆              ┆      ┆        ┆   ┆              ┆              ┆           ┆ \"2000\",\"R\", │\n",
       "│       ┆              ┆      ┆        ┆   ┆              ┆              ┆           ┆ \"25 May …   │\n",
       "│ 5     ┆ Похитители   ┆ null ┆ null   ┆ … ┆ Bicycle      ┆ 1948         ┆ tt0040522 ┆ {\"Bicycle   │\n",
       "│       ┆ велосипедов  ┆      ┆        ┆   ┆ Thieves      ┆              ┆           ┆ Thieves\",\"1 │\n",
       "│       ┆              ┆      ┆        ┆   ┆              ┆              ┆           ┆ 948\",\"Not…  │\n",
       "└───────┴──────────────┴──────┴────────┴───┴──────────────┴──────────────┴───────────┴─────────────┘"
      ]
     },
     "execution_count": 131,
     "metadata": {},
     "output_type": "execute_result"
    }
   ],
   "source": [
    "movies_df.head()"
   ]
  },
  {
   "cell_type": "code",
   "execution_count": 112,
   "id": "ddb3018e",
   "metadata": {},
   "outputs": [
    {
     "data": {
      "text/plain": [
       "{'Title': 'Sister Act',\n",
       " 'Year': '1992',\n",
       " 'Rated': 'PG',\n",
       " 'Released': '29 May 1992',\n",
       " 'Runtime': '100 min',\n",
       " 'Genre': 'Comedy, Family, Music',\n",
       " 'Director': 'Emile Ardolino',\n",
       " 'Writer': 'Paul Rudnick',\n",
       " 'Actors': 'Whoopi Goldberg, Maggie Smith, Harvey Keitel',\n",
       " 'Plot': 'When a nightclub singer is forced to take refuge from the mob in a convent, she ends up turning the convent choir into a soulful chorus complete with a Motown repertoire, until the sudden celebrity of the choir jeopardizes her ide...',\n",
       " 'Language': 'English',\n",
       " 'Country': 'United States',\n",
       " 'Awards': '9 wins & 10 nominations total',\n",
       " 'Poster': 'https://m.media-amazon.com/images/M/MV5BMjIzOTU0ODItMzcyMi00YzFjLTk3MzktNTQ2YjZmN2E0NTBkXkEyXkFqcGc@._V1_SX300.jpg',\n",
       " 'Ratings': [{'Source': 'Internet Movie Database', 'Value': '6.5/10'},\n",
       "  {'Source': 'Rotten Tomatoes', 'Value': '73%'},\n",
       "  {'Source': 'Metacritic', 'Value': '51/100'}],\n",
       " 'Metascore': '51',\n",
       " 'imdbRating': '6.5',\n",
       " 'imdbVotes': '113,562',\n",
       " 'imdbID': 'tt0105417',\n",
       " 'Type': 'movie',\n",
       " 'DVD': 'N/A',\n",
       " 'BoxOffice': '$139,605,150',\n",
       " 'Production': 'N/A',\n",
       " 'Website': 'N/A',\n",
       " 'Response': 'True'}"
      ]
     },
     "execution_count": 112,
     "metadata": {},
     "output_type": "execute_result"
    }
   ],
   "source": [
    "movies_df.head(1)[\"creds\"].item()"
   ]
  },
  {
   "cell_type": "code",
   "execution_count": 148,
   "id": "88bb86d3",
   "metadata": {},
   "outputs": [
    {
     "data": {
      "text/html": [
       "<div><style>\n",
       ".dataframe > thead > tr,\n",
       ".dataframe > tbody > tr {\n",
       "  text-align: right;\n",
       "  white-space: pre-wrap;\n",
       "}\n",
       "</style>\n",
       "<small>shape: (5, 19)</small><table border=\"1\" class=\"dataframe\"><thead><tr><th>index</th><th>Title</th><th>Year</th><th>Viewed</th><th>title_eng</th><th>title_translation</th><th>parsed_date</th><th>parsed_title</th><th>checked</th><th>gpt_parsed_titles</th><th>years</th><th>titles</th><th>cleaned_title</th><th>cleaned_year</th><th>ids</th><th>creds</th><th>year_creds</th><th>title_creds</th><th>genre_creds</th></tr><tr><td>i64</td><td>str</td><td>str</td><td>str</td><td>str</td><td>str</td><td>i64</td><td>str</td><td>str</td><td>str</td><td>str</td><td>str</td><td>str</td><td>i64</td><td>str</td><td>struct[25]</td><td>i64</td><td>str</td><td>str</td></tr></thead><tbody><tr><td>193</td><td>&quot;True detective *&quot;</td><td>null</td><td>null</td><td>null</td><td>null</td><td>null</td><td>null</td><td>&quot;checked&quot;</td><td>&quot;True detective *&quot;</td><td>null</td><td>null</td><td>null</td><td>null</td><td>&quot;Not found&quot;</td><td>{null,null,null,null,null,null,null,null,null,null,null,null,null,null,null,null,null,null,null,null,null,null,null,null,null}</td><td>null</td><td>null</td><td>null</td></tr><tr><td>355</td><td>&quot;(100 любимых фильмов фрэнка оу…</td><td>null</td><td>null</td><td>&quot;Not found&quot;</td><td>&quot;(100 favorite films Frank Ocea…</td><td>null</td><td>&quot;Not found&quot;</td><td>null</td><td>&quot;(100 Favorite Films of Frank O…</td><td>&quot;-1&quot;</td><td>null</td><td>null</td><td>null</td><td>&quot;Not found&quot;</td><td>{null,null,null,null,null,null,null,null,null,null,null,null,null,null,null,null,null,null,null,null,null,null,null,null,null}</td><td>null</td><td>null</td><td>null</td></tr><tr><td>450</td><td>&quot;Отбросы *&quot;</td><td>null</td><td>null</td><td>&quot;Not found&quot;</td><td>&quot;Dispers *&quot;</td><td>null</td><td>&quot;Not found&quot;</td><td>null</td><td>&quot;Misfits&quot;</td><td>&quot;2009–2013&quot;</td><td>&quot;Misfits&quot;</td><td>&quot;Misfits&quot;</td><td>null</td><td>&quot;Not found&quot;</td><td>{null,null,null,null,null,null,null,null,null,null,null,null,null,null,null,null,null,null,null,null,null,null,null,null,null}</td><td>null</td><td>null</td><td>null</td></tr><tr><td>493</td><td>&quot;Мanhattan shorts *&quot;</td><td>&quot;2020&quot;</td><td>null</td><td>&quot;Not found&quot;</td><td>&quot;Мanhattan shorts *&quot;</td><td>null</td><td>&quot;Not found&quot;</td><td>null</td><td>&quot;Manhattan Shorts&quot;</td><td>&quot;-1&quot;</td><td>null</td><td>null</td><td>null</td><td>&quot;Not found&quot;</td><td>{null,null,null,null,null,null,null,null,null,null,null,null,null,null,null,null,null,null,null,null,null,null,null,null,null}</td><td>null</td><td>null</td><td>null</td></tr><tr><td>null</td><td>&quot;The Big Sleep&quot;</td><td>&quot;1946&quot;</td><td>&quot;2026-07-30 00:00:00&quot;</td><td>null</td><td>null</td><td>null</td><td>null</td><td>null</td><td>null</td><td>null</td><td>null</td><td>&quot;The Big Sleep&quot;</td><td>1946</td><td>&quot;tt0038355&quot;</td><td>null</td><td>null</td><td>null</td><td>null</td></tr></tbody></table></div>"
      ],
      "text/plain": [
       "shape: (5, 19)\n",
       "┌───────┬─────────────┬──────┬─────────────┬───┬────────────┬────────────┬────────────┬────────────┐\n",
       "│ index ┆ Title       ┆ Year ┆ Viewed      ┆ … ┆ creds      ┆ year_creds ┆ title_cred ┆ genre_cred │\n",
       "│ ---   ┆ ---         ┆ ---  ┆ ---         ┆   ┆ ---        ┆ ---        ┆ s          ┆ s          │\n",
       "│ i64   ┆ str         ┆ str  ┆ str         ┆   ┆ struct[25] ┆ i64        ┆ ---        ┆ ---        │\n",
       "│       ┆             ┆      ┆             ┆   ┆            ┆            ┆ str        ┆ str        │\n",
       "╞═══════╪═════════════╪══════╪═════════════╪═══╪════════════╪════════════╪════════════╪════════════╡\n",
       "│ 193   ┆ True        ┆ null ┆ null        ┆ … ┆ {null,null ┆ null       ┆ null       ┆ null       │\n",
       "│       ┆ detective * ┆      ┆             ┆   ┆ ,null,null ┆            ┆            ┆            │\n",
       "│       ┆             ┆      ┆             ┆   ┆ ,null,null ┆            ┆            ┆            │\n",
       "│       ┆             ┆      ┆             ┆   ┆ …          ┆            ┆            ┆            │\n",
       "│ 355   ┆ (100        ┆ null ┆ null        ┆ … ┆ {null,null ┆ null       ┆ null       ┆ null       │\n",
       "│       ┆ любимых     ┆      ┆             ┆   ┆ ,null,null ┆            ┆            ┆            │\n",
       "│       ┆ фильмов     ┆      ┆             ┆   ┆ ,null,null ┆            ┆            ┆            │\n",
       "│       ┆ фрэнка оу…  ┆      ┆             ┆   ┆ …          ┆            ┆            ┆            │\n",
       "│ 450   ┆ Отбросы *   ┆ null ┆ null        ┆ … ┆ {null,null ┆ null       ┆ null       ┆ null       │\n",
       "│       ┆             ┆      ┆             ┆   ┆ ,null,null ┆            ┆            ┆            │\n",
       "│       ┆             ┆      ┆             ┆   ┆ ,null,null ┆            ┆            ┆            │\n",
       "│       ┆             ┆      ┆             ┆   ┆ …          ┆            ┆            ┆            │\n",
       "│ 493   ┆ Мanhattan   ┆ 2020 ┆ null        ┆ … ┆ {null,null ┆ null       ┆ null       ┆ null       │\n",
       "│       ┆ shorts *    ┆      ┆             ┆   ┆ ,null,null ┆            ┆            ┆            │\n",
       "│       ┆             ┆      ┆             ┆   ┆ ,null,null ┆            ┆            ┆            │\n",
       "│       ┆             ┆      ┆             ┆   ┆ …          ┆            ┆            ┆            │\n",
       "│ null  ┆ The Big     ┆ 1946 ┆ 2026-07-30  ┆ … ┆ null       ┆ null       ┆ null       ┆ null       │\n",
       "│       ┆ Sleep       ┆      ┆ 00:00:00    ┆   ┆            ┆            ┆            ┆            │\n",
       "└───────┴─────────────┴──────┴─────────────┴───┴────────────┴────────────┴────────────┴────────────┘"
      ]
     },
     "execution_count": 148,
     "metadata": {},
     "output_type": "execute_result"
    }
   ],
   "source": [
    "movies_df.with_columns(\n",
    "    c(\"creds\").struct.field(\"Year\").cast(pl.Int64).alias(\"year_creds\"),\n",
    "    c(\"creds\").struct.field(\"Title\").alias(\"title_creds\"),\n",
    "    c(\"creds\").struct.field(\"Genre\").alias(\"genre_creds\"),\n",
    ").filter(\n",
    "    # c(\"year_creds\") != c(\"cleaned_year\"),\n",
    "    c(\"genre_creds\").is_null(),\n",
    ")"
   ]
  },
  {
   "cell_type": "markdown",
   "id": "87030385",
   "metadata": {},
   "source": [
    "### to replace"
   ]
  },
  {
   "cell_type": "code",
   "execution_count": null,
   "id": "ed5d8b88",
   "metadata": {},
   "outputs": [],
   "source": [
    "# movies_df =\n",
    "movies_df.with_columns(\n",
    "    pl.when(c(\"index\") == \"tt0038355\")\n",
    "    .then(pl.lit(\"tt0110413\"))\n",
    "    .otherwise(c(\"ids\"))\n",
    "    .alias(\"ids\")\n",
    ")"
   ]
  },
  {
   "cell_type": "code",
   "execution_count": null,
   "id": "57d5597c",
   "metadata": {},
   "outputs": [],
   "source": [
    "omdb_result = fetch_english_title(\"tt0110413\")\n",
    "if omdb_result != \"Not found\":\n",
    "    # result_dict[9] = omdb_result\n",
    "    pass\n",
    "else:\n",
    "    print(1)"
   ]
  },
  {
   "cell_type": "code",
   "execution_count": null,
   "id": "e762d49a",
   "metadata": {},
   "outputs": [],
   "source": [
    "# to replace\n",
    "to_replace = {\n",
    "    63: \"tt2024469\",\n",
    "}"
   ]
  },
  {
   "cell_type": "code",
   "execution_count": null,
   "id": "56d00d2a",
   "metadata": {},
   "outputs": [],
   "source": [
    "def fetch_english_title(title):\n",
    "    try:\n",
    "        url = f\"http://www.omdbapi.com/?apikey={OMDB_API_KEY}&i={requests.utils.quote(title)}\"  # for index search\n",
    "        # url = f\"http://www.omdbapi.com/?apikey={OMDB_API_KEY}&t={requests.utils.quote(title)}\"\n",
    "        response = requests.get(url)\n",
    "        data = response.json()\n",
    "        if data.get(\"Response\") == \"True\" and \"Title\" in data:\n",
    "            return data\n",
    "        else:\n",
    "            print(f\"Not found in OMDb: {title}\")\n",
    "            return \"Not found\"\n",
    "    except Exception as e:\n",
    "        print(f\"OMDb error for {title}: {e}\")\n",
    "        return \"Not found\""
   ]
  },
  {
   "cell_type": "code",
   "execution_count": null,
   "id": "f2c5d601",
   "metadata": {},
   "outputs": [],
   "source": [
    "# movies_df =\n",
    "for key, val in to_replace.items():\n",
    "    movies_df = movies_df.with_columns(\n",
    "        pl.when(c(\"index\") == key).then(pl.lit(val)).otherwise(c(\"ids\")).alias(\"ids\")\n",
    "    )\n",
    "    omdb_result = fetch_english_title(val)\n",
    "\n",
    "    movies_df = movies_df.with_columns(\n",
    "        pl.when(c(\"index\") == key)\n",
    "        .then(omdb_result)\n",
    "        .otherwise(c(\"creds\"))\n",
    "        .alias(\"creds\")\n",
    "    )"
   ]
  },
  {
   "cell_type": "markdown",
   "id": "afb9e53a",
   "metadata": {},
   "source": [
    "## save df"
   ]
  },
  {
   "cell_type": "code",
   "execution_count": 150,
   "id": "053f97c8",
   "metadata": {},
   "outputs": [
    {
     "data": {
      "text/plain": [
       "<xlsxwriter.workbook.Workbook at 0x11c2a4b90>"
      ]
     },
     "execution_count": 150,
     "metadata": {},
     "output_type": "execute_result"
    }
   ],
   "source": [
    "file_name = \"movies_df.xlsx\"\n",
    "file_path = os.path.join(FILES_DIR, file_name)\n",
    "movies_df.write_excel(file_path)"
   ]
  },
  {
   "cell_type": "code",
   "execution_count": 151,
   "id": "1d7481dc",
   "metadata": {},
   "outputs": [],
   "source": [
    "file_name = \"movies_df.parquet\"\n",
    "file_path = os.path.join(FILES_DIR, file_name)\n",
    "movies_df.write_parquet(file_path)"
   ]
  },
  {
   "cell_type": "code",
   "execution_count": null,
   "id": "550cca73",
   "metadata": {},
   "outputs": [],
   "source": []
  }
 ],
 "metadata": {
  "kernelspec": {
   "display_name": ".venv",
   "language": "python",
   "name": "python3"
  },
  "language_info": {
   "codemirror_mode": {
    "name": "ipython",
    "version": 3
   },
   "file_extension": ".py",
   "mimetype": "text/x-python",
   "name": "python",
   "nbconvert_exporter": "python",
   "pygments_lexer": "ipython3",
   "version": "3.12.11"
  }
 },
 "nbformat": 4,
 "nbformat_minor": 5
}
