{
 "cells": [
  {
   "cell_type": "markdown",
   "id": "140ca41a",
   "metadata": {},
   "source": [
    "## imports"
   ]
  },
  {
   "cell_type": "code",
   "execution_count": null,
   "id": "4ab6c22b",
   "metadata": {},
   "outputs": [
    {
     "data": {
      "text/plain": [
       "True"
      ]
     },
     "execution_count": 1,
     "metadata": {},
     "output_type": "execute_result"
    }
   ],
   "source": [
    "import polars as pl\n",
    "from polars import col as c\n",
    "import os, sys, requests\n",
    "from dotenv import load_dotenv, find_dotenv\n",
    "from tqdm import tqdm\n",
    "\n",
    "load_dotenv(find_dotenv())"
   ]
  },
  {
   "cell_type": "markdown",
   "id": "0a9001c4",
   "metadata": {},
   "source": [
    "## constants"
   ]
  },
  {
   "cell_type": "code",
   "execution_count": 2,
   "id": "aae1c649",
   "metadata": {},
   "outputs": [],
   "source": [
    "OMDB_API_KEY = os.getenv(\"OMDB_API_KEY\")\n",
    "FILES_DIR = \"../data\""
   ]
  },
  {
   "cell_type": "markdown",
   "id": "cc98e638",
   "metadata": {},
   "source": [
    "## load df"
   ]
  },
  {
   "cell_type": "code",
   "execution_count": 13,
   "id": "503cec71",
   "metadata": {},
   "outputs": [],
   "source": [
    "file_name = \"movies_df.parquet\"\n",
    "file_path = os.path.join(FILES_DIR, file_name)\n",
    "movies_df = pl.read_parquet(file_path)"
   ]
  },
  {
   "cell_type": "code",
   "execution_count": 14,
   "id": "aa67e849",
   "metadata": {},
   "outputs": [],
   "source": [
    "# file_name = \"movies_df.xlsx\"\n",
    "# file_path = os.path.join(FILES_DIR, file_name)\n",
    "# movies_df = pl.read_excel(file_path)"
   ]
  },
  {
   "cell_type": "markdown",
   "id": "f02b797a",
   "metadata": {},
   "source": [
    "## code"
   ]
  },
  {
   "cell_type": "code",
   "execution_count": 15,
   "id": "30d27824",
   "metadata": {},
   "outputs": [
    {
     "data": {
      "text/html": [
       "<div><style>\n",
       ".dataframe > thead > tr,\n",
       ".dataframe > tbody > tr {\n",
       "  text-align: right;\n",
       "  white-space: pre-wrap;\n",
       "}\n",
       "</style>\n",
       "<small>shape: (5, 16)</small><table border=\"1\" class=\"dataframe\"><thead><tr><th>index</th><th>Title</th><th>Year</th><th>Viewed</th><th>title_eng</th><th>title_translation</th><th>parsed_date</th><th>parsed_title</th><th>checked</th><th>gpt_parsed_titles</th><th>years</th><th>titles</th><th>cleaned_title</th><th>cleaned_year</th><th>ids</th><th>creds</th></tr><tr><td>i64</td><td>str</td><td>str</td><td>str</td><td>str</td><td>str</td><td>i64</td><td>str</td><td>str</td><td>str</td><td>str</td><td>str</td><td>str</td><td>i64</td><td>str</td><td>struct[25]</td></tr></thead><tbody><tr><td>1</td><td>&quot;Действуй сестра&quot;</td><td>null</td><td>null</td><td>&quot;Not found&quot;</td><td>&quot;Act sister&quot;</td><td>null</td><td>&quot;Not found&quot;</td><td>null</td><td>&quot;Sister Act&quot;</td><td>&quot;1992&quot;</td><td>&quot;Sister Act&quot;</td><td>&quot;Sister Act&quot;</td><td>1992</td><td>&quot;tt0105417&quot;</td><td>{&quot;Sister Act&quot;,&quot;1992&quot;,&quot;PG&quot;,&quot;29 May 1992&quot;,&quot;100 min&quot;,&quot;Comedy, Family, Music&quot;,&quot;Emile Ardolino&quot;,&quot;Paul Rudnick&quot;,&quot;Whoopi Goldberg, Maggie Smith, Harvey Keitel&quot;,&quot;When a nightclub singer is forced to take refuge from the mob in a convent, she ends up turning the convent choir into a soulful chorus complete with a Motown repertoire, until the sudden celebrity of the choir jeopardizes her ide...&quot;,&quot;English&quot;,&quot;United States&quot;,&quot;9 wins &amp; 10 nominations total&quot;,&quot;https://m.media-amazon.com/images/M/MV5BMjIzOTU0ODItMzcyMi00YzFjLTk3MzktNTQ2YjZmN2E0NTBkXkEyXkFqcGc@._V1_SX300.jpg&quot;,[{&quot;Internet Movie Database&quot;,&quot;6.5/10&quot;}, {&quot;Rotten Tomatoes&quot;,&quot;73%&quot;}, {&quot;Metacritic&quot;,&quot;51/100&quot;}],&quot;51&quot;,&quot;6.5&quot;,&quot;113,562&quot;,&quot;tt0105417&quot;,&quot;movie&quot;,&quot;N/A&quot;,&quot;$139,605,150&quot;,&quot;N/A&quot;,&quot;N/A&quot;,&quot;True&quot;}</td></tr><tr><td>2</td><td>&quot;Summer lovers&quot;</td><td>null</td><td>null</td><td>&quot;Summer Lovers_1982_Comedy, Dra…</td><td>&quot;Summer lovers&quot;</td><td>1982</td><td>&quot;Summer Lovers&quot;</td><td>&quot;checked&quot;</td><td>&quot;Summer lovers&quot;</td><td>null</td><td>null</td><td>&quot;Summer Lovers&quot;</td><td>1982</td><td>&quot;tt0084737&quot;</td><td>{&quot;Summer Lovers&quot;,&quot;1982&quot;,&quot;R&quot;,&quot;16 Jul 1982&quot;,&quot;98 min&quot;,&quot;Comedy, Drama, Romance&quot;,&quot;Randal Kleiser&quot;,&quot;Randal Kleiser&quot;,&quot;Peter Gallagher, Daryl Hannah, Valérie Quennessen&quot;,&quot;A young American couple and a French woman engage in a threesome in the Greek Islands.&quot;,&quot;English&quot;,&quot;United States&quot;,&quot;N/A&quot;,&quot;https://m.media-amazon.com/images/M/MV5BMTYxNjk0Mjg1NF5BMl5BanBnXkFtZTcwNzAyMTM3NA@@._V1_SX300.jpg&quot;,[{&quot;Internet Movie Database&quot;,&quot;5.8/10&quot;}, {&quot;Rotten Tomatoes&quot;,&quot;25%&quot;}],&quot;N/A&quot;,&quot;5.8&quot;,&quot;4,687&quot;,&quot;tt0084737&quot;,&quot;movie&quot;,&quot;N/A&quot;,&quot;$4,968,000&quot;,&quot;N/A&quot;,&quot;N/A&quot;,&quot;True&quot;}</td></tr><tr><td>3</td><td>&quot;Джон уик&quot;</td><td>null</td><td>null</td><td>&quot;John Wick_2014_Action, Crime, …</td><td>&quot;John Wick&quot;</td><td>2014</td><td>&quot;John Wick&quot;</td><td>&quot;checked&quot;</td><td>&quot;Джон уик&quot;</td><td>null</td><td>null</td><td>&quot;John Wick&quot;</td><td>2014</td><td>&quot;tt2911666&quot;</td><td>{&quot;John Wick&quot;,&quot;2014&quot;,&quot;R&quot;,&quot;24 Oct 2014&quot;,&quot;101 min&quot;,&quot;Action, Crime, Thriller&quot;,&quot;Chad Stahelski&quot;,&quot;Derek Kolstad&quot;,&quot;Keanu Reeves, Michael Nyqvist, Alfie Allen&quot;,&quot;John Wick is a former hitman grieving the loss of his true love. When his home is broken into, robbed, and his dog killed, he is forced to return to action to exact revenge.&quot;,&quot;English, Russian, Hungarian&quot;,&quot;United States&quot;,&quot;5 wins &amp; 10 nominations total&quot;,&quot;https://m.media-amazon.com/images/M/MV5BMTU2NjA1ODgzMF5BMl5BanBnXkFtZTgwMTM2MTI4MjE@._V1_SX300.jpg&quot;,[{&quot;Internet Movie Database&quot;,&quot;7.5/10&quot;}, {&quot;Rotten Tomatoes&quot;,&quot;86%&quot;}, {&quot;Metacritic&quot;,&quot;68/100&quot;}],&quot;68&quot;,&quot;7.5&quot;,&quot;783,681&quot;,&quot;tt2911666&quot;,&quot;movie&quot;,&quot;N/A&quot;,&quot;$43,037,835&quot;,&quot;N/A&quot;,&quot;N/A&quot;,&quot;True&quot;}</td></tr><tr><td>4</td><td>&quot;Помни&quot;</td><td>null</td><td>null</td><td>&quot;Remembered_2015_Short, Drama_N…</td><td>&quot;Remembered&quot;</td><td>2015</td><td>&quot;Remembered&quot;</td><td>&quot;checked&quot;</td><td>&quot;Помни&quot;</td><td>null</td><td>null</td><td>&quot;Memento&quot;</td><td>2000</td><td>&quot;tt0209144&quot;</td><td>{&quot;Memento&quot;,&quot;2000&quot;,&quot;R&quot;,&quot;25 May 2001&quot;,&quot;113 min&quot;,&quot;Drama, Mystery, Thriller&quot;,&quot;Christopher Nolan&quot;,&quot;Christopher Nolan, Jonathan Nolan&quot;,&quot;Guy Pearce, Carrie-Anne Moss, Joe Pantoliano&quot;,&quot;A former insurance investigator who now suffers from anterograde amnesia uses notes and tattoos to hunt down his wife&#x27;s murderer.&quot;,&quot;English&quot;,&quot;United States&quot;,&quot;Nominated for 2 Oscars. 57 wins &amp; 59 nominations total&quot;,&quot;https://m.media-amazon.com/images/M/MV5BYmQ3MjliNjAtNWFiZS00YWI1LTlmZTktMzBiNDE1NjRhZjU0XkEyXkFqcGc@._V1_SX300.jpg&quot;,[{&quot;Internet Movie Database&quot;,&quot;8.4/10&quot;}, {&quot;Rotten Tomatoes&quot;,&quot;94%&quot;}, {&quot;Metacritic&quot;,&quot;83/100&quot;}],&quot;83&quot;,&quot;8.4&quot;,&quot;1,389,289&quot;,&quot;tt0209144&quot;,&quot;movie&quot;,&quot;N/A&quot;,&quot;$25,544,867&quot;,&quot;N/A&quot;,&quot;N/A&quot;,&quot;True&quot;}</td></tr><tr><td>5</td><td>&quot;Похитители велосипедов&quot;</td><td>null</td><td>null</td><td>&quot;Not found&quot;</td><td>&quot;Cycles of bicycles&quot;</td><td>null</td><td>&quot;Not found&quot;</td><td>null</td><td>&quot;Bicycle Thieves&quot;</td><td>&quot;1948&quot;</td><td>&quot;Bicycle Thieves&quot;</td><td>&quot;Bicycle Thieves&quot;</td><td>1948</td><td>&quot;tt0040522&quot;</td><td>{&quot;Bicycle Thieves&quot;,&quot;1948&quot;,&quot;Not Rated&quot;,&quot;13 Dec 1949&quot;,&quot;89 min&quot;,&quot;Drama&quot;,&quot;Vittorio De Sica&quot;,&quot;Cesare Zavattini, Luigi Bartolini, Oreste Biancoli&quot;,&quot;Lamberto Maggiorani, Enzo Staiola, Lianella Carell&quot;,&quot;In post-war Italy, a working-class man&#x27;s bicycle is stolen, endangering his efforts to find work. He and his son set out to find it.&quot;,&quot;Italian, German&quot;,&quot;Italy&quot;,&quot;Nominated for 1 Oscar. 18 wins &amp; 1 nomination total&quot;,&quot;https://m.media-amazon.com/images/M/MV5BMjIzMzAyMzg1Nl5BMl5BanBnXkFtZTgwMzMyNzk0MTE@._V1_SX300.jpg&quot;,[{&quot;Internet Movie Database&quot;,&quot;8.2/10&quot;}, {&quot;Rotten Tomatoes&quot;,&quot;99%&quot;}],&quot;N/A&quot;,&quot;8.2&quot;,&quot;185,984&quot;,&quot;tt0040522&quot;,&quot;movie&quot;,&quot;N/A&quot;,&quot;$371,111&quot;,&quot;N/A&quot;,&quot;N/A&quot;,&quot;True&quot;}</td></tr></tbody></table></div>"
      ],
      "text/plain": [
       "shape: (5, 16)\n",
       "┌───────┬──────────────┬──────┬────────┬───┬──────────────┬──────────────┬───────────┬─────────────┐\n",
       "│ index ┆ Title        ┆ Year ┆ Viewed ┆ … ┆ cleaned_titl ┆ cleaned_year ┆ ids       ┆ creds       │\n",
       "│ ---   ┆ ---          ┆ ---  ┆ ---    ┆   ┆ e            ┆ ---          ┆ ---       ┆ ---         │\n",
       "│ i64   ┆ str          ┆ str  ┆ str    ┆   ┆ ---          ┆ i64          ┆ str       ┆ struct[25]  │\n",
       "│       ┆              ┆      ┆        ┆   ┆ str          ┆              ┆           ┆             │\n",
       "╞═══════╪══════════════╪══════╪════════╪═══╪══════════════╪══════════════╪═══════════╪═════════════╡\n",
       "│ 1     ┆ Действуй     ┆ null ┆ null   ┆ … ┆ Sister Act   ┆ 1992         ┆ tt0105417 ┆ {\"Sister    │\n",
       "│       ┆ сестра       ┆      ┆        ┆   ┆              ┆              ┆           ┆ Act\",\"1992\" │\n",
       "│       ┆              ┆      ┆        ┆   ┆              ┆              ┆           ┆ ,\"PG\",\"29 … │\n",
       "│ 2     ┆ Summer       ┆ null ┆ null   ┆ … ┆ Summer       ┆ 1982         ┆ tt0084737 ┆ {\"Summer    │\n",
       "│       ┆ lovers       ┆      ┆        ┆   ┆ Lovers       ┆              ┆           ┆ Lovers\",\"19 │\n",
       "│       ┆              ┆      ┆        ┆   ┆              ┆              ┆           ┆ 82\",\"R\",\"1… │\n",
       "│ 3     ┆ Джон уик     ┆ null ┆ null   ┆ … ┆ John Wick    ┆ 2014         ┆ tt2911666 ┆ {\"John Wick │\n",
       "│       ┆              ┆      ┆        ┆   ┆              ┆              ┆           ┆ \",\"2014\",\"R │\n",
       "│       ┆              ┆      ┆        ┆   ┆              ┆              ┆           ┆ \",\"24 Oc…   │\n",
       "│ 4     ┆ Помни        ┆ null ┆ null   ┆ … ┆ Memento      ┆ 2000         ┆ tt0209144 ┆ {\"Memento\", │\n",
       "│       ┆              ┆      ┆        ┆   ┆              ┆              ┆           ┆ \"2000\",\"R\", │\n",
       "│       ┆              ┆      ┆        ┆   ┆              ┆              ┆           ┆ \"25 May …   │\n",
       "│ 5     ┆ Похитители   ┆ null ┆ null   ┆ … ┆ Bicycle      ┆ 1948         ┆ tt0040522 ┆ {\"Bicycle   │\n",
       "│       ┆ велосипедов  ┆      ┆        ┆   ┆ Thieves      ┆              ┆           ┆ Thieves\",\"1 │\n",
       "│       ┆              ┆      ┆        ┆   ┆              ┆              ┆           ┆ 948\",\"Not…  │\n",
       "└───────┴──────────────┴──────┴────────┴───┴──────────────┴──────────────┴───────────┴─────────────┘"
      ]
     },
     "execution_count": 15,
     "metadata": {},
     "output_type": "execute_result"
    }
   ],
   "source": [
    "movies_df.head()"
   ]
  },
  {
   "cell_type": "code",
   "execution_count": 16,
   "id": "d5d41948",
   "metadata": {},
   "outputs": [
    {
     "data": {
      "text/plain": [
       "{'Title': 'Sister Act',\n",
       " 'Year': '1992',\n",
       " 'Rated': 'PG',\n",
       " 'Released': '29 May 1992',\n",
       " 'Runtime': '100 min',\n",
       " 'Genre': 'Comedy, Family, Music',\n",
       " 'Director': 'Emile Ardolino',\n",
       " 'Writer': 'Paul Rudnick',\n",
       " 'Actors': 'Whoopi Goldberg, Maggie Smith, Harvey Keitel',\n",
       " 'Plot': 'When a nightclub singer is forced to take refuge from the mob in a convent, she ends up turning the convent choir into a soulful chorus complete with a Motown repertoire, until the sudden celebrity of the choir jeopardizes her ide...',\n",
       " 'Language': 'English',\n",
       " 'Country': 'United States',\n",
       " 'Awards': '9 wins & 10 nominations total',\n",
       " 'Poster': 'https://m.media-amazon.com/images/M/MV5BMjIzOTU0ODItMzcyMi00YzFjLTk3MzktNTQ2YjZmN2E0NTBkXkEyXkFqcGc@._V1_SX300.jpg',\n",
       " 'Ratings': [{'Source': 'Internet Movie Database', 'Value': '6.5/10'},\n",
       "  {'Source': 'Rotten Tomatoes', 'Value': '73%'},\n",
       "  {'Source': 'Metacritic', 'Value': '51/100'}],\n",
       " 'Metascore': '51',\n",
       " 'imdbRating': '6.5',\n",
       " 'imdbVotes': '113,562',\n",
       " 'imdbID': 'tt0105417',\n",
       " 'Type': 'movie',\n",
       " 'DVD': 'N/A',\n",
       " 'BoxOffice': '$139,605,150',\n",
       " 'Production': 'N/A',\n",
       " 'Website': 'N/A',\n",
       " 'Response': 'True'}"
      ]
     },
     "execution_count": 16,
     "metadata": {},
     "output_type": "execute_result"
    }
   ],
   "source": [
    "movies_df.head(1)[\"creds\"].item()"
   ]
  },
  {
   "cell_type": "code",
   "execution_count": 21,
   "id": "7156775b",
   "metadata": {},
   "outputs": [
    {
     "data": {
      "text/html": [
       "<div><style>\n",
       ".dataframe > thead > tr,\n",
       ".dataframe > tbody > tr {\n",
       "  text-align: right;\n",
       "  white-space: pre-wrap;\n",
       "}\n",
       "</style>\n",
       "<small>shape: (5, 21)</small><table border=\"1\" class=\"dataframe\"><thead><tr><th>index</th><th>Title</th><th>Year</th><th>Viewed</th><th>title_eng</th><th>title_translation</th><th>parsed_date</th><th>parsed_title</th><th>checked</th><th>gpt_parsed_titles</th><th>years</th><th>titles</th><th>cleaned_title</th><th>cleaned_year</th><th>ids</th><th>creds</th><th>year_</th><th>title_</th><th>genre_</th><th>director_</th><th>country_</th></tr><tr><td>i64</td><td>str</td><td>str</td><td>str</td><td>str</td><td>str</td><td>i64</td><td>str</td><td>str</td><td>str</td><td>str</td><td>str</td><td>str</td><td>i64</td><td>str</td><td>struct[25]</td><td>i64</td><td>str</td><td>str</td><td>str</td><td>str</td></tr></thead><tbody><tr><td>1</td><td>&quot;Действуй сестра&quot;</td><td>null</td><td>null</td><td>&quot;Not found&quot;</td><td>&quot;Act sister&quot;</td><td>null</td><td>&quot;Not found&quot;</td><td>null</td><td>&quot;Sister Act&quot;</td><td>&quot;1992&quot;</td><td>&quot;Sister Act&quot;</td><td>&quot;Sister Act&quot;</td><td>1992</td><td>&quot;tt0105417&quot;</td><td>{&quot;Sister Act&quot;,&quot;1992&quot;,&quot;PG&quot;,&quot;29 May 1992&quot;,&quot;100 min&quot;,&quot;Comedy, Family, Music&quot;,&quot;Emile Ardolino&quot;,&quot;Paul Rudnick&quot;,&quot;Whoopi Goldberg, Maggie Smith, Harvey Keitel&quot;,&quot;When a nightclub singer is forced to take refuge from the mob in a convent, she ends up turning the convent choir into a soulful chorus complete with a Motown repertoire, until the sudden celebrity of the choir jeopardizes her ide...&quot;,&quot;English&quot;,&quot;United States&quot;,&quot;9 wins &amp; 10 nominations total&quot;,&quot;https://m.media-amazon.com/images/M/MV5BMjIzOTU0ODItMzcyMi00YzFjLTk3MzktNTQ2YjZmN2E0NTBkXkEyXkFqcGc@._V1_SX300.jpg&quot;,[{&quot;Internet Movie Database&quot;,&quot;6.5/10&quot;}, {&quot;Rotten Tomatoes&quot;,&quot;73%&quot;}, {&quot;Metacritic&quot;,&quot;51/100&quot;}],&quot;51&quot;,&quot;6.5&quot;,&quot;113,562&quot;,&quot;tt0105417&quot;,&quot;movie&quot;,&quot;N/A&quot;,&quot;$139,605,150&quot;,&quot;N/A&quot;,&quot;N/A&quot;,&quot;True&quot;}</td><td>1992</td><td>&quot;Sister Act&quot;</td><td>&quot;Comedy, Family, Music&quot;</td><td>&quot;Emile Ardolino&quot;</td><td>&quot;United States&quot;</td></tr><tr><td>2</td><td>&quot;Summer lovers&quot;</td><td>null</td><td>null</td><td>&quot;Summer Lovers_1982_Comedy, Dra…</td><td>&quot;Summer lovers&quot;</td><td>1982</td><td>&quot;Summer Lovers&quot;</td><td>&quot;checked&quot;</td><td>&quot;Summer lovers&quot;</td><td>null</td><td>null</td><td>&quot;Summer Lovers&quot;</td><td>1982</td><td>&quot;tt0084737&quot;</td><td>{&quot;Summer Lovers&quot;,&quot;1982&quot;,&quot;R&quot;,&quot;16 Jul 1982&quot;,&quot;98 min&quot;,&quot;Comedy, Drama, Romance&quot;,&quot;Randal Kleiser&quot;,&quot;Randal Kleiser&quot;,&quot;Peter Gallagher, Daryl Hannah, Valérie Quennessen&quot;,&quot;A young American couple and a French woman engage in a threesome in the Greek Islands.&quot;,&quot;English&quot;,&quot;United States&quot;,&quot;N/A&quot;,&quot;https://m.media-amazon.com/images/M/MV5BMTYxNjk0Mjg1NF5BMl5BanBnXkFtZTcwNzAyMTM3NA@@._V1_SX300.jpg&quot;,[{&quot;Internet Movie Database&quot;,&quot;5.8/10&quot;}, {&quot;Rotten Tomatoes&quot;,&quot;25%&quot;}],&quot;N/A&quot;,&quot;5.8&quot;,&quot;4,687&quot;,&quot;tt0084737&quot;,&quot;movie&quot;,&quot;N/A&quot;,&quot;$4,968,000&quot;,&quot;N/A&quot;,&quot;N/A&quot;,&quot;True&quot;}</td><td>1982</td><td>&quot;Summer Lovers&quot;</td><td>&quot;Comedy, Drama, Romance&quot;</td><td>&quot;Randal Kleiser&quot;</td><td>&quot;United States&quot;</td></tr><tr><td>3</td><td>&quot;Джон уик&quot;</td><td>null</td><td>null</td><td>&quot;John Wick_2014_Action, Crime, …</td><td>&quot;John Wick&quot;</td><td>2014</td><td>&quot;John Wick&quot;</td><td>&quot;checked&quot;</td><td>&quot;Джон уик&quot;</td><td>null</td><td>null</td><td>&quot;John Wick&quot;</td><td>2014</td><td>&quot;tt2911666&quot;</td><td>{&quot;John Wick&quot;,&quot;2014&quot;,&quot;R&quot;,&quot;24 Oct 2014&quot;,&quot;101 min&quot;,&quot;Action, Crime, Thriller&quot;,&quot;Chad Stahelski&quot;,&quot;Derek Kolstad&quot;,&quot;Keanu Reeves, Michael Nyqvist, Alfie Allen&quot;,&quot;John Wick is a former hitman grieving the loss of his true love. When his home is broken into, robbed, and his dog killed, he is forced to return to action to exact revenge.&quot;,&quot;English, Russian, Hungarian&quot;,&quot;United States&quot;,&quot;5 wins &amp; 10 nominations total&quot;,&quot;https://m.media-amazon.com/images/M/MV5BMTU2NjA1ODgzMF5BMl5BanBnXkFtZTgwMTM2MTI4MjE@._V1_SX300.jpg&quot;,[{&quot;Internet Movie Database&quot;,&quot;7.5/10&quot;}, {&quot;Rotten Tomatoes&quot;,&quot;86%&quot;}, {&quot;Metacritic&quot;,&quot;68/100&quot;}],&quot;68&quot;,&quot;7.5&quot;,&quot;783,681&quot;,&quot;tt2911666&quot;,&quot;movie&quot;,&quot;N/A&quot;,&quot;$43,037,835&quot;,&quot;N/A&quot;,&quot;N/A&quot;,&quot;True&quot;}</td><td>2014</td><td>&quot;John Wick&quot;</td><td>&quot;Action, Crime, Thriller&quot;</td><td>&quot;Chad Stahelski&quot;</td><td>&quot;United States&quot;</td></tr><tr><td>4</td><td>&quot;Помни&quot;</td><td>null</td><td>null</td><td>&quot;Remembered_2015_Short, Drama_N…</td><td>&quot;Remembered&quot;</td><td>2015</td><td>&quot;Remembered&quot;</td><td>&quot;checked&quot;</td><td>&quot;Помни&quot;</td><td>null</td><td>null</td><td>&quot;Memento&quot;</td><td>2000</td><td>&quot;tt0209144&quot;</td><td>{&quot;Memento&quot;,&quot;2000&quot;,&quot;R&quot;,&quot;25 May 2001&quot;,&quot;113 min&quot;,&quot;Drama, Mystery, Thriller&quot;,&quot;Christopher Nolan&quot;,&quot;Christopher Nolan, Jonathan Nolan&quot;,&quot;Guy Pearce, Carrie-Anne Moss, Joe Pantoliano&quot;,&quot;A former insurance investigator who now suffers from anterograde amnesia uses notes and tattoos to hunt down his wife&#x27;s murderer.&quot;,&quot;English&quot;,&quot;United States&quot;,&quot;Nominated for 2 Oscars. 57 wins &amp; 59 nominations total&quot;,&quot;https://m.media-amazon.com/images/M/MV5BYmQ3MjliNjAtNWFiZS00YWI1LTlmZTktMzBiNDE1NjRhZjU0XkEyXkFqcGc@._V1_SX300.jpg&quot;,[{&quot;Internet Movie Database&quot;,&quot;8.4/10&quot;}, {&quot;Rotten Tomatoes&quot;,&quot;94%&quot;}, {&quot;Metacritic&quot;,&quot;83/100&quot;}],&quot;83&quot;,&quot;8.4&quot;,&quot;1,389,289&quot;,&quot;tt0209144&quot;,&quot;movie&quot;,&quot;N/A&quot;,&quot;$25,544,867&quot;,&quot;N/A&quot;,&quot;N/A&quot;,&quot;True&quot;}</td><td>2000</td><td>&quot;Memento&quot;</td><td>&quot;Drama, Mystery, Thriller&quot;</td><td>&quot;Christopher Nolan&quot;</td><td>&quot;United States&quot;</td></tr><tr><td>5</td><td>&quot;Похитители велосипедов&quot;</td><td>null</td><td>null</td><td>&quot;Not found&quot;</td><td>&quot;Cycles of bicycles&quot;</td><td>null</td><td>&quot;Not found&quot;</td><td>null</td><td>&quot;Bicycle Thieves&quot;</td><td>&quot;1948&quot;</td><td>&quot;Bicycle Thieves&quot;</td><td>&quot;Bicycle Thieves&quot;</td><td>1948</td><td>&quot;tt0040522&quot;</td><td>{&quot;Bicycle Thieves&quot;,&quot;1948&quot;,&quot;Not Rated&quot;,&quot;13 Dec 1949&quot;,&quot;89 min&quot;,&quot;Drama&quot;,&quot;Vittorio De Sica&quot;,&quot;Cesare Zavattini, Luigi Bartolini, Oreste Biancoli&quot;,&quot;Lamberto Maggiorani, Enzo Staiola, Lianella Carell&quot;,&quot;In post-war Italy, a working-class man&#x27;s bicycle is stolen, endangering his efforts to find work. He and his son set out to find it.&quot;,&quot;Italian, German&quot;,&quot;Italy&quot;,&quot;Nominated for 1 Oscar. 18 wins &amp; 1 nomination total&quot;,&quot;https://m.media-amazon.com/images/M/MV5BMjIzMzAyMzg1Nl5BMl5BanBnXkFtZTgwMzMyNzk0MTE@._V1_SX300.jpg&quot;,[{&quot;Internet Movie Database&quot;,&quot;8.2/10&quot;}, {&quot;Rotten Tomatoes&quot;,&quot;99%&quot;}],&quot;N/A&quot;,&quot;8.2&quot;,&quot;185,984&quot;,&quot;tt0040522&quot;,&quot;movie&quot;,&quot;N/A&quot;,&quot;$371,111&quot;,&quot;N/A&quot;,&quot;N/A&quot;,&quot;True&quot;}</td><td>1948</td><td>&quot;Bicycle Thieves&quot;</td><td>&quot;Drama&quot;</td><td>&quot;Vittorio De Sica&quot;</td><td>&quot;Italy&quot;</td></tr></tbody></table></div>"
      ],
      "text/plain": [
       "shape: (5, 21)\n",
       "┌───────┬────────────────┬──────┬────────┬───┬───────────────┬──────────┬───────────────┬──────────┐\n",
       "│ index ┆ Title          ┆ Year ┆ Viewed ┆ … ┆ title_        ┆ genre_   ┆ director_     ┆ country_ │\n",
       "│ ---   ┆ ---            ┆ ---  ┆ ---    ┆   ┆ ---           ┆ ---      ┆ ---           ┆ ---      │\n",
       "│ i64   ┆ str            ┆ str  ┆ str    ┆   ┆ str           ┆ str      ┆ str           ┆ str      │\n",
       "╞═══════╪════════════════╪══════╪════════╪═══╪═══════════════╪══════════╪═══════════════╪══════════╡\n",
       "│ 1     ┆ Действуй       ┆ null ┆ null   ┆ … ┆ Sister Act    ┆ Comedy,  ┆ Emile         ┆ United   │\n",
       "│       ┆ сестра         ┆      ┆        ┆   ┆               ┆ Family,  ┆ Ardolino      ┆ States   │\n",
       "│       ┆                ┆      ┆        ┆   ┆               ┆ Music    ┆               ┆          │\n",
       "│ 2     ┆ Summer lovers  ┆ null ┆ null   ┆ … ┆ Summer Lovers ┆ Comedy,  ┆ Randal        ┆ United   │\n",
       "│       ┆                ┆      ┆        ┆   ┆               ┆ Drama,   ┆ Kleiser       ┆ States   │\n",
       "│       ┆                ┆      ┆        ┆   ┆               ┆ Romance  ┆               ┆          │\n",
       "│ 3     ┆ Джон уик       ┆ null ┆ null   ┆ … ┆ John Wick     ┆ Action,  ┆ Chad          ┆ United   │\n",
       "│       ┆                ┆      ┆        ┆   ┆               ┆ Crime,   ┆ Stahelski     ┆ States   │\n",
       "│       ┆                ┆      ┆        ┆   ┆               ┆ Thriller ┆               ┆          │\n",
       "│ 4     ┆ Помни          ┆ null ┆ null   ┆ … ┆ Memento       ┆ Drama,   ┆ Christopher   ┆ United   │\n",
       "│       ┆                ┆      ┆        ┆   ┆               ┆ Mystery, ┆ Nolan         ┆ States   │\n",
       "│       ┆                ┆      ┆        ┆   ┆               ┆ Thriller ┆               ┆          │\n",
       "│ 5     ┆ Похитители     ┆ null ┆ null   ┆ … ┆ Bicycle       ┆ Drama    ┆ Vittorio De   ┆ Italy    │\n",
       "│       ┆ велосипедов    ┆      ┆        ┆   ┆ Thieves       ┆          ┆ Sica          ┆          │\n",
       "└───────┴────────────────┴──────┴────────┴───┴───────────────┴──────────┴───────────────┴──────────┘"
      ]
     },
     "execution_count": 21,
     "metadata": {},
     "output_type": "execute_result"
    }
   ],
   "source": [
    "movies_df = movies_df.with_columns(\n",
    "    c(\"creds\").struct.field(\"Year\").cast(pl.Int64).alias(\"year_\"),\n",
    "    c(\"creds\").struct.field(\"Title\").alias(\"title_\"),\n",
    "    c(\"creds\").struct.field(\"Genre\").alias(\"genre_\"),\n",
    "    c(\"creds\").struct.field(\"Director\").alias(\"director_\"),\n",
    "    c(\"creds\").struct.field(\"Country\").alias(\"country_\"),\n",
    ")\n",
    "movies_df.head()"
   ]
  },
  {
   "cell_type": "code",
   "execution_count": null,
   "id": "67b5a284",
   "metadata": {},
   "outputs": [],
   "source": [
    "# to replace\n",
    "147 - \"tt0101748\"\n",
    "380 - \"tt1666185\"\n",
    "446 - \"tt0098258\"\n",
    "62 - \"tt2107814\"\n",
    "87 - \"tt0112461\"\n",
    "94 - \"tt0244425\"\n",
    "249 - \"tt0083271\"\n",
    "248 - \"tt0092561\"\n",
    "246 - \"tt1981107\"\n",
    "304 - \"tt0057012\"\n",
    "403 - \"tt0000417\""
   ]
  },
  {
   "cell_type": "markdown",
   "id": "afb9e53a",
   "metadata": {},
   "source": [
    "## save df"
   ]
  },
  {
   "cell_type": "code",
   "execution_count": 22,
   "id": "d8e9cb26",
   "metadata": {},
   "outputs": [],
   "source": [
    "file_name = \"movies_df.parquet\"\n",
    "file_path = os.path.join(FILES_DIR, file_name)\n",
    "movies_df.write_parquet(file_path)"
   ]
  },
  {
   "cell_type": "code",
   "execution_count": 23,
   "id": "053f97c8",
   "metadata": {},
   "outputs": [
    {
     "data": {
      "text/plain": [
       "<xlsxwriter.workbook.Workbook at 0x116afd3d0>"
      ]
     },
     "execution_count": 23,
     "metadata": {},
     "output_type": "execute_result"
    }
   ],
   "source": [
    "file_name = \"movies_df.xlsx\"\n",
    "file_path = os.path.join(FILES_DIR, file_name)\n",
    "movies_df.write_excel(file_path)"
   ]
  }
 ],
 "metadata": {
  "kernelspec": {
   "display_name": ".venv",
   "language": "python",
   "name": "python3"
  },
  "language_info": {
   "codemirror_mode": {
    "name": "ipython",
    "version": 3
   },
   "file_extension": ".py",
   "mimetype": "text/x-python",
   "name": "python",
   "nbconvert_exporter": "python",
   "pygments_lexer": "ipython3",
   "version": "3.12.11"
  }
 },
 "nbformat": 4,
 "nbformat_minor": 5
}
