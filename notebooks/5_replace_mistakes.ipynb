{
 "cells": [
  {
   "cell_type": "markdown",
   "id": "140ca41a",
   "metadata": {},
   "source": [
    "## imports"
   ]
  },
  {
   "cell_type": "code",
   "execution_count": 53,
   "id": "4ab6c22b",
   "metadata": {},
   "outputs": [
    {
     "data": {
      "text/plain": [
       "True"
      ]
     },
     "execution_count": 53,
     "metadata": {},
     "output_type": "execute_result"
    }
   ],
   "source": [
    "import polars as pl\n",
    "from polars import col as c\n",
    "import os, sys, requests\n",
    "from dotenv import load_dotenv, find_dotenv\n",
    "from tqdm import tqdm\n",
    "\n",
    "load_dotenv(find_dotenv())"
   ]
  },
  {
   "cell_type": "markdown",
   "id": "0a9001c4",
   "metadata": {},
   "source": [
    "## constants"
   ]
  },
  {
   "cell_type": "code",
   "execution_count": 54,
   "id": "aae1c649",
   "metadata": {},
   "outputs": [],
   "source": [
    "OMDB_API_KEY = os.getenv(\"OMDB_API_KEY\")\n",
    "FILES_DIR = \"../data\""
   ]
  },
  {
   "cell_type": "markdown",
   "id": "cc98e638",
   "metadata": {},
   "source": [
    "## load df"
   ]
  },
  {
   "cell_type": "code",
   "execution_count": 55,
   "id": "503cec71",
   "metadata": {},
   "outputs": [],
   "source": [
    "file_name = \"movies_df.parquet\"\n",
    "file_path = os.path.join(FILES_DIR, file_name)\n",
    "movies_df = pl.read_parquet(file_path)"
   ]
  },
  {
   "cell_type": "code",
   "execution_count": 56,
   "id": "aa67e849",
   "metadata": {},
   "outputs": [],
   "source": [
    "# file_name = \"movies_df.xlsx\"\n",
    "# file_path = os.path.join(FILES_DIR, file_name)\n",
    "# movies_df = pl.read_excel(file_path)"
   ]
  },
  {
   "cell_type": "markdown",
   "id": "f02b797a",
   "metadata": {},
   "source": [
    "## code"
   ]
  },
  {
   "cell_type": "code",
   "execution_count": 57,
   "id": "045ad0bd",
   "metadata": {},
   "outputs": [
    {
     "data": {
      "text/plain": [
       "630"
      ]
     },
     "execution_count": 57,
     "metadata": {},
     "output_type": "execute_result"
    }
   ],
   "source": [
    "movies_df.shape[0]"
   ]
  },
  {
   "cell_type": "code",
   "execution_count": 58,
   "id": "30d27824",
   "metadata": {},
   "outputs": [
    {
     "data": {
      "text/html": [
       "<div><style>\n",
       ".dataframe > thead > tr,\n",
       ".dataframe > tbody > tr {\n",
       "  text-align: right;\n",
       "  white-space: pre-wrap;\n",
       "}\n",
       "</style>\n",
       "<small>shape: (5, 14)</small><table border=\"1\" class=\"dataframe\"><thead><tr><th>index</th><th>title</th><th>year</th><th>viewed</th><th>liked</th><th>omdb_id</th><th>genre</th><th>director</th><th>country</th><th>actors</th><th>box_office</th><th>writer</th><th>language</th><th>imdb_rating</th></tr><tr><td>u32</td><td>str</td><td>i64</td><td>date</td><td>bool</td><td>str</td><td>str</td><td>str</td><td>str</td><td>str</td><td>i32</td><td>str</td><td>str</td><td>f32</td></tr></thead><tbody><tr><td>626</td><td>&quot;Notorious&quot;</td><td>1946</td><td>2025-08-17</td><td>false</td><td>&quot;tt0038787&quot;</td><td>&quot;Drama, Film-Noir, Romance&quot;</td><td>&quot;Alfred Hitchcock&quot;</td><td>&quot;United States&quot;</td><td>&quot;Cary Grant, Ingrid Bergman, Cl…</td><td>null</td><td>&quot;Ben Hecht, Alfred Hitchcock, J…</td><td>&quot;English, Portuguese, French&quot;</td><td>7.9</td></tr><tr><td>627</td><td>&quot;A Fish Called Wanda&quot;</td><td>1988</td><td>2025-08-24</td><td>false</td><td>&quot;tt0095159&quot;</td><td>&quot;Comedy, Crime&quot;</td><td>&quot;Charles Crichton, John Cleese&quot;</td><td>&quot;United Kingdom, United States&quot;</td><td>&quot;John Cleese, Jamie Lee Curtis,…</td><td>62493712</td><td>&quot;John Cleese, Charles Crichton&quot;</td><td>&quot;English, Italian, Russian, Fre…</td><td>7.5</td></tr><tr><td>628</td><td>&quot;The Waterer Watered&quot;</td><td>1895</td><td>2025-08-28</td><td>false</td><td>&quot;tt0000014&quot;</td><td>&quot;Short, Comedy&quot;</td><td>&quot;Louis Lumière&quot;</td><td>&quot;France&quot;</td><td>&quot;François Clerc, Benoît Duval&quot;</td><td>null</td><td>&quot;N/A&quot;</td><td>&quot;None&quot;</td><td>7.1</td></tr><tr><td>629</td><td>&quot;Eat Drink Man Woman&quot;</td><td>1994</td><td>2025-09-07</td><td>true</td><td>&quot;tt0111797&quot;</td><td>&quot;Comedy, Drama, Romance&quot;</td><td>&quot;Ang Lee&quot;</td><td>&quot;Taiwan, United States&quot;</td><td>&quot;Sihung Lung, Kuei-Mei Yang, Wa…</td><td>7294403</td><td>&quot;Ang Lee, James Schamus, Hui-Li…</td><td>&quot;Mandarin, French&quot;</td><td>7.8</td></tr><tr><td>630</td><td>&quot;Sea of Love&quot;</td><td>1989</td><td>2025-09-07</td><td>false</td><td>&quot;tt0098273&quot;</td><td>&quot;Crime, Drama, Mystery&quot;</td><td>&quot;Harold Becker&quot;</td><td>&quot;United States&quot;</td><td>&quot;Al Pacino, Ellen Barkin, John …</td><td>58571513</td><td>&quot;Richard Price&quot;</td><td>&quot;English&quot;</td><td>6.8</td></tr></tbody></table></div>"
      ],
      "text/plain": [
       "shape: (5, 14)\n",
       "┌───────┬─────────────┬──────┬────────────┬───┬────────────┬─────────────┬────────────┬────────────┐\n",
       "│ index ┆ title       ┆ year ┆ viewed     ┆ … ┆ box_office ┆ writer      ┆ language   ┆ imdb_ratin │\n",
       "│ ---   ┆ ---         ┆ ---  ┆ ---        ┆   ┆ ---        ┆ ---         ┆ ---        ┆ g          │\n",
       "│ u32   ┆ str         ┆ i64  ┆ date       ┆   ┆ i32        ┆ str         ┆ str        ┆ ---        │\n",
       "│       ┆             ┆      ┆            ┆   ┆            ┆             ┆            ┆ f32        │\n",
       "╞═══════╪═════════════╪══════╪════════════╪═══╪════════════╪═════════════╪════════════╪════════════╡\n",
       "│ 626   ┆ Notorious   ┆ 1946 ┆ 2025-08-17 ┆ … ┆ null       ┆ Ben Hecht,  ┆ English,   ┆ 7.9        │\n",
       "│       ┆             ┆      ┆            ┆   ┆            ┆ Alfred      ┆ Portuguese ┆            │\n",
       "│       ┆             ┆      ┆            ┆   ┆            ┆ Hitchcock,  ┆ , French   ┆            │\n",
       "│       ┆             ┆      ┆            ┆   ┆            ┆ J…          ┆            ┆            │\n",
       "│ 627   ┆ A Fish      ┆ 1988 ┆ 2025-08-24 ┆ … ┆ 62493712   ┆ John        ┆ English,   ┆ 7.5        │\n",
       "│       ┆ Called      ┆      ┆            ┆   ┆            ┆ Cleese,     ┆ Italian,   ┆            │\n",
       "│       ┆ Wanda       ┆      ┆            ┆   ┆            ┆ Charles     ┆ Russian,   ┆            │\n",
       "│       ┆             ┆      ┆            ┆   ┆            ┆ Crichton    ┆ Fre…       ┆            │\n",
       "│ 628   ┆ The Waterer ┆ 1895 ┆ 2025-08-28 ┆ … ┆ null       ┆ N/A         ┆ None       ┆ 7.1        │\n",
       "│       ┆ Watered     ┆      ┆            ┆   ┆            ┆             ┆            ┆            │\n",
       "│ 629   ┆ Eat Drink   ┆ 1994 ┆ 2025-09-07 ┆ … ┆ 7294403    ┆ Ang Lee,    ┆ Mandarin,  ┆ 7.8        │\n",
       "│       ┆ Man Woman   ┆      ┆            ┆   ┆            ┆ James       ┆ French     ┆            │\n",
       "│       ┆             ┆      ┆            ┆   ┆            ┆ Schamus,    ┆            ┆            │\n",
       "│       ┆             ┆      ┆            ┆   ┆            ┆ Hui-Li…     ┆            ┆            │\n",
       "│ 630   ┆ Sea of Love ┆ 1989 ┆ 2025-09-07 ┆ … ┆ 58571513   ┆ Richard     ┆ English    ┆ 6.8        │\n",
       "│       ┆             ┆      ┆            ┆   ┆            ┆ Price       ┆            ┆            │\n",
       "└───────┴─────────────┴──────┴────────────┴───┴────────────┴─────────────┴────────────┴────────────┘"
      ]
     },
     "execution_count": 58,
     "metadata": {},
     "output_type": "execute_result"
    }
   ],
   "source": [
    "movies_df.tail()"
   ]
  },
  {
   "cell_type": "code",
   "execution_count": 59,
   "id": "849fab92",
   "metadata": {},
   "outputs": [],
   "source": [
    "# to replace\n",
    "to_replace = {\n",
    "    584: \"tt0095705\",\n",
    "}"
   ]
  },
  {
   "cell_type": "code",
   "execution_count": 60,
   "id": "c0516e4b",
   "metadata": {},
   "outputs": [
    {
     "data": {
      "text/html": [
       "<div><style>\n",
       ".dataframe > thead > tr,\n",
       ".dataframe > tbody > tr {\n",
       "  text-align: right;\n",
       "  white-space: pre-wrap;\n",
       "}\n",
       "</style>\n",
       "<small>shape: (1, 14)</small><table border=\"1\" class=\"dataframe\"><thead><tr><th>index</th><th>title</th><th>year</th><th>viewed</th><th>liked</th><th>omdb_id</th><th>genre</th><th>director</th><th>country</th><th>actors</th><th>box_office</th><th>writer</th><th>language</th><th>imdb_rating</th></tr><tr><td>u32</td><td>str</td><td>i64</td><td>date</td><td>bool</td><td>str</td><td>str</td><td>str</td><td>str</td><td>str</td><td>i32</td><td>str</td><td>str</td><td>f32</td></tr></thead><tbody><tr><td>584</td><td>&quot;The Naked Gun&quot;</td><td>2025</td><td>null</td><td>false</td><td>&quot;tt3402138&quot;</td><td>&quot;Action, Comedy, Crime&quot;</td><td>&quot;Akiva Schaffer&quot;</td><td>&quot;United States&quot;</td><td>&quot;Liam Neeson, Paul Walter Hause…</td><td>null</td><td>&quot;Dan Gregor, Doug Mand, Akiva S…</td><td>&quot;English&quot;</td><td>null</td></tr></tbody></table></div>"
      ],
      "text/plain": [
       "shape: (1, 14)\n",
       "┌───────┬───────────────┬──────┬────────┬───┬────────────┬─────────────┬──────────┬─────────────┐\n",
       "│ index ┆ title         ┆ year ┆ viewed ┆ … ┆ box_office ┆ writer      ┆ language ┆ imdb_rating │\n",
       "│ ---   ┆ ---           ┆ ---  ┆ ---    ┆   ┆ ---        ┆ ---         ┆ ---      ┆ ---         │\n",
       "│ u32   ┆ str           ┆ i64  ┆ date   ┆   ┆ i32        ┆ str         ┆ str      ┆ f32         │\n",
       "╞═══════╪═══════════════╪══════╪════════╪═══╪════════════╪═════════════╪══════════╪═════════════╡\n",
       "│ 584   ┆ The Naked Gun ┆ 2025 ┆ null   ┆ … ┆ null       ┆ Dan Gregor, ┆ English  ┆ null        │\n",
       "│       ┆               ┆      ┆        ┆   ┆            ┆ Doug Mand,  ┆          ┆             │\n",
       "│       ┆               ┆      ┆        ┆   ┆            ┆ Akiva S…    ┆          ┆             │\n",
       "└───────┴───────────────┴──────┴────────┴───┴────────────┴─────────────┴──────────┴─────────────┘"
      ]
     },
     "execution_count": 60,
     "metadata": {},
     "output_type": "execute_result"
    }
   ],
   "source": [
    "movies_df.filter(c(\"index\") == 584)"
   ]
  },
  {
   "cell_type": "code",
   "execution_count": 61,
   "id": "7589033f",
   "metadata": {},
   "outputs": [],
   "source": [
    "def fetch_english_title(title):\n",
    "    try:\n",
    "        url = f\"http://www.omdbapi.com/?apikey={OMDB_API_KEY}&i={requests.utils.quote(title)}\"  # for index search\n",
    "        # url = f\"http://www.omdbapi.com/?apikey={OMDB_API_KEY}&t={requests.utils.quote(title)}\"\n",
    "        response = requests.get(url)\n",
    "        data = response.json()\n",
    "        if data.get(\"Response\") == \"True\" and \"Title\" in data:\n",
    "            return data\n",
    "        else:\n",
    "            print(f\"Not found in OMDb: {title}\")\n",
    "            return \"Not found\"\n",
    "    except Exception as e:\n",
    "        print(f\"OMDb error for {title}: {e}\")\n",
    "        return \"Not found\""
   ]
  },
  {
   "cell_type": "code",
   "execution_count": 62,
   "id": "b7c7a70e",
   "metadata": {},
   "outputs": [],
   "source": [
    "# movies_df =\n",
    "for key, val in to_replace.items():\n",
    "    movies_df = movies_df.with_columns(\n",
    "        pl.when(c(\"index\") == key)\n",
    "        .then(pl.lit(val))\n",
    "        .otherwise(c(\"omdb_id\"))\n",
    "        .alias(\"omdb_id\")\n",
    "    )\n",
    "    omdb_result = fetch_english_title(val)\n",
    "\n",
    "    movies_df = movies_df.with_columns(\n",
    "        pl.when(c(\"index\") == key)\n",
    "        .then(pl.lit(int(omdb_result[\"Year\"])))\n",
    "        .otherwise(c(\"year\"))\n",
    "        .alias(\"year\"),\n",
    "        pl.when(c(\"index\") == key)\n",
    "        .then(pl.lit(omdb_result[\"Title\"]))\n",
    "        .otherwise(c(\"title\"))\n",
    "        .alias(\"title\"),\n",
    "        pl.when(c(\"index\") == key)\n",
    "        .then(pl.lit(omdb_result[\"Genre\"]))\n",
    "        .otherwise(c(\"genre\"))\n",
    "        .alias(\"genre\"),\n",
    "        pl.when(c(\"index\") == key)\n",
    "        .then(pl.lit(omdb_result[\"Director\"]))\n",
    "        .otherwise(c(\"director\"))\n",
    "        .alias(\"director\"),\n",
    "        pl.when(c(\"index\") == key)\n",
    "        .then(pl.lit(omdb_result[\"Writer\"]))\n",
    "        .otherwise(c(\"writer\"))\n",
    "        .alias(\"writer\"),\n",
    "        pl.when(c(\"index\") == key)\n",
    "        .then(pl.lit(omdb_result[\"Country\"]))\n",
    "        .otherwise(c(\"country\"))\n",
    "        .alias(\"country\"),\n",
    "        pl.when(c(\"index\") == key)\n",
    "        .then(pl.lit(omdb_result[\"Language\"]))\n",
    "        .otherwise(c(\"language\"))\n",
    "        .alias(\"language\"),\n",
    "        pl.when(c(\"index\") == key)\n",
    "        .then(pl.lit(omdb_result[\"Actors\"]))\n",
    "        .otherwise(c(\"actors\"))\n",
    "        .alias(\"actors\"),\n",
    "        pl.when(c(\"index\") == key)\n",
    "        .then(\n",
    "            pl.lit(\n",
    "                None\n",
    "                if omdb_result[\"imdbRating\"] == \"N/A\"\n",
    "                else float(omdb_result[\"imdbRating\"])\n",
    "            )\n",
    "        )\n",
    "        .otherwise(c(\"imdb_rating\"))\n",
    "        .alias(\"imdb_rating\"),\n",
    "        pl.when(c(\"index\") == key)\n",
    "        .then(\n",
    "            pl.lit(\n",
    "                None\n",
    "                if omdb_result[\"BoxOffice\"] in [\"N/A\", \"/A\"]\n",
    "                else int(omdb_result[\"BoxOffice\"].replace(\"$\", \"\").replace(\",\", \"\"))\n",
    "            )\n",
    "        )\n",
    "        .otherwise(c(\"box_office\"))\n",
    "        .alias(\"box_office\"),\n",
    "    )"
   ]
  },
  {
   "cell_type": "code",
   "execution_count": 63,
   "id": "b9475e90",
   "metadata": {},
   "outputs": [
    {
     "data": {
      "text/html": [
       "<div><style>\n",
       ".dataframe > thead > tr,\n",
       ".dataframe > tbody > tr {\n",
       "  text-align: right;\n",
       "  white-space: pre-wrap;\n",
       "}\n",
       "</style>\n",
       "<small>shape: (1, 14)</small><table border=\"1\" class=\"dataframe\"><thead><tr><th>index</th><th>title</th><th>year</th><th>viewed</th><th>liked</th><th>omdb_id</th><th>genre</th><th>director</th><th>country</th><th>actors</th><th>box_office</th><th>writer</th><th>language</th><th>imdb_rating</th></tr><tr><td>u32</td><td>str</td><td>i64</td><td>date</td><td>bool</td><td>str</td><td>str</td><td>str</td><td>str</td><td>str</td><td>i32</td><td>str</td><td>str</td><td>f32</td></tr></thead><tbody><tr><td>584</td><td>&quot;The Naked Gun: From the Files …</td><td>1988</td><td>null</td><td>false</td><td>&quot;tt0095705&quot;</td><td>&quot;Comedy, Crime&quot;</td><td>&quot;David Zucker&quot;</td><td>&quot;United States&quot;</td><td>&quot;Leslie Nielsen, Priscilla Pres…</td><td>78756177</td><td>&quot;Jerry Zucker, Jim Abrahams, Da…</td><td>&quot;English&quot;</td><td>7.6</td></tr></tbody></table></div>"
      ],
      "text/plain": [
       "shape: (1, 14)\n",
       "┌───────┬────────────────┬──────┬────────┬───┬────────────┬───────────────┬──────────┬─────────────┐\n",
       "│ index ┆ title          ┆ year ┆ viewed ┆ … ┆ box_office ┆ writer        ┆ language ┆ imdb_rating │\n",
       "│ ---   ┆ ---            ┆ ---  ┆ ---    ┆   ┆ ---        ┆ ---           ┆ ---      ┆ ---         │\n",
       "│ u32   ┆ str            ┆ i64  ┆ date   ┆   ┆ i32        ┆ str           ┆ str      ┆ f32         │\n",
       "╞═══════╪════════════════╪══════╪════════╪═══╪════════════╪═══════════════╪══════════╪═════════════╡\n",
       "│ 584   ┆ The Naked Gun: ┆ 1988 ┆ null   ┆ … ┆ 78756177   ┆ Jerry Zucker, ┆ English  ┆ 7.6         │\n",
       "│       ┆ From the Files ┆      ┆        ┆   ┆            ┆ Jim Abrahams, ┆          ┆             │\n",
       "│       ┆ …              ┆      ┆        ┆   ┆            ┆ Da…           ┆          ┆             │\n",
       "└───────┴────────────────┴──────┴────────┴───┴────────────┴───────────────┴──────────┴─────────────┘"
      ]
     },
     "execution_count": 63,
     "metadata": {},
     "output_type": "execute_result"
    }
   ],
   "source": [
    "movies_df.filter(c(\"index\") == 584)"
   ]
  },
  {
   "cell_type": "code",
   "execution_count": 64,
   "id": "950d5420",
   "metadata": {},
   "outputs": [
    {
     "data": {
      "text/plain": [
       "630"
      ]
     },
     "execution_count": 64,
     "metadata": {},
     "output_type": "execute_result"
    }
   ],
   "source": [
    "movies_df.shape[0]"
   ]
  },
  {
   "cell_type": "code",
   "execution_count": 65,
   "id": "d2000f0d",
   "metadata": {},
   "outputs": [
    {
     "data": {
      "text/html": [
       "<div><style>\n",
       ".dataframe > thead > tr,\n",
       ".dataframe > tbody > tr {\n",
       "  text-align: right;\n",
       "  white-space: pre-wrap;\n",
       "}\n",
       "</style>\n",
       "<small>shape: (5, 14)</small><table border=\"1\" class=\"dataframe\"><thead><tr><th>index</th><th>title</th><th>year</th><th>viewed</th><th>liked</th><th>omdb_id</th><th>genre</th><th>director</th><th>country</th><th>actors</th><th>box_office</th><th>writer</th><th>language</th><th>imdb_rating</th></tr><tr><td>u32</td><td>str</td><td>i64</td><td>date</td><td>bool</td><td>str</td><td>str</td><td>str</td><td>str</td><td>str</td><td>i32</td><td>str</td><td>str</td><td>f32</td></tr></thead><tbody><tr><td>626</td><td>&quot;Notorious&quot;</td><td>1946</td><td>2025-08-17</td><td>false</td><td>&quot;tt0038787&quot;</td><td>&quot;Drama, Film-Noir, Romance&quot;</td><td>&quot;Alfred Hitchcock&quot;</td><td>&quot;United States&quot;</td><td>&quot;Cary Grant, Ingrid Bergman, Cl…</td><td>null</td><td>&quot;Ben Hecht, Alfred Hitchcock, J…</td><td>&quot;English, Portuguese, French&quot;</td><td>7.9</td></tr><tr><td>627</td><td>&quot;A Fish Called Wanda&quot;</td><td>1988</td><td>2025-08-24</td><td>false</td><td>&quot;tt0095159&quot;</td><td>&quot;Comedy, Crime&quot;</td><td>&quot;Charles Crichton, John Cleese&quot;</td><td>&quot;United Kingdom, United States&quot;</td><td>&quot;John Cleese, Jamie Lee Curtis,…</td><td>62493712</td><td>&quot;John Cleese, Charles Crichton&quot;</td><td>&quot;English, Italian, Russian, Fre…</td><td>7.5</td></tr><tr><td>628</td><td>&quot;The Waterer Watered&quot;</td><td>1895</td><td>2025-08-28</td><td>false</td><td>&quot;tt0000014&quot;</td><td>&quot;Short, Comedy&quot;</td><td>&quot;Louis Lumière&quot;</td><td>&quot;France&quot;</td><td>&quot;François Clerc, Benoît Duval&quot;</td><td>null</td><td>&quot;N/A&quot;</td><td>&quot;None&quot;</td><td>7.1</td></tr><tr><td>629</td><td>&quot;Eat Drink Man Woman&quot;</td><td>1994</td><td>2025-09-07</td><td>true</td><td>&quot;tt0111797&quot;</td><td>&quot;Comedy, Drama, Romance&quot;</td><td>&quot;Ang Lee&quot;</td><td>&quot;Taiwan, United States&quot;</td><td>&quot;Sihung Lung, Kuei-Mei Yang, Wa…</td><td>7294403</td><td>&quot;Ang Lee, James Schamus, Hui-Li…</td><td>&quot;Mandarin, French&quot;</td><td>7.8</td></tr><tr><td>630</td><td>&quot;Sea of Love&quot;</td><td>1989</td><td>2025-09-07</td><td>false</td><td>&quot;tt0098273&quot;</td><td>&quot;Crime, Drama, Mystery&quot;</td><td>&quot;Harold Becker&quot;</td><td>&quot;United States&quot;</td><td>&quot;Al Pacino, Ellen Barkin, John …</td><td>58571513</td><td>&quot;Richard Price&quot;</td><td>&quot;English&quot;</td><td>6.8</td></tr></tbody></table></div>"
      ],
      "text/plain": [
       "shape: (5, 14)\n",
       "┌───────┬─────────────┬──────┬────────────┬───┬────────────┬─────────────┬────────────┬────────────┐\n",
       "│ index ┆ title       ┆ year ┆ viewed     ┆ … ┆ box_office ┆ writer      ┆ language   ┆ imdb_ratin │\n",
       "│ ---   ┆ ---         ┆ ---  ┆ ---        ┆   ┆ ---        ┆ ---         ┆ ---        ┆ g          │\n",
       "│ u32   ┆ str         ┆ i64  ┆ date       ┆   ┆ i32        ┆ str         ┆ str        ┆ ---        │\n",
       "│       ┆             ┆      ┆            ┆   ┆            ┆             ┆            ┆ f32        │\n",
       "╞═══════╪═════════════╪══════╪════════════╪═══╪════════════╪═════════════╪════════════╪════════════╡\n",
       "│ 626   ┆ Notorious   ┆ 1946 ┆ 2025-08-17 ┆ … ┆ null       ┆ Ben Hecht,  ┆ English,   ┆ 7.9        │\n",
       "│       ┆             ┆      ┆            ┆   ┆            ┆ Alfred      ┆ Portuguese ┆            │\n",
       "│       ┆             ┆      ┆            ┆   ┆            ┆ Hitchcock,  ┆ , French   ┆            │\n",
       "│       ┆             ┆      ┆            ┆   ┆            ┆ J…          ┆            ┆            │\n",
       "│ 627   ┆ A Fish      ┆ 1988 ┆ 2025-08-24 ┆ … ┆ 62493712   ┆ John        ┆ English,   ┆ 7.5        │\n",
       "│       ┆ Called      ┆      ┆            ┆   ┆            ┆ Cleese,     ┆ Italian,   ┆            │\n",
       "│       ┆ Wanda       ┆      ┆            ┆   ┆            ┆ Charles     ┆ Russian,   ┆            │\n",
       "│       ┆             ┆      ┆            ┆   ┆            ┆ Crichton    ┆ Fre…       ┆            │\n",
       "│ 628   ┆ The Waterer ┆ 1895 ┆ 2025-08-28 ┆ … ┆ null       ┆ N/A         ┆ None       ┆ 7.1        │\n",
       "│       ┆ Watered     ┆      ┆            ┆   ┆            ┆             ┆            ┆            │\n",
       "│ 629   ┆ Eat Drink   ┆ 1994 ┆ 2025-09-07 ┆ … ┆ 7294403    ┆ Ang Lee,    ┆ Mandarin,  ┆ 7.8        │\n",
       "│       ┆ Man Woman   ┆      ┆            ┆   ┆            ┆ James       ┆ French     ┆            │\n",
       "│       ┆             ┆      ┆            ┆   ┆            ┆ Schamus,    ┆            ┆            │\n",
       "│       ┆             ┆      ┆            ┆   ┆            ┆ Hui-Li…     ┆            ┆            │\n",
       "│ 630   ┆ Sea of Love ┆ 1989 ┆ 2025-09-07 ┆ … ┆ 58571513   ┆ Richard     ┆ English    ┆ 6.8        │\n",
       "│       ┆             ┆      ┆            ┆   ┆            ┆ Price       ┆            ┆            │\n",
       "└───────┴─────────────┴──────┴────────────┴───┴────────────┴─────────────┴────────────┴────────────┘"
      ]
     },
     "execution_count": 65,
     "metadata": {},
     "output_type": "execute_result"
    }
   ],
   "source": [
    "movies_df.tail()"
   ]
  },
  {
   "cell_type": "markdown",
   "id": "afb9e53a",
   "metadata": {},
   "source": [
    "## save df"
   ]
  },
  {
   "cell_type": "code",
   "execution_count": 66,
   "id": "d8e9cb26",
   "metadata": {},
   "outputs": [],
   "source": [
    "file_name = \"movies_df.parquet\"\n",
    "file_path = os.path.join(FILES_DIR, file_name)\n",
    "movies_df.write_parquet(file_path)"
   ]
  },
  {
   "cell_type": "code",
   "execution_count": 67,
   "id": "053f97c8",
   "metadata": {},
   "outputs": [
    {
     "data": {
      "text/plain": [
       "<xlsxwriter.workbook.Workbook at 0x140f11a60>"
      ]
     },
     "execution_count": 67,
     "metadata": {},
     "output_type": "execute_result"
    }
   ],
   "source": [
    "file_name = \"movies_df.xlsx\"\n",
    "file_path = os.path.join(FILES_DIR, file_name)\n",
    "movies_df.write_excel(file_path)"
   ]
  },
  {
   "cell_type": "code",
   "execution_count": null,
   "id": "3934885b",
   "metadata": {},
   "outputs": [],
   "source": []
  }
 ],
 "metadata": {
  "kernelspec": {
   "display_name": ".venv",
   "language": "python",
   "name": "python3"
  },
  "language_info": {
   "codemirror_mode": {
    "name": "ipython",
    "version": 3
   },
   "file_extension": ".py",
   "mimetype": "text/x-python",
   "name": "python",
   "nbconvert_exporter": "python",
   "pygments_lexer": "ipython3",
   "version": "3.12.11"
  }
 },
 "nbformat": 4,
 "nbformat_minor": 5
}
