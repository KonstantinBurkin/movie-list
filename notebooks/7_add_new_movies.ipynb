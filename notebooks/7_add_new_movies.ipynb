{
 "cells": [
  {
   "cell_type": "markdown",
   "id": "140ca41a",
   "metadata": {},
   "source": [
    "## imports"
   ]
  },
  {
   "cell_type": "code",
   "execution_count": 77,
   "id": "4ab6c22b",
   "metadata": {},
   "outputs": [
    {
     "data": {
      "text/plain": [
       "True"
      ]
     },
     "execution_count": 77,
     "metadata": {},
     "output_type": "execute_result"
    }
   ],
   "source": [
    "import polars as pl\n",
    "from polars import col as c\n",
    "import os, sys, requests, re\n",
    "from dotenv import load_dotenv, find_dotenv\n",
    "from tqdm import tqdm\n",
    "from datetime import datetime\n",
    "import subprocess\n",
    "\n",
    "load_dotenv(find_dotenv())"
   ]
  },
  {
   "cell_type": "markdown",
   "id": "0a9001c4",
   "metadata": {},
   "source": [
    "## constants"
   ]
  },
  {
   "cell_type": "code",
   "execution_count": 78,
   "id": "aae1c649",
   "metadata": {},
   "outputs": [],
   "source": [
    "OMDB_API_KEY = os.getenv(\"OMDB_API_KEY\")\n",
    "FILES_DIR = \"../data\""
   ]
  },
  {
   "cell_type": "markdown",
   "id": "cc98e638",
   "metadata": {},
   "source": [
    "## load df"
   ]
  },
  {
   "cell_type": "code",
   "execution_count": 79,
   "id": "503cec71",
   "metadata": {},
   "outputs": [],
   "source": [
    "file_name = \"movies_df.parquet\"\n",
    "file_path = os.path.join(FILES_DIR, file_name)\n",
    "movies_df = pl.read_parquet(file_path)"
   ]
  },
  {
   "cell_type": "code",
   "execution_count": 80,
   "id": "aa67e849",
   "metadata": {},
   "outputs": [],
   "source": [
    "# file_name = \"movies_df.xlsx\"\n",
    "# file_path = os.path.join(FILES_DIR, file_name)\n",
    "# movies_df = pl.read_excel(file_path)"
   ]
  },
  {
   "cell_type": "markdown",
   "id": "fb8cb4dd",
   "metadata": {},
   "source": [
    "## custom funcs"
   ]
  },
  {
   "cell_type": "code",
   "execution_count": 81,
   "id": "2fdf6e77",
   "metadata": {},
   "outputs": [],
   "source": [
    "def fetch_english_title(title):\n",
    "    try:\n",
    "        url = f\"http://www.omdbapi.com/?apikey={OMDB_API_KEY}&i={requests.utils.quote(title)}\"  # for index search\n",
    "        # url = f\"http://www.omdbapi.com/?apikey={OMDB_API_KEY}&t={requests.utils.quote(title)}\"\n",
    "        response = requests.get(url)\n",
    "        data = response.json()\n",
    "        if data.get(\"Response\") == \"True\" and \"Title\" in data:\n",
    "            return data\n",
    "        else:\n",
    "            print(f\"Not found in OMDb: {title}\")\n",
    "            return \"Not found\"\n",
    "    except Exception as e:\n",
    "        print(f\"OMDb error for {title}: {e}\")\n",
    "        return \"Not found\""
   ]
  },
  {
   "cell_type": "code",
   "execution_count": 82,
   "id": "994f914c",
   "metadata": {},
   "outputs": [],
   "source": [
    "def add_row_by_id(\n",
    "    df: pl.DataFrame,\n",
    "    omdb_id: str,\n",
    "    viewed_date: str = datetime.today().date(),\n",
    "    default_values=None,\n",
    "    liked: bool = False,\n",
    ") -> pl.DataFrame:\n",
    "    \"\"\"\n",
    "    Add a new row to the dataframe by specifying the 'id' value.\n",
    "    Other columns will be filled with None or values from default_values dict.\n",
    "\n",
    "    Args:\n",
    "        df (pl.DataFrame): The dataframe to add the row to.\n",
    "        id (str): The value for the 'id' column.\n",
    "        default_values (dict, optional): Dictionary of column: value pairs to fill in.\n",
    "\n",
    "    Returns:\n",
    "        pl.DataFrame: DataFrame with the new row appended.\n",
    "    \"\"\"\n",
    "    if default_values is None:\n",
    "        default_values = {}\n",
    "    # Prepare new row as dict\n",
    "    new_row = {col: default_values.get(col, None) for col in df.columns}\n",
    "    new_row[\"omdb_id\"] = omdb_id\n",
    "    new_row[\"viewed\"] = viewed_date\n",
    "    new_row[\"index\"] = df[\"index\"].max() + 1\n",
    "    new_row[\"liked\"] = liked\n",
    "\n",
    "    creds = fetch_english_title(omdb_id)\n",
    "    if creds == \"Not found\":\n",
    "        print(\"ERROR: cannot upload creds!\")\n",
    "        raise ValueError(\"CredsNotFoundError\")\n",
    "    else:\n",
    "        for col_name in [\n",
    "            \"title\",\n",
    "            \"year\",\n",
    "            \"genre\",\n",
    "            \"director\",\n",
    "            \"country\",\n",
    "            \"actors\",\n",
    "            \"box_office\",\n",
    "            \"writer\",\n",
    "            \"language\",\n",
    "            \"imdb_rating\",\n",
    "        ]:\n",
    "            new_row[col_name] = creds[\n",
    "                \"\".join(\n",
    "                    [\n",
    "                        word.capitalize() if word != \"imdb\" else word\n",
    "                        for word in col_name.split(\"_\")\n",
    "                    ]\n",
    "                )\n",
    "            ]\n",
    "            if col_name == \"box_office\":\n",
    "                try:\n",
    "                    new_row[col_name] = int(re.sub(r\"[^\\d]\", \"\", new_row[col_name]))\n",
    "                except:\n",
    "                    print(\n",
    "                        f\"the value for box_office is {new_row[col_name]}. Fill with null.\"\n",
    "                    )\n",
    "                    new_row[col_name] = None\n",
    "\n",
    "    # Create single-row DataFrame\n",
    "    new_row_df = pl.DataFrame([new_row])\n",
    "    # Convert dtypes to match df\n",
    "    new_row_df = new_row_df.cast(df.schema)\n",
    "    # Concatenate\n",
    "    return pl.concat([df, new_row_df], how=\"vertical\")\n",
    "\n",
    "\n",
    "# test_func\n",
    "_ = add_row_by_id(\n",
    "    df=movies_df,\n",
    "    omdb_id=\"tt0038355\",\n",
    "    default_values=None,\n",
    ")"
   ]
  },
  {
   "cell_type": "markdown",
   "id": "f02b797a",
   "metadata": {},
   "source": [
    "## code"
   ]
  },
  {
   "cell_type": "code",
   "execution_count": 83,
   "id": "811b2b87",
   "metadata": {},
   "outputs": [],
   "source": [
    "NEW_MOVIE_OMDB_ID = \"tt23853982\""
   ]
  },
  {
   "cell_type": "code",
   "execution_count": null,
   "id": "be12791a",
   "metadata": {},
   "outputs": [],
   "source": [
    "# viewed_date = datetime.today().date()"
   ]
  },
  {
   "cell_type": "code",
   "execution_count": null,
   "id": "1165636b",
   "metadata": {},
   "outputs": [
    {
     "data": {
      "text/html": [
       "<div><style>\n",
       ".dataframe > thead > tr,\n",
       ".dataframe > tbody > tr {\n",
       "  text-align: right;\n",
       "  white-space: pre-wrap;\n",
       "}\n",
       "</style>\n",
       "<small>shape: (5, 14)</small><table border=\"1\" class=\"dataframe\"><thead><tr><th>index</th><th>title</th><th>year</th><th>viewed</th><th>liked</th><th>omdb_id</th><th>genre</th><th>director</th><th>country</th><th>actors</th><th>box_office</th><th>writer</th><th>language</th><th>imdb_rating</th></tr><tr><td>u32</td><td>str</td><td>i64</td><td>date</td><td>bool</td><td>str</td><td>str</td><td>str</td><td>str</td><td>str</td><td>i32</td><td>str</td><td>str</td><td>f32</td></tr></thead><tbody><tr><td>631</td><td>&quot;The Devil Wears Prada&quot;</td><td>2006</td><td>2025-09-11</td><td>false</td><td>&quot;tt0458352&quot;</td><td>&quot;Comedy, Drama&quot;</td><td>&quot;David Frankel&quot;</td><td>&quot;United States, France&quot;</td><td>&quot;Anne Hathaway, Meryl Streep, A…</td><td>124740460</td><td>&quot;Aline Brosh McKenna, Lauren We…</td><td>&quot;English, French&quot;</td><td>7.0</td></tr><tr><td>632</td><td>&quot;L&#x27;Avventura&quot;</td><td>1960</td><td>2025-09-13</td><td>true</td><td>&quot;tt0053619&quot;</td><td>&quot;Drama, Mystery, Romance&quot;</td><td>&quot;Michelangelo Antonioni&quot;</td><td>&quot;Italy, France&quot;</td><td>&quot;Gabriele Ferzetti, Monica Vitt…</td><td>null</td><td>&quot;Michelangelo Antonioni, Elio B…</td><td>&quot;Italian, English, Greek&quot;</td><td>7.7</td></tr><tr><td>633</td><td>&quot;Last Tango in Paris&quot;</td><td>1972</td><td>2025-09-18</td><td>false</td><td>&quot;tt0070849&quot;</td><td>&quot;Drama, Romance&quot;</td><td>&quot;Bernardo Bertolucci&quot;</td><td>&quot;Italy, France&quot;</td><td>&quot;Marlon Brando, Maria Schneider…</td><td>36144000</td><td>&quot;Bernardo Bertolucci, Franco Ar…</td><td>&quot;English, French&quot;</td><td>6.8</td></tr><tr><td>634</td><td>&quot;Inside Llewyn Davis&quot;</td><td>2013</td><td>2025-09-23</td><td>false</td><td>&quot;tt2042568&quot;</td><td>&quot;Drama, Music&quot;</td><td>&quot;Ethan Coen, Joel Coen&quot;</td><td>&quot;United States, United Kingdom,…</td><td>&quot;Oscar Isaac, Carey Mulligan, J…</td><td>13235319</td><td>&quot;Joel Coen, Ethan Coen&quot;</td><td>&quot;English&quot;</td><td>7.4</td></tr><tr><td>635</td><td>&quot;Parthenope&quot;</td><td>2024</td><td>2025-03-07</td><td>false</td><td>&quot;tt23853982&quot;</td><td>&quot;Drama, Fantasy&quot;</td><td>&quot;Paolo Sorrentino&quot;</td><td>&quot;Italy, France&quot;</td><td>&quot;Celeste Dalla Porta, Stefania …</td><td>289303</td><td>&quot;Paolo Sorrentino&quot;</td><td>&quot;Italian, Neapolitan, English&quot;</td><td>6.6</td></tr></tbody></table></div>"
      ],
      "text/plain": [
       "shape: (5, 14)\n",
       "┌───────┬─────────────┬──────┬────────────┬───┬────────────┬─────────────┬────────────┬────────────┐\n",
       "│ index ┆ title       ┆ year ┆ viewed     ┆ … ┆ box_office ┆ writer      ┆ language   ┆ imdb_ratin │\n",
       "│ ---   ┆ ---         ┆ ---  ┆ ---        ┆   ┆ ---        ┆ ---         ┆ ---        ┆ g          │\n",
       "│ u32   ┆ str         ┆ i64  ┆ date       ┆   ┆ i32        ┆ str         ┆ str        ┆ ---        │\n",
       "│       ┆             ┆      ┆            ┆   ┆            ┆             ┆            ┆ f32        │\n",
       "╞═══════╪═════════════╪══════╪════════════╪═══╪════════════╪═════════════╪════════════╪════════════╡\n",
       "│ 631   ┆ The Devil   ┆ 2006 ┆ 2025-09-11 ┆ … ┆ 124740460  ┆ Aline Brosh ┆ English,   ┆ 7.0        │\n",
       "│       ┆ Wears Prada ┆      ┆            ┆   ┆            ┆ McKenna,    ┆ French     ┆            │\n",
       "│       ┆             ┆      ┆            ┆   ┆            ┆ Lauren We…  ┆            ┆            │\n",
       "│ 632   ┆ L'Avventura ┆ 1960 ┆ 2025-09-13 ┆ … ┆ null       ┆ Michelangel ┆ Italian,   ┆ 7.7        │\n",
       "│       ┆             ┆      ┆            ┆   ┆            ┆ o           ┆ English,   ┆            │\n",
       "│       ┆             ┆      ┆            ┆   ┆            ┆ Antonioni,  ┆ Greek      ┆            │\n",
       "│       ┆             ┆      ┆            ┆   ┆            ┆ Elio B…     ┆            ┆            │\n",
       "│ 633   ┆ Last Tango  ┆ 1972 ┆ 2025-09-18 ┆ … ┆ 36144000   ┆ Bernardo    ┆ English,   ┆ 6.8        │\n",
       "│       ┆ in Paris    ┆      ┆            ┆   ┆            ┆ Bertolucci, ┆ French     ┆            │\n",
       "│       ┆             ┆      ┆            ┆   ┆            ┆ Franco Ar…  ┆            ┆            │\n",
       "│ 634   ┆ Inside      ┆ 2013 ┆ 2025-09-23 ┆ … ┆ 13235319   ┆ Joel Coen,  ┆ English    ┆ 7.4        │\n",
       "│       ┆ Llewyn      ┆      ┆            ┆   ┆            ┆ Ethan Coen  ┆            ┆            │\n",
       "│       ┆ Davis       ┆      ┆            ┆   ┆            ┆             ┆            ┆            │\n",
       "│ 635   ┆ Parthenope  ┆ 2024 ┆ 2025-03-07 ┆ … ┆ 289303     ┆ Paolo       ┆ Italian,   ┆ 6.6        │\n",
       "│       ┆             ┆      ┆            ┆   ┆            ┆ Sorrentino  ┆ Neapolitan ┆            │\n",
       "│       ┆             ┆      ┆            ┆   ┆            ┆             ┆ , English  ┆            │\n",
       "└───────┴─────────────┴──────┴────────────┴───┴────────────┴─────────────┴────────────┴────────────┘"
      ]
     },
     "metadata": {},
     "output_type": "display_data"
    }
   ],
   "source": [
    "# check if everything is correct\n",
    "display(\n",
    "    add_row_by_id(\n",
    "        df=movies_df,\n",
    "        omdb_id=NEW_MOVIE_OMDB_ID,\n",
    "        liked=False,\n",
    "        # viewed_date=\"2025-03-07\",  # deafult: datetime.today().date()\n",
    "    ).tail()\n",
    ")\n",
    "\n",
    "# add check that movie was not viewed before\n",
    "assert NEW_MOVIE_OMDB_ID not in movies_df[\"omdb_id\"].unique()"
   ]
  },
  {
   "cell_type": "code",
   "execution_count": null,
   "id": "30d27824",
   "metadata": {},
   "outputs": [
    {
     "name": "stdout",
     "output_type": "stream",
     "text": [
      "init shape:\t 634\n",
      "result shape:\t 635\n"
     ]
    }
   ],
   "source": [
    "print(\"init shape:\\t\", movies_df.shape[0])\n",
    "movies_df = add_row_by_id(\n",
    "    df=movies_df,\n",
    "    omdb_id=NEW_MOVIE_OMDB_ID,\n",
    "    # viewed_date=\"2025-03-07\",  # deafult: datetime.today().date()\n",
    "    liked=False,\n",
    ")\n",
    "print(\"result shape:\\t\", movies_df.shape[0])"
   ]
  },
  {
   "cell_type": "markdown",
   "id": "afb9e53a",
   "metadata": {},
   "source": [
    "## save df"
   ]
  },
  {
   "cell_type": "code",
   "execution_count": 88,
   "id": "d8e9cb26",
   "metadata": {},
   "outputs": [],
   "source": [
    "file_name = \"movies_df.parquet\"\n",
    "file_path = os.path.join(FILES_DIR, file_name)\n",
    "movies_df.write_parquet(file_path)"
   ]
  },
  {
   "cell_type": "code",
   "execution_count": 89,
   "id": "9258dd51",
   "metadata": {},
   "outputs": [],
   "source": [
    "# import subprocess"
   ]
  },
  {
   "cell_type": "code",
   "execution_count": 90,
   "id": "3934885b",
   "metadata": {},
   "outputs": [
    {
     "name": "stdout",
     "output_type": "stream",
     "text": [
      "Added ../data/movies_df.parquet to staging.\n",
      "[main e3e339a] add movie\n",
      " 1 file changed, 0 insertions(+), 0 deletions(-)\n",
      "Committed changes with message: 'add movie'\n",
      "Pushed changes \n"
     ]
    },
    {
     "name": "stderr",
     "output_type": "stream",
     "text": [
      "To https://github.com/KonstantinBurkin/movie-list.git\n",
      "   eb1b5e4..e3e339a  main -> main\n"
     ]
    }
   ],
   "source": [
    "# commit and push changes\n",
    "\n",
    "\n",
    "try:\n",
    "    # Add the file to the staging area\n",
    "    subprocess.run([\"git\", \"add\", \"-f\", file_path], check=True)\n",
    "    print(f\"Added {file_path} to staging.\")\n",
    "\n",
    "    commit_message = \"add movie\"\n",
    "    # Commit the changes\n",
    "    subprocess.run([\"git\", \"commit\", \"-m\", commit_message], check=True)\n",
    "    print(f\"Committed changes with message: '{commit_message}'\")\n",
    "\n",
    "    # Push the changes to the remote repository\n",
    "    subprocess.run([\"git\", \"push\"], check=True)\n",
    "    #  remote_name, branch_name\n",
    "    print(f\"Pushed changes \")\n",
    "    # to {remote_name}/{branch_name}.\n",
    "\n",
    "except subprocess.CalledProcessError as e:\n",
    "    print(f\"Git command failed: {e}\")\n",
    "except FileNotFoundError:\n",
    "    print(\"Git command not found. Ensure Git is installed and in your PATH.\")\n",
    "\n",
    "# Example usage:\n",
    "# git_add_commit_push(\"your_file.txt\", \"Added new feature\", \"main\")"
   ]
  },
  {
   "cell_type": "code",
   "execution_count": 91,
   "id": "053f97c8",
   "metadata": {},
   "outputs": [
    {
     "data": {
      "text/plain": [
       "<xlsxwriter.workbook.Workbook at 0x127600470>"
      ]
     },
     "execution_count": 91,
     "metadata": {},
     "output_type": "execute_result"
    }
   ],
   "source": [
    "file_name = \"movies_df.xlsx\"\n",
    "file_path = os.path.join(FILES_DIR, file_name)\n",
    "movies_df.write_excel(file_path)"
   ]
  },
  {
   "cell_type": "code",
   "execution_count": null,
   "id": "5bde6407",
   "metadata": {},
   "outputs": [],
   "source": []
  }
 ],
 "metadata": {
  "kernelspec": {
   "display_name": ".venv",
   "language": "python",
   "name": "python3"
  },
  "language_info": {
   "codemirror_mode": {
    "name": "ipython",
    "version": 3
   },
   "file_extension": ".py",
   "mimetype": "text/x-python",
   "name": "python",
   "nbconvert_exporter": "python",
   "pygments_lexer": "ipython3",
   "version": "3.12.11"
  }
 },
 "nbformat": 4,
 "nbformat_minor": 5
}
