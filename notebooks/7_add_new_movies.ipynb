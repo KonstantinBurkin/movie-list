{
 "cells": [
  {
   "cell_type": "markdown",
   "id": "140ca41a",
   "metadata": {},
   "source": [
    "## imports"
   ]
  },
  {
   "cell_type": "code",
   "execution_count": 61,
   "id": "4ab6c22b",
   "metadata": {},
   "outputs": [
    {
     "data": {
      "text/plain": [
       "True"
      ]
     },
     "execution_count": 61,
     "metadata": {},
     "output_type": "execute_result"
    }
   ],
   "source": [
    "import polars as pl\n",
    "from polars import col as c\n",
    "import os, sys, requests, re\n",
    "from dotenv import load_dotenv, find_dotenv\n",
    "from tqdm import tqdm\n",
    "from datetime import datetime\n",
    "\n",
    "load_dotenv(find_dotenv())"
   ]
  },
  {
   "cell_type": "markdown",
   "id": "0a9001c4",
   "metadata": {},
   "source": [
    "## constants"
   ]
  },
  {
   "cell_type": "code",
   "execution_count": 62,
   "id": "aae1c649",
   "metadata": {},
   "outputs": [],
   "source": [
    "OMDB_API_KEY = os.getenv(\"OMDB_API_KEY\")\n",
    "FILES_DIR = \"../data\""
   ]
  },
  {
   "cell_type": "markdown",
   "id": "cc98e638",
   "metadata": {},
   "source": [
    "## load df"
   ]
  },
  {
   "cell_type": "code",
   "execution_count": 63,
   "id": "503cec71",
   "metadata": {},
   "outputs": [],
   "source": [
    "file_name = \"movies_df.parquet\"\n",
    "file_path = os.path.join(FILES_DIR, file_name)\n",
    "movies_df = pl.read_parquet(file_path)"
   ]
  },
  {
   "cell_type": "code",
   "execution_count": 64,
   "id": "aa67e849",
   "metadata": {},
   "outputs": [],
   "source": [
    "# file_name = \"movies_df.xlsx\"\n",
    "# file_path = os.path.join(FILES_DIR, file_name)\n",
    "# movies_df = pl.read_excel(file_path)"
   ]
  },
  {
   "cell_type": "markdown",
   "id": "fb8cb4dd",
   "metadata": {},
   "source": [
    "## custom funcs"
   ]
  },
  {
   "cell_type": "code",
   "execution_count": 65,
   "id": "2fdf6e77",
   "metadata": {},
   "outputs": [],
   "source": [
    "def fetch_english_title(title):\n",
    "    try:\n",
    "        url = f\"http://www.omdbapi.com/?apikey={OMDB_API_KEY}&i={requests.utils.quote(title)}\"  # for index search\n",
    "        # url = f\"http://www.omdbapi.com/?apikey={OMDB_API_KEY}&t={requests.utils.quote(title)}\"\n",
    "        response = requests.get(url)\n",
    "        data = response.json()\n",
    "        if data.get(\"Response\") == \"True\" and \"Title\" in data:\n",
    "            return data\n",
    "        else:\n",
    "            print(f\"Not found in OMDb: {title}\")\n",
    "            return \"Not found\"\n",
    "    except Exception as e:\n",
    "        print(f\"OMDb error for {title}: {e}\")\n",
    "        return \"Not found\""
   ]
  },
  {
   "cell_type": "code",
   "execution_count": 66,
   "id": "994f914c",
   "metadata": {},
   "outputs": [],
   "source": [
    "def add_row_by_id(\n",
    "    df: pl.DataFrame,\n",
    "    omdb_id: str,\n",
    "    viewed_date: str = datetime.today().date(),\n",
    "    default_values=None,\n",
    "    liked: bool = False,\n",
    ") -> pl.DataFrame:\n",
    "    \"\"\"\n",
    "    Add a new row to the dataframe by specifying the 'id' value.\n",
    "    Other columns will be filled with None or values from default_values dict.\n",
    "\n",
    "    Args:\n",
    "        df (pl.DataFrame): The dataframe to add the row to.\n",
    "        id (str): The value for the 'id' column.\n",
    "        default_values (dict, optional): Dictionary of column: value pairs to fill in.\n",
    "\n",
    "    Returns:\n",
    "        pl.DataFrame: DataFrame with the new row appended.\n",
    "    \"\"\"\n",
    "    if default_values is None:\n",
    "        default_values = {}\n",
    "    # Prepare new row as dict\n",
    "    new_row = {col: default_values.get(col, None) for col in df.columns}\n",
    "    new_row[\"omdb_id\"] = omdb_id\n",
    "    new_row[\"viewed\"] = viewed_date\n",
    "    new_row[\"index\"] = df[\"index\"].max() + 1\n",
    "    new_row[\"liked\"] = liked\n",
    "\n",
    "    creds = fetch_english_title(omdb_id)\n",
    "    if creds == \"Not found\":\n",
    "        print(\"ERROR: cannot upload creds!\")\n",
    "        raise ValueError(\"CredsNotFoundError\")\n",
    "    else:\n",
    "        for col_name in [\n",
    "            \"title\",\n",
    "            \"year\",\n",
    "            \"genre\",\n",
    "            \"director\",\n",
    "            \"country\",\n",
    "            \"actors\",\n",
    "            \"box_office\",\n",
    "            \"writer\",\n",
    "            \"language\",\n",
    "            \"imdb_rating\",\n",
    "        ]:\n",
    "            new_row[col_name] = creds[\n",
    "                \"\".join(\n",
    "                    [\n",
    "                        word.capitalize() if word != \"imdb\" else word\n",
    "                        for word in col_name.split(\"_\")\n",
    "                    ]\n",
    "                )\n",
    "            ]\n",
    "            if col_name == \"box_office\":\n",
    "                new_row[col_name] = int(re.sub(r\"[^\\d]\", \"\", new_row[col_name]))\n",
    "\n",
    "    # Create single-row DataFrame\n",
    "    new_row_df = pl.DataFrame([new_row])\n",
    "    # Convert dtypes to match df\n",
    "    new_row_df = new_row_df.cast(df.schema)\n",
    "    # Concatenate\n",
    "    return pl.concat([df, new_row_df], how=\"vertical\")\n",
    "\n",
    "\n",
    "# test_func\n",
    "_ = add_row_by_id(\n",
    "    df=movies_df,\n",
    "    omdb_id=\"tt0038355\",\n",
    "    default_values=None,\n",
    ")"
   ]
  },
  {
   "cell_type": "markdown",
   "id": "f02b797a",
   "metadata": {},
   "source": [
    "## code"
   ]
  },
  {
   "cell_type": "code",
   "execution_count": 67,
   "id": "811b2b87",
   "metadata": {},
   "outputs": [],
   "source": [
    "NEW_MOVIE_OMDB_ID = \"tt0109831\""
   ]
  },
  {
   "cell_type": "code",
   "execution_count": null,
   "id": "1165636b",
   "metadata": {},
   "outputs": [
    {
     "data": {
      "text/html": [
       "<div><style>\n",
       ".dataframe > thead > tr,\n",
       ".dataframe > tbody > tr {\n",
       "  text-align: right;\n",
       "  white-space: pre-wrap;\n",
       "}\n",
       "</style>\n",
       "<small>shape: (5, 14)</small><table border=\"1\" class=\"dataframe\"><thead><tr><th>index</th><th>title</th><th>year</th><th>viewed</th><th>liked</th><th>omdb_id</th><th>genre</th><th>director</th><th>country</th><th>actors</th><th>box_office</th><th>writer</th><th>language</th><th>imdb_rating</th></tr><tr><td>u32</td><td>str</td><td>i64</td><td>date</td><td>bool</td><td>str</td><td>str</td><td>str</td><td>str</td><td>str</td><td>i32</td><td>str</td><td>str</td><td>f32</td></tr></thead><tbody><tr><td>621</td><td>&quot;Reversal of Fortune&quot;</td><td>1990</td><td>2025-08-05</td><td>false</td><td>&quot;tt0100486&quot;</td><td>&quot;Biography, Drama, Mystery&quot;</td><td>&quot;Barbet Schroeder&quot;</td><td>&quot;United States, Japan, United K…</td><td>&quot;Jeremy Irons, Glenn Close, Ron…</td><td>15445131</td><td>&quot;Alan Dershowitz, Nicholas Kaza…</td><td>&quot;English, German&quot;</td><td>7.2</td></tr><tr><td>622</td><td>&quot;The Notebook&quot;</td><td>2004</td><td>2025-08-07</td><td>false</td><td>&quot;tt0332280&quot;</td><td>&quot;Drama, Romance&quot;</td><td>&quot;Nick Cassavetes&quot;</td><td>&quot;United States&quot;</td><td>&quot;Gena Rowlands, James Garner, R…</td><td>81417274</td><td>&quot;Jeremy Leven, Jan Sardi, Nicho…</td><td>&quot;English&quot;</td><td>7.8</td></tr><tr><td>623</td><td>&quot;The Accidental Tourist&quot;</td><td>1988</td><td>2025-08-11</td><td>false</td><td>&quot;tt0094606&quot;</td><td>&quot;Comedy, Drama, Romance&quot;</td><td>&quot;Lawrence Kasdan&quot;</td><td>&quot;United States&quot;</td><td>&quot;William Hurt, Kathleen Turner,…</td><td>32632093</td><td>&quot;Anne Tyler, Frank Galati, Lawr…</td><td>&quot;English&quot;</td><td>6.7</td></tr><tr><td>624</td><td>&quot;Four Weddings and a Funeral&quot;</td><td>1994</td><td>2025-08-12</td><td>false</td><td>&quot;tt0109831&quot;</td><td>&quot;Comedy, Drama, Romance&quot;</td><td>&quot;Mike Newell&quot;</td><td>&quot;United Kingdom&quot;</td><td>&quot;Hugh Grant, Andie MacDowell, J…</td><td>52700832</td><td>&quot;Richard Curtis&quot;</td><td>&quot;English, British Sign &quot;</td><td>7.1</td></tr><tr><td>625</td><td>&quot;Four Weddings and a Funeral&quot;</td><td>1994</td><td>2025-08-12</td><td>false</td><td>&quot;tt0109831&quot;</td><td>&quot;Comedy, Drama, Romance&quot;</td><td>&quot;Mike Newell&quot;</td><td>&quot;United Kingdom&quot;</td><td>&quot;Hugh Grant, Andie MacDowell, J…</td><td>52700832</td><td>&quot;Richard Curtis&quot;</td><td>&quot;English, British Sign &quot;</td><td>7.1</td></tr></tbody></table></div>"
      ],
      "text/plain": [
       "shape: (5, 14)\n",
       "┌───────┬─────────────┬──────┬────────────┬───┬────────────┬─────────────┬────────────┬────────────┐\n",
       "│ index ┆ title       ┆ year ┆ viewed     ┆ … ┆ box_office ┆ writer      ┆ language   ┆ imdb_ratin │\n",
       "│ ---   ┆ ---         ┆ ---  ┆ ---        ┆   ┆ ---        ┆ ---         ┆ ---        ┆ g          │\n",
       "│ u32   ┆ str         ┆ i64  ┆ date       ┆   ┆ i32        ┆ str         ┆ str        ┆ ---        │\n",
       "│       ┆             ┆      ┆            ┆   ┆            ┆             ┆            ┆ f32        │\n",
       "╞═══════╪═════════════╪══════╪════════════╪═══╪════════════╪═════════════╪════════════╪════════════╡\n",
       "│ 621   ┆ Reversal of ┆ 1990 ┆ 2025-08-05 ┆ … ┆ 15445131   ┆ Alan        ┆ English,   ┆ 7.2        │\n",
       "│       ┆ Fortune     ┆      ┆            ┆   ┆            ┆ Dershowitz, ┆ German     ┆            │\n",
       "│       ┆             ┆      ┆            ┆   ┆            ┆ Nicholas    ┆            ┆            │\n",
       "│       ┆             ┆      ┆            ┆   ┆            ┆ Kaza…       ┆            ┆            │\n",
       "│ 622   ┆ The         ┆ 2004 ┆ 2025-08-07 ┆ … ┆ 81417274   ┆ Jeremy      ┆ English    ┆ 7.8        │\n",
       "│       ┆ Notebook    ┆      ┆            ┆   ┆            ┆ Leven, Jan  ┆            ┆            │\n",
       "│       ┆             ┆      ┆            ┆   ┆            ┆ Sardi,      ┆            ┆            │\n",
       "│       ┆             ┆      ┆            ┆   ┆            ┆ Nicho…      ┆            ┆            │\n",
       "│ 623   ┆ The         ┆ 1988 ┆ 2025-08-11 ┆ … ┆ 32632093   ┆ Anne Tyler, ┆ English    ┆ 6.7        │\n",
       "│       ┆ Accidental  ┆      ┆            ┆   ┆            ┆ Frank       ┆            ┆            │\n",
       "│       ┆ Tourist     ┆      ┆            ┆   ┆            ┆ Galati,     ┆            ┆            │\n",
       "│       ┆             ┆      ┆            ┆   ┆            ┆ Lawr…       ┆            ┆            │\n",
       "│ 624   ┆ Four        ┆ 1994 ┆ 2025-08-12 ┆ … ┆ 52700832   ┆ Richard     ┆ English,   ┆ 7.1        │\n",
       "│       ┆ Weddings    ┆      ┆            ┆   ┆            ┆ Curtis      ┆ British    ┆            │\n",
       "│       ┆ and a       ┆      ┆            ┆   ┆            ┆             ┆ Sign       ┆            │\n",
       "│       ┆ Funeral     ┆      ┆            ┆   ┆            ┆             ┆            ┆            │\n",
       "│ 625   ┆ Four        ┆ 1994 ┆ 2025-08-12 ┆ … ┆ 52700832   ┆ Richard     ┆ English,   ┆ 7.1        │\n",
       "│       ┆ Weddings    ┆      ┆            ┆   ┆            ┆ Curtis      ┆ British    ┆            │\n",
       "│       ┆ and a       ┆      ┆            ┆   ┆            ┆             ┆ Sign       ┆            │\n",
       "│       ┆ Funeral     ┆      ┆            ┆   ┆            ┆             ┆            ┆            │\n",
       "└───────┴─────────────┴──────┴────────────┴───┴────────────┴─────────────┴────────────┴────────────┘"
      ]
     },
     "metadata": {},
     "output_type": "display_data"
    },
    {
     "ename": "AssertionError",
     "evalue": "",
     "output_type": "error",
     "traceback": [
      "\u001b[31m---------------------------------------------------------------------------\u001b[39m",
      "\u001b[31mAssertionError\u001b[39m                            Traceback (most recent call last)",
      "\u001b[36mCell\u001b[39m\u001b[36m \u001b[39m\u001b[32mIn[75]\u001b[39m\u001b[32m, line 8\u001b[39m\n\u001b[32m      1\u001b[39m \u001b[38;5;66;03m# check if everything is correct\u001b[39;00m\n\u001b[32m      2\u001b[39m display(add_row_by_id(\n\u001b[32m      3\u001b[39m     df=movies_df,\n\u001b[32m      4\u001b[39m     omdb_id=NEW_MOVIE_OMDB_ID,\n\u001b[32m      5\u001b[39m     liked=\u001b[38;5;28;01mFalse\u001b[39;00m,\n\u001b[32m      6\u001b[39m ).tail())\n\u001b[32m----> \u001b[39m\u001b[32m8\u001b[39m \u001b[38;5;28;01massert\u001b[39;00m NEW_MOVIE_OMDB_ID \u001b[38;5;129;01mnot\u001b[39;00m \u001b[38;5;129;01min\u001b[39;00m movies_df[\u001b[33m\"\u001b[39m\u001b[33momdb_id\u001b[39m\u001b[33m\"\u001b[39m].unique()\n",
      "\u001b[31mAssertionError\u001b[39m: "
     ]
    }
   ],
   "source": [
    "# check if everything is correct\n",
    "display(\n",
    "    add_row_by_id(\n",
    "        df=movies_df,\n",
    "        omdb_id=NEW_MOVIE_OMDB_ID,\n",
    "        liked=False,\n",
    "    ).tail()\n",
    ")\n",
    "\n",
    "# add check that movie was not viewed before\n",
    "assert NEW_MOVIE_OMDB_ID not in movies_df[\"omdb_id\"].unique()"
   ]
  },
  {
   "cell_type": "code",
   "execution_count": 69,
   "id": "30d27824",
   "metadata": {},
   "outputs": [
    {
     "name": "stdout",
     "output_type": "stream",
     "text": [
      "init shape:\t 623\n",
      "result shape:\t 624\n"
     ]
    }
   ],
   "source": [
    "print(\"init shape:\\t\", movies_df.shape[0])\n",
    "movies_df = add_row_by_id(\n",
    "    df=movies_df,\n",
    "    omdb_id=NEW_MOVIE_OMDB_ID,\n",
    "    liked=False,\n",
    ")\n",
    "print(\"result shape:\\t\", movies_df.shape[0])"
   ]
  },
  {
   "cell_type": "markdown",
   "id": "afb9e53a",
   "metadata": {},
   "source": [
    "## save df"
   ]
  },
  {
   "cell_type": "code",
   "execution_count": 70,
   "id": "d8e9cb26",
   "metadata": {},
   "outputs": [],
   "source": [
    "file_name = \"movies_df.parquet\"\n",
    "file_path = os.path.join(FILES_DIR, file_name)\n",
    "movies_df.write_parquet(file_path)"
   ]
  },
  {
   "cell_type": "code",
   "execution_count": 71,
   "id": "053f97c8",
   "metadata": {},
   "outputs": [
    {
     "data": {
      "text/plain": [
       "<xlsxwriter.workbook.Workbook at 0x10a787ce0>"
      ]
     },
     "execution_count": 71,
     "metadata": {},
     "output_type": "execute_result"
    }
   ],
   "source": [
    "file_name = \"movies_df.xlsx\"\n",
    "file_path = os.path.join(FILES_DIR, file_name)\n",
    "movies_df.write_excel(file_path)"
   ]
  },
  {
   "cell_type": "code",
   "execution_count": null,
   "id": "3934885b",
   "metadata": {},
   "outputs": [],
   "source": []
  }
 ],
 "metadata": {
  "kernelspec": {
   "display_name": ".venv",
   "language": "python",
   "name": "python3"
  },
  "language_info": {
   "codemirror_mode": {
    "name": "ipython",
    "version": 3
   },
   "file_extension": ".py",
   "mimetype": "text/x-python",
   "name": "python",
   "nbconvert_exporter": "python",
   "pygments_lexer": "ipython3",
   "version": "3.12.11"
  }
 },
 "nbformat": 4,
 "nbformat_minor": 5
}
