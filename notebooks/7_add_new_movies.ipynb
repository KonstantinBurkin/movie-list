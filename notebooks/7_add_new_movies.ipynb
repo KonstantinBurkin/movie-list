{
 "cells": [
  {
   "cell_type": "markdown",
   "id": "140ca41a",
   "metadata": {},
   "source": [
    "## imports"
   ]
  },
  {
   "cell_type": "code",
   "execution_count": 1,
   "id": "4ab6c22b",
   "metadata": {},
   "outputs": [
    {
     "data": {
      "text/plain": [
       "True"
      ]
     },
     "execution_count": 1,
     "metadata": {},
     "output_type": "execute_result"
    }
   ],
   "source": [
    "import polars as pl\n",
    "from polars import col as c\n",
    "import os, sys, requests, re\n",
    "from dotenv import load_dotenv, find_dotenv\n",
    "from tqdm import tqdm\n",
    "from datetime import datetime\n",
    "\n",
    "load_dotenv(find_dotenv())"
   ]
  },
  {
   "cell_type": "markdown",
   "id": "0a9001c4",
   "metadata": {},
   "source": [
    "## constants"
   ]
  },
  {
   "cell_type": "code",
   "execution_count": 2,
   "id": "aae1c649",
   "metadata": {},
   "outputs": [],
   "source": [
    "OMDB_API_KEY = os.getenv(\"OMDB_API_KEY\")\n",
    "FILES_DIR = \"../data\""
   ]
  },
  {
   "cell_type": "markdown",
   "id": "cc98e638",
   "metadata": {},
   "source": [
    "## load df"
   ]
  },
  {
   "cell_type": "code",
   "execution_count": 3,
   "id": "503cec71",
   "metadata": {},
   "outputs": [],
   "source": [
    "file_name = \"movies_df.parquet\"\n",
    "file_path = os.path.join(FILES_DIR, file_name)\n",
    "movies_df = pl.read_parquet(file_path)"
   ]
  },
  {
   "cell_type": "code",
   "execution_count": 4,
   "id": "aa67e849",
   "metadata": {},
   "outputs": [],
   "source": [
    "# file_name = \"movies_df.xlsx\"\n",
    "# file_path = os.path.join(FILES_DIR, file_name)\n",
    "# movies_df = pl.read_excel(file_path)"
   ]
  },
  {
   "cell_type": "markdown",
   "id": "fb8cb4dd",
   "metadata": {},
   "source": [
    "## custom funcs"
   ]
  },
  {
   "cell_type": "code",
   "execution_count": 6,
   "id": "2fdf6e77",
   "metadata": {},
   "outputs": [],
   "source": [
    "def fetch_english_title(title):\n",
    "    try:\n",
    "        url = f\"http://www.omdbapi.com/?apikey={OMDB_API_KEY}&i={requests.utils.quote(title)}\"  # for index search\n",
    "        # url = f\"http://www.omdbapi.com/?apikey={OMDB_API_KEY}&t={requests.utils.quote(title)}\"\n",
    "        response = requests.get(url)\n",
    "        data = response.json()\n",
    "        if data.get(\"Response\") == \"True\" and \"Title\" in data:\n",
    "            return data\n",
    "        else:\n",
    "            print(f\"Not found in OMDb: {title}\")\n",
    "            return \"Not found\"\n",
    "    except Exception as e:\n",
    "        print(f\"OMDb error for {title}: {e}\")\n",
    "        return \"Not found\""
   ]
  },
  {
   "cell_type": "code",
   "execution_count": null,
   "id": "994f914c",
   "metadata": {},
   "outputs": [],
   "source": [
    "def add_row_by_id(\n",
    "    df: pl.DataFrame,\n",
    "    omdb_id: str,\n",
    "    viewed_date: str = datetime.today().date(),\n",
    "    default_values=None,\n",
    "    liked: bool = False,\n",
    ") -> pl.DataFrame:\n",
    "    \"\"\"\n",
    "    Add a new row to the dataframe by specifying the 'id' value.\n",
    "    Other columns will be filled with None or values from default_values dict.\n",
    "\n",
    "    Args:\n",
    "        df (pl.DataFrame): The dataframe to add the row to.\n",
    "        id (str): The value for the 'id' column.\n",
    "        default_values (dict, optional): Dictionary of column: value pairs to fill in.\n",
    "\n",
    "    Returns:\n",
    "        pl.DataFrame: DataFrame with the new row appended.\n",
    "    \"\"\"\n",
    "    if default_values is None:\n",
    "        default_values = {}\n",
    "    # Prepare new row as dict\n",
    "    new_row = {col: default_values.get(col, None) for col in df.columns}\n",
    "    new_row[\"omdb_id\"] = omdb_id\n",
    "    new_row[\"viewed\"] = viewed_date\n",
    "    new_row[\"index\"] = df[\"index\"].max() + 1\n",
    "    new_row[\"liked\"] = liked\n",
    "\n",
    "    creds = fetch_english_title(omdb_id)\n",
    "    if creds == \"Not found\":\n",
    "        print(\"ERROR: cannot upload creds!\")\n",
    "        raise ValueError(\"CredsNotFoundError\")\n",
    "    else:\n",
    "        for col_name in [\n",
    "            \"title\",\n",
    "            \"year\",\n",
    "            \"genre\",\n",
    "            \"director\",\n",
    "            \"country\",\n",
    "            \"actors\",\n",
    "            \"box_office\",\n",
    "            \"writer\",\n",
    "            \"language\",\n",
    "            \"imdb_rating\",\n",
    "        ]:\n",
    "            new_row[col_name] = creds[\n",
    "                \"\".join(\n",
    "                    [\n",
    "                        word.capitalize() if word != \"imdb\" else word\n",
    "                        for word in col_name.split(\"_\")\n",
    "                    ]\n",
    "                )\n",
    "            ]\n",
    "            if col_name == \"box_office\":\n",
    "                new_row[col_name] = int(re.sub(r\"[^\\d]\", \"\", new_row[col_name]))\n",
    "\n",
    "    # Create single-row DataFrame\n",
    "    new_row_df = pl.DataFrame([new_row])\n",
    "    # Convert dtypes to match df\n",
    "    new_row_df = new_row_df.cast(df.schema)\n",
    "    # Concatenate\n",
    "    return pl.concat([df, new_row_df], how=\"vertical\")\n",
    "\n",
    "\n",
    "# test_func\n",
    "_ = add_row_by_id(\n",
    "    df=movies_df,\n",
    "    omdb_id=\"tt0038355\",\n",
    "    default_values=None,\n",
    ")"
   ]
  },
  {
   "cell_type": "markdown",
   "id": "f02b797a",
   "metadata": {},
   "source": [
    "## code"
   ]
  },
  {
   "cell_type": "code",
   "execution_count": null,
   "id": "1165636b",
   "metadata": {},
   "outputs": [
    {
     "data": {
      "text/html": [
       "<div><style>\n",
       ".dataframe > thead > tr,\n",
       ".dataframe > tbody > tr {\n",
       "  text-align: right;\n",
       "  white-space: pre-wrap;\n",
       "}\n",
       "</style>\n",
       "<small>shape: (5, 14)</small><table border=\"1\" class=\"dataframe\"><thead><tr><th>index</th><th>title</th><th>year</th><th>viewed</th><th>liked</th><th>omdb_id</th><th>genre</th><th>director</th><th>country</th><th>actors</th><th>box_office</th><th>writer</th><th>language</th><th>imdb_rating</th></tr><tr><td>u32</td><td>str</td><td>i64</td><td>date</td><td>bool</td><td>str</td><td>str</td><td>str</td><td>str</td><td>str</td><td>i32</td><td>str</td><td>str</td><td>f32</td></tr></thead><tbody><tr><td>615</td><td>&quot;The Princess Bride&quot;</td><td>1987</td><td>2025-06-12</td><td>false</td><td>&quot;tt0093779&quot;</td><td>&quot;Adventure, Comedy, Family&quot;</td><td>&quot;Rob Reiner&quot;</td><td>&quot;United States&quot;</td><td>&quot;Cary Elwes, Mandy Patinkin, Ro…</td><td>30857814</td><td>&quot;William Goldman&quot;</td><td>&quot;English&quot;</td><td>8.0</td></tr><tr><td>616</td><td>&quot;Grave of the Fireflies&quot;</td><td>1988</td><td>2025-07-10</td><td>false</td><td>&quot;tt0095327&quot;</td><td>&quot;Animation, Drama, War&quot;</td><td>&quot;Isao Takahata&quot;</td><td>&quot;Japan&quot;</td><td>&quot;Tsutomu Tatsumi, Ayano Shirais…</td><td>516962</td><td>&quot;Akiyuki Nosaka, Isao Takahata&quot;</td><td>&quot;Japanese&quot;</td><td>8.5</td></tr><tr><td>617</td><td>&quot;The Usual Suspects&quot;</td><td>1995</td><td>2025-07-14</td><td>false</td><td>&quot;tt0114814&quot;</td><td>&quot;Crime, Drama, Mystery&quot;</td><td>&quot;Bryan Singer&quot;</td><td>&quot;United States, Germany&quot;</td><td>&quot;Kevin Spacey, Gabriel Byrne, C…</td><td>23341568</td><td>&quot;Christopher McQuarrie&quot;</td><td>&quot;English, Hungarian, Spanish, F…</td><td>8.5</td></tr><tr><td>618</td><td>&quot;Lone Star&quot;</td><td>1996</td><td>2025-07-26</td><td>false</td><td>&quot;tt0116905&quot;</td><td>&quot;Drama, Mystery, Western&quot;</td><td>&quot;John Sayles&quot;</td><td>&quot;United States&quot;</td><td>&quot;Chris Cooper, Elizabeth Peña, …</td><td>12408986</td><td>&quot;John Sayles&quot;</td><td>&quot;English, Spanish&quot;</td><td>7.4</td></tr><tr><td>619</td><td>&quot;The Big Sleep&quot;</td><td>1946</td><td>2025-08-02</td><td>false</td><td>&quot;tt0038355&quot;</td><td>&quot;Crime, Film-Noir, Mystery&quot;</td><td>&quot;Howard Hawks&quot;</td><td>&quot;United States&quot;</td><td>&quot;Humphrey Bogart, Lauren Bacall…</td><td>25556</td><td>&quot;William Faulkner, Leigh Bracke…</td><td>&quot;English&quot;</td><td>7.9</td></tr></tbody></table></div>"
      ],
      "text/plain": [
       "shape: (5, 14)\n",
       "┌───────┬─────────────┬──────┬────────────┬───┬────────────┬─────────────┬────────────┬────────────┐\n",
       "│ index ┆ title       ┆ year ┆ viewed     ┆ … ┆ box_office ┆ writer      ┆ language   ┆ imdb_ratin │\n",
       "│ ---   ┆ ---         ┆ ---  ┆ ---        ┆   ┆ ---        ┆ ---         ┆ ---        ┆ g          │\n",
       "│ u32   ┆ str         ┆ i64  ┆ date       ┆   ┆ i32        ┆ str         ┆ str        ┆ ---        │\n",
       "│       ┆             ┆      ┆            ┆   ┆            ┆             ┆            ┆ f32        │\n",
       "╞═══════╪═════════════╪══════╪════════════╪═══╪════════════╪═════════════╪════════════╪════════════╡\n",
       "│ 615   ┆ The         ┆ 1987 ┆ 2025-06-12 ┆ … ┆ 30857814   ┆ William     ┆ English    ┆ 8.0        │\n",
       "│       ┆ Princess    ┆      ┆            ┆   ┆            ┆ Goldman     ┆            ┆            │\n",
       "│       ┆ Bride       ┆      ┆            ┆   ┆            ┆             ┆            ┆            │\n",
       "│ 616   ┆ Grave of    ┆ 1988 ┆ 2025-07-10 ┆ … ┆ 516962     ┆ Akiyuki     ┆ Japanese   ┆ 8.5        │\n",
       "│       ┆ the         ┆      ┆            ┆   ┆            ┆ Nosaka,     ┆            ┆            │\n",
       "│       ┆ Fireflies   ┆      ┆            ┆   ┆            ┆ Isao        ┆            ┆            │\n",
       "│       ┆             ┆      ┆            ┆   ┆            ┆ Takahata    ┆            ┆            │\n",
       "│ 617   ┆ The Usual   ┆ 1995 ┆ 2025-07-14 ┆ … ┆ 23341568   ┆ Christopher ┆ English,   ┆ 8.5        │\n",
       "│       ┆ Suspects    ┆      ┆            ┆   ┆            ┆ McQuarrie   ┆ Hungarian, ┆            │\n",
       "│       ┆             ┆      ┆            ┆   ┆            ┆             ┆ Spanish,   ┆            │\n",
       "│       ┆             ┆      ┆            ┆   ┆            ┆             ┆ F…         ┆            │\n",
       "│ 618   ┆ Lone Star   ┆ 1996 ┆ 2025-07-26 ┆ … ┆ 12408986   ┆ John Sayles ┆ English,   ┆ 7.4        │\n",
       "│       ┆             ┆      ┆            ┆   ┆            ┆             ┆ Spanish    ┆            │\n",
       "│ 619   ┆ The Big     ┆ 1946 ┆ 2025-08-02 ┆ … ┆ 25556      ┆ William     ┆ English    ┆ 7.9        │\n",
       "│       ┆ Sleep       ┆      ┆            ┆   ┆            ┆ Faulkner,   ┆            ┆            │\n",
       "│       ┆             ┆      ┆            ┆   ┆            ┆ Leigh       ┆            ┆            │\n",
       "│       ┆             ┆      ┆            ┆   ┆            ┆ Bracke…     ┆            ┆            │\n",
       "└───────┴─────────────┴──────┴────────────┴───┴────────────┴─────────────┴────────────┴────────────┘"
      ]
     },
     "execution_count": 10,
     "metadata": {},
     "output_type": "execute_result"
    }
   ],
   "source": [
    "# check if everything is correct\n",
    "add_row_by_id(\n",
    "    df=movies_df,\n",
    "    omdb_id=\"tt0038355\",\n",
    "    liked=False,\n",
    ").tail()"
   ]
  },
  {
   "cell_type": "code",
   "execution_count": 11,
   "id": "30d27824",
   "metadata": {},
   "outputs": [
    {
     "name": "stdout",
     "output_type": "stream",
     "text": [
      "init shape:\t 618\n",
      "result shape:\t 619\n"
     ]
    }
   ],
   "source": [
    "print(\"init shape:\\t\", movies_df.shape[0])\n",
    "movies_df = add_row_by_id(\n",
    "    df=movies_df,\n",
    "    omdb_id=\"tt0038355\",\n",
    "    liked=False,\n",
    ")\n",
    "print(\"result shape:\\t\", movies_df.shape[0])"
   ]
  },
  {
   "cell_type": "markdown",
   "id": "afb9e53a",
   "metadata": {},
   "source": [
    "## save df"
   ]
  },
  {
   "cell_type": "code",
   "execution_count": 12,
   "id": "d8e9cb26",
   "metadata": {},
   "outputs": [],
   "source": [
    "file_name = \"movies_df.parquet\"\n",
    "file_path = os.path.join(FILES_DIR, file_name)\n",
    "movies_df.write_parquet(file_path)"
   ]
  },
  {
   "cell_type": "code",
   "execution_count": 13,
   "id": "053f97c8",
   "metadata": {},
   "outputs": [
    {
     "data": {
      "text/plain": [
       "<xlsxwriter.workbook.Workbook at 0x10618da60>"
      ]
     },
     "execution_count": 13,
     "metadata": {},
     "output_type": "execute_result"
    }
   ],
   "source": [
    "file_name = \"movies_df.xlsx\"\n",
    "file_path = os.path.join(FILES_DIR, file_name)\n",
    "movies_df.write_excel(file_path)"
   ]
  },
  {
   "cell_type": "code",
   "execution_count": null,
   "id": "3934885b",
   "metadata": {},
   "outputs": [],
   "source": []
  }
 ],
 "metadata": {
  "kernelspec": {
   "display_name": ".venv",
   "language": "python",
   "name": "python3"
  },
  "language_info": {
   "codemirror_mode": {
    "name": "ipython",
    "version": 3
   },
   "file_extension": ".py",
   "mimetype": "text/x-python",
   "name": "python",
   "nbconvert_exporter": "python",
   "pygments_lexer": "ipython3",
   "version": "3.12.11"
  }
 },
 "nbformat": 4,
 "nbformat_minor": 5
}
